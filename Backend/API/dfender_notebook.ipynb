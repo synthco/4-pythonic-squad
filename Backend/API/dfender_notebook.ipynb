{
 "cells": [
  {
   "cell_type": "code",
   "outputs": [],
   "source": [],
   "metadata": {
    "collapsed": false
   },
   "id": "e0e2a4ff06e6beb0"
  },
  {
   "cell_type": "code",
   "outputs": [
    {
     "data": {
      "text/plain": "Unnamed: 0      int64\nregion_id       int64\ntempmax       float64\ntempmin       float64\ntemp          float64\n               ...   \nisw696        float64\nisw697        float64\nisw698        float64\nisw699        float64\nisw700        float64\nLength: 731, dtype: object"
     },
     "execution_count": 10,
     "metadata": {},
     "output_type": "execute_result"
    }
   ],
   "source": [
    "import pandas as pd\n",
    "        \n",
    "predict_vector = pd.read_csv('predict_vector.csv')\n",
    "predict_vector.dtypes\n",
    "\n"
   ],
   "metadata": {
    "collapsed": false,
    "ExecuteTime": {
     "end_time": "2024-04-21T15:33:59.591443Z",
     "start_time": "2024-04-21T15:33:59.567897Z"
    }
   },
   "id": "41c23f143ff5298f",
   "execution_count": 10
  },
  {
   "cell_type": "code",
   "outputs": [],
   "source": [
    "3"
   ],
   "metadata": {
    "collapsed": false
   },
   "id": "b9931f2eb50b63c1"
  },
  {
   "cell_type": "code",
   "outputs": [
    {
     "data": {
      "text/plain": "     latitude  longitude resolvedAddress  region_id           address  \\\n0     49.4407    32.0637         Черкаси         23  Cherkasy,Ukraine   \n1     49.4407    32.0637         Черкаси         23  Cherkasy,Ukraine   \n2     49.4407    32.0637         Черкаси         23  Cherkasy,Ukraine   \n3     49.4407    32.0637         Черкаси         23  Cherkasy,Ukraine   \n4     49.4407    32.0637         Черкаси         23  Cherkasy,Ukraine   \n..        ...        ...             ...        ...               ...   \n271   50.2536    28.6654         Житомир          6  Zhytomyr,Ukraine   \n272   50.2536    28.6654         Житомир          6  Zhytomyr,Ukraine   \n273   50.2536    28.6654         Житомир          6  Zhytomyr,Ukraine   \n274   50.2536    28.6654         Житомир          6  Zhytomyr,Ukraine   \n275   50.2536    28.6654         Житомир          6  Zhytomyr,Ukraine   \n\n        timezone  tzoffset    datetime  datetimeEpoch    tempmax  ...  \\\n0    Europe/Kiev       3.0  2024-04-20     1713560400  13.055556  ...   \n1    Europe/Kiev       3.0  2024-04-20     1713560400  13.055556  ...   \n2    Europe/Kiev       3.0  2024-04-20     1713560400  13.055556  ...   \n3    Europe/Kiev       3.0  2024-04-20     1713560400  13.055556  ...   \n4    Europe/Kiev       3.0  2024-04-21     1713646800  13.666667  ...   \n..           ...       ...         ...            ...        ...  ...   \n271  Europe/Kiev       3.0  2024-04-21     1713646800   6.722222  ...   \n272  Europe/Kiev       3.0  2024-04-21     1713646800   6.722222  ...   \n273  Europe/Kiev       3.0  2024-04-21     1713646800   6.722222  ...   \n274  Europe/Kiev       3.0  2024-04-21     1713646800   6.722222  ...   \n275  Europe/Kiev       3.0  2024-04-21     1713646800   6.722222  ...   \n\n     visibility_hourly  cloudcover_hourly  solarradiation_hourly  \\\n0                 14.6              100.0                    0.0   \n1                  4.4              100.0                    0.0   \n2                  4.6              100.0                    0.0   \n3                  4.6              100.0                    0.0   \n4                 11.5              100.0                    0.0   \n..                 ...                ...                    ...   \n271               14.0              100.0                    0.0   \n272               10.1              100.0                    0.0   \n273                7.6              100.0                    0.0   \n274                6.1              100.0                    0.0   \n275                4.8              100.0                    5.0   \n\n     solarenergy_hourly  uvindex_hourly  severerisk_hourly  conditions_hourly  \\\n0                   0.0             0.0               10.0     Rain, Overcast   \n1                   0.0             0.0               10.0     Rain, Overcast   \n2                   0.0             0.0               10.0     Rain, Overcast   \n3                   0.0             0.0               10.0     Rain, Overcast   \n4                   0.0             0.0               10.0     Rain, Overcast   \n..                  ...             ...                ...                ...   \n271                 0.0             0.0               10.0           Overcast   \n272                 0.0             0.0               10.0     Rain, Overcast   \n273                 0.0             0.0               10.0     Rain, Overcast   \n274                 0.0             0.0               10.0     Rain, Overcast   \n275                 0.0             0.0               10.0     Rain, Overcast   \n\n     icon_hourly  stations_hourly  source_hourly  \n0           rain       ['remote']            obs  \n1           rain               []           fcst  \n2           rain                0           fcst  \n3           rain                0           fcst  \n4           rain                0           fcst  \n..           ...              ...            ...  \n271       cloudy                0           fcst  \n272         rain                0           fcst  \n273         rain                0           fcst  \n274         rain                0           fcst  \n275         rain                0           fcst  \n\n[276 rows x 68 columns]",
      "text/html": "<div>\n<style scoped>\n    .dataframe tbody tr th:only-of-type {\n        vertical-align: middle;\n    }\n\n    .dataframe tbody tr th {\n        vertical-align: top;\n    }\n\n    .dataframe thead th {\n        text-align: right;\n    }\n</style>\n<table border=\"1\" class=\"dataframe\">\n  <thead>\n    <tr style=\"text-align: right;\">\n      <th></th>\n      <th>latitude</th>\n      <th>longitude</th>\n      <th>resolvedAddress</th>\n      <th>region_id</th>\n      <th>address</th>\n      <th>timezone</th>\n      <th>tzoffset</th>\n      <th>datetime</th>\n      <th>datetimeEpoch</th>\n      <th>tempmax</th>\n      <th>...</th>\n      <th>visibility_hourly</th>\n      <th>cloudcover_hourly</th>\n      <th>solarradiation_hourly</th>\n      <th>solarenergy_hourly</th>\n      <th>uvindex_hourly</th>\n      <th>severerisk_hourly</th>\n      <th>conditions_hourly</th>\n      <th>icon_hourly</th>\n      <th>stations_hourly</th>\n      <th>source_hourly</th>\n    </tr>\n  </thead>\n  <tbody>\n    <tr>\n      <th>0</th>\n      <td>49.4407</td>\n      <td>32.0637</td>\n      <td>Черкаси</td>\n      <td>23</td>\n      <td>Cherkasy,Ukraine</td>\n      <td>Europe/Kiev</td>\n      <td>3.0</td>\n      <td>2024-04-20</td>\n      <td>1713560400</td>\n      <td>13.055556</td>\n      <td>...</td>\n      <td>14.6</td>\n      <td>100.0</td>\n      <td>0.0</td>\n      <td>0.0</td>\n      <td>0.0</td>\n      <td>10.0</td>\n      <td>Rain, Overcast</td>\n      <td>rain</td>\n      <td>['remote']</td>\n      <td>obs</td>\n    </tr>\n    <tr>\n      <th>1</th>\n      <td>49.4407</td>\n      <td>32.0637</td>\n      <td>Черкаси</td>\n      <td>23</td>\n      <td>Cherkasy,Ukraine</td>\n      <td>Europe/Kiev</td>\n      <td>3.0</td>\n      <td>2024-04-20</td>\n      <td>1713560400</td>\n      <td>13.055556</td>\n      <td>...</td>\n      <td>4.4</td>\n      <td>100.0</td>\n      <td>0.0</td>\n      <td>0.0</td>\n      <td>0.0</td>\n      <td>10.0</td>\n      <td>Rain, Overcast</td>\n      <td>rain</td>\n      <td>[]</td>\n      <td>fcst</td>\n    </tr>\n    <tr>\n      <th>2</th>\n      <td>49.4407</td>\n      <td>32.0637</td>\n      <td>Черкаси</td>\n      <td>23</td>\n      <td>Cherkasy,Ukraine</td>\n      <td>Europe/Kiev</td>\n      <td>3.0</td>\n      <td>2024-04-20</td>\n      <td>1713560400</td>\n      <td>13.055556</td>\n      <td>...</td>\n      <td>4.6</td>\n      <td>100.0</td>\n      <td>0.0</td>\n      <td>0.0</td>\n      <td>0.0</td>\n      <td>10.0</td>\n      <td>Rain, Overcast</td>\n      <td>rain</td>\n      <td>0</td>\n      <td>fcst</td>\n    </tr>\n    <tr>\n      <th>3</th>\n      <td>49.4407</td>\n      <td>32.0637</td>\n      <td>Черкаси</td>\n      <td>23</td>\n      <td>Cherkasy,Ukraine</td>\n      <td>Europe/Kiev</td>\n      <td>3.0</td>\n      <td>2024-04-20</td>\n      <td>1713560400</td>\n      <td>13.055556</td>\n      <td>...</td>\n      <td>4.6</td>\n      <td>100.0</td>\n      <td>0.0</td>\n      <td>0.0</td>\n      <td>0.0</td>\n      <td>10.0</td>\n      <td>Rain, Overcast</td>\n      <td>rain</td>\n      <td>0</td>\n      <td>fcst</td>\n    </tr>\n    <tr>\n      <th>4</th>\n      <td>49.4407</td>\n      <td>32.0637</td>\n      <td>Черкаси</td>\n      <td>23</td>\n      <td>Cherkasy,Ukraine</td>\n      <td>Europe/Kiev</td>\n      <td>3.0</td>\n      <td>2024-04-21</td>\n      <td>1713646800</td>\n      <td>13.666667</td>\n      <td>...</td>\n      <td>11.5</td>\n      <td>100.0</td>\n      <td>0.0</td>\n      <td>0.0</td>\n      <td>0.0</td>\n      <td>10.0</td>\n      <td>Rain, Overcast</td>\n      <td>rain</td>\n      <td>0</td>\n      <td>fcst</td>\n    </tr>\n    <tr>\n      <th>...</th>\n      <td>...</td>\n      <td>...</td>\n      <td>...</td>\n      <td>...</td>\n      <td>...</td>\n      <td>...</td>\n      <td>...</td>\n      <td>...</td>\n      <td>...</td>\n      <td>...</td>\n      <td>...</td>\n      <td>...</td>\n      <td>...</td>\n      <td>...</td>\n      <td>...</td>\n      <td>...</td>\n      <td>...</td>\n      <td>...</td>\n      <td>...</td>\n      <td>...</td>\n      <td>...</td>\n    </tr>\n    <tr>\n      <th>271</th>\n      <td>50.2536</td>\n      <td>28.6654</td>\n      <td>Житомир</td>\n      <td>6</td>\n      <td>Zhytomyr,Ukraine</td>\n      <td>Europe/Kiev</td>\n      <td>3.0</td>\n      <td>2024-04-21</td>\n      <td>1713646800</td>\n      <td>6.722222</td>\n      <td>...</td>\n      <td>14.0</td>\n      <td>100.0</td>\n      <td>0.0</td>\n      <td>0.0</td>\n      <td>0.0</td>\n      <td>10.0</td>\n      <td>Overcast</td>\n      <td>cloudy</td>\n      <td>0</td>\n      <td>fcst</td>\n    </tr>\n    <tr>\n      <th>272</th>\n      <td>50.2536</td>\n      <td>28.6654</td>\n      <td>Житомир</td>\n      <td>6</td>\n      <td>Zhytomyr,Ukraine</td>\n      <td>Europe/Kiev</td>\n      <td>3.0</td>\n      <td>2024-04-21</td>\n      <td>1713646800</td>\n      <td>6.722222</td>\n      <td>...</td>\n      <td>10.1</td>\n      <td>100.0</td>\n      <td>0.0</td>\n      <td>0.0</td>\n      <td>0.0</td>\n      <td>10.0</td>\n      <td>Rain, Overcast</td>\n      <td>rain</td>\n      <td>0</td>\n      <td>fcst</td>\n    </tr>\n    <tr>\n      <th>273</th>\n      <td>50.2536</td>\n      <td>28.6654</td>\n      <td>Житомир</td>\n      <td>6</td>\n      <td>Zhytomyr,Ukraine</td>\n      <td>Europe/Kiev</td>\n      <td>3.0</td>\n      <td>2024-04-21</td>\n      <td>1713646800</td>\n      <td>6.722222</td>\n      <td>...</td>\n      <td>7.6</td>\n      <td>100.0</td>\n      <td>0.0</td>\n      <td>0.0</td>\n      <td>0.0</td>\n      <td>10.0</td>\n      <td>Rain, Overcast</td>\n      <td>rain</td>\n      <td>0</td>\n      <td>fcst</td>\n    </tr>\n    <tr>\n      <th>274</th>\n      <td>50.2536</td>\n      <td>28.6654</td>\n      <td>Житомир</td>\n      <td>6</td>\n      <td>Zhytomyr,Ukraine</td>\n      <td>Europe/Kiev</td>\n      <td>3.0</td>\n      <td>2024-04-21</td>\n      <td>1713646800</td>\n      <td>6.722222</td>\n      <td>...</td>\n      <td>6.1</td>\n      <td>100.0</td>\n      <td>0.0</td>\n      <td>0.0</td>\n      <td>0.0</td>\n      <td>10.0</td>\n      <td>Rain, Overcast</td>\n      <td>rain</td>\n      <td>0</td>\n      <td>fcst</td>\n    </tr>\n    <tr>\n      <th>275</th>\n      <td>50.2536</td>\n      <td>28.6654</td>\n      <td>Житомир</td>\n      <td>6</td>\n      <td>Zhytomyr,Ukraine</td>\n      <td>Europe/Kiev</td>\n      <td>3.0</td>\n      <td>2024-04-21</td>\n      <td>1713646800</td>\n      <td>6.722222</td>\n      <td>...</td>\n      <td>4.8</td>\n      <td>100.0</td>\n      <td>5.0</td>\n      <td>0.0</td>\n      <td>0.0</td>\n      <td>10.0</td>\n      <td>Rain, Overcast</td>\n      <td>rain</td>\n      <td>0</td>\n      <td>fcst</td>\n    </tr>\n  </tbody>\n</table>\n<p>276 rows × 68 columns</p>\n</div>"
     },
     "execution_count": 11,
     "metadata": {},
     "output_type": "execute_result"
    }
   ],
   "source": [
    "import pandas as pd\n",
    "        \n",
    "Weather = pd.read_csv('Weather.csv')\n",
    "Weather"
   ],
   "metadata": {
    "collapsed": false,
    "ExecuteTime": {
     "end_time": "2024-04-21T16:44:08.483642Z",
     "start_time": "2024-04-21T16:44:08.468775Z"
    }
   },
   "id": "897fa957f989f06c",
   "execution_count": 11
  }
 ],
 "metadata": {
  "kernelspec": {
   "display_name": "Python 3",
   "language": "python",
   "name": "python3"
  },
  "language_info": {
   "codemirror_mode": {
    "name": "ipython",
    "version": 2
   },
   "file_extension": ".py",
   "mimetype": "text/x-python",
   "name": "python",
   "nbconvert_exporter": "python",
   "pygments_lexer": "ipython2",
   "version": "2.7.6"
  }
 },
 "nbformat": 4,
 "nbformat_minor": 5
}
