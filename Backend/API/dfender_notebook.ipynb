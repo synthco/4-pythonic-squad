{
 "cells": [
  {
   "cell_type": "code",
   "outputs": [],
   "source": [],
   "metadata": {
    "collapsed": false
   },
   "id": "e0e2a4ff06e6beb0"
  },
  {
   "cell_type": "code",
   "outputs": [
    {
     "data": {
      "text/plain": "Unnamed: 0      int64\nregion_id       int64\ntempmax       float64\ntempmin       float64\ntemp          float64\n               ...   \nisw696        float64\nisw697        float64\nisw698        float64\nisw699        float64\nisw700        float64\nLength: 731, dtype: object"
     },
     "execution_count": 10,
     "metadata": {},
     "output_type": "execute_result"
    }
   ],
   "source": [
    "import pandas as pd\n",
    "        \n",
    "predict_vector = pd.read_csv('predict_vector.csv')\n",
    "predict_vector.dtypes\n",
    "\n"
   ],
   "metadata": {
    "collapsed": false,
    "ExecuteTime": {
     "end_time": "2024-04-21T15:33:59.591443Z",
     "start_time": "2024-04-21T15:33:59.567897Z"
    }
   },
   "id": "41c23f143ff5298f",
   "execution_count": 10
  },
  {
   "cell_type": "code",
   "outputs": [],
   "source": [
    "3"
   ],
   "metadata": {
    "collapsed": false
   },
   "id": "b9931f2eb50b63c1"
  }
 ],
 "metadata": {
  "kernelspec": {
   "display_name": "Python 3",
   "language": "python",
   "name": "python3"
  },
  "language_info": {
   "codemirror_mode": {
    "name": "ipython",
    "version": 2
   },
   "file_extension": ".py",
   "mimetype": "text/x-python",
   "name": "python",
   "nbconvert_exporter": "python",
   "pygments_lexer": "ipython2",
   "version": "2.7.6"
  }
 },
 "nbformat": 4,
 "nbformat_minor": 5
}
