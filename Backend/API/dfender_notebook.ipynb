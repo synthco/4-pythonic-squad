{
 "cells": [
  {
   "cell_type": "code",
   "outputs": [],
   "source": [],
   "metadata": {
    "collapsed": false
   },
   "id": "339a70e87aa96b4c"
  },
  {
   "cell_type": "code",
   "outputs": [
    {
     "data": {
      "text/plain": "         date  abandon   ability  able  access  accuse   across  action  \\\n0  2024-04-19      0.0  0.021509   0.0     0.0     0.0  0.00668     0.0   \n\n   active  activities  ...  withdrawal    within   without      work    would  \\\n0     0.0         0.0  ...         0.0  0.029061  0.020371  0.015589  0.02096   \n\n   wound  yet  zaporizhia  zaporizhzhia      znpp  \n0    0.0  0.0    0.009191      0.007425  0.018081  \n\n[1 rows x 701 columns]",
      "text/html": "<div>\n<style scoped>\n    .dataframe tbody tr th:only-of-type {\n        vertical-align: middle;\n    }\n\n    .dataframe tbody tr th {\n        vertical-align: top;\n    }\n\n    .dataframe thead th {\n        text-align: right;\n    }\n</style>\n<table border=\"1\" class=\"dataframe\">\n  <thead>\n    <tr style=\"text-align: right;\">\n      <th></th>\n      <th>date</th>\n      <th>abandon</th>\n      <th>ability</th>\n      <th>able</th>\n      <th>access</th>\n      <th>accuse</th>\n      <th>across</th>\n      <th>action</th>\n      <th>active</th>\n      <th>activities</th>\n      <th>...</th>\n      <th>withdrawal</th>\n      <th>within</th>\n      <th>without</th>\n      <th>work</th>\n      <th>would</th>\n      <th>wound</th>\n      <th>yet</th>\n      <th>zaporizhia</th>\n      <th>zaporizhzhia</th>\n      <th>znpp</th>\n    </tr>\n  </thead>\n  <tbody>\n    <tr>\n      <th>0</th>\n      <td>2024-04-19</td>\n      <td>0.0</td>\n      <td>0.021509</td>\n      <td>0.0</td>\n      <td>0.0</td>\n      <td>0.0</td>\n      <td>0.00668</td>\n      <td>0.0</td>\n      <td>0.0</td>\n      <td>0.0</td>\n      <td>...</td>\n      <td>0.0</td>\n      <td>0.029061</td>\n      <td>0.020371</td>\n      <td>0.015589</td>\n      <td>0.02096</td>\n      <td>0.0</td>\n      <td>0.0</td>\n      <td>0.009191</td>\n      <td>0.007425</td>\n      <td>0.018081</td>\n    </tr>\n  </tbody>\n</table>\n<p>1 rows × 701 columns</p>\n</div>"
     },
     "execution_count": 3,
     "metadata": {},
     "output_type": "execute_result"
    }
   ],
   "source": [
    "import pandas as pd\n",
    "        \n",
    "ISW = pd.read_csv('ISW.csv')\n",
    "ISW"
   ],
   "metadata": {
    "collapsed": false,
    "ExecuteTime": {
     "end_time": "2024-04-20T16:06:35.504523Z",
     "start_time": "2024-04-20T16:06:35.484375Z"
    }
   },
   "id": "7b39094e763e4fba",
   "execution_count": 3
  },
  {
   "cell_type": "code",
   "outputs": [
    {
     "data": {
      "text/plain": "     latitude  longitude   resolvedAddress           address     timezone  \\\n0     49.4407    32.0637  Черкаси, Україна  Cherkasy,Ukraine  Europe/Kiev   \n1     49.4407    32.0637  Черкаси, Україна  Cherkasy,Ukraine  Europe/Kiev   \n2     49.4407    32.0637  Черкаси, Україна  Cherkasy,Ukraine  Europe/Kiev   \n3     49.4407    32.0637  Черкаси, Україна  Cherkasy,Ukraine  Europe/Kiev   \n4     49.4407    32.0637  Черкаси, Україна  Cherkasy,Ukraine  Europe/Kiev   \n..        ...        ...               ...               ...          ...   \n271   50.2536    28.6654  Житомир, Україна  Zhytomyr,Ukraine  Europe/Kiev   \n272   50.2536    28.6654  Житомир, Україна  Zhytomyr,Ukraine  Europe/Kiev   \n273   50.2536    28.6654  Житомир, Україна  Zhytomyr,Ukraine  Europe/Kiev   \n274   50.2536    28.6654  Житомир, Україна  Zhytomyr,Ukraine  Europe/Kiev   \n275   50.2536    28.6654  Житомир, Україна  Zhytomyr,Ukraine  Europe/Kiev   \n\n     tzoffset    datetime  datetimeEpoch    tempmax   tempmin  ...  \\\n0         3.0  2024-04-20     1713560400  13.055556  4.166667  ...   \n1         3.0  2024-04-20     1713560400  13.055556  4.166667  ...   \n2         3.0  2024-04-20     1713560400  13.055556  4.166667  ...   \n3         3.0  2024-04-20     1713560400  13.055556  4.166667  ...   \n4         3.0  2024-04-20     1713560400  13.055556  4.166667  ...   \n..        ...         ...            ...        ...       ...  ...   \n271       3.0  2024-04-21     1713646800   6.722222  5.444444  ...   \n272       3.0  2024-04-21     1713646800   6.722222  5.444444  ...   \n273       3.0  2024-04-21     1713646800   6.722222  5.444444  ...   \n274       3.0  2024-04-21     1713646800   6.722222  5.444444  ...   \n275       3.0  2024-04-21     1713646800   6.722222  5.444444  ...   \n\n     visibility_hourly  cloudcover_hourly  solarradiation_hourly  \\\n0                 15.0              100.0                  202.0   \n1                 15.0              100.0                  116.0   \n2                 15.0              100.0                   41.0   \n3                 14.6              100.0                    0.0   \n4                  4.4              100.0                    0.0   \n..                 ...                ...                    ...   \n271               15.0              100.0                    0.0   \n272               15.0              100.0                    0.0   \n273               15.0              100.0                    0.0   \n274               14.0              100.0                    0.0   \n275               10.1              100.0                    0.0   \n\n     solarenergy_hourly  uvindex_hourly  severerisk_hourly  conditions_hourly  \\\n0                   0.7             2.0               10.0           Overcast   \n1                   0.4             1.0               10.0     Rain, Overcast   \n2                   0.1             0.0               10.0     Rain, Overcast   \n3                   0.0             0.0               10.0     Rain, Overcast   \n4                   0.0             0.0               10.0     Rain, Overcast   \n..                  ...             ...                ...                ...   \n271                 0.0             0.0               10.0           Overcast   \n272                 0.0             0.0               10.0           Overcast   \n273                 0.0             0.0               10.0           Overcast   \n274                 0.0             0.0               10.0           Overcast   \n275                 0.0             0.0               10.0     Rain, Overcast   \n\n     icon_hourly  stations_hourly source_hourly  \n0         cloudy       ['remote']           obs  \n1           rain               []          fcst  \n2           rain                0          fcst  \n3           rain                0          fcst  \n4           rain                0          fcst  \n..           ...              ...           ...  \n271       cloudy                0          fcst  \n272       cloudy                0          fcst  \n273       cloudy                0          fcst  \n274       cloudy                0          fcst  \n275         rain                0          fcst  \n\n[276 rows x 67 columns]",
      "text/html": "<div>\n<style scoped>\n    .dataframe tbody tr th:only-of-type {\n        vertical-align: middle;\n    }\n\n    .dataframe tbody tr th {\n        vertical-align: top;\n    }\n\n    .dataframe thead th {\n        text-align: right;\n    }\n</style>\n<table border=\"1\" class=\"dataframe\">\n  <thead>\n    <tr style=\"text-align: right;\">\n      <th></th>\n      <th>latitude</th>\n      <th>longitude</th>\n      <th>resolvedAddress</th>\n      <th>address</th>\n      <th>timezone</th>\n      <th>tzoffset</th>\n      <th>datetime</th>\n      <th>datetimeEpoch</th>\n      <th>tempmax</th>\n      <th>tempmin</th>\n      <th>...</th>\n      <th>visibility_hourly</th>\n      <th>cloudcover_hourly</th>\n      <th>solarradiation_hourly</th>\n      <th>solarenergy_hourly</th>\n      <th>uvindex_hourly</th>\n      <th>severerisk_hourly</th>\n      <th>conditions_hourly</th>\n      <th>icon_hourly</th>\n      <th>stations_hourly</th>\n      <th>source_hourly</th>\n    </tr>\n  </thead>\n  <tbody>\n    <tr>\n      <th>0</th>\n      <td>49.4407</td>\n      <td>32.0637</td>\n      <td>Черкаси, Україна</td>\n      <td>Cherkasy,Ukraine</td>\n      <td>Europe/Kiev</td>\n      <td>3.0</td>\n      <td>2024-04-20</td>\n      <td>1713560400</td>\n      <td>13.055556</td>\n      <td>4.166667</td>\n      <td>...</td>\n      <td>15.0</td>\n      <td>100.0</td>\n      <td>202.0</td>\n      <td>0.7</td>\n      <td>2.0</td>\n      <td>10.0</td>\n      <td>Overcast</td>\n      <td>cloudy</td>\n      <td>['remote']</td>\n      <td>obs</td>\n    </tr>\n    <tr>\n      <th>1</th>\n      <td>49.4407</td>\n      <td>32.0637</td>\n      <td>Черкаси, Україна</td>\n      <td>Cherkasy,Ukraine</td>\n      <td>Europe/Kiev</td>\n      <td>3.0</td>\n      <td>2024-04-20</td>\n      <td>1713560400</td>\n      <td>13.055556</td>\n      <td>4.166667</td>\n      <td>...</td>\n      <td>15.0</td>\n      <td>100.0</td>\n      <td>116.0</td>\n      <td>0.4</td>\n      <td>1.0</td>\n      <td>10.0</td>\n      <td>Rain, Overcast</td>\n      <td>rain</td>\n      <td>[]</td>\n      <td>fcst</td>\n    </tr>\n    <tr>\n      <th>2</th>\n      <td>49.4407</td>\n      <td>32.0637</td>\n      <td>Черкаси, Україна</td>\n      <td>Cherkasy,Ukraine</td>\n      <td>Europe/Kiev</td>\n      <td>3.0</td>\n      <td>2024-04-20</td>\n      <td>1713560400</td>\n      <td>13.055556</td>\n      <td>4.166667</td>\n      <td>...</td>\n      <td>15.0</td>\n      <td>100.0</td>\n      <td>41.0</td>\n      <td>0.1</td>\n      <td>0.0</td>\n      <td>10.0</td>\n      <td>Rain, Overcast</td>\n      <td>rain</td>\n      <td>0</td>\n      <td>fcst</td>\n    </tr>\n    <tr>\n      <th>3</th>\n      <td>49.4407</td>\n      <td>32.0637</td>\n      <td>Черкаси, Україна</td>\n      <td>Cherkasy,Ukraine</td>\n      <td>Europe/Kiev</td>\n      <td>3.0</td>\n      <td>2024-04-20</td>\n      <td>1713560400</td>\n      <td>13.055556</td>\n      <td>4.166667</td>\n      <td>...</td>\n      <td>14.6</td>\n      <td>100.0</td>\n      <td>0.0</td>\n      <td>0.0</td>\n      <td>0.0</td>\n      <td>10.0</td>\n      <td>Rain, Overcast</td>\n      <td>rain</td>\n      <td>0</td>\n      <td>fcst</td>\n    </tr>\n    <tr>\n      <th>4</th>\n      <td>49.4407</td>\n      <td>32.0637</td>\n      <td>Черкаси, Україна</td>\n      <td>Cherkasy,Ukraine</td>\n      <td>Europe/Kiev</td>\n      <td>3.0</td>\n      <td>2024-04-20</td>\n      <td>1713560400</td>\n      <td>13.055556</td>\n      <td>4.166667</td>\n      <td>...</td>\n      <td>4.4</td>\n      <td>100.0</td>\n      <td>0.0</td>\n      <td>0.0</td>\n      <td>0.0</td>\n      <td>10.0</td>\n      <td>Rain, Overcast</td>\n      <td>rain</td>\n      <td>0</td>\n      <td>fcst</td>\n    </tr>\n    <tr>\n      <th>...</th>\n      <td>...</td>\n      <td>...</td>\n      <td>...</td>\n      <td>...</td>\n      <td>...</td>\n      <td>...</td>\n      <td>...</td>\n      <td>...</td>\n      <td>...</td>\n      <td>...</td>\n      <td>...</td>\n      <td>...</td>\n      <td>...</td>\n      <td>...</td>\n      <td>...</td>\n      <td>...</td>\n      <td>...</td>\n      <td>...</td>\n      <td>...</td>\n      <td>...</td>\n      <td>...</td>\n    </tr>\n    <tr>\n      <th>271</th>\n      <td>50.2536</td>\n      <td>28.6654</td>\n      <td>Житомир, Україна</td>\n      <td>Zhytomyr,Ukraine</td>\n      <td>Europe/Kiev</td>\n      <td>3.0</td>\n      <td>2024-04-21</td>\n      <td>1713646800</td>\n      <td>6.722222</td>\n      <td>5.444444</td>\n      <td>...</td>\n      <td>15.0</td>\n      <td>100.0</td>\n      <td>0.0</td>\n      <td>0.0</td>\n      <td>0.0</td>\n      <td>10.0</td>\n      <td>Overcast</td>\n      <td>cloudy</td>\n      <td>0</td>\n      <td>fcst</td>\n    </tr>\n    <tr>\n      <th>272</th>\n      <td>50.2536</td>\n      <td>28.6654</td>\n      <td>Житомир, Україна</td>\n      <td>Zhytomyr,Ukraine</td>\n      <td>Europe/Kiev</td>\n      <td>3.0</td>\n      <td>2024-04-21</td>\n      <td>1713646800</td>\n      <td>6.722222</td>\n      <td>5.444444</td>\n      <td>...</td>\n      <td>15.0</td>\n      <td>100.0</td>\n      <td>0.0</td>\n      <td>0.0</td>\n      <td>0.0</td>\n      <td>10.0</td>\n      <td>Overcast</td>\n      <td>cloudy</td>\n      <td>0</td>\n      <td>fcst</td>\n    </tr>\n    <tr>\n      <th>273</th>\n      <td>50.2536</td>\n      <td>28.6654</td>\n      <td>Житомир, Україна</td>\n      <td>Zhytomyr,Ukraine</td>\n      <td>Europe/Kiev</td>\n      <td>3.0</td>\n      <td>2024-04-21</td>\n      <td>1713646800</td>\n      <td>6.722222</td>\n      <td>5.444444</td>\n      <td>...</td>\n      <td>15.0</td>\n      <td>100.0</td>\n      <td>0.0</td>\n      <td>0.0</td>\n      <td>0.0</td>\n      <td>10.0</td>\n      <td>Overcast</td>\n      <td>cloudy</td>\n      <td>0</td>\n      <td>fcst</td>\n    </tr>\n    <tr>\n      <th>274</th>\n      <td>50.2536</td>\n      <td>28.6654</td>\n      <td>Житомир, Україна</td>\n      <td>Zhytomyr,Ukraine</td>\n      <td>Europe/Kiev</td>\n      <td>3.0</td>\n      <td>2024-04-21</td>\n      <td>1713646800</td>\n      <td>6.722222</td>\n      <td>5.444444</td>\n      <td>...</td>\n      <td>14.0</td>\n      <td>100.0</td>\n      <td>0.0</td>\n      <td>0.0</td>\n      <td>0.0</td>\n      <td>10.0</td>\n      <td>Overcast</td>\n      <td>cloudy</td>\n      <td>0</td>\n      <td>fcst</td>\n    </tr>\n    <tr>\n      <th>275</th>\n      <td>50.2536</td>\n      <td>28.6654</td>\n      <td>Житомир, Україна</td>\n      <td>Zhytomyr,Ukraine</td>\n      <td>Europe/Kiev</td>\n      <td>3.0</td>\n      <td>2024-04-21</td>\n      <td>1713646800</td>\n      <td>6.722222</td>\n      <td>5.444444</td>\n      <td>...</td>\n      <td>10.1</td>\n      <td>100.0</td>\n      <td>0.0</td>\n      <td>0.0</td>\n      <td>0.0</td>\n      <td>10.0</td>\n      <td>Rain, Overcast</td>\n      <td>rain</td>\n      <td>0</td>\n      <td>fcst</td>\n    </tr>\n  </tbody>\n</table>\n<p>276 rows × 67 columns</p>\n</div>"
     },
     "execution_count": 4,
     "metadata": {},
     "output_type": "execute_result"
    }
   ],
   "source": [
    "import pandas as pd\n",
    "        \n",
    "weather = pd.read_csv('Weather.csv')\n",
    "weather"
   ],
   "metadata": {
    "collapsed": false,
    "ExecuteTime": {
     "end_time": "2024-04-20T16:06:36.661152Z",
     "start_time": "2024-04-20T16:06:36.642621Z"
    }
   },
   "id": "252ec784e83e873d",
   "execution_count": 4
  },
  {
   "cell_type": "code",
   "outputs": [
    {
     "ename": "KeyError",
     "evalue": "\"['day_feelslikemax', 'day_feelslikemin', 'day_sunriseEpoch', 'day_sunsetEpoch', 'day_description', 'city_latitude', 'city_longitude', 'city_address', 'city_timezone', 'city_tzoffset', 'day_feelslike', 'day_precipprob', 'day_snow', 'day_snowdepth', 'day_windgust', 'day_windspeed', 'day_winddir', 'day_pressure', 'day_cloudcover', 'day_visibility', 'day_severerisk', 'day_conditions', 'day_icon', 'day_source', 'day_preciptype', 'day_stations', 'hour_icon', 'hour_source', 'hour_stations', 'hour_feelslike'] not found in axis\"",
     "output_type": "error",
     "traceback": [
      "\u001B[0;31m---------------------------------------------------------------------------\u001B[0m",
      "\u001B[0;31mKeyError\u001B[0m                                  Traceback (most recent call last)",
      "Cell \u001B[0;32mIn[5], line 33\u001B[0m\n\u001B[1;32m      1\u001B[0m weather_exclude \u001B[38;5;241m=\u001B[39m [\n\u001B[1;32m      2\u001B[0m \u001B[38;5;124m\"\u001B[39m\u001B[38;5;124mday_feelslikemax\u001B[39m\u001B[38;5;124m\"\u001B[39m,\n\u001B[1;32m      3\u001B[0m \u001B[38;5;124m\"\u001B[39m\u001B[38;5;124mday_feelslikemin\u001B[39m\u001B[38;5;124m\"\u001B[39m,\n\u001B[0;32m   (...)\u001B[0m\n\u001B[1;32m     31\u001B[0m \u001B[38;5;124m\"\u001B[39m\u001B[38;5;124mhour_feelslike\u001B[39m\u001B[38;5;124m\"\u001B[39m\n\u001B[1;32m     32\u001B[0m ]\n\u001B[0;32m---> 33\u001B[0m \u001B[43mweather\u001B[49m\u001B[38;5;241;43m.\u001B[39;49m\u001B[43mdrop\u001B[49m\u001B[43m(\u001B[49m\u001B[43mweather_exclude\u001B[49m\u001B[43m,\u001B[49m\u001B[43m \u001B[49m\u001B[43maxis\u001B[49m\u001B[38;5;241;43m=\u001B[39;49m\u001B[38;5;241;43m1\u001B[39;49m\u001B[43m,\u001B[49m\u001B[43m \u001B[49m\u001B[43minplace\u001B[49m\u001B[38;5;241;43m=\u001B[39;49m\u001B[38;5;28;43;01mTrue\u001B[39;49;00m\u001B[43m)\u001B[49m\n\u001B[1;32m     34\u001B[0m weather[\u001B[38;5;124m\"\u001B[39m\u001B[38;5;124mcity\u001B[39m\u001B[38;5;124m\"\u001B[39m] \u001B[38;5;241m=\u001B[39m weather[\u001B[38;5;124m\"\u001B[39m\u001B[38;5;124mcity_resolvedAddress\u001B[39m\u001B[38;5;124m\"\u001B[39m]\u001B[38;5;241m.\u001B[39mapply(\u001B[38;5;28;01mlambda\u001B[39;00m x: x\u001B[38;5;241m.\u001B[39msplit(\u001B[38;5;124m\"\u001B[39m\u001B[38;5;124m,\u001B[39m\u001B[38;5;124m\"\u001B[39m)[\u001B[38;5;241m0\u001B[39m])\n\u001B[1;32m     35\u001B[0m weather[\u001B[38;5;124m\"\u001B[39m\u001B[38;5;124mcity\u001B[39m\u001B[38;5;124m\"\u001B[39m] \u001B[38;5;241m=\u001B[39m weather[\u001B[38;5;124m\"\u001B[39m\u001B[38;5;124mcity\u001B[39m\u001B[38;5;124m\"\u001B[39m]\u001B[38;5;241m.\u001B[39mreplace(\u001B[38;5;124m'\u001B[39m\u001B[38;5;124mХмельницька область\u001B[39m\u001B[38;5;124m'\u001B[39m, \u001B[38;5;124m\"\u001B[39m\u001B[38;5;124mХмельницький\u001B[39m\u001B[38;5;124m\"\u001B[39m)\n",
      "File \u001B[0;32m/Library/Frameworks/Python.framework/Versions/3.12/lib/python3.12/site-packages/pandas/core/frame.py:5568\u001B[0m, in \u001B[0;36mDataFrame.drop\u001B[0;34m(self, labels, axis, index, columns, level, inplace, errors)\u001B[0m\n\u001B[1;32m   5420\u001B[0m \u001B[38;5;28;01mdef\u001B[39;00m \u001B[38;5;21mdrop\u001B[39m(\n\u001B[1;32m   5421\u001B[0m     \u001B[38;5;28mself\u001B[39m,\n\u001B[1;32m   5422\u001B[0m     labels: IndexLabel \u001B[38;5;241m|\u001B[39m \u001B[38;5;28;01mNone\u001B[39;00m \u001B[38;5;241m=\u001B[39m \u001B[38;5;28;01mNone\u001B[39;00m,\n\u001B[0;32m   (...)\u001B[0m\n\u001B[1;32m   5429\u001B[0m     errors: IgnoreRaise \u001B[38;5;241m=\u001B[39m \u001B[38;5;124m\"\u001B[39m\u001B[38;5;124mraise\u001B[39m\u001B[38;5;124m\"\u001B[39m,\n\u001B[1;32m   5430\u001B[0m ) \u001B[38;5;241m-\u001B[39m\u001B[38;5;241m>\u001B[39m DataFrame \u001B[38;5;241m|\u001B[39m \u001B[38;5;28;01mNone\u001B[39;00m:\n\u001B[1;32m   5431\u001B[0m \u001B[38;5;250m    \u001B[39m\u001B[38;5;124;03m\"\"\"\u001B[39;00m\n\u001B[1;32m   5432\u001B[0m \u001B[38;5;124;03m    Drop specified labels from rows or columns.\u001B[39;00m\n\u001B[1;32m   5433\u001B[0m \n\u001B[0;32m   (...)\u001B[0m\n\u001B[1;32m   5566\u001B[0m \u001B[38;5;124;03m            weight  1.0     0.8\u001B[39;00m\n\u001B[1;32m   5567\u001B[0m \u001B[38;5;124;03m    \"\"\"\u001B[39;00m\n\u001B[0;32m-> 5568\u001B[0m     \u001B[38;5;28;01mreturn\u001B[39;00m \u001B[38;5;28;43msuper\u001B[39;49m\u001B[43m(\u001B[49m\u001B[43m)\u001B[49m\u001B[38;5;241;43m.\u001B[39;49m\u001B[43mdrop\u001B[49m\u001B[43m(\u001B[49m\n\u001B[1;32m   5569\u001B[0m \u001B[43m        \u001B[49m\u001B[43mlabels\u001B[49m\u001B[38;5;241;43m=\u001B[39;49m\u001B[43mlabels\u001B[49m\u001B[43m,\u001B[49m\n\u001B[1;32m   5570\u001B[0m \u001B[43m        \u001B[49m\u001B[43maxis\u001B[49m\u001B[38;5;241;43m=\u001B[39;49m\u001B[43maxis\u001B[49m\u001B[43m,\u001B[49m\n\u001B[1;32m   5571\u001B[0m \u001B[43m        \u001B[49m\u001B[43mindex\u001B[49m\u001B[38;5;241;43m=\u001B[39;49m\u001B[43mindex\u001B[49m\u001B[43m,\u001B[49m\n\u001B[1;32m   5572\u001B[0m \u001B[43m        \u001B[49m\u001B[43mcolumns\u001B[49m\u001B[38;5;241;43m=\u001B[39;49m\u001B[43mcolumns\u001B[49m\u001B[43m,\u001B[49m\n\u001B[1;32m   5573\u001B[0m \u001B[43m        \u001B[49m\u001B[43mlevel\u001B[49m\u001B[38;5;241;43m=\u001B[39;49m\u001B[43mlevel\u001B[49m\u001B[43m,\u001B[49m\n\u001B[1;32m   5574\u001B[0m \u001B[43m        \u001B[49m\u001B[43minplace\u001B[49m\u001B[38;5;241;43m=\u001B[39;49m\u001B[43minplace\u001B[49m\u001B[43m,\u001B[49m\n\u001B[1;32m   5575\u001B[0m \u001B[43m        \u001B[49m\u001B[43merrors\u001B[49m\u001B[38;5;241;43m=\u001B[39;49m\u001B[43merrors\u001B[49m\u001B[43m,\u001B[49m\n\u001B[1;32m   5576\u001B[0m \u001B[43m    \u001B[49m\u001B[43m)\u001B[49m\n",
      "File \u001B[0;32m/Library/Frameworks/Python.framework/Versions/3.12/lib/python3.12/site-packages/pandas/core/generic.py:4785\u001B[0m, in \u001B[0;36mNDFrame.drop\u001B[0;34m(self, labels, axis, index, columns, level, inplace, errors)\u001B[0m\n\u001B[1;32m   4783\u001B[0m \u001B[38;5;28;01mfor\u001B[39;00m axis, labels \u001B[38;5;129;01min\u001B[39;00m axes\u001B[38;5;241m.\u001B[39mitems():\n\u001B[1;32m   4784\u001B[0m     \u001B[38;5;28;01mif\u001B[39;00m labels \u001B[38;5;129;01mis\u001B[39;00m \u001B[38;5;129;01mnot\u001B[39;00m \u001B[38;5;28;01mNone\u001B[39;00m:\n\u001B[0;32m-> 4785\u001B[0m         obj \u001B[38;5;241m=\u001B[39m \u001B[43mobj\u001B[49m\u001B[38;5;241;43m.\u001B[39;49m\u001B[43m_drop_axis\u001B[49m\u001B[43m(\u001B[49m\u001B[43mlabels\u001B[49m\u001B[43m,\u001B[49m\u001B[43m \u001B[49m\u001B[43maxis\u001B[49m\u001B[43m,\u001B[49m\u001B[43m \u001B[49m\u001B[43mlevel\u001B[49m\u001B[38;5;241;43m=\u001B[39;49m\u001B[43mlevel\u001B[49m\u001B[43m,\u001B[49m\u001B[43m \u001B[49m\u001B[43merrors\u001B[49m\u001B[38;5;241;43m=\u001B[39;49m\u001B[43merrors\u001B[49m\u001B[43m)\u001B[49m\n\u001B[1;32m   4787\u001B[0m \u001B[38;5;28;01mif\u001B[39;00m inplace:\n\u001B[1;32m   4788\u001B[0m     \u001B[38;5;28mself\u001B[39m\u001B[38;5;241m.\u001B[39m_update_inplace(obj)\n",
      "File \u001B[0;32m/Library/Frameworks/Python.framework/Versions/3.12/lib/python3.12/site-packages/pandas/core/generic.py:4827\u001B[0m, in \u001B[0;36mNDFrame._drop_axis\u001B[0;34m(self, labels, axis, level, errors, only_slice)\u001B[0m\n\u001B[1;32m   4825\u001B[0m         new_axis \u001B[38;5;241m=\u001B[39m axis\u001B[38;5;241m.\u001B[39mdrop(labels, level\u001B[38;5;241m=\u001B[39mlevel, errors\u001B[38;5;241m=\u001B[39merrors)\n\u001B[1;32m   4826\u001B[0m     \u001B[38;5;28;01melse\u001B[39;00m:\n\u001B[0;32m-> 4827\u001B[0m         new_axis \u001B[38;5;241m=\u001B[39m \u001B[43maxis\u001B[49m\u001B[38;5;241;43m.\u001B[39;49m\u001B[43mdrop\u001B[49m\u001B[43m(\u001B[49m\u001B[43mlabels\u001B[49m\u001B[43m,\u001B[49m\u001B[43m \u001B[49m\u001B[43merrors\u001B[49m\u001B[38;5;241;43m=\u001B[39;49m\u001B[43merrors\u001B[49m\u001B[43m)\u001B[49m\n\u001B[1;32m   4828\u001B[0m     indexer \u001B[38;5;241m=\u001B[39m axis\u001B[38;5;241m.\u001B[39mget_indexer(new_axis)\n\u001B[1;32m   4830\u001B[0m \u001B[38;5;66;03m# Case for non-unique axis\u001B[39;00m\n\u001B[1;32m   4831\u001B[0m \u001B[38;5;28;01melse\u001B[39;00m:\n",
      "File \u001B[0;32m/Library/Frameworks/Python.framework/Versions/3.12/lib/python3.12/site-packages/pandas/core/indexes/base.py:7070\u001B[0m, in \u001B[0;36mIndex.drop\u001B[0;34m(self, labels, errors)\u001B[0m\n\u001B[1;32m   7068\u001B[0m \u001B[38;5;28;01mif\u001B[39;00m mask\u001B[38;5;241m.\u001B[39many():\n\u001B[1;32m   7069\u001B[0m     \u001B[38;5;28;01mif\u001B[39;00m errors \u001B[38;5;241m!=\u001B[39m \u001B[38;5;124m\"\u001B[39m\u001B[38;5;124mignore\u001B[39m\u001B[38;5;124m\"\u001B[39m:\n\u001B[0;32m-> 7070\u001B[0m         \u001B[38;5;28;01mraise\u001B[39;00m \u001B[38;5;167;01mKeyError\u001B[39;00m(\u001B[38;5;124mf\u001B[39m\u001B[38;5;124m\"\u001B[39m\u001B[38;5;132;01m{\u001B[39;00mlabels[mask]\u001B[38;5;241m.\u001B[39mtolist()\u001B[38;5;132;01m}\u001B[39;00m\u001B[38;5;124m not found in axis\u001B[39m\u001B[38;5;124m\"\u001B[39m)\n\u001B[1;32m   7071\u001B[0m     indexer \u001B[38;5;241m=\u001B[39m indexer[\u001B[38;5;241m~\u001B[39mmask]\n\u001B[1;32m   7072\u001B[0m \u001B[38;5;28;01mreturn\u001B[39;00m \u001B[38;5;28mself\u001B[39m\u001B[38;5;241m.\u001B[39mdelete(indexer)\n",
      "\u001B[0;31mKeyError\u001B[0m: \"['day_feelslikemax', 'day_feelslikemin', 'day_sunriseEpoch', 'day_sunsetEpoch', 'day_description', 'city_latitude', 'city_longitude', 'city_address', 'city_timezone', 'city_tzoffset', 'day_feelslike', 'day_precipprob', 'day_snow', 'day_snowdepth', 'day_windgust', 'day_windspeed', 'day_winddir', 'day_pressure', 'day_cloudcover', 'day_visibility', 'day_severerisk', 'day_conditions', 'day_icon', 'day_source', 'day_preciptype', 'day_stations', 'hour_icon', 'hour_source', 'hour_stations', 'hour_feelslike'] not found in axis\""
     ]
    }
   ],
   "source": [
    "weather_exclude = [\n",
    "\"day_feelslikemax\",\n",
    "\"day_feelslikemin\",\n",
    "\"day_sunriseEpoch\",\n",
    "\"day_sunsetEpoch\",\n",
    "\"day_description\",\n",
    "\"city_latitude\",\n",
    "\"city_longitude\",\n",
    "\"city_address\",\n",
    "\"city_timezone\",\n",
    "\"city_tzoffset\",\n",
    "\"day_feelslike\",\n",
    "\"day_precipprob\",\n",
    "\"day_snow\",\n",
    "\"day_snowdepth\",\n",
    "\"day_windgust\",\n",
    "\"day_windspeed\",\n",
    "\"day_winddir\",\n",
    "\"day_pressure\",\n",
    "\"day_cloudcover\",\n",
    "\"day_visibility\",\n",
    "\"day_severerisk\",\n",
    "\"day_conditions\",\n",
    "\"day_icon\",\n",
    "\"day_source\",\n",
    "\"day_preciptype\",\n",
    "\"day_stations\",\n",
    "\"hour_icon\",\n",
    "\"hour_source\",\n",
    "\"hour_stations\",\n",
    "\"hour_feelslike\"\n",
    "]\n",
    "weather.drop(weather_exclude, axis=1, inplace=True)\n",
    "weather[\"city\"] = weather[\"city_resolvedAddress\"].apply(lambda x: x.split(\",\")[0])\n",
    "weather[\"city\"] = weather[\"city\"].replace('Хмельницька область', \"Хмельницький\")\n",
    "weather "
   ],
   "metadata": {
    "collapsed": false,
    "ExecuteTime": {
     "end_time": "2024-04-20T16:06:37.610216Z",
     "start_time": "2024-04-20T16:06:37.255322Z"
    }
   },
   "id": "c1b2e3e38f01b7f7",
   "execution_count": 5
  },
  {
   "cell_type": "code",
   "outputs": [],
   "source": [],
   "metadata": {
    "collapsed": false,
    "ExecuteTime": {
     "end_time": "2024-04-20T16:06:41.353061Z",
     "start_time": "2024-04-20T16:06:41.350266Z"
    }
   },
   "id": "a456c06a48d275c1",
   "execution_count": 5
  },
  {
   "cell_type": "code",
   "outputs": [
    {
     "ename": "KeyError",
     "evalue": "1",
     "output_type": "error",
     "traceback": [
      "\u001B[0;31m---------------------------------------------------------------------------\u001B[0m",
      "\u001B[0;31mKeyError\u001B[0m                                  Traceback (most recent call last)",
      "File \u001B[0;32m/Library/Frameworks/Python.framework/Versions/3.12/lib/python3.12/site-packages/pandas/core/indexes/base.py:3805\u001B[0m, in \u001B[0;36mIndex.get_loc\u001B[0;34m(self, key)\u001B[0m\n\u001B[1;32m   3804\u001B[0m \u001B[38;5;28;01mtry\u001B[39;00m:\n\u001B[0;32m-> 3805\u001B[0m     \u001B[38;5;28;01mreturn\u001B[39;00m \u001B[38;5;28;43mself\u001B[39;49m\u001B[38;5;241;43m.\u001B[39;49m\u001B[43m_engine\u001B[49m\u001B[38;5;241;43m.\u001B[39;49m\u001B[43mget_loc\u001B[49m\u001B[43m(\u001B[49m\u001B[43mcasted_key\u001B[49m\u001B[43m)\u001B[49m\n\u001B[1;32m   3806\u001B[0m \u001B[38;5;28;01mexcept\u001B[39;00m \u001B[38;5;167;01mKeyError\u001B[39;00m \u001B[38;5;28;01mas\u001B[39;00m err:\n",
      "File \u001B[0;32mindex.pyx:167\u001B[0m, in \u001B[0;36mpandas._libs.index.IndexEngine.get_loc\u001B[0;34m()\u001B[0m\n",
      "File \u001B[0;32mindex.pyx:196\u001B[0m, in \u001B[0;36mpandas._libs.index.IndexEngine.get_loc\u001B[0;34m()\u001B[0m\n",
      "File \u001B[0;32mpandas/_libs/hashtable_class_helper.pxi:7081\u001B[0m, in \u001B[0;36mpandas._libs.hashtable.PyObjectHashTable.get_item\u001B[0;34m()\u001B[0m\n",
      "File \u001B[0;32mpandas/_libs/hashtable_class_helper.pxi:7089\u001B[0m, in \u001B[0;36mpandas._libs.hashtable.PyObjectHashTable.get_item\u001B[0;34m()\u001B[0m\n",
      "\u001B[0;31mKeyError\u001B[0m: 1",
      "\nThe above exception was the direct cause of the following exception:\n",
      "\u001B[0;31mKeyError\u001B[0m                                  Traceback (most recent call last)",
      "Cell \u001B[0;32mIn[7], line 7\u001B[0m\n\u001B[1;32m      3\u001B[0m df \u001B[38;5;241m=\u001B[39m pd\u001B[38;5;241m.\u001B[39mread_csv(\u001B[38;5;124m'\u001B[39m\u001B[38;5;124misw_tfidf (1).csv\u001B[39m\u001B[38;5;124m'\u001B[39m)\n\u001B[1;32m      4\u001B[0m df\n\u001B[0;32m----> 7\u001B[0m \u001B[43mdf\u001B[49m\u001B[43m[\u001B[49m\u001B[38;5;241;43m1\u001B[39;49m\u001B[43m]\u001B[49m\u001B[38;5;241m.\u001B[39mcompare(ISW)\n",
      "File \u001B[0;32m/Library/Frameworks/Python.framework/Versions/3.12/lib/python3.12/site-packages/pandas/core/frame.py:4090\u001B[0m, in \u001B[0;36mDataFrame.__getitem__\u001B[0;34m(self, key)\u001B[0m\n\u001B[1;32m   4088\u001B[0m \u001B[38;5;28;01mif\u001B[39;00m \u001B[38;5;28mself\u001B[39m\u001B[38;5;241m.\u001B[39mcolumns\u001B[38;5;241m.\u001B[39mnlevels \u001B[38;5;241m>\u001B[39m \u001B[38;5;241m1\u001B[39m:\n\u001B[1;32m   4089\u001B[0m     \u001B[38;5;28;01mreturn\u001B[39;00m \u001B[38;5;28mself\u001B[39m\u001B[38;5;241m.\u001B[39m_getitem_multilevel(key)\n\u001B[0;32m-> 4090\u001B[0m indexer \u001B[38;5;241m=\u001B[39m \u001B[38;5;28;43mself\u001B[39;49m\u001B[38;5;241;43m.\u001B[39;49m\u001B[43mcolumns\u001B[49m\u001B[38;5;241;43m.\u001B[39;49m\u001B[43mget_loc\u001B[49m\u001B[43m(\u001B[49m\u001B[43mkey\u001B[49m\u001B[43m)\u001B[49m\n\u001B[1;32m   4091\u001B[0m \u001B[38;5;28;01mif\u001B[39;00m is_integer(indexer):\n\u001B[1;32m   4092\u001B[0m     indexer \u001B[38;5;241m=\u001B[39m [indexer]\n",
      "File \u001B[0;32m/Library/Frameworks/Python.framework/Versions/3.12/lib/python3.12/site-packages/pandas/core/indexes/base.py:3812\u001B[0m, in \u001B[0;36mIndex.get_loc\u001B[0;34m(self, key)\u001B[0m\n\u001B[1;32m   3807\u001B[0m     \u001B[38;5;28;01mif\u001B[39;00m \u001B[38;5;28misinstance\u001B[39m(casted_key, \u001B[38;5;28mslice\u001B[39m) \u001B[38;5;129;01mor\u001B[39;00m (\n\u001B[1;32m   3808\u001B[0m         \u001B[38;5;28misinstance\u001B[39m(casted_key, abc\u001B[38;5;241m.\u001B[39mIterable)\n\u001B[1;32m   3809\u001B[0m         \u001B[38;5;129;01mand\u001B[39;00m \u001B[38;5;28many\u001B[39m(\u001B[38;5;28misinstance\u001B[39m(x, \u001B[38;5;28mslice\u001B[39m) \u001B[38;5;28;01mfor\u001B[39;00m x \u001B[38;5;129;01min\u001B[39;00m casted_key)\n\u001B[1;32m   3810\u001B[0m     ):\n\u001B[1;32m   3811\u001B[0m         \u001B[38;5;28;01mraise\u001B[39;00m InvalidIndexError(key)\n\u001B[0;32m-> 3812\u001B[0m     \u001B[38;5;28;01mraise\u001B[39;00m \u001B[38;5;167;01mKeyError\u001B[39;00m(key) \u001B[38;5;28;01mfrom\u001B[39;00m \u001B[38;5;21;01merr\u001B[39;00m\n\u001B[1;32m   3813\u001B[0m \u001B[38;5;28;01mexcept\u001B[39;00m \u001B[38;5;167;01mTypeError\u001B[39;00m:\n\u001B[1;32m   3814\u001B[0m     \u001B[38;5;66;03m# If we have a listlike key, _check_indexing_error will raise\u001B[39;00m\n\u001B[1;32m   3815\u001B[0m     \u001B[38;5;66;03m#  InvalidIndexError. Otherwise we fall through and re-raise\u001B[39;00m\n\u001B[1;32m   3816\u001B[0m     \u001B[38;5;66;03m#  the TypeError.\u001B[39;00m\n\u001B[1;32m   3817\u001B[0m     \u001B[38;5;28mself\u001B[39m\u001B[38;5;241m.\u001B[39m_check_indexing_error(key)\n",
      "\u001B[0;31mKeyError\u001B[0m: 1"
     ]
    }
   ],
   "source": [
    "import pandas as pd\n",
    "        \n",
    "df = pd.read_csv('isw_tfidf (1).csv')\n",
    "df\n",
    "\n",
    "\n",
    "df[ ].compare(ISW)"
   ],
   "metadata": {
    "collapsed": false,
    "ExecuteTime": {
     "end_time": "2024-04-20T16:08:54.161081Z",
     "start_time": "2024-04-20T16:08:54.106536Z"
    }
   },
   "id": "8d94456baf2f90dc",
   "execution_count": 7
  },
  {
   "cell_type": "code",
   "outputs": [],
   "source": [],
   "metadata": {
    "collapsed": false
   },
   "id": "aa46cbe904f2c304"
  }
 ],
 "metadata": {
  "kernelspec": {
   "display_name": "Python 3",
   "language": "python",
   "name": "python3"
  },
  "language_info": {
   "codemirror_mode": {
    "name": "ipython",
    "version": 2
   },
   "file_extension": ".py",
   "mimetype": "text/x-python",
   "name": "python",
   "nbconvert_exporter": "python",
   "pygments_lexer": "ipython2",
   "version": "2.7.6"
  }
 },
 "nbformat": 4,
 "nbformat_minor": 5
}
