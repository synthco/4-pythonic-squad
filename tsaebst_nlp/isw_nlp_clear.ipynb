{
 "cells": [
  {
   "cell_type": "code",
   "execution_count": 24,
   "outputs": [
    {
     "name": "stderr",
     "output_type": "stream",
     "text": [
      "[nltk_data] Downloading package stopwords to\n",
      "[nltk_data]     /Users/tsaebst/nltk_data...\n",
      "[nltk_data]   Package stopwords is already up-to-date!\n"
     ]
    }
   ],
   "source": [
    "# ISW Naltural language processing unit\n",
    "# !pip install nltk\n",
    "# !pip install sklearn\n",
    "import pandas as pd\n",
    "import nltk\n",
    "import numpy as np\n",
    "import stopwords as stopwords\n",
    "from sklearn.feature_extraction.text import CountVectorizer\n",
    "import ast\n",
    "import string\n",
    "import  nltk.corpus\n",
    "nltk.download('stopwords')\n",
    "from collections import Counter\n",
    "from nltk.stem import SnowballStemmer\n",
    "import re\n",
    "from nltk.corpus import wordnet\n",
    "from nltk.stem import WordNetLemmatizer"
   ],
   "metadata": {
    "collapsed": false
   }
  },
  {
   "cell_type": "code",
   "execution_count": 25,
   "outputs": [],
   "source": [
    "\n",
    "\n",
    "ISW = pd.read_csv('ISW.csv', dtype={\"main_txt\": \"O\"})\n",
    "ISW\n",
    "pure = ISW[['main_text', 'date']]\n"
   ],
   "metadata": {
    "collapsed": false
   }
  },
  {
   "cell_type": "code",
   "execution_count": 26,
   "outputs": [
    {
     "data": {
      "text/plain": "           date                                              title  \\\n0    2022-02-25  Russia-Ukraine Warning Update: Russian Offensi...   \n1    2022-02-26  Russia-Ukraine Warning Update: Russian Offensi...   \n2    2022-02-27  Russia-Ukraine Warning Update: Russian Offensi...   \n3    2022-02-28  Russian Offensive Campaign Assessment, Februar...   \n4    2022-03-01     Russian Offensive Campaign Assessment, March 1   \n..          ...                                                ...   \n324  2023-01-21  Russian Offensive Campaign Assessment, January...   \n325  2023-01-22  Russian Offensive Campaign Assessment, January...   \n326  2023-01-23  Russian Offensive Campaign Assessment, January...   \n327  2023-01-24  Russian Offensive Campaign Assessment, January...   \n328  2023-01-25  Russian Offensive Campaign Assessment, January...   \n\n                                              full_url  \\\n0    https://www.understandingwar.org/backgrounder/...   \n1    https://www.understandingwar.org/backgrounder/...   \n2    https://www.understandingwar.org/backgrounder/...   \n3    https://www.understandingwar.org/backgrounder/...   \n4    https://www.understandingwar.org/backgrounder/...   \n..                                                 ...   \n324  https://www.understandingwar.org/backgrounder/...   \n325  https://www.understandingwar.org/backgrounder/...   \n326  https://www.understandingwar.org/backgrounder/...   \n327  https://www.understandingwar.org/backgrounder/...   \n328  https://www.understandingwar.org/backgrounder/...   \n\n                                             main_html  \\\n0    <!DOCTYPE html>\\n\\n<html dir=\"ltr\" lang=\"en\" x...   \n1    <!DOCTYPE html>\\n\\n<html dir=\"ltr\" lang=\"en\" x...   \n2    <!DOCTYPE html>\\n\\n<html dir=\"ltr\" lang=\"en\" x...   \n3    <!DOCTYPE html>\\n\\n<html dir=\"ltr\" lang=\"en\" x...   \n4    <!DOCTYPE html>\\n\\n<html dir=\"ltr\" lang=\"en\" x...   \n..                                                 ...   \n324  <!DOCTYPE html>\\n\\n<html dir=\"ltr\" lang=\"en\" x...   \n325  <!DOCTYPE html>\\n\\n<html dir=\"ltr\" lang=\"en\" x...   \n326  <!DOCTYPE html>\\n\\n<html dir=\"ltr\" lang=\"en\" x...   \n327  <!DOCTYPE html>\\n\\n<html dir=\"ltr\" lang=\"en\" x...   \n328  <!DOCTYPE html>\\n\\n<html dir=\"ltr\" lang=\"en\" x...   \n\n                                          main_html_v2  \\\n0    [<p align=\"center\" style=\"text-align: left;\"><...   \n1    [<p align=\"center\" style=\"text-align: left;\"><...   \n2    [<p style=\"text-align: left;\"><strong><span st...   \n3    [<p align=\"center\" style=\"text-align: left;\"> ...   \n4    [<p align=\"center\" style=\"text-align: left;\"> ...   \n..                                                 ...   \n324  [<p align=\"center\" style=\"text-align: left;\"> ...   \n325  [<p align=\"center\" style=\"text-align: left;\"><...   \n326  [<p align=\"center\" style=\"text-align: left;\"><...   \n327  [<p align=\"center\" style=\"text-align: left;\"> ...   \n328  [<p align=\"center\" style=\"text-align: left;\"> ...   \n\n                                             main_text  \n0    ['Mason Clark, George Barros, and Kateryna Ste...  \n1    ['Mason Clark, George Barros, and Katya Stepan...  \n2    ['Mason Clark, George Barros, and Kateryna Ste...  \n3    ['Mason Clark, George Barros, and Kateryna Ste...  \n4    ['Frederick W. Kagan, George Barros, and Kater...  \n..                                                 ...  \n324  ['Karolina Hird, Grace Mappes, Angela Howard, ...  \n325  ['Russian Offensive Campaign Assessment, Janua...  \n326  ['Russian Offensive Campaign Assessment, Janua...  \n327  ['Karolina Hird, Riley Bailey, Grace Mappes, G...  \n328  ['Karolina Hird, Riley Bailey, Kateryna Stepan...  \n\n[329 rows x 6 columns]",
      "text/html": "<div>\n<style scoped>\n    .dataframe tbody tr th:only-of-type {\n        vertical-align: middle;\n    }\n\n    .dataframe tbody tr th {\n        vertical-align: top;\n    }\n\n    .dataframe thead th {\n        text-align: right;\n    }\n</style>\n<table border=\"1\" class=\"dataframe\">\n  <thead>\n    <tr style=\"text-align: right;\">\n      <th></th>\n      <th>date</th>\n      <th>title</th>\n      <th>full_url</th>\n      <th>main_html</th>\n      <th>main_html_v2</th>\n      <th>main_text</th>\n    </tr>\n  </thead>\n  <tbody>\n    <tr>\n      <th>0</th>\n      <td>2022-02-25</td>\n      <td>Russia-Ukraine Warning Update: Russian Offensi...</td>\n      <td>https://www.understandingwar.org/backgrounder/...</td>\n      <td>&lt;!DOCTYPE html&gt;\\n\\n&lt;html dir=\"ltr\" lang=\"en\" x...</td>\n      <td>[&lt;p align=\"center\" style=\"text-align: left;\"&gt;&lt;...</td>\n      <td>['Mason Clark, George Barros, and Kateryna Ste...</td>\n    </tr>\n    <tr>\n      <th>1</th>\n      <td>2022-02-26</td>\n      <td>Russia-Ukraine Warning Update: Russian Offensi...</td>\n      <td>https://www.understandingwar.org/backgrounder/...</td>\n      <td>&lt;!DOCTYPE html&gt;\\n\\n&lt;html dir=\"ltr\" lang=\"en\" x...</td>\n      <td>[&lt;p align=\"center\" style=\"text-align: left;\"&gt;&lt;...</td>\n      <td>['Mason Clark, George Barros, and Katya Stepan...</td>\n    </tr>\n    <tr>\n      <th>2</th>\n      <td>2022-02-27</td>\n      <td>Russia-Ukraine Warning Update: Russian Offensi...</td>\n      <td>https://www.understandingwar.org/backgrounder/...</td>\n      <td>&lt;!DOCTYPE html&gt;\\n\\n&lt;html dir=\"ltr\" lang=\"en\" x...</td>\n      <td>[&lt;p style=\"text-align: left;\"&gt;&lt;strong&gt;&lt;span st...</td>\n      <td>['Mason Clark, George Barros, and Kateryna Ste...</td>\n    </tr>\n    <tr>\n      <th>3</th>\n      <td>2022-02-28</td>\n      <td>Russian Offensive Campaign Assessment, Februar...</td>\n      <td>https://www.understandingwar.org/backgrounder/...</td>\n      <td>&lt;!DOCTYPE html&gt;\\n\\n&lt;html dir=\"ltr\" lang=\"en\" x...</td>\n      <td>[&lt;p align=\"center\" style=\"text-align: left;\"&gt; ...</td>\n      <td>['Mason Clark, George Barros, and Kateryna Ste...</td>\n    </tr>\n    <tr>\n      <th>4</th>\n      <td>2022-03-01</td>\n      <td>Russian Offensive Campaign Assessment, March 1</td>\n      <td>https://www.understandingwar.org/backgrounder/...</td>\n      <td>&lt;!DOCTYPE html&gt;\\n\\n&lt;html dir=\"ltr\" lang=\"en\" x...</td>\n      <td>[&lt;p align=\"center\" style=\"text-align: left;\"&gt; ...</td>\n      <td>['Frederick W. Kagan, George Barros, and Kater...</td>\n    </tr>\n    <tr>\n      <th>...</th>\n      <td>...</td>\n      <td>...</td>\n      <td>...</td>\n      <td>...</td>\n      <td>...</td>\n      <td>...</td>\n    </tr>\n    <tr>\n      <th>324</th>\n      <td>2023-01-21</td>\n      <td>Russian Offensive Campaign Assessment, January...</td>\n      <td>https://www.understandingwar.org/backgrounder/...</td>\n      <td>&lt;!DOCTYPE html&gt;\\n\\n&lt;html dir=\"ltr\" lang=\"en\" x...</td>\n      <td>[&lt;p align=\"center\" style=\"text-align: left;\"&gt; ...</td>\n      <td>['Karolina Hird, Grace Mappes, Angela Howard, ...</td>\n    </tr>\n    <tr>\n      <th>325</th>\n      <td>2023-01-22</td>\n      <td>Russian Offensive Campaign Assessment, January...</td>\n      <td>https://www.understandingwar.org/backgrounder/...</td>\n      <td>&lt;!DOCTYPE html&gt;\\n\\n&lt;html dir=\"ltr\" lang=\"en\" x...</td>\n      <td>[&lt;p align=\"center\" style=\"text-align: left;\"&gt;&lt;...</td>\n      <td>['Russian Offensive Campaign Assessment, Janua...</td>\n    </tr>\n    <tr>\n      <th>326</th>\n      <td>2023-01-23</td>\n      <td>Russian Offensive Campaign Assessment, January...</td>\n      <td>https://www.understandingwar.org/backgrounder/...</td>\n      <td>&lt;!DOCTYPE html&gt;\\n\\n&lt;html dir=\"ltr\" lang=\"en\" x...</td>\n      <td>[&lt;p align=\"center\" style=\"text-align: left;\"&gt;&lt;...</td>\n      <td>['Russian Offensive Campaign Assessment, Janua...</td>\n    </tr>\n    <tr>\n      <th>327</th>\n      <td>2023-01-24</td>\n      <td>Russian Offensive Campaign Assessment, January...</td>\n      <td>https://www.understandingwar.org/backgrounder/...</td>\n      <td>&lt;!DOCTYPE html&gt;\\n\\n&lt;html dir=\"ltr\" lang=\"en\" x...</td>\n      <td>[&lt;p align=\"center\" style=\"text-align: left;\"&gt; ...</td>\n      <td>['Karolina Hird, Riley Bailey, Grace Mappes, G...</td>\n    </tr>\n    <tr>\n      <th>328</th>\n      <td>2023-01-25</td>\n      <td>Russian Offensive Campaign Assessment, January...</td>\n      <td>https://www.understandingwar.org/backgrounder/...</td>\n      <td>&lt;!DOCTYPE html&gt;\\n\\n&lt;html dir=\"ltr\" lang=\"en\" x...</td>\n      <td>[&lt;p align=\"center\" style=\"text-align: left;\"&gt; ...</td>\n      <td>['Karolina Hird, Riley Bailey, Kateryna Stepan...</td>\n    </tr>\n  </tbody>\n</table>\n<p>329 rows × 6 columns</p>\n</div>"
     },
     "execution_count": 26,
     "metadata": {},
     "output_type": "execute_result"
    }
   ],
   "source": [
    "ISW"
   ],
   "metadata": {
    "collapsed": false
   }
  },
  {
   "cell_type": "code",
   "execution_count": 27,
   "outputs": [
    {
     "data": {
      "text/plain": "                                                    main_text\ndate                                                         \n2022-02-25  ['Mason Clark, George Barros, and Kateryna Ste...\n2022-02-26  ['Mason Clark, George Barros, and Katya Stepan...\n2022-02-27  ['Mason Clark, George Barros, and Kateryna Ste...\n2022-02-28  ['Mason Clark, George Barros, and Kateryna Ste...\n2022-03-01  ['Frederick W. Kagan, George Barros, and Kater...\n...                                                       ...\n2023-01-21  ['Karolina Hird, Grace Mappes, Angela Howard, ...\n2023-01-22  ['Russian Offensive Campaign Assessment, Janua...\n2023-01-23  ['Russian Offensive Campaign Assessment, Janua...\n2023-01-24  ['Karolina Hird, Riley Bailey, Grace Mappes, G...\n2023-01-25  ['Karolina Hird, Riley Bailey, Kateryna Stepan...\n\n[329 rows x 1 columns]",
      "text/html": "<div>\n<style scoped>\n    .dataframe tbody tr th:only-of-type {\n        vertical-align: middle;\n    }\n\n    .dataframe tbody tr th {\n        vertical-align: top;\n    }\n\n    .dataframe thead th {\n        text-align: right;\n    }\n</style>\n<table border=\"1\" class=\"dataframe\">\n  <thead>\n    <tr style=\"text-align: right;\">\n      <th></th>\n      <th>main_text</th>\n    </tr>\n    <tr>\n      <th>date</th>\n      <th></th>\n    </tr>\n  </thead>\n  <tbody>\n    <tr>\n      <th>2022-02-25</th>\n      <td>['Mason Clark, George Barros, and Kateryna Ste...</td>\n    </tr>\n    <tr>\n      <th>2022-02-26</th>\n      <td>['Mason Clark, George Barros, and Katya Stepan...</td>\n    </tr>\n    <tr>\n      <th>2022-02-27</th>\n      <td>['Mason Clark, George Barros, and Kateryna Ste...</td>\n    </tr>\n    <tr>\n      <th>2022-02-28</th>\n      <td>['Mason Clark, George Barros, and Kateryna Ste...</td>\n    </tr>\n    <tr>\n      <th>2022-03-01</th>\n      <td>['Frederick W. Kagan, George Barros, and Kater...</td>\n    </tr>\n    <tr>\n      <th>...</th>\n      <td>...</td>\n    </tr>\n    <tr>\n      <th>2023-01-21</th>\n      <td>['Karolina Hird, Grace Mappes, Angela Howard, ...</td>\n    </tr>\n    <tr>\n      <th>2023-01-22</th>\n      <td>['Russian Offensive Campaign Assessment, Janua...</td>\n    </tr>\n    <tr>\n      <th>2023-01-23</th>\n      <td>['Russian Offensive Campaign Assessment, Janua...</td>\n    </tr>\n    <tr>\n      <th>2023-01-24</th>\n      <td>['Karolina Hird, Riley Bailey, Grace Mappes, G...</td>\n    </tr>\n    <tr>\n      <th>2023-01-25</th>\n      <td>['Karolina Hird, Riley Bailey, Kateryna Stepan...</td>\n    </tr>\n  </tbody>\n</table>\n<p>329 rows × 1 columns</p>\n</div>"
     },
     "execution_count": 27,
     "metadata": {},
     "output_type": "execute_result"
    }
   ],
   "source": [
    "pure.set_index('date', inplace=True)\n",
    "# !pip install sklearn\n",
    "pure"
   ],
   "metadata": {
    "collapsed": false
   }
  },
  {
   "cell_type": "code",
   "execution_count": 28,
   "outputs": [
    {
     "name": "stderr",
     "output_type": "stream",
     "text": [
      "/var/folders/_p/ql4p8w016wd394h202vwvm1m0000gn/T/ipykernel_61090/2709454925.py:7: SettingWithCopyWarning: \n",
      "A value is trying to be set on a copy of a slice from a DataFrame.\n",
      "Try using .loc[row_indexer,col_indexer] = value instead\n",
      "\n",
      "See the caveats in the documentation: https://pandas.pydata.org/pandas-docs/stable/user_guide/indexing.html#returning-a-view-versus-a-copy\n",
      "  pure[\"main_text\"] = pure[\"main_text\"].apply(lowercase_text)\n"
     ]
    }
   ],
   "source": [
    "\n",
    "# Define a function to convert text to lowercase\n",
    "def lowercase_text(text):\n",
    "    sample = ast.literal_eval(text)\n",
    "    return [i.lower() for i in sample]\n",
    "\n",
    "# Apply the function to the entire DataFrame\n",
    "pure[\"main_text\"] = pure[\"main_text\"].apply(lowercase_text)\n",
    "\n"
   ],
   "metadata": {
    "collapsed": false
   }
  },
  {
   "cell_type": "code",
   "execution_count": 29,
   "outputs": [
    {
     "data": {
      "text/plain": "                                                    main_text\ndate                                                         \n2022-02-25  [mason clark, george barros, and kateryna step...\n2022-02-26  [mason clark, george barros, and katya stepane...\n2022-02-27  [mason clark, george barros, and kateryna step...\n2022-02-28  [mason clark, george barros, and kateryna step...\n2022-03-01  [frederick w. kagan, george barros, and katery...\n...                                                       ...\n2023-01-21  [karolina hird, grace mappes, angela howard, g...\n2023-01-22  [russian offensive campaign assessment, januar...\n2023-01-23  [russian offensive campaign assessment, januar...\n2023-01-24  [karolina hird, riley bailey, grace mappes, ge...\n2023-01-25  [karolina hird, riley bailey, kateryna stepane...\n\n[329 rows x 1 columns]",
      "text/html": "<div>\n<style scoped>\n    .dataframe tbody tr th:only-of-type {\n        vertical-align: middle;\n    }\n\n    .dataframe tbody tr th {\n        vertical-align: top;\n    }\n\n    .dataframe thead th {\n        text-align: right;\n    }\n</style>\n<table border=\"1\" class=\"dataframe\">\n  <thead>\n    <tr style=\"text-align: right;\">\n      <th></th>\n      <th>main_text</th>\n    </tr>\n    <tr>\n      <th>date</th>\n      <th></th>\n    </tr>\n  </thead>\n  <tbody>\n    <tr>\n      <th>2022-02-25</th>\n      <td>[mason clark, george barros, and kateryna step...</td>\n    </tr>\n    <tr>\n      <th>2022-02-26</th>\n      <td>[mason clark, george barros, and katya stepane...</td>\n    </tr>\n    <tr>\n      <th>2022-02-27</th>\n      <td>[mason clark, george barros, and kateryna step...</td>\n    </tr>\n    <tr>\n      <th>2022-02-28</th>\n      <td>[mason clark, george barros, and kateryna step...</td>\n    </tr>\n    <tr>\n      <th>2022-03-01</th>\n      <td>[frederick w. kagan, george barros, and katery...</td>\n    </tr>\n    <tr>\n      <th>...</th>\n      <td>...</td>\n    </tr>\n    <tr>\n      <th>2023-01-21</th>\n      <td>[karolina hird, grace mappes, angela howard, g...</td>\n    </tr>\n    <tr>\n      <th>2023-01-22</th>\n      <td>[russian offensive campaign assessment, januar...</td>\n    </tr>\n    <tr>\n      <th>2023-01-23</th>\n      <td>[russian offensive campaign assessment, januar...</td>\n    </tr>\n    <tr>\n      <th>2023-01-24</th>\n      <td>[karolina hird, riley bailey, grace mappes, ge...</td>\n    </tr>\n    <tr>\n      <th>2023-01-25</th>\n      <td>[karolina hird, riley bailey, kateryna stepane...</td>\n    </tr>\n  </tbody>\n</table>\n<p>329 rows × 1 columns</p>\n</div>"
     },
     "execution_count": 29,
     "metadata": {},
     "output_type": "execute_result"
    }
   ],
   "source": [
    "pure"
   ],
   "metadata": {
    "collapsed": false
   }
  },
  {
   "cell_type": "code",
   "execution_count": 30,
   "outputs": [
    {
     "name": "stderr",
     "output_type": "stream",
     "text": [
      "/var/folders/_p/ql4p8w016wd394h202vwvm1m0000gn/T/ipykernel_61090/300716850.py:6: SettingWithCopyWarning: \n",
      "A value is trying to be set on a copy of a slice from a DataFrame.\n",
      "Try using .loc[row_indexer,col_indexer] = value instead\n",
      "\n",
      "See the caveats in the documentation: https://pandas.pydata.org/pandas-docs/stable/user_guide/indexing.html#returning-a-view-versus-a-copy\n",
      "  pure[\"main_text\"] = pure[\"main_text\"].apply(lambda text: remove_punctuation(text))\n"
     ]
    },
    {
     "data": {
      "text/plain": "                                                    main_text\ndate                                                         \n2022-02-25  [mason clark george barros and kateryna stepan...\n2022-02-26  [mason clark george barros and katya stepanenk...\n2022-02-27  [mason clark george barros and kateryna stepan...\n2022-02-28  [mason clark george barros and kateryna stepan...\n2022-03-01  [frederick w kagan george barros and kateryna ...",
      "text/html": "<div>\n<style scoped>\n    .dataframe tbody tr th:only-of-type {\n        vertical-align: middle;\n    }\n\n    .dataframe tbody tr th {\n        vertical-align: top;\n    }\n\n    .dataframe thead th {\n        text-align: right;\n    }\n</style>\n<table border=\"1\" class=\"dataframe\">\n  <thead>\n    <tr style=\"text-align: right;\">\n      <th></th>\n      <th>main_text</th>\n    </tr>\n    <tr>\n      <th>date</th>\n      <th></th>\n    </tr>\n  </thead>\n  <tbody>\n    <tr>\n      <th>2022-02-25</th>\n      <td>[mason clark george barros and kateryna stepan...</td>\n    </tr>\n    <tr>\n      <th>2022-02-26</th>\n      <td>[mason clark george barros and katya stepanenk...</td>\n    </tr>\n    <tr>\n      <th>2022-02-27</th>\n      <td>[mason clark george barros and kateryna stepan...</td>\n    </tr>\n    <tr>\n      <th>2022-02-28</th>\n      <td>[mason clark george barros and kateryna stepan...</td>\n    </tr>\n    <tr>\n      <th>2022-03-01</th>\n      <td>[frederick w kagan george barros and kateryna ...</td>\n    </tr>\n  </tbody>\n</table>\n</div>"
     },
     "execution_count": 30,
     "metadata": {},
     "output_type": "execute_result"
    }
   ],
   "source": [
    "\n",
    "PUNCT_TO_REMOVE = string.punctuation\n",
    "def remove_punctuation(text):\n",
    "    \"\"\"custom function to remove the punctuation\"\"\"\n",
    "    return [i.translate(str.maketrans('', '', PUNCT_TO_REMOVE)) for i in text]\n",
    "\n",
    "pure[\"main_text\"] = pure[\"main_text\"].apply(lambda text: remove_punctuation(text))\n",
    "pure.head()"
   ],
   "metadata": {
    "collapsed": false
   }
  },
  {
   "cell_type": "code",
   "execution_count": 31,
   "outputs": [
    {
     "data": {
      "text/plain": "['fredrick w kagan george barros and kateryna stepanenko',\n 'march 9 300 pm est',\n 'russian operations to continue the encirclement of and assault on kyiv have likely begun although on a smaller scale and in a more ad hoc manner than isw expected the equivalent of a russian reinforced brigade reportedly tried to advance toward kyiv through its western outskirts and made little progress smaller operations continued slowly to consolidate and gradually to extend the encirclement to the southwest of the capital russian operations in the eastern approaches to kyiv remain in a lull likely because the russians are focusing on securing the long lines of communication running to those outskirts from russian bases around sumy and chernihiv in the face of skillful and determined ukrainian harassment of those lines the battle for kyiv is likely to continue to be a drawnout affair unless the russians can launch a more concentrated and coherent attack than they have yet shown the ability to conduct',\n 'the russian military is clearly struggling to mobilize reserve manpower to offset losses and fill out new units the kremlin admitted that conscripts have been fighting in ukraine in violation of russian law for the first time on march 9 although in a customarily bizarre fashion according to the kremlin vladimir putin himself discovered that conscripts were operating in ukraine while he was reviewing a report on the conflict the kremlin says russian military judicial authorities will reportedly open an investigation into this practice and punish those responsible\\xa0putin himself would of course ultimately be responsible for having issued the mobilization orders that sent conscripts to the front reports have also surfaced that students at medical and theater schools were being conscripted in late february along with some denials of those reports\\xa0social media users also flagged the movement of russian peacekeeping forces in the nagornokarabakh region speculating that they may be withdrawing to participate in the war in ukraine\\xa0isw cannot independently verify any of these reports their general tenor however aligns with our published assessment that russia faces challenges in generating a new wave of combateffective reservists or recruits in a short period of time and our assessment that russia will need such a wave to complete its objectives',\n 'key takeaways',\n 'russian forces are engaged in four primary efforts at this time',\n 'main effort—kyiv axis\\xa0russian operations on the kyiv axis are aimed at encircling the city from the northwest west\\xa0east',\n 'russian forces have likely begun renewed offensive operations that isw has been forecasting but at a lower level of intensity and a smaller scale than we had anticipated individual russian attacks at roughly regiment size reported on march 8 and march 9 may represent the scale of offensive operations russian forces can likely conduct on this axis at any one time the possibility of a larger and more coherent general attack either to encircle kyiv or to assault it in the coming days remains possible but the continued commitment of groups of two to five battalion tactical groups btgs at a time makes such a largescale general attack less likely',\n 'subordinate main effort along the west bank of the dnipro',\n 'the ukrainian general staff reported on march 8 that up to five russian btgs attacked from near babintsi toward bucha roughly 25 kilometers northwest of kyiv but were repulsed\\xa0this area has been the site of frequent fighting for many days and the former mayor or irpin said on march 8 that the russians controlled much of it the ukrainian general staff report if accurate would be noteworthy because a russian force the size of a reinforced regiment or brigade presumably reconstituted and prepared after the operational pause and resupply efforts of the past several days should have been able to make more progress if the ukrainian military is neither overstating the size of the russian attacking force nor understating its success then this incident would support the ukrainian general staff’s overarching assessment that russian forces especially around kyiv have lost much of their effective combat power and possibly will to fight\\xa0isw cannot independently verify the ukrainian general staff report at this time',\n 'the ukrainian general staff also reported on march 8 that a total of four btgs two each from the 5th separate tank brigade and the 37th separate motorized rifle brigade advanced to yasnohorodka roughly 37 kilometers southwest of the center of kyiv\\xa0yasnohorodka is between two areas to which isw had already assessed russian forces had advanced although it is along a spoke road leading from byshiv which the russians have likely already occupied to kyiv this attack is likely part of an effort to consolidate russian control of the southwestern approaches to kyiv and set conditions for the concentration of russian forces closer to the city from this direction',\n 'the ukrainian general staff also noted that russian forces appear to be readying to renew offensive operations toward fastiv a key road junction southwest of kyiv and roughly 22 kilometers south of the forwardmost russian advance on this axis at byshiv\\xa0isw has observed no indications that the russians have initiated new operations toward fastiv in the past 24 hours',\n 'isw has received no reports of renewed russian offensive operations in the area of ivankiv and the ukrainian general staff explicitly reported on march 8 that the russians had not conducted operations near dymer',\n 'subordinate supporting effort — chernihiv axis',\n 'russian forces have continued efforts to take chernihiv town as well as to bypass it to the southeast and east the ukrainian general staff reported on march 9 that elements of the 2nd combined arms army 41st combined arms army and 90th tank division are attempting to renew the offensive toward chernihiv and kyiv from the north likely committing an additional reserve btg of the 55th motorized rifle brigade of the 41st caa to this effort\\xa0ukrainian forces reported on march 9 that they continue to hold chernihiv',\n 'subordinate supporting effort — sumy axis',\n 'russian forces have continued efforts to consolidate control of their lines of communication to eastern kyiv along the sumy axis in the past 24 hours as ukrainian forces continue to contest them russian forces from the chernihiv concentration may be operating on the east bank of the desna south of chernihiv in support of this effort the ukrainian general staff reported on march 8 that russian troops were moving pontoon bridging equipment in the vicinity of kozelets roughly 65 kilometers northeast of kyiv\\xa0the area around kozelets is very wet with several small rivers that likely necessitate the pontoon bridges although it is possible that the russians intend to use them to cross the desna itself',\n 'the ukrainian general staff reported fighting all along the russian line of communication from near sumy to nizhyn and even further north toward hlukhiv which is nearly at the russian border\\xa0this continued fighting likely indicates that the russians are struggling to consolidate control over this lengthy line of communication and that ukrainian forces are actively contesting it that phenomenon may partially explain the relative paucity of russian activity reported in kyiv’s eastern outskirts in the past 24 hours',\n 'supporting effort 1—kharkiv',\n 'russian forces continued to bombard kharkiv but have not renewed attempts to take the city through ground assault on a large scale\\xa0the russians have likely diverted considerable combat power from kharkiv to focus on capturing sumy the ukrainian general staff reported on march 9 that the russians were concentrating aircraft to support possible airborne operations as part of larger preparations to attack sumy\\xa0social media reports confirm that there has been considerable combat around sumy',\n 'russian forces likely from the kharkiv axis also continued operations to the southeast the ukrainian general staff reports that the russians have continued efforts to seize izyum roughly 110 kilometers southeast of kharkiv and to cross the northern donets and bereka rivers\\xa0social media reports from march 9 confirmed russian shelling at balakliia about halfway between kharkiv and izyum',\n 'supporting effort 1a—luhansk oblast',\n 'the luhansk people’s republic lnr claimed on march 8 that it now controls most of luhansk oblast\\xa0the russian ministry of defense claimed more modest gains for the lnr on march 9\\xa0isw has no independent confirmation of these claims',\n 'supporting effort 2—mariupol',\n 'russian forces continue to encircle and bombard mariupol resulting in the widelyreported destruction of a maternity hospital in the city the military situation around mariupol has not materially changed in the past 24 hours',\n 'supporting effort 3—kherson and west',\n 'the ukrainian general staff assessed as of march 9 that as many as 17 russian btgs belonging to the 49th combined arms army 22nd army corps 20th motorized rifle division of the 8th combined arms army and airborne troops are assembled north of crimea from kherson to rozivka roughly 47 kilometers northwest of mariupol\\xa0the general staff had previously suggested that this grouping of forces was preparing for an offensive in the direction of zaporizhya but it seems likely that only a portion of these russian troops will participate in that advance\\xa0russian forces around kherson appear concentrated on the drive toward mykolayiv and ultimately west toward odesa although they could attempt to drive northeast toward zaporizhya instead of odesa initial limited russian advances along the road from mykolayiv toward novyi buh were small in scale and not very successful',\n 'social media reports show considerable russian force possibly arriving reinforcements in and around kherson on march 9\\xa0a ukrainian general staff report from march 9 that russian servicemen dressed in civilian clothes are moving from kherson toward mykolayiv may indicate that those reinforcements are intended to take or bypass mykolayiv\\xa0social media reports also show russian forces bypassing mykolayiv possibly to encircle it at least on the east bank of the dnipro',\n 'the ukrainian general staff continued on march 9 to warn that russia might attempt to activate its forces illegally present in the moldovan territory of transnistria although it noted that the morale and combat capability of those forces is likely very low',\n 'immediate items to watch',\n 'main effort—kyiv comprised of three subordinate supporting efforts\\nsupporting effort 1—kharkiv\\nsupporting effort 1a—luhansk oblast\\n\\nsupporting effort 2—mariupol and\\nsupporting effort 3—kherson and advances westward',\n 'supporting effort 1a—luhansk oblast']"
     },
     "execution_count": 31,
     "metadata": {},
     "output_type": "execute_result"
    }
   ],
   "source": [
    "pure[\"main_text\"].iloc[12]"
   ],
   "metadata": {
    "collapsed": false
   }
  },
  {
   "cell_type": "code",
   "execution_count": 32,
   "outputs": [
    {
     "name": "stderr",
     "output_type": "stream",
     "text": [
      "[nltk_data] Downloading package punkt to /Users/tsaebst/nltk_data...\n",
      "[nltk_data]   Package punkt is already up-to-date!\n",
      "/var/folders/_p/ql4p8w016wd394h202vwvm1m0000gn/T/ipykernel_61090/3960423763.py:15: SettingWithCopyWarning: \n",
      "A value is trying to be set on a copy of a slice from a DataFrame.\n",
      "Try using .loc[row_indexer,col_indexer] = value instead\n",
      "\n",
      "See the caveats in the documentation: https://pandas.pydata.org/pandas-docs/stable/user_guide/indexing.html#returning-a-view-versus-a-copy\n",
      "  pure[\"text_wo_stop\"] = pure[\"main_text\"].apply(lambda text: remove_stopwords(text))\n"
     ]
    },
    {
     "data": {
      "text/plain": "                                                    main_text  \\\ndate                                                            \n2022-02-25  [mason clark george barros and kateryna stepan...   \n2022-02-26  [mason clark george barros and katya stepanenk...   \n2022-02-27  [mason clark george barros and kateryna stepan...   \n2022-02-28  [mason clark george barros and kateryna stepan...   \n2022-03-01  [frederick w kagan george barros and kateryna ...   \n\n                                                 text_wo_stop  \ndate                                                           \n2022-02-25  [mason clark george barros kateryna stepanenko...  \n2022-02-26  [mason clark george barros katya stepanenko, f...  \n2022-02-27  [mason clark george barros kateryna stepanenko...  \n2022-02-28  [mason clark george barros kateryna stepanenko...  \n2022-03-01  [frederick w kagan george barros kateryna step...  ",
      "text/html": "<div>\n<style scoped>\n    .dataframe tbody tr th:only-of-type {\n        vertical-align: middle;\n    }\n\n    .dataframe tbody tr th {\n        vertical-align: top;\n    }\n\n    .dataframe thead th {\n        text-align: right;\n    }\n</style>\n<table border=\"1\" class=\"dataframe\">\n  <thead>\n    <tr style=\"text-align: right;\">\n      <th></th>\n      <th>main_text</th>\n      <th>text_wo_stop</th>\n    </tr>\n    <tr>\n      <th>date</th>\n      <th></th>\n      <th></th>\n    </tr>\n  </thead>\n  <tbody>\n    <tr>\n      <th>2022-02-25</th>\n      <td>[mason clark george barros and kateryna stepan...</td>\n      <td>[mason clark george barros kateryna stepanenko...</td>\n    </tr>\n    <tr>\n      <th>2022-02-26</th>\n      <td>[mason clark george barros and katya stepanenk...</td>\n      <td>[mason clark george barros katya stepanenko, f...</td>\n    </tr>\n    <tr>\n      <th>2022-02-27</th>\n      <td>[mason clark george barros and kateryna stepan...</td>\n      <td>[mason clark george barros kateryna stepanenko...</td>\n    </tr>\n    <tr>\n      <th>2022-02-28</th>\n      <td>[mason clark george barros and kateryna stepan...</td>\n      <td>[mason clark george barros kateryna stepanenko...</td>\n    </tr>\n    <tr>\n      <th>2022-03-01</th>\n      <td>[frederick w kagan george barros and kateryna ...</td>\n      <td>[frederick w kagan george barros kateryna step...</td>\n    </tr>\n  </tbody>\n</table>\n</div>"
     },
     "execution_count": 32,
     "metadata": {},
     "output_type": "execute_result"
    }
   ],
   "source": [
    "import nltk\n",
    "from nltk.corpus import stopwords\n",
    "\n",
    "nltk.download('punkt')\n",
    "\n",
    "STOPWORDS = set(stopwords.words('english'))\n",
    "\n",
    "def remove_stopwords(text_list):\n",
    "    cleaned_text_list = []\n",
    "    for text in text_list:\n",
    "        cleaned_text = ' '.join([word for word in text.split() if word.lower() not in STOPWORDS])\n",
    "        cleaned_text_list.append(cleaned_text)\n",
    "    return cleaned_text_list\n",
    "\n",
    "pure[\"text_wo_stop\"] = pure[\"main_text\"].apply(lambda text: remove_stopwords(text))\n",
    "pure.head()"
   ],
   "metadata": {
    "collapsed": false
   }
  },
  {
   "cell_type": "code",
   "execution_count": 33,
   "outputs": [
    {
     "data": {
      "text/plain": "['fredrick w kagan george barros kateryna stepanenko',\n 'march 9 300 pm est',\n 'russian operations continue encirclement assault kyiv likely begun although smaller scale ad hoc manner isw expected equivalent russian reinforced brigade reportedly tried advance toward kyiv western outskirts made little progress smaller operations continued slowly consolidate gradually extend encirclement southwest capital russian operations eastern approaches kyiv remain lull likely russians focusing securing long lines communication running outskirts russian bases around sumy chernihiv face skillful determined ukrainian harassment lines battle kyiv likely continue drawnout affair unless russians launch concentrated coherent attack yet shown ability conduct',\n 'russian military clearly struggling mobilize reserve manpower offset losses fill new units kremlin admitted conscripts fighting ukraine violation russian law first time march 9 although customarily bizarre fashion according kremlin vladimir putin discovered conscripts operating ukraine reviewing report conflict kremlin says russian military judicial authorities reportedly open investigation practice punish responsible putin would course ultimately responsible issued mobilization orders sent conscripts front reports also surfaced students medical theater schools conscripted late february along denials reports social media users also flagged movement russian peacekeeping forces nagornokarabakh region speculating may withdrawing participate war ukraine isw cannot independently verify reports general tenor however aligns published assessment russia faces challenges generating new wave combateffective reservists recruits short period time assessment russia need wave complete objectives',\n 'key takeaways',\n 'russian forces engaged four primary efforts time',\n 'main effort—kyiv axis russian operations kyiv axis aimed encircling city northwest west east',\n 'russian forces likely begun renewed offensive operations isw forecasting lower level intensity smaller scale anticipated individual russian attacks roughly regiment size reported march 8 march 9 may represent scale offensive operations russian forces likely conduct axis one time possibility larger coherent general attack either encircle kyiv assault coming days remains possible continued commitment groups two five battalion tactical groups btgs time makes largescale general attack less likely',\n 'subordinate main effort along west bank dnipro',\n 'ukrainian general staff reported march 8 five russian btgs attacked near babintsi toward bucha roughly 25 kilometers northwest kyiv repulsed area site frequent fighting many days former mayor irpin said march 8 russians controlled much ukrainian general staff report accurate would noteworthy russian force size reinforced regiment brigade presumably reconstituted prepared operational pause resupply efforts past several days able make progress ukrainian military neither overstating size russian attacking force understating success incident would support ukrainian general staff’s overarching assessment russian forces especially around kyiv lost much effective combat power possibly fight isw cannot independently verify ukrainian general staff report time',\n 'ukrainian general staff also reported march 8 total four btgs two 5th separate tank brigade 37th separate motorized rifle brigade advanced yasnohorodka roughly 37 kilometers southwest center kyiv yasnohorodka two areas isw already assessed russian forces advanced although along spoke road leading byshiv russians likely already occupied kyiv attack likely part effort consolidate russian control southwestern approaches kyiv set conditions concentration russian forces closer city direction',\n 'ukrainian general staff also noted russian forces appear readying renew offensive operations toward fastiv key road junction southwest kyiv roughly 22 kilometers south forwardmost russian advance axis byshiv isw observed indications russians initiated new operations toward fastiv past 24 hours',\n 'isw received reports renewed russian offensive operations area ivankiv ukrainian general staff explicitly reported march 8 russians conducted operations near dymer',\n 'subordinate supporting effort — chernihiv axis',\n 'russian forces continued efforts take chernihiv town well bypass southeast east ukrainian general staff reported march 9 elements 2nd combined arms army 41st combined arms army 90th tank division attempting renew offensive toward chernihiv kyiv north likely committing additional reserve btg 55th motorized rifle brigade 41st caa effort ukrainian forces reported march 9 continue hold chernihiv',\n 'subordinate supporting effort — sumy axis',\n 'russian forces continued efforts consolidate control lines communication eastern kyiv along sumy axis past 24 hours ukrainian forces continue contest russian forces chernihiv concentration may operating east bank desna south chernihiv support effort ukrainian general staff reported march 8 russian troops moving pontoon bridging equipment vicinity kozelets roughly 65 kilometers northeast kyiv area around kozelets wet several small rivers likely necessitate pontoon bridges although possible russians intend use cross desna',\n 'ukrainian general staff reported fighting along russian line communication near sumy nizhyn even north toward hlukhiv nearly russian border continued fighting likely indicates russians struggling consolidate control lengthy line communication ukrainian forces actively contesting phenomenon may partially explain relative paucity russian activity reported kyiv’s eastern outskirts past 24 hours',\n 'supporting effort 1—kharkiv',\n 'russian forces continued bombard kharkiv renewed attempts take city ground assault large scale russians likely diverted considerable combat power kharkiv focus capturing sumy ukrainian general staff reported march 9 russians concentrating aircraft support possible airborne operations part larger preparations attack sumy social media reports confirm considerable combat around sumy',\n 'russian forces likely kharkiv axis also continued operations southeast ukrainian general staff reports russians continued efforts seize izyum roughly 110 kilometers southeast kharkiv cross northern donets bereka rivers social media reports march 9 confirmed russian shelling balakliia halfway kharkiv izyum',\n 'supporting effort 1a—luhansk oblast',\n 'luhansk people’s republic lnr claimed march 8 controls luhansk oblast russian ministry defense claimed modest gains lnr march 9 isw independent confirmation claims',\n 'supporting effort 2—mariupol',\n 'russian forces continue encircle bombard mariupol resulting widelyreported destruction maternity hospital city military situation around mariupol materially changed past 24 hours',\n 'supporting effort 3—kherson west',\n 'ukrainian general staff assessed march 9 many 17 russian btgs belonging 49th combined arms army 22nd army corps 20th motorized rifle division 8th combined arms army airborne troops assembled north crimea kherson rozivka roughly 47 kilometers northwest mariupol general staff previously suggested grouping forces preparing offensive direction zaporizhya seems likely portion russian troops participate advance russian forces around kherson appear concentrated drive toward mykolayiv ultimately west toward odesa although could attempt drive northeast toward zaporizhya instead odesa initial limited russian advances along road mykolayiv toward novyi buh small scale successful',\n 'social media reports show considerable russian force possibly arriving reinforcements around kherson march 9 ukrainian general staff report march 9 russian servicemen dressed civilian clothes moving kherson toward mykolayiv may indicate reinforcements intended take bypass mykolayiv social media reports also show russian forces bypassing mykolayiv possibly encircle least east bank dnipro',\n 'ukrainian general staff continued march 9 warn russia might attempt activate forces illegally present moldovan territory transnistria although noted morale combat capability forces likely low',\n 'immediate items watch',\n 'main effort—kyiv comprised three subordinate supporting efforts supporting effort 1—kharkiv supporting effort 1a—luhansk oblast supporting effort 2—mariupol supporting effort 3—kherson advances westward',\n 'supporting effort 1a—luhansk oblast']"
     },
     "execution_count": 33,
     "metadata": {},
     "output_type": "execute_result"
    }
   ],
   "source": [
    "pure[\"text_wo_stop\"].iloc[12]"
   ],
   "metadata": {
    "collapsed": false
   }
  },
  {
   "cell_type": "code",
   "execution_count": 35,
   "outputs": [
    {
     "data": {
      "text/plain": "[('russian', 31658),\n ('ukrainian', 16128),\n ('forces', 15384),\n ('oblast', 6217),\n ('reported', 4940),\n ('ukraine', 4689),\n ('military', 4476),\n ('likely', 3903),\n ('city', 3647),\n ('continued', 3380)]"
     },
     "execution_count": 35,
     "metadata": {},
     "output_type": "execute_result"
    }
   ],
   "source": [
    "cnt = Counter()\n",
    "for text_list in pure[\"text_wo_stop\"].values:\n",
    "    for text in text_list:\n",
    "        for word in text.split():\n",
    "            cnt[word] += 1\n",
    "\n",
    "cnt.most_common(10)\n"
   ],
   "metadata": {
    "collapsed": false
   }
  },
  {
   "cell_type": "code",
   "execution_count": 36,
   "outputs": [
    {
     "name": "stderr",
     "output_type": "stream",
     "text": [
      "/var/folders/_p/ql4p8w016wd394h202vwvm1m0000gn/T/ipykernel_61090/1236011210.py:6: SettingWithCopyWarning: \n",
      "A value is trying to be set on a copy of a slice from a DataFrame.\n",
      "Try using .loc[row_indexer,col_indexer] = value instead\n",
      "\n",
      "See the caveats in the documentation: https://pandas.pydata.org/pandas-docs/stable/user_guide/indexing.html#returning-a-view-versus-a-copy\n",
      "  pure[\"text_wo_stopfreq\"] = pure[\"text_wo_stop\"].apply(lambda text: remove_freqwords(text))\n"
     ]
    },
    {
     "data": {
      "text/plain": "                                                    main_text  \\\ndate                                                            \n2022-02-25  [mason clark george barros and kateryna stepan...   \n2022-02-26  [mason clark george barros and katya stepanenk...   \n2022-02-27  [mason clark george barros and kateryna stepan...   \n2022-02-28  [mason clark george barros and kateryna stepan...   \n2022-03-01  [frederick w kagan george barros and kateryna ...   \n\n                                                 text_wo_stop  \\\ndate                                                            \n2022-02-25  [mason clark george barros kateryna stepanenko...   \n2022-02-26  [mason clark george barros katya stepanenko, f...   \n2022-02-27  [mason clark george barros kateryna stepanenko...   \n2022-02-28  [mason clark george barros kateryna stepanenko...   \n2022-03-01  [frederick w kagan george barros kateryna step...   \n\n                                             text_wo_stopfreq  \ndate                                                           \n2022-02-25  ['mason clark george barros kateryna stepanenk...  \n2022-02-26  ['mason clark george barros katya stepanenko',...  \n2022-02-27  ['mason clark george barros kateryna stepanenk...  \n2022-02-28  ['mason clark george barros kateryna stepanenk...  \n2022-03-01  ['frederick w kagan george barros kateryna ste...  ",
      "text/html": "<div>\n<style scoped>\n    .dataframe tbody tr th:only-of-type {\n        vertical-align: middle;\n    }\n\n    .dataframe tbody tr th {\n        vertical-align: top;\n    }\n\n    .dataframe thead th {\n        text-align: right;\n    }\n</style>\n<table border=\"1\" class=\"dataframe\">\n  <thead>\n    <tr style=\"text-align: right;\">\n      <th></th>\n      <th>main_text</th>\n      <th>text_wo_stop</th>\n      <th>text_wo_stopfreq</th>\n    </tr>\n    <tr>\n      <th>date</th>\n      <th></th>\n      <th></th>\n      <th></th>\n    </tr>\n  </thead>\n  <tbody>\n    <tr>\n      <th>2022-02-25</th>\n      <td>[mason clark george barros and kateryna stepan...</td>\n      <td>[mason clark george barros kateryna stepanenko...</td>\n      <td>['mason clark george barros kateryna stepanenk...</td>\n    </tr>\n    <tr>\n      <th>2022-02-26</th>\n      <td>[mason clark george barros and katya stepanenk...</td>\n      <td>[mason clark george barros katya stepanenko, f...</td>\n      <td>['mason clark george barros katya stepanenko',...</td>\n    </tr>\n    <tr>\n      <th>2022-02-27</th>\n      <td>[mason clark george barros and kateryna stepan...</td>\n      <td>[mason clark george barros kateryna stepanenko...</td>\n      <td>['mason clark george barros kateryna stepanenk...</td>\n    </tr>\n    <tr>\n      <th>2022-02-28</th>\n      <td>[mason clark george barros and kateryna stepan...</td>\n      <td>[mason clark george barros kateryna stepanenko...</td>\n      <td>['mason clark george barros kateryna stepanenk...</td>\n    </tr>\n    <tr>\n      <th>2022-03-01</th>\n      <td>[frederick w kagan george barros and kateryna ...</td>\n      <td>[frederick w kagan george barros kateryna step...</td>\n      <td>['frederick w kagan george barros kateryna ste...</td>\n    </tr>\n  </tbody>\n</table>\n</div>"
     },
     "execution_count": 36,
     "metadata": {},
     "output_type": "execute_result"
    }
   ],
   "source": [
    "FREQWORDS = set([w for (w, wc) in cnt.most_common(10)])\n",
    "def remove_freqwords(text):\n",
    "    \"\"\"custom function to remove the frequent words\"\"\"\n",
    "    return \" \".join([word for word in str(text).split() if word not in FREQWORDS])\n",
    "\n",
    "pure[\"text_wo_stopfreq\"] = pure[\"text_wo_stop\"].apply(lambda text: remove_freqwords(text))\n",
    "pure.head()"
   ],
   "metadata": {
    "collapsed": false
   }
  },
  {
   "cell_type": "code",
   "execution_count": 37,
   "outputs": [
    {
     "data": {
      "text/plain": "\"['fredrick w kagan george barros kateryna stepanenko', 'march 9 300 pm est', 'russian operations continue encirclement assault kyiv begun although smaller scale ad hoc manner isw expected equivalent reinforced brigade reportedly tried advance toward kyiv western outskirts made little progress smaller operations slowly consolidate gradually extend encirclement southwest capital operations eastern approaches kyiv remain lull russians focusing securing long lines communication running outskirts bases around sumy chernihiv face skillful determined harassment lines battle kyiv continue drawnout affair unless russians launch concentrated coherent attack yet shown ability conduct', 'russian clearly struggling mobilize reserve manpower offset losses fill new units kremlin admitted conscripts fighting violation law first time march 9 although customarily bizarre fashion according kremlin vladimir putin discovered conscripts operating reviewing report conflict kremlin says judicial authorities reportedly open investigation practice punish responsible putin would course ultimately responsible issued mobilization orders sent conscripts front reports also surfaced students medical theater schools conscripted late february along denials reports social media users also flagged movement peacekeeping nagornokarabakh region speculating may withdrawing participate war isw cannot independently verify reports general tenor however aligns published assessment russia faces challenges generating new wave combateffective reservists recruits short period time assessment russia need wave complete objectives', 'key takeaways', 'russian engaged four primary efforts time', 'main effort—kyiv axis operations kyiv axis aimed encircling northwest west east', 'russian begun renewed offensive operations isw forecasting lower level intensity smaller scale anticipated individual attacks roughly regiment size march 8 march 9 may represent scale offensive operations conduct axis one time possibility larger coherent general attack either encircle kyiv assault coming days remains possible commitment groups two five battalion tactical groups btgs time makes largescale general attack less likely', 'subordinate main effort along west bank dnipro', 'ukrainian general staff march 8 five btgs attacked near babintsi toward bucha roughly 25 kilometers northwest kyiv repulsed area site frequent fighting many days former mayor irpin said march 8 russians controlled much general staff report accurate would noteworthy force size reinforced regiment brigade presumably reconstituted prepared operational pause resupply efforts past several days able make progress neither overstating size attacking force understating success incident would support general staff’s overarching assessment especially around kyiv lost much effective combat power possibly fight isw cannot independently verify general staff report time', 'ukrainian general staff also march 8 total four btgs two 5th separate tank brigade 37th separate motorized rifle brigade advanced yasnohorodka roughly 37 kilometers southwest center kyiv yasnohorodka two areas isw already assessed advanced although along spoke road leading byshiv russians already occupied kyiv attack part effort consolidate control southwestern approaches kyiv set conditions concentration closer direction', 'ukrainian general staff also noted appear readying renew offensive operations toward fastiv key road junction southwest kyiv roughly 22 kilometers south forwardmost advance axis byshiv isw observed indications russians initiated new operations toward fastiv past 24 hours', 'isw received reports renewed offensive operations area ivankiv general staff explicitly march 8 russians conducted operations near dymer', 'subordinate supporting effort — chernihiv axis', 'russian efforts take chernihiv town well bypass southeast east general staff march 9 elements 2nd combined arms army 41st combined arms army 90th tank division attempting renew offensive toward chernihiv kyiv north committing additional reserve btg 55th motorized rifle brigade 41st caa effort march 9 continue hold chernihiv', 'subordinate supporting effort — sumy axis', 'russian efforts consolidate control lines communication eastern kyiv along sumy axis past 24 hours continue contest chernihiv concentration may operating east bank desna south chernihiv support effort general staff march 8 troops moving pontoon bridging equipment vicinity kozelets roughly 65 kilometers northeast kyiv area around kozelets wet several small rivers necessitate pontoon bridges although possible russians intend use cross desna', 'ukrainian general staff fighting along line communication near sumy nizhyn even north toward hlukhiv nearly border fighting indicates russians struggling consolidate control lengthy line communication actively contesting phenomenon may partially explain relative paucity activity kyiv’s eastern outskirts past 24 hours', 'supporting effort 1—kharkiv', 'russian bombard kharkiv renewed attempts take ground assault large scale russians diverted considerable combat power kharkiv focus capturing sumy general staff march 9 russians concentrating aircraft support possible airborne operations part larger preparations attack sumy social media reports confirm considerable combat around sumy', 'russian kharkiv axis also operations southeast general staff reports russians efforts seize izyum roughly 110 kilometers southeast kharkiv cross northern donets bereka rivers social media reports march 9 confirmed shelling balakliia halfway kharkiv izyum', 'supporting effort 1a—luhansk oblast', 'luhansk people’s republic lnr claimed march 8 controls luhansk ministry defense claimed modest gains lnr march 9 isw independent confirmation claims', 'supporting effort 2—mariupol', 'russian continue encircle bombard mariupol resulting widelyreported destruction maternity hospital situation around mariupol materially changed past 24 hours', 'supporting effort 3—kherson west', 'ukrainian general staff assessed march 9 many 17 btgs belonging 49th combined arms army 22nd army corps 20th motorized rifle division 8th combined arms army airborne troops assembled north crimea kherson rozivka roughly 47 kilometers northwest mariupol general staff previously suggested grouping preparing offensive direction zaporizhya seems portion troops participate advance around kherson appear concentrated drive toward mykolayiv ultimately west toward odesa although could attempt drive northeast toward zaporizhya instead odesa initial limited advances along road mykolayiv toward novyi buh small scale successful', 'social media reports show considerable force possibly arriving reinforcements around kherson march 9 general staff report march 9 servicemen dressed civilian clothes moving kherson toward mykolayiv may indicate reinforcements intended take bypass mykolayiv social media reports also show bypassing mykolayiv possibly encircle least east bank dnipro', 'ukrainian general staff march 9 warn russia might attempt activate illegally present moldovan territory transnistria although noted morale combat capability low', 'immediate items watch', 'main effort—kyiv comprised three subordinate supporting efforts supporting effort 1—kharkiv supporting effort 1a—luhansk supporting effort 2—mariupol supporting effort 3—kherson advances westward', 'supporting effort 1a—luhansk oblast']\""
     },
     "execution_count": 37,
     "metadata": {},
     "output_type": "execute_result"
    }
   ],
   "source": [
    "pure[\"text_wo_stopfreq\"].iloc[12]\n"
   ],
   "metadata": {
    "collapsed": false
   }
  },
  {
   "cell_type": "code",
   "execution_count": 38,
   "outputs": [
    {
     "name": "stderr",
     "output_type": "stream",
     "text": [
      "/var/folders/_p/ql4p8w016wd394h202vwvm1m0000gn/T/ipykernel_61090/1236011210.py:6: SettingWithCopyWarning: \n",
      "A value is trying to be set on a copy of a slice from a DataFrame.\n",
      "Try using .loc[row_indexer,col_indexer] = value instead\n",
      "\n",
      "See the caveats in the documentation: https://pandas.pydata.org/pandas-docs/stable/user_guide/indexing.html#returning-a-view-versus-a-copy\n",
      "  pure[\"text_wo_stopfreq\"] = pure[\"text_wo_stop\"].apply(lambda text: remove_freqwords(text))\n"
     ]
    },
    {
     "data": {
      "text/plain": "                                                    main_text  \\\ndate                                                            \n2022-02-25  [mason clark george barros and kateryna stepan...   \n2022-02-26  [mason clark george barros and katya stepanenk...   \n2022-02-27  [mason clark george barros and kateryna stepan...   \n2022-02-28  [mason clark george barros and kateryna stepan...   \n2022-03-01  [frederick w kagan george barros and kateryna ...   \n\n                                                 text_wo_stop  \\\ndate                                                            \n2022-02-25  [mason clark george barros kateryna stepanenko...   \n2022-02-26  [mason clark george barros katya stepanenko, f...   \n2022-02-27  [mason clark george barros kateryna stepanenko...   \n2022-02-28  [mason clark george barros kateryna stepanenko...   \n2022-03-01  [frederick w kagan george barros kateryna step...   \n\n                                             text_wo_stopfreq  \ndate                                                           \n2022-02-25  ['mason clark george barros kateryna stepanenk...  \n2022-02-26  ['mason clark george barros katya stepanenko',...  \n2022-02-27  ['mason clark george barros kateryna stepanenk...  \n2022-02-28  ['mason clark george barros kateryna stepanenk...  \n2022-03-01  ['frederick w kagan george barros kateryna ste...  ",
      "text/html": "<div>\n<style scoped>\n    .dataframe tbody tr th:only-of-type {\n        vertical-align: middle;\n    }\n\n    .dataframe tbody tr th {\n        vertical-align: top;\n    }\n\n    .dataframe thead th {\n        text-align: right;\n    }\n</style>\n<table border=\"1\" class=\"dataframe\">\n  <thead>\n    <tr style=\"text-align: right;\">\n      <th></th>\n      <th>main_text</th>\n      <th>text_wo_stop</th>\n      <th>text_wo_stopfreq</th>\n    </tr>\n    <tr>\n      <th>date</th>\n      <th></th>\n      <th></th>\n      <th></th>\n    </tr>\n  </thead>\n  <tbody>\n    <tr>\n      <th>2022-02-25</th>\n      <td>[mason clark george barros and kateryna stepan...</td>\n      <td>[mason clark george barros kateryna stepanenko...</td>\n      <td>['mason clark george barros kateryna stepanenk...</td>\n    </tr>\n    <tr>\n      <th>2022-02-26</th>\n      <td>[mason clark george barros and katya stepanenk...</td>\n      <td>[mason clark george barros katya stepanenko, f...</td>\n      <td>['mason clark george barros katya stepanenko',...</td>\n    </tr>\n    <tr>\n      <th>2022-02-27</th>\n      <td>[mason clark george barros and kateryna stepan...</td>\n      <td>[mason clark george barros kateryna stepanenko...</td>\n      <td>['mason clark george barros kateryna stepanenk...</td>\n    </tr>\n    <tr>\n      <th>2022-02-28</th>\n      <td>[mason clark george barros and kateryna stepan...</td>\n      <td>[mason clark george barros kateryna stepanenko...</td>\n      <td>['mason clark george barros kateryna stepanenk...</td>\n    </tr>\n    <tr>\n      <th>2022-03-01</th>\n      <td>[frederick w kagan george barros and kateryna ...</td>\n      <td>[frederick w kagan george barros kateryna step...</td>\n      <td>['frederick w kagan george barros kateryna ste...</td>\n    </tr>\n  </tbody>\n</table>\n</div>"
     },
     "execution_count": 38,
     "metadata": {},
     "output_type": "execute_result"
    }
   ],
   "source": [
    "FREQWORDS = set([w for (w, wc) in cnt.most_common(10)])\n",
    "def remove_freqwords(text):\n",
    "    \"\"\"custom function to remove the frequent words\"\"\"\n",
    "    return \" \".join([word for word in str(text).split() if word not in FREQWORDS])\n",
    "\n",
    "pure[\"text_wo_stopfreq\"] = pure[\"text_wo_stop\"].apply(lambda text: remove_freqwords(text))\n",
    "pure.head()"
   ],
   "metadata": {
    "collapsed": false
   }
  },
  {
   "cell_type": "code",
   "execution_count": 39,
   "outputs": [
    {
     "name": "stderr",
     "output_type": "stream",
     "text": [
      "/var/folders/_p/ql4p8w016wd394h202vwvm1m0000gn/T/ipykernel_61090/1184572896.py:2: SettingWithCopyWarning: \n",
      "A value is trying to be set on a copy of a slice from a DataFrame\n",
      "\n",
      "See the caveats in the documentation: https://pandas.pydata.org/pandas-docs/stable/user_guide/indexing.html#returning-a-view-versus-a-copy\n",
      "  pure.drop([ \"text_wo_stop\"], axis=1, inplace=True)\n",
      "/var/folders/_p/ql4p8w016wd394h202vwvm1m0000gn/T/ipykernel_61090/1184572896.py:10: SettingWithCopyWarning: \n",
      "A value is trying to be set on a copy of a slice from a DataFrame.\n",
      "Try using .loc[row_indexer,col_indexer] = value instead\n",
      "\n",
      "See the caveats in the documentation: https://pandas.pydata.org/pandas-docs/stable/user_guide/indexing.html#returning-a-view-versus-a-copy\n",
      "  pure[\"text_wo_stopfreqrare\"] = pure[\"text_wo_stopfreq\"].apply(lambda text: remove_rarewords(text))\n"
     ]
    },
    {
     "data": {
      "text/plain": "                                                    main_text  \\\ndate                                                            \n2022-02-25  [mason clark george barros and kateryna stepan...   \n2022-02-26  [mason clark george barros and katya stepanenk...   \n2022-02-27  [mason clark george barros and kateryna stepan...   \n2022-02-28  [mason clark george barros and kateryna stepan...   \n2022-03-01  [frederick w kagan george barros and kateryna ...   \n\n                                             text_wo_stopfreq  \\\ndate                                                            \n2022-02-25  ['mason clark george barros kateryna stepanenk...   \n2022-02-26  ['mason clark george barros katya stepanenko',...   \n2022-02-27  ['mason clark george barros kateryna stepanenk...   \n2022-02-28  ['mason clark george barros kateryna stepanenk...   \n2022-03-01  ['frederick w kagan george barros kateryna ste...   \n\n                                         text_wo_stopfreqrare  \ndate                                                           \n2022-02-25  ['mason clark george barros kateryna stepanenk...  \n2022-02-26  ['mason clark george barros katya stepanenko',...  \n2022-02-27  ['mason clark george barros kateryna stepanenk...  \n2022-02-28  ['mason clark george barros kateryna stepanenk...  \n2022-03-01  ['frederick w kagan george barros kateryna ste...  ",
      "text/html": "<div>\n<style scoped>\n    .dataframe tbody tr th:only-of-type {\n        vertical-align: middle;\n    }\n\n    .dataframe tbody tr th {\n        vertical-align: top;\n    }\n\n    .dataframe thead th {\n        text-align: right;\n    }\n</style>\n<table border=\"1\" class=\"dataframe\">\n  <thead>\n    <tr style=\"text-align: right;\">\n      <th></th>\n      <th>main_text</th>\n      <th>text_wo_stopfreq</th>\n      <th>text_wo_stopfreqrare</th>\n    </tr>\n    <tr>\n      <th>date</th>\n      <th></th>\n      <th></th>\n      <th></th>\n    </tr>\n  </thead>\n  <tbody>\n    <tr>\n      <th>2022-02-25</th>\n      <td>[mason clark george barros and kateryna stepan...</td>\n      <td>['mason clark george barros kateryna stepanenk...</td>\n      <td>['mason clark george barros kateryna stepanenk...</td>\n    </tr>\n    <tr>\n      <th>2022-02-26</th>\n      <td>[mason clark george barros and katya stepanenk...</td>\n      <td>['mason clark george barros katya stepanenko',...</td>\n      <td>['mason clark george barros katya stepanenko',...</td>\n    </tr>\n    <tr>\n      <th>2022-02-27</th>\n      <td>[mason clark george barros and kateryna stepan...</td>\n      <td>['mason clark george barros kateryna stepanenk...</td>\n      <td>['mason clark george barros kateryna stepanenk...</td>\n    </tr>\n    <tr>\n      <th>2022-02-28</th>\n      <td>[mason clark george barros and kateryna stepan...</td>\n      <td>['mason clark george barros kateryna stepanenk...</td>\n      <td>['mason clark george barros kateryna stepanenk...</td>\n    </tr>\n    <tr>\n      <th>2022-03-01</th>\n      <td>[frederick w kagan george barros and kateryna ...</td>\n      <td>['frederick w kagan george barros kateryna ste...</td>\n      <td>['frederick w kagan george barros kateryna ste...</td>\n    </tr>\n  </tbody>\n</table>\n</div>"
     },
     "execution_count": 39,
     "metadata": {},
     "output_type": "execute_result"
    }
   ],
   "source": [
    "# Drop the columns which are no more needed\n",
    "pure.drop([ \"text_wo_stop\"], axis=1, inplace=True)\n",
    "\n",
    "n_rare_words = 10\n",
    "RAREWORDS = set([w for (w, wc) in cnt.most_common()[:-n_rare_words-1:-1]])\n",
    "def remove_rarewords(text):\n",
    "    \"\"\"custom function to remove the rare words\"\"\"\n",
    "    return \" \".join([word for word in str(text).split() if word not in RAREWORDS])\n",
    "\n",
    "pure[\"text_wo_stopfreqrare\"] = pure[\"text_wo_stopfreq\"].apply(lambda text: remove_rarewords(text))\n",
    "pure.head()"
   ],
   "metadata": {
    "collapsed": false
   }
  },
  {
   "cell_type": "code",
   "execution_count": 40,
   "outputs": [
    {
     "name": "stderr",
     "output_type": "stream",
     "text": [
      "/var/folders/_p/ql4p8w016wd394h202vwvm1m0000gn/T/ipykernel_61090/1627624032.py:11: SettingWithCopyWarning: \n",
      "A value is trying to be set on a copy of a slice from a DataFrame.\n",
      "Try using .loc[row_indexer,col_indexer] = value instead\n",
      "\n",
      "See the caveats in the documentation: https://pandas.pydata.org/pandas-docs/stable/user_guide/indexing.html#returning-a-view-versus-a-copy\n",
      "  pure[\"text_stemmed\"] = pure[\"main_text\"].apply(stem_words)\n"
     ]
    },
    {
     "data": {
      "text/plain": "                                                    main_text  \\\ndate                                                            \n2022-02-25  [mason clark george barros and kateryna stepan...   \n2022-02-26  [mason clark george barros and katya stepanenk...   \n2022-02-27  [mason clark george barros and kateryna stepan...   \n2022-02-28  [mason clark george barros and kateryna stepan...   \n2022-03-01  [frederick w kagan george barros and kateryna ...   \n...                                                       ...   \n2023-01-21  [karolina hird grace mappes angela howard geor...   \n2023-01-22  [russian offensive campaign assessment january...   \n2023-01-23  [russian offensive campaign assessment january...   \n2023-01-24  [karolina hird riley bailey grace mappes georg...   \n2023-01-25  [karolina hird riley bailey kateryna stepanenk...   \n\n                                             text_wo_stopfreq  \\\ndate                                                            \n2022-02-25  ['mason clark george barros kateryna stepanenk...   \n2022-02-26  ['mason clark george barros katya stepanenko',...   \n2022-02-27  ['mason clark george barros kateryna stepanenk...   \n2022-02-28  ['mason clark george barros kateryna stepanenk...   \n2022-03-01  ['frederick w kagan george barros kateryna ste...   \n...                                                       ...   \n2023-01-21  ['karolina hird grace mappes angela howard geo...   \n2023-01-22  ['russian offensive campaign assessment januar...   \n2023-01-23  ['russian offensive campaign assessment januar...   \n2023-01-24  ['karolina hird riley bailey grace mappes geor...   \n2023-01-25  ['karolina hird riley bailey kateryna stepanen...   \n\n                                         text_wo_stopfreqrare  \\\ndate                                                            \n2022-02-25  ['mason clark george barros kateryna stepanenk...   \n2022-02-26  ['mason clark george barros katya stepanenko',...   \n2022-02-27  ['mason clark george barros kateryna stepanenk...   \n2022-02-28  ['mason clark george barros kateryna stepanenk...   \n2022-03-01  ['frederick w kagan george barros kateryna ste...   \n...                                                       ...   \n2023-01-21  ['karolina hird grace mappes angela howard geo...   \n2023-01-22  ['russian offensive campaign assessment januar...   \n2023-01-23  ['russian offensive campaign assessment januar...   \n2023-01-24  ['karolina hird riley bailey grace mappes geor...   \n2023-01-25  ['karolina hird riley bailey kateryna stepanen...   \n\n                                                 text_stemmed  \ndate                                                           \n2022-02-25  [mason clark george barros and kateryna stepan...  \n2022-02-26  [mason clark george barros and katya stepanenk...  \n2022-02-27  [mason clark george barros and kateryna stepan...  \n2022-02-28  [mason clark george barros and kateryna stepan...  \n2022-03-01  [frederick w kagan george barros and kateryna ...  \n...                                                       ...  \n2023-01-21  [karolina hird grace mappes angela howard geor...  \n2023-01-22  [russian offensive campaign assessment january...  \n2023-01-23  [russian offensive campaign assessment january...  \n2023-01-24  [karolina hird riley bailey grace mappes georg...  \n2023-01-25  [karolina hird riley bailey kateryna stepanenk...  \n\n[329 rows x 4 columns]",
      "text/html": "<div>\n<style scoped>\n    .dataframe tbody tr th:only-of-type {\n        vertical-align: middle;\n    }\n\n    .dataframe tbody tr th {\n        vertical-align: top;\n    }\n\n    .dataframe thead th {\n        text-align: right;\n    }\n</style>\n<table border=\"1\" class=\"dataframe\">\n  <thead>\n    <tr style=\"text-align: right;\">\n      <th></th>\n      <th>main_text</th>\n      <th>text_wo_stopfreq</th>\n      <th>text_wo_stopfreqrare</th>\n      <th>text_stemmed</th>\n    </tr>\n    <tr>\n      <th>date</th>\n      <th></th>\n      <th></th>\n      <th></th>\n      <th></th>\n    </tr>\n  </thead>\n  <tbody>\n    <tr>\n      <th>2022-02-25</th>\n      <td>[mason clark george barros and kateryna stepan...</td>\n      <td>['mason clark george barros kateryna stepanenk...</td>\n      <td>['mason clark george barros kateryna stepanenk...</td>\n      <td>[mason clark george barros and kateryna stepan...</td>\n    </tr>\n    <tr>\n      <th>2022-02-26</th>\n      <td>[mason clark george barros and katya stepanenk...</td>\n      <td>['mason clark george barros katya stepanenko',...</td>\n      <td>['mason clark george barros katya stepanenko',...</td>\n      <td>[mason clark george barros and katya stepanenk...</td>\n    </tr>\n    <tr>\n      <th>2022-02-27</th>\n      <td>[mason clark george barros and kateryna stepan...</td>\n      <td>['mason clark george barros kateryna stepanenk...</td>\n      <td>['mason clark george barros kateryna stepanenk...</td>\n      <td>[mason clark george barros and kateryna stepan...</td>\n    </tr>\n    <tr>\n      <th>2022-02-28</th>\n      <td>[mason clark george barros and kateryna stepan...</td>\n      <td>['mason clark george barros kateryna stepanenk...</td>\n      <td>['mason clark george barros kateryna stepanenk...</td>\n      <td>[mason clark george barros and kateryna stepan...</td>\n    </tr>\n    <tr>\n      <th>2022-03-01</th>\n      <td>[frederick w kagan george barros and kateryna ...</td>\n      <td>['frederick w kagan george barros kateryna ste...</td>\n      <td>['frederick w kagan george barros kateryna ste...</td>\n      <td>[frederick w kagan george barros and kateryna ...</td>\n    </tr>\n    <tr>\n      <th>...</th>\n      <td>...</td>\n      <td>...</td>\n      <td>...</td>\n      <td>...</td>\n    </tr>\n    <tr>\n      <th>2023-01-21</th>\n      <td>[karolina hird grace mappes angela howard geor...</td>\n      <td>['karolina hird grace mappes angela howard geo...</td>\n      <td>['karolina hird grace mappes angela howard geo...</td>\n      <td>[karolina hird grace mappes angela howard geor...</td>\n    </tr>\n    <tr>\n      <th>2023-01-22</th>\n      <td>[russian offensive campaign assessment january...</td>\n      <td>['russian offensive campaign assessment januar...</td>\n      <td>['russian offensive campaign assessment januar...</td>\n      <td>[russian offensive campaign assessment january...</td>\n    </tr>\n    <tr>\n      <th>2023-01-23</th>\n      <td>[russian offensive campaign assessment january...</td>\n      <td>['russian offensive campaign assessment januar...</td>\n      <td>['russian offensive campaign assessment januar...</td>\n      <td>[russian offensive campaign assessment january...</td>\n    </tr>\n    <tr>\n      <th>2023-01-24</th>\n      <td>[karolina hird riley bailey grace mappes georg...</td>\n      <td>['karolina hird riley bailey grace mappes geor...</td>\n      <td>['karolina hird riley bailey grace mappes geor...</td>\n      <td>[karolina hird riley bailey grace mappes georg...</td>\n    </tr>\n    <tr>\n      <th>2023-01-25</th>\n      <td>[karolina hird riley bailey kateryna stepanenk...</td>\n      <td>['karolina hird riley bailey kateryna stepanen...</td>\n      <td>['karolina hird riley bailey kateryna stepanen...</td>\n      <td>[karolina hird riley bailey kateryna stepanenk...</td>\n    </tr>\n  </tbody>\n</table>\n<p>329 rows × 4 columns</p>\n</div>"
     },
     "execution_count": 40,
     "metadata": {},
     "output_type": "execute_result"
    }
   ],
   "source": [
    "# Drop the two columns\n",
    "# pure.drop([\"text_wo_stopfreq\", \"text_wo_stopfreqrare\"], axis=1, inplace=True)\n",
    "# Initialize stemmer\n",
    "stemmer = SnowballStemmer(\"english\")\n",
    "\n",
    "# Define a function to stem words in a list\n",
    "def stem_words(word_list):\n",
    "    return [stemmer.stem(word) for word in word_list]\n",
    "\n",
    "# Apply the function to each list of words in the \"main_text\" column\n",
    "pure[\"text_stemmed\"] = pure[\"main_text\"].apply(stem_words)\n",
    "pure"
   ],
   "metadata": {
    "collapsed": false
   }
  },
  {
   "cell_type": "code",
   "execution_count": 42,
   "outputs": [
    {
     "name": "stderr",
     "output_type": "stream",
     "text": [
      "/var/folders/_p/ql4p8w016wd394h202vwvm1m0000gn/T/ipykernel_61090/2769625115.py:49: SettingWithCopyWarning: \n",
      "A value is trying to be set on a copy of a slice from a DataFrame.\n",
      "Try using .loc[row_indexer,col_indexer] = value instead\n",
      "\n",
      "See the caveats in the documentation: https://pandas.pydata.org/pandas-docs/stable/user_guide/indexing.html#returning-a-view-versus-a-copy\n",
      "  pure['cleaned_text'] = pure['main_text'].apply(remove_urls)\\\n"
     ]
    },
    {
     "data": {
      "text/plain": "['fredrick w kagan george barros and kateryna stepanenko',\n 'march 9 300 pm est',\n 'russian operations to continue the encirclement of and assault on kyiv have likely begun although on a smaller scale and in a more ad hoc manner than isw expected the equivalent of a russian reinforced brigade reportedly tried to advance toward kyiv through its western outskirts and made little progress smaller operations continued slowly to consolidate and gradually to extend the encirclement to the southwest of the capital russian operations in the eastern approaches to kyiv remain in a lull likely because the russians are focusing on securing the long lines of communication running to those outskirts from russian bases around sumy and chernihiv in the face of skillful and determined ukrainian harassment of those lines the battle for kyiv is likely to continue to be a drawnout affair unless the russians can launch a more concentrated and coherent attack than they have yet shown the ability to conduct',\n 'the russian military is clearly struggling to mobilize reserve manpower to offset losses and fill out new units the kremlin admitted that conscripts have been fighting in ukraine in violation of russian law for the first time on march 9 although in a customarily bizarre fashion according to the kremlin vladimir putin himself discovered that conscripts were operating in ukraine while he was reviewing a report on the conflict the kremlin says russian military judicial authorities will reportedly open an investigation into this practice and punish those responsible\\xa0putin himself would of course ultimately be responsible for having issued the mobilization orders that sent conscripts to the front reports have also surfaced that students at medical and theater schools were being conscripted in late february along with some denials of those reports\\xa0social media users also flagged the movement of russian peacekeeping forces in the nagornokarabakh region speculating that they may be withdrawing to participate in the war in ukraine\\xa0isw cannot independently verify any of these reports their general tenor however aligns with our published assessment that russia faces challenges in generating a new wave of combateffective reservists or recruits in a short period of time and our assessment that russia will need such a wave to complete its objectives',\n 'key takeaways',\n 'russian forces are engaged in four primary efforts at this time',\n 'main effortkyiv axis\\xa0russian operations on the kyiv axis are aimed at encircling the city from the northwest west\\xa0east',\n 'russian forces have likely begun renewed offensive operations that isw has been forecasting but at a lower level of intensity and a smaller scale than we had anticipated individual russian attacks at roughly regiment size reported on march 8 and march 9 may represent the scale of offensive operations russian forces can likely conduct on this axis at any one time the possibility of a larger and more coherent general attack either to encircle kyiv or to assault it in the coming days remains possible but the continued commitment of groups of two to five battalion tactical groups btgs at a time makes such a largescale general attack less likely',\n 'subordinate main effort along the west bank of the dnipro',\n 'the ukrainian general staff reported on march 8 that up to five russian btgs attacked from near babintsi toward bucha roughly 25 kilometers northwest of kyiv but were repulsed\\xa0this area has been the site of frequent fighting for many days and the former mayor or irpin said on march 8 that the russians controlled much of it the ukrainian general staff report if accurate would be noteworthy because a russian force the size of a reinforced regiment or brigade presumably reconstituted and prepared after the operational pause and resupply efforts of the past several days should have been able to make more progress if the ukrainian military is neither overstating the size of the russian attacking force nor understating its success then this incident would support the ukrainian general staffs overarching assessment that russian forces especially around kyiv have lost much of their effective combat power and possibly will to fight\\xa0isw cannot independently verify the ukrainian general staff report at this time',\n 'the ukrainian general staff also reported on march 8 that a total of four btgs two each from the 5th separate tank brigade and the 37th separate motorized rifle brigade advanced to yasnohorodka roughly 37 kilometers southwest of the center of kyiv\\xa0yasnohorodka is between two areas to which isw had already assessed russian forces had advanced although it is along a spoke road leading from byshiv which the russians have likely already occupied to kyiv this attack is likely part of an effort to consolidate russian control of the southwestern approaches to kyiv and set conditions for the concentration of russian forces closer to the city from this direction',\n 'the ukrainian general staff also noted that russian forces appear to be readying to renew offensive operations toward fastiv a key road junction southwest of kyiv and roughly 22 kilometers south of the forwardmost russian advance on this axis at byshiv\\xa0isw has observed no indications that the russians have initiated new operations toward fastiv in the past 24 hours',\n 'isw has received no reports of renewed russian offensive operations in the area of ivankiv and the ukrainian general staff explicitly reported on march 8 that the russians had not conducted operations near dymer',\n 'subordinate supporting effort  chernihiv axis',\n 'russian forces have continued efforts to take chernihiv town as well as to bypass it to the southeast and east the ukrainian general staff reported on march 9 that elements of the 2nd combined arms army 41st combined arms army and 90th tank division are attempting to renew the offensive toward chernihiv and kyiv from the north likely committing an additional reserve btg of the 55th motorized rifle brigade of the 41st caa to this effort\\xa0ukrainian forces reported on march 9 that they continue to hold chernihiv',\n 'subordinate supporting effort  sumy axis',\n 'russian forces have continued efforts to consolidate control of their lines of communication to eastern kyiv along the sumy axis in the past 24 hours as ukrainian forces continue to contest them russian forces from the chernihiv concentration may be operating on the east bank of the desna south of chernihiv in support of this effort the ukrainian general staff reported on march 8 that russian troops were moving pontoon bridging equipment in the vicinity of kozelets roughly 65 kilometers northeast of kyiv\\xa0the area around kozelets is very wet with several small rivers that likely necessitate the pontoon bridges although it is possible that the russians intend to use them to cross the desna itself',\n 'the ukrainian general staff reported fighting all along the russian line of communication from near sumy to nizhyn and even further north toward hlukhiv which is nearly at the russian border\\xa0this continued fighting likely indicates that the russians are struggling to consolidate control over this lengthy line of communication and that ukrainian forces are actively contesting it that phenomenon may partially explain the relative paucity of russian activity reported in kyivs eastern outskirts in the past 24 hours',\n 'supporting effort 1kharkiv',\n 'russian forces continued to bombard kharkiv but have not renewed attempts to take the city through ground assault on a large scale\\xa0the russians have likely diverted considerable combat power from kharkiv to focus on capturing sumy the ukrainian general staff reported on march 9 that the russians were concentrating aircraft to support possible airborne operations as part of larger preparations to attack sumy\\xa0social media reports confirm that there has been considerable combat around sumy',\n 'russian forces likely from the kharkiv axis also continued operations to the southeast the ukrainian general staff reports that the russians have continued efforts to seize izyum roughly 110 kilometers southeast of kharkiv and to cross the northern donets and bereka rivers\\xa0social media reports from march 9 confirmed russian shelling at balakliia about halfway between kharkiv and izyum',\n 'supporting effort 1aluhansk oblast',\n 'the luhansk peoples republic lnr claimed on march 8 that it now controls most of luhansk oblast\\xa0the russian ministry of defense claimed more modest gains for the lnr on march 9\\xa0isw has no independent confirmation of these claims',\n 'supporting effort 2mariupol',\n 'russian forces continue to encircle and bombard mariupol resulting in the widelyreported destruction of a maternity hospital in the city the military situation around mariupol has not materially changed in the past 24 hours',\n 'supporting effort 3kherson and west',\n 'the ukrainian general staff assessed as of march 9 that as many as 17 russian btgs belonging to the 49th combined arms army 22nd army corps 20th motorized rifle division of the 8th combined arms army and airborne troops are assembled north of crimea from kherson to rozivka roughly 47 kilometers northwest of mariupol\\xa0the general staff had previously suggested that this grouping of forces was preparing for an offensive in the direction of zaporizhya but it seems likely that only a portion of these russian troops will participate in that advance\\xa0russian forces around kherson appear concentrated on the drive toward mykolayiv and ultimately west toward odesa although they could attempt to drive northeast toward zaporizhya instead of odesa initial limited russian advances along the road from mykolayiv toward novyi buh were small in scale and not very successful',\n 'social media reports show considerable russian force possibly arriving reinforcements in and around kherson on march 9\\xa0a ukrainian general staff report from march 9 that russian servicemen dressed in civilian clothes are moving from kherson toward mykolayiv may indicate that those reinforcements are intended to take or bypass mykolayiv\\xa0social media reports also show russian forces bypassing mykolayiv possibly to encircle it at least on the east bank of the dnipro',\n 'the ukrainian general staff continued on march 9 to warn that russia might attempt to activate its forces illegally present in the moldovan territory of transnistria although it noted that the morale and combat capability of those forces is likely very low',\n 'immediate items to watch',\n 'main effortkyiv comprised of three subordinate supporting efforts\\nsupporting effort 1kharkiv\\nsupporting effort 1aluhansk oblast\\n\\nsupporting effort 2mariupol and\\nsupporting effort 3kherson and advances westward',\n 'supporting effort 1aluhansk oblast']"
     },
     "execution_count": 42,
     "metadata": {},
     "output_type": "execute_result"
    }
   ],
   "source": [
    "# Function to remove URLs\n",
    "def remove_urls(text_list):\n",
    "    cleaned_text_list = []\n",
    "    for text in text_list:\n",
    "        if isinstance(text, str):\n",
    "            url_pattern = re.compile(r'https?://\\S+|www\\.\\S+')\n",
    "            cleaned_text_list.append(url_pattern.sub(r'', text))\n",
    "        else:\n",
    "            cleaned_text_list.append(text)\n",
    "    return cleaned_text_list\n",
    "\n",
    "# Function to remove HTML tags\n",
    "def remove_html(text_list):\n",
    "    cleaned_text_list = []\n",
    "    for text in text_list:\n",
    "        if isinstance(text, str):\n",
    "            html_pattern = re.compile('<.*?>')\n",
    "            cleaned_text_list.append(html_pattern.sub(r'', text))\n",
    "        else:\n",
    "            cleaned_text_list.append(text)\n",
    "    return cleaned_text_list\n",
    "\n",
    "# Function to remove symbols\n",
    "def remove_symbols(text_list):\n",
    "    cleaned_text_list = []\n",
    "    for text in text_list:\n",
    "        if isinstance(text, str):\n",
    "            # Define the pattern to match specific symbols\n",
    "            pattern = r'[^\\w\\s]'  # Match any character that is not a word character or whitespace\n",
    "            # Replace the matched symbols with an empty string\n",
    "            cleaned_text = re.sub(pattern, '', text)\n",
    "            cleaned_text_list.append(cleaned_text)\n",
    "        else:\n",
    "            cleaned_text_list.append('')  # Return an empty string if it's not a string\n",
    "    return cleaned_text_list\n",
    "\n",
    "# Function to lemmatize words\n",
    "def lemmatize_words(text_list):\n",
    "    lemmatized_text_list = []\n",
    "    for text in text_list:\n",
    "        if isinstance(text, str):\n",
    "            # Your lemmatization logic here\n",
    "            lemmatized_text_list.append(text)\n",
    "        else:\n",
    "            lemmatized_text_list.append(text)\n",
    "    return lemmatized_text_list\n",
    "\n",
    "# Apply the cleaning and lemmatization functions to each element in the DataFrame\n",
    "pure['cleaned_text'] = pure['main_text'].apply(remove_urls)\\\n",
    "                                    .apply(remove_html)\\\n",
    "                                    .apply(remove_symbols)\\\n",
    "                                    .apply(lemmatize_words)\n",
    "\n",
    "pure[\"cleaned_text\"].iloc[12]"
   ],
   "metadata": {
    "collapsed": false
   }
  },
  {
   "cell_type": "code",
   "execution_count": 43,
   "outputs": [
    {
     "data": {
      "text/plain": "                                                    main_text  \\\ndate                                                            \n2022-02-25  [mason clark george barros and kateryna stepan...   \n2022-02-26  [mason clark george barros and katya stepanenk...   \n2022-02-27  [mason clark george barros and kateryna stepan...   \n2022-02-28  [mason clark george barros and kateryna stepan...   \n2022-03-01  [frederick w kagan george barros and kateryna ...   \n...                                                       ...   \n2023-01-21  [karolina hird grace mappes angela howard geor...   \n2023-01-22  [russian offensive campaign assessment january...   \n2023-01-23  [russian offensive campaign assessment january...   \n2023-01-24  [karolina hird riley bailey grace mappes georg...   \n2023-01-25  [karolina hird riley bailey kateryna stepanenk...   \n\n                                             text_wo_stopfreq  \\\ndate                                                            \n2022-02-25  ['mason clark george barros kateryna stepanenk...   \n2022-02-26  ['mason clark george barros katya stepanenko',...   \n2022-02-27  ['mason clark george barros kateryna stepanenk...   \n2022-02-28  ['mason clark george barros kateryna stepanenk...   \n2022-03-01  ['frederick w kagan george barros kateryna ste...   \n...                                                       ...   \n2023-01-21  ['karolina hird grace mappes angela howard geo...   \n2023-01-22  ['russian offensive campaign assessment januar...   \n2023-01-23  ['russian offensive campaign assessment januar...   \n2023-01-24  ['karolina hird riley bailey grace mappes geor...   \n2023-01-25  ['karolina hird riley bailey kateryna stepanen...   \n\n                                         text_wo_stopfreqrare  \\\ndate                                                            \n2022-02-25  ['mason clark george barros kateryna stepanenk...   \n2022-02-26  ['mason clark george barros katya stepanenko',...   \n2022-02-27  ['mason clark george barros kateryna stepanenk...   \n2022-02-28  ['mason clark george barros kateryna stepanenk...   \n2022-03-01  ['frederick w kagan george barros kateryna ste...   \n...                                                       ...   \n2023-01-21  ['karolina hird grace mappes angela howard geo...   \n2023-01-22  ['russian offensive campaign assessment januar...   \n2023-01-23  ['russian offensive campaign assessment januar...   \n2023-01-24  ['karolina hird riley bailey grace mappes geor...   \n2023-01-25  ['karolina hird riley bailey kateryna stepanen...   \n\n                                                 text_stemmed  \\\ndate                                                            \n2022-02-25  [mason clark george barros and kateryna stepan...   \n2022-02-26  [mason clark george barros and katya stepanenk...   \n2022-02-27  [mason clark george barros and kateryna stepan...   \n2022-02-28  [mason clark george barros and kateryna stepan...   \n2022-03-01  [frederick w kagan george barros and kateryna ...   \n...                                                       ...   \n2023-01-21  [karolina hird grace mappes angela howard geor...   \n2023-01-22  [russian offensive campaign assessment january...   \n2023-01-23  [russian offensive campaign assessment january...   \n2023-01-24  [karolina hird riley bailey grace mappes georg...   \n2023-01-25  [karolina hird riley bailey kateryna stepanenk...   \n\n                                                 cleaned_text  \ndate                                                           \n2022-02-25  [mason clark george barros and kateryna stepan...  \n2022-02-26  [mason clark george barros and katya stepanenk...  \n2022-02-27  [mason clark george barros and kateryna stepan...  \n2022-02-28  [mason clark george barros and kateryna stepan...  \n2022-03-01  [frederick w kagan george barros and kateryna ...  \n...                                                       ...  \n2023-01-21  [karolina hird grace mappes angela howard geor...  \n2023-01-22  [russian offensive campaign assessment january...  \n2023-01-23  [russian offensive campaign assessment january...  \n2023-01-24  [karolina hird riley bailey grace mappes georg...  \n2023-01-25  [karolina hird riley bailey kateryna stepanenk...  \n\n[329 rows x 5 columns]",
      "text/html": "<div>\n<style scoped>\n    .dataframe tbody tr th:only-of-type {\n        vertical-align: middle;\n    }\n\n    .dataframe tbody tr th {\n        vertical-align: top;\n    }\n\n    .dataframe thead th {\n        text-align: right;\n    }\n</style>\n<table border=\"1\" class=\"dataframe\">\n  <thead>\n    <tr style=\"text-align: right;\">\n      <th></th>\n      <th>main_text</th>\n      <th>text_wo_stopfreq</th>\n      <th>text_wo_stopfreqrare</th>\n      <th>text_stemmed</th>\n      <th>cleaned_text</th>\n    </tr>\n    <tr>\n      <th>date</th>\n      <th></th>\n      <th></th>\n      <th></th>\n      <th></th>\n      <th></th>\n    </tr>\n  </thead>\n  <tbody>\n    <tr>\n      <th>2022-02-25</th>\n      <td>[mason clark george barros and kateryna stepan...</td>\n      <td>['mason clark george barros kateryna stepanenk...</td>\n      <td>['mason clark george barros kateryna stepanenk...</td>\n      <td>[mason clark george barros and kateryna stepan...</td>\n      <td>[mason clark george barros and kateryna stepan...</td>\n    </tr>\n    <tr>\n      <th>2022-02-26</th>\n      <td>[mason clark george barros and katya stepanenk...</td>\n      <td>['mason clark george barros katya stepanenko',...</td>\n      <td>['mason clark george barros katya stepanenko',...</td>\n      <td>[mason clark george barros and katya stepanenk...</td>\n      <td>[mason clark george barros and katya stepanenk...</td>\n    </tr>\n    <tr>\n      <th>2022-02-27</th>\n      <td>[mason clark george barros and kateryna stepan...</td>\n      <td>['mason clark george barros kateryna stepanenk...</td>\n      <td>['mason clark george barros kateryna stepanenk...</td>\n      <td>[mason clark george barros and kateryna stepan...</td>\n      <td>[mason clark george barros and kateryna stepan...</td>\n    </tr>\n    <tr>\n      <th>2022-02-28</th>\n      <td>[mason clark george barros and kateryna stepan...</td>\n      <td>['mason clark george barros kateryna stepanenk...</td>\n      <td>['mason clark george barros kateryna stepanenk...</td>\n      <td>[mason clark george barros and kateryna stepan...</td>\n      <td>[mason clark george barros and kateryna stepan...</td>\n    </tr>\n    <tr>\n      <th>2022-03-01</th>\n      <td>[frederick w kagan george barros and kateryna ...</td>\n      <td>['frederick w kagan george barros kateryna ste...</td>\n      <td>['frederick w kagan george barros kateryna ste...</td>\n      <td>[frederick w kagan george barros and kateryna ...</td>\n      <td>[frederick w kagan george barros and kateryna ...</td>\n    </tr>\n    <tr>\n      <th>...</th>\n      <td>...</td>\n      <td>...</td>\n      <td>...</td>\n      <td>...</td>\n      <td>...</td>\n    </tr>\n    <tr>\n      <th>2023-01-21</th>\n      <td>[karolina hird grace mappes angela howard geor...</td>\n      <td>['karolina hird grace mappes angela howard geo...</td>\n      <td>['karolina hird grace mappes angela howard geo...</td>\n      <td>[karolina hird grace mappes angela howard geor...</td>\n      <td>[karolina hird grace mappes angela howard geor...</td>\n    </tr>\n    <tr>\n      <th>2023-01-22</th>\n      <td>[russian offensive campaign assessment january...</td>\n      <td>['russian offensive campaign assessment januar...</td>\n      <td>['russian offensive campaign assessment januar...</td>\n      <td>[russian offensive campaign assessment january...</td>\n      <td>[russian offensive campaign assessment january...</td>\n    </tr>\n    <tr>\n      <th>2023-01-23</th>\n      <td>[russian offensive campaign assessment january...</td>\n      <td>['russian offensive campaign assessment januar...</td>\n      <td>['russian offensive campaign assessment januar...</td>\n      <td>[russian offensive campaign assessment january...</td>\n      <td>[russian offensive campaign assessment january...</td>\n    </tr>\n    <tr>\n      <th>2023-01-24</th>\n      <td>[karolina hird riley bailey grace mappes georg...</td>\n      <td>['karolina hird riley bailey grace mappes geor...</td>\n      <td>['karolina hird riley bailey grace mappes geor...</td>\n      <td>[karolina hird riley bailey grace mappes georg...</td>\n      <td>[karolina hird riley bailey grace mappes georg...</td>\n    </tr>\n    <tr>\n      <th>2023-01-25</th>\n      <td>[karolina hird riley bailey kateryna stepanenk...</td>\n      <td>['karolina hird riley bailey kateryna stepanen...</td>\n      <td>['karolina hird riley bailey kateryna stepanen...</td>\n      <td>[karolina hird riley bailey kateryna stepanenk...</td>\n      <td>[karolina hird riley bailey kateryna stepanenk...</td>\n    </tr>\n  </tbody>\n</table>\n<p>329 rows × 5 columns</p>\n</div>"
     },
     "execution_count": 43,
     "metadata": {},
     "output_type": "execute_result"
    }
   ],
   "source": [
    "pure"
   ],
   "metadata": {
    "collapsed": false
   }
  }
 ],
 "metadata": {
  "kernelspec": {
   "display_name": "Python 3",
   "language": "python",
   "name": "python3"
  },
  "language_info": {
   "codemirror_mode": {
    "name": "ipython",
    "version": 2
   },
   "file_extension": ".py",
   "mimetype": "text/x-python",
   "name": "python",
   "nbconvert_exporter": "python",
   "pygments_lexer": "ipython2",
   "version": "2.7.6"
  }
 },
 "nbformat": 4,
 "nbformat_minor": 0
}
