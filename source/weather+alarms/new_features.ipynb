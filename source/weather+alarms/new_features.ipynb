{
 "cells": [
  {
   "cell_type": "code",
   "outputs": [],
   "source": [
    "import pandas as pd\n",
    "import numpy as np\n",
    "import matplotlib.pyplot as plt"
   ],
   "metadata": {
    "collapsed": true,
    "ExecuteTime": {
     "end_time": "2024-03-24T18:14:48.528107Z",
     "start_time": "2024-03-24T18:14:48.508873Z"
    }
   },
   "id": "initial_id",
   "execution_count": 227
  },
  {
   "cell_type": "code",
   "outputs": [
    {
     "data": {
      "text/plain": "        Unnamed: 0           city_resolvedAddress day_datetime  \\\n0                0  Луцьк, Луцький район, Україна   2022-02-24   \n1                1  Луцьк, Луцький район, Україна   2022-02-24   \n2                2  Луцьк, Луцький район, Україна   2022-02-24   \n3                3  Луцьк, Луцький район, Україна   2022-02-24   \n4                4  Луцьк, Луцький район, Україна   2022-02-24   \n...            ...                            ...          ...   \n195080      195080               Вінниця, Україна   2023-01-20   \n195081      195081               Вінниця, Україна   2023-01-20   \n195082      195082               Вінниця, Україна   2023-01-20   \n195083      195083               Вінниця, Україна   2023-01-20   \n195084      195084               Вінниця, Україна   2023-01-20   \n\n        day_datetimeEpoch  day_tempmax  day_tempmin  day_temp  day_dew  \\\n0              1645653600          4.9          0.7       2.6      0.0   \n1              1645653600          4.9          0.7       2.6      0.0   \n2              1645653600          4.9          0.7       2.6      0.0   \n3              1645653600          4.9          0.7       2.6      0.0   \n4              1645653600          4.9          0.7       2.6      0.0   \n...                   ...          ...          ...       ...      ...   \n195080         1674165600         11.2          5.7       7.9      6.2   \n195081         1674165600         11.2          5.7       7.9      6.2   \n195082         1674165600         11.2          5.7       7.9      6.2   \n195083         1674165600         11.2          5.7       7.9      6.2   \n195084         1674165600         11.2          5.7       7.9      6.2   \n\n        day_humidity  day_precip  ...  event_start_time  event_end_time  \\\n0               83.7       0.118  ...               NaN             NaN   \n1               83.7       0.118  ...               NaN             NaN   \n2               83.7       0.118  ...               NaN             NaN   \n3               83.7       0.118  ...               NaN             NaN   \n4               83.7       0.118  ...               NaN             NaN   \n...              ...         ...  ...               ...             ...   \n195080          89.3       0.600  ...               NaN             NaN   \n195081          89.3       0.600  ...               NaN             NaN   \n195082          89.3       0.600  ...               NaN             NaN   \n195083          89.3       0.600  ...               NaN             NaN   \n195084          89.3       0.600  ...               NaN             NaN   \n\n        event_start_hour  event_end_hour event_day_date  \\\n0                    NaN             NaN            NaN   \n1                    NaN             NaN            NaN   \n2                    NaN             NaN            NaN   \n3                    NaN             NaN            NaN   \n4                    NaN             NaN            NaN   \n...                  ...             ...            ...   \n195080               NaN             NaN            NaN   \n195081               NaN             NaN            NaN   \n195082               NaN             NaN            NaN   \n195083               NaN             NaN            NaN   \n195084               NaN             NaN            NaN   \n\n       event_start_hour_datetimeEpoch  event_end_hour_datetimeEpoch  \\\n0                                 NaN                           NaN   \n1                                 NaN                           NaN   \n2                                 NaN                           NaN   \n3                                 NaN                           NaN   \n4                                 NaN                           NaN   \n...                               ...                           ...   \n195080                            NaN                           NaN   \n195081                            NaN                           NaN   \n195082                            NaN                           NaN   \n195083                            NaN                           NaN   \n195084                            NaN                           NaN   \n\n       event_hour_level_event_time  event_hour_level_event_datetimeEpoch  \\\n0                              NaN                                   NaN   \n1                              NaN                                   NaN   \n2                              NaN                                   NaN   \n3                              NaN                                   NaN   \n4                              NaN                                   NaN   \n...                            ...                                   ...   \n195080                         NaN                                   NaN   \n195081                         NaN                                   NaN   \n195082                         NaN                                   NaN   \n195083                         NaN                                   NaN   \n195084                         NaN                                   NaN   \n\n        is_alarm  \n0              0  \n1              0  \n2              0  \n3              0  \n4              0  \n...          ...  \n195080         0  \n195081         0  \n195082         0  \n195083         0  \n195084         0  \n\n[195085 rows x 61 columns]",
      "text/html": "<div>\n<style scoped>\n    .dataframe tbody tr th:only-of-type {\n        vertical-align: middle;\n    }\n\n    .dataframe tbody tr th {\n        vertical-align: top;\n    }\n\n    .dataframe thead th {\n        text-align: right;\n    }\n</style>\n<table border=\"1\" class=\"dataframe\">\n  <thead>\n    <tr style=\"text-align: right;\">\n      <th></th>\n      <th>Unnamed: 0</th>\n      <th>city_resolvedAddress</th>\n      <th>day_datetime</th>\n      <th>day_datetimeEpoch</th>\n      <th>day_tempmax</th>\n      <th>day_tempmin</th>\n      <th>day_temp</th>\n      <th>day_dew</th>\n      <th>day_humidity</th>\n      <th>day_precip</th>\n      <th>...</th>\n      <th>event_start_time</th>\n      <th>event_end_time</th>\n      <th>event_start_hour</th>\n      <th>event_end_hour</th>\n      <th>event_day_date</th>\n      <th>event_start_hour_datetimeEpoch</th>\n      <th>event_end_hour_datetimeEpoch</th>\n      <th>event_hour_level_event_time</th>\n      <th>event_hour_level_event_datetimeEpoch</th>\n      <th>is_alarm</th>\n    </tr>\n  </thead>\n  <tbody>\n    <tr>\n      <th>0</th>\n      <td>0</td>\n      <td>Луцьк, Луцький район, Україна</td>\n      <td>2022-02-24</td>\n      <td>1645653600</td>\n      <td>4.9</td>\n      <td>0.7</td>\n      <td>2.6</td>\n      <td>0.0</td>\n      <td>83.7</td>\n      <td>0.118</td>\n      <td>...</td>\n      <td>NaN</td>\n      <td>NaN</td>\n      <td>NaN</td>\n      <td>NaN</td>\n      <td>NaN</td>\n      <td>NaN</td>\n      <td>NaN</td>\n      <td>NaN</td>\n      <td>NaN</td>\n      <td>0</td>\n    </tr>\n    <tr>\n      <th>1</th>\n      <td>1</td>\n      <td>Луцьк, Луцький район, Україна</td>\n      <td>2022-02-24</td>\n      <td>1645653600</td>\n      <td>4.9</td>\n      <td>0.7</td>\n      <td>2.6</td>\n      <td>0.0</td>\n      <td>83.7</td>\n      <td>0.118</td>\n      <td>...</td>\n      <td>NaN</td>\n      <td>NaN</td>\n      <td>NaN</td>\n      <td>NaN</td>\n      <td>NaN</td>\n      <td>NaN</td>\n      <td>NaN</td>\n      <td>NaN</td>\n      <td>NaN</td>\n      <td>0</td>\n    </tr>\n    <tr>\n      <th>2</th>\n      <td>2</td>\n      <td>Луцьк, Луцький район, Україна</td>\n      <td>2022-02-24</td>\n      <td>1645653600</td>\n      <td>4.9</td>\n      <td>0.7</td>\n      <td>2.6</td>\n      <td>0.0</td>\n      <td>83.7</td>\n      <td>0.118</td>\n      <td>...</td>\n      <td>NaN</td>\n      <td>NaN</td>\n      <td>NaN</td>\n      <td>NaN</td>\n      <td>NaN</td>\n      <td>NaN</td>\n      <td>NaN</td>\n      <td>NaN</td>\n      <td>NaN</td>\n      <td>0</td>\n    </tr>\n    <tr>\n      <th>3</th>\n      <td>3</td>\n      <td>Луцьк, Луцький район, Україна</td>\n      <td>2022-02-24</td>\n      <td>1645653600</td>\n      <td>4.9</td>\n      <td>0.7</td>\n      <td>2.6</td>\n      <td>0.0</td>\n      <td>83.7</td>\n      <td>0.118</td>\n      <td>...</td>\n      <td>NaN</td>\n      <td>NaN</td>\n      <td>NaN</td>\n      <td>NaN</td>\n      <td>NaN</td>\n      <td>NaN</td>\n      <td>NaN</td>\n      <td>NaN</td>\n      <td>NaN</td>\n      <td>0</td>\n    </tr>\n    <tr>\n      <th>4</th>\n      <td>4</td>\n      <td>Луцьк, Луцький район, Україна</td>\n      <td>2022-02-24</td>\n      <td>1645653600</td>\n      <td>4.9</td>\n      <td>0.7</td>\n      <td>2.6</td>\n      <td>0.0</td>\n      <td>83.7</td>\n      <td>0.118</td>\n      <td>...</td>\n      <td>NaN</td>\n      <td>NaN</td>\n      <td>NaN</td>\n      <td>NaN</td>\n      <td>NaN</td>\n      <td>NaN</td>\n      <td>NaN</td>\n      <td>NaN</td>\n      <td>NaN</td>\n      <td>0</td>\n    </tr>\n    <tr>\n      <th>...</th>\n      <td>...</td>\n      <td>...</td>\n      <td>...</td>\n      <td>...</td>\n      <td>...</td>\n      <td>...</td>\n      <td>...</td>\n      <td>...</td>\n      <td>...</td>\n      <td>...</td>\n      <td>...</td>\n      <td>...</td>\n      <td>...</td>\n      <td>...</td>\n      <td>...</td>\n      <td>...</td>\n      <td>...</td>\n      <td>...</td>\n      <td>...</td>\n      <td>...</td>\n      <td>...</td>\n    </tr>\n    <tr>\n      <th>195080</th>\n      <td>195080</td>\n      <td>Вінниця, Україна</td>\n      <td>2023-01-20</td>\n      <td>1674165600</td>\n      <td>11.2</td>\n      <td>5.7</td>\n      <td>7.9</td>\n      <td>6.2</td>\n      <td>89.3</td>\n      <td>0.600</td>\n      <td>...</td>\n      <td>NaN</td>\n      <td>NaN</td>\n      <td>NaN</td>\n      <td>NaN</td>\n      <td>NaN</td>\n      <td>NaN</td>\n      <td>NaN</td>\n      <td>NaN</td>\n      <td>NaN</td>\n      <td>0</td>\n    </tr>\n    <tr>\n      <th>195081</th>\n      <td>195081</td>\n      <td>Вінниця, Україна</td>\n      <td>2023-01-20</td>\n      <td>1674165600</td>\n      <td>11.2</td>\n      <td>5.7</td>\n      <td>7.9</td>\n      <td>6.2</td>\n      <td>89.3</td>\n      <td>0.600</td>\n      <td>...</td>\n      <td>NaN</td>\n      <td>NaN</td>\n      <td>NaN</td>\n      <td>NaN</td>\n      <td>NaN</td>\n      <td>NaN</td>\n      <td>NaN</td>\n      <td>NaN</td>\n      <td>NaN</td>\n      <td>0</td>\n    </tr>\n    <tr>\n      <th>195082</th>\n      <td>195082</td>\n      <td>Вінниця, Україна</td>\n      <td>2023-01-20</td>\n      <td>1674165600</td>\n      <td>11.2</td>\n      <td>5.7</td>\n      <td>7.9</td>\n      <td>6.2</td>\n      <td>89.3</td>\n      <td>0.600</td>\n      <td>...</td>\n      <td>NaN</td>\n      <td>NaN</td>\n      <td>NaN</td>\n      <td>NaN</td>\n      <td>NaN</td>\n      <td>NaN</td>\n      <td>NaN</td>\n      <td>NaN</td>\n      <td>NaN</td>\n      <td>0</td>\n    </tr>\n    <tr>\n      <th>195083</th>\n      <td>195083</td>\n      <td>Вінниця, Україна</td>\n      <td>2023-01-20</td>\n      <td>1674165600</td>\n      <td>11.2</td>\n      <td>5.7</td>\n      <td>7.9</td>\n      <td>6.2</td>\n      <td>89.3</td>\n      <td>0.600</td>\n      <td>...</td>\n      <td>NaN</td>\n      <td>NaN</td>\n      <td>NaN</td>\n      <td>NaN</td>\n      <td>NaN</td>\n      <td>NaN</td>\n      <td>NaN</td>\n      <td>NaN</td>\n      <td>NaN</td>\n      <td>0</td>\n    </tr>\n    <tr>\n      <th>195084</th>\n      <td>195084</td>\n      <td>Вінниця, Україна</td>\n      <td>2023-01-20</td>\n      <td>1674165600</td>\n      <td>11.2</td>\n      <td>5.7</td>\n      <td>7.9</td>\n      <td>6.2</td>\n      <td>89.3</td>\n      <td>0.600</td>\n      <td>...</td>\n      <td>NaN</td>\n      <td>NaN</td>\n      <td>NaN</td>\n      <td>NaN</td>\n      <td>NaN</td>\n      <td>NaN</td>\n      <td>NaN</td>\n      <td>NaN</td>\n      <td>NaN</td>\n      <td>0</td>\n    </tr>\n  </tbody>\n</table>\n<p>195085 rows × 61 columns</p>\n</div>"
     },
     "execution_count": 228,
     "metadata": {},
     "output_type": "execute_result"
    }
   ],
   "source": [
    "df = pd.read_csv(\"weather_v5.csv\", sep=\";\")\n",
    "df"
   ],
   "metadata": {
    "collapsed": false,
    "ExecuteTime": {
     "end_time": "2024-03-24T18:14:52.811135Z",
     "start_time": "2024-03-24T18:14:49.391579Z"
    }
   },
   "id": "bc4d8b15b1667db0",
   "execution_count": 228
  },
  {
   "cell_type": "code",
   "outputs": [],
   "source": [
    "df.fillna(0, inplace=True)"
   ],
   "metadata": {
    "collapsed": false,
    "ExecuteTime": {
     "end_time": "2024-03-24T18:14:53.513347Z",
     "start_time": "2024-03-24T18:14:52.813137Z"
    }
   },
   "id": "83444affe813c917",
   "execution_count": 229
  },
  {
   "cell_type": "code",
   "outputs": [],
   "source": [
    "df.set_index([\"day_datetime\", \"hour_datetime\"], inplace=True)"
   ],
   "metadata": {
    "collapsed": false,
    "ExecuteTime": {
     "end_time": "2024-03-24T18:14:58.850428Z",
     "start_time": "2024-03-24T18:14:58.724366Z"
    }
   },
   "id": "1a05dcd2f7b2187b",
   "execution_count": 230
  },
  {
   "cell_type": "code",
   "outputs": [],
   "source": [
    "df.drop([\"Unnamed: 0\", \"city_resolvedAddress\", \"day_datetimeEpoch\", \"day_moonphase\", \"hour_datetimeEpoch\", \"event_start_hour_datetimeEpoch\", \"event_end_hour_datetimeEpoch\", \"event_hour_level_event_datetimeEpoch\"], axis=1, inplace=True)"
   ],
   "metadata": {
    "collapsed": false,
    "ExecuteTime": {
     "end_time": "2024-03-24T18:16:03.306954Z",
     "start_time": "2024-03-24T18:16:03.086333Z"
    }
   },
   "id": "286a92faa3caf470",
   "execution_count": 231
  },
  {
   "cell_type": "code",
   "outputs": [
    {
     "data": {
      "text/plain": "                            day_tempmax  day_tempmin  day_temp  day_dew  \\\nday_datetime hour_datetime                                                \n2022-02-24   00:00:00               4.9          0.7       2.6      0.0   \n             01:00:00               4.9          0.7       2.6      0.0   \n             02:00:00               4.9          0.7       2.6      0.0   \n             03:00:00               4.9          0.7       2.6      0.0   \n             04:00:00               4.9          0.7       2.6      0.0   \n...                                 ...          ...       ...      ...   \n2023-01-20   19:00:00              11.2          5.7       7.9      6.2   \n             20:00:00              11.2          5.7       7.9      6.2   \n             21:00:00              11.2          5.7       7.9      6.2   \n             22:00:00              11.2          5.7       7.9      6.2   \n             23:00:00              11.2          5.7       7.9      6.2   \n\n                            day_humidity  day_precip  day_precipcover  \\\nday_datetime hour_datetime                                              \n2022-02-24   00:00:00               83.7       0.118             4.17   \n             01:00:00               83.7       0.118             4.17   \n             02:00:00               83.7       0.118             4.17   \n             03:00:00               83.7       0.118             4.17   \n             04:00:00               83.7       0.118             4.17   \n...                                  ...         ...              ...   \n2023-01-20   19:00:00               89.3       0.600            12.50   \n             20:00:00               89.3       0.600            12.50   \n             21:00:00               89.3       0.600            12.50   \n             22:00:00               89.3       0.600            12.50   \n             23:00:00               89.3       0.600            12.50   \n\n                            day_solarradiation  day_solarenergy  day_uvindex  \\\nday_datetime hour_datetime                                                     \n2022-02-24   00:00:00                     36.9              2.8          1.0   \n             01:00:00                     36.9              2.8          1.0   \n             02:00:00                     36.9              2.8          1.0   \n             03:00:00                     36.9              2.8          1.0   \n             04:00:00                     36.9              2.8          1.0   \n...                                        ...              ...          ...   \n2023-01-20   19:00:00                     16.8              1.4          1.0   \n             20:00:00                     16.8              1.4          1.0   \n             21:00:00                     16.8              1.4          1.0   \n             22:00:00                     16.8              1.4          1.0   \n             23:00:00                     16.8              1.4          1.0   \n\n                            ... event_end event_clean_end  \\\nday_datetime hour_datetime  ...                             \n2022-02-24   00:00:00       ...         0               0   \n             01:00:00       ...         0               0   \n             02:00:00       ...         0               0   \n             03:00:00       ...         0               0   \n             04:00:00       ...         0               0   \n...                         ...       ...             ...   \n2023-01-20   19:00:00       ...         0               0   \n             20:00:00       ...         0               0   \n             21:00:00       ...         0               0   \n             22:00:00       ...         0               0   \n             23:00:00       ...         0               0   \n\n                            event_intersection_alarm_id  event_start_time  \\\nday_datetime hour_datetime                                                  \n2022-02-24   00:00:00                               0.0                 0   \n             01:00:00                               0.0                 0   \n             02:00:00                               0.0                 0   \n             03:00:00                               0.0                 0   \n             04:00:00                               0.0                 0   \n...                                                 ...               ...   \n2023-01-20   19:00:00                               0.0                 0   \n             20:00:00                               0.0                 0   \n             21:00:00                               0.0                 0   \n             22:00:00                               0.0                 0   \n             23:00:00                               0.0                 0   \n\n                            event_end_time  event_start_hour  event_end_hour  \\\nday_datetime hour_datetime                                                     \n2022-02-24   00:00:00                    0                 0               0   \n             01:00:00                    0                 0               0   \n             02:00:00                    0                 0               0   \n             03:00:00                    0                 0               0   \n             04:00:00                    0                 0               0   \n...                                    ...               ...             ...   \n2023-01-20   19:00:00                    0                 0               0   \n             20:00:00                    0                 0               0   \n             21:00:00                    0                 0               0   \n             22:00:00                    0                 0               0   \n             23:00:00                    0                 0               0   \n\n                            event_day_date  event_hour_level_event_time  \\\nday_datetime hour_datetime                                                \n2022-02-24   00:00:00                    0                            0   \n             01:00:00                    0                            0   \n             02:00:00                    0                            0   \n             03:00:00                    0                            0   \n             04:00:00                    0                            0   \n...                                    ...                          ...   \n2023-01-20   19:00:00                    0                            0   \n             20:00:00                    0                            0   \n             21:00:00                    0                            0   \n             22:00:00                    0                            0   \n             23:00:00                    0                            0   \n\n                           is_alarm  \nday_datetime hour_datetime           \n2022-02-24   00:00:00             0  \n             01:00:00             0  \n             02:00:00             0  \n             03:00:00             0  \n             04:00:00             0  \n...                             ...  \n2023-01-20   19:00:00             0  \n             20:00:00             0  \n             21:00:00             0  \n             22:00:00             0  \n             23:00:00             0  \n\n[195085 rows x 51 columns]",
      "text/html": "<div>\n<style scoped>\n    .dataframe tbody tr th:only-of-type {\n        vertical-align: middle;\n    }\n\n    .dataframe tbody tr th {\n        vertical-align: top;\n    }\n\n    .dataframe thead th {\n        text-align: right;\n    }\n</style>\n<table border=\"1\" class=\"dataframe\">\n  <thead>\n    <tr style=\"text-align: right;\">\n      <th></th>\n      <th></th>\n      <th>day_tempmax</th>\n      <th>day_tempmin</th>\n      <th>day_temp</th>\n      <th>day_dew</th>\n      <th>day_humidity</th>\n      <th>day_precip</th>\n      <th>day_precipcover</th>\n      <th>day_solarradiation</th>\n      <th>day_solarenergy</th>\n      <th>day_uvindex</th>\n      <th>...</th>\n      <th>event_end</th>\n      <th>event_clean_end</th>\n      <th>event_intersection_alarm_id</th>\n      <th>event_start_time</th>\n      <th>event_end_time</th>\n      <th>event_start_hour</th>\n      <th>event_end_hour</th>\n      <th>event_day_date</th>\n      <th>event_hour_level_event_time</th>\n      <th>is_alarm</th>\n    </tr>\n    <tr>\n      <th>day_datetime</th>\n      <th>hour_datetime</th>\n      <th></th>\n      <th></th>\n      <th></th>\n      <th></th>\n      <th></th>\n      <th></th>\n      <th></th>\n      <th></th>\n      <th></th>\n      <th></th>\n      <th></th>\n      <th></th>\n      <th></th>\n      <th></th>\n      <th></th>\n      <th></th>\n      <th></th>\n      <th></th>\n      <th></th>\n      <th></th>\n      <th></th>\n    </tr>\n  </thead>\n  <tbody>\n    <tr>\n      <th rowspan=\"5\" valign=\"top\">2022-02-24</th>\n      <th>00:00:00</th>\n      <td>4.9</td>\n      <td>0.7</td>\n      <td>2.6</td>\n      <td>0.0</td>\n      <td>83.7</td>\n      <td>0.118</td>\n      <td>4.17</td>\n      <td>36.9</td>\n      <td>2.8</td>\n      <td>1.0</td>\n      <td>...</td>\n      <td>0</td>\n      <td>0</td>\n      <td>0.0</td>\n      <td>0</td>\n      <td>0</td>\n      <td>0</td>\n      <td>0</td>\n      <td>0</td>\n      <td>0</td>\n      <td>0</td>\n    </tr>\n    <tr>\n      <th>01:00:00</th>\n      <td>4.9</td>\n      <td>0.7</td>\n      <td>2.6</td>\n      <td>0.0</td>\n      <td>83.7</td>\n      <td>0.118</td>\n      <td>4.17</td>\n      <td>36.9</td>\n      <td>2.8</td>\n      <td>1.0</td>\n      <td>...</td>\n      <td>0</td>\n      <td>0</td>\n      <td>0.0</td>\n      <td>0</td>\n      <td>0</td>\n      <td>0</td>\n      <td>0</td>\n      <td>0</td>\n      <td>0</td>\n      <td>0</td>\n    </tr>\n    <tr>\n      <th>02:00:00</th>\n      <td>4.9</td>\n      <td>0.7</td>\n      <td>2.6</td>\n      <td>0.0</td>\n      <td>83.7</td>\n      <td>0.118</td>\n      <td>4.17</td>\n      <td>36.9</td>\n      <td>2.8</td>\n      <td>1.0</td>\n      <td>...</td>\n      <td>0</td>\n      <td>0</td>\n      <td>0.0</td>\n      <td>0</td>\n      <td>0</td>\n      <td>0</td>\n      <td>0</td>\n      <td>0</td>\n      <td>0</td>\n      <td>0</td>\n    </tr>\n    <tr>\n      <th>03:00:00</th>\n      <td>4.9</td>\n      <td>0.7</td>\n      <td>2.6</td>\n      <td>0.0</td>\n      <td>83.7</td>\n      <td>0.118</td>\n      <td>4.17</td>\n      <td>36.9</td>\n      <td>2.8</td>\n      <td>1.0</td>\n      <td>...</td>\n      <td>0</td>\n      <td>0</td>\n      <td>0.0</td>\n      <td>0</td>\n      <td>0</td>\n      <td>0</td>\n      <td>0</td>\n      <td>0</td>\n      <td>0</td>\n      <td>0</td>\n    </tr>\n    <tr>\n      <th>04:00:00</th>\n      <td>4.9</td>\n      <td>0.7</td>\n      <td>2.6</td>\n      <td>0.0</td>\n      <td>83.7</td>\n      <td>0.118</td>\n      <td>4.17</td>\n      <td>36.9</td>\n      <td>2.8</td>\n      <td>1.0</td>\n      <td>...</td>\n      <td>0</td>\n      <td>0</td>\n      <td>0.0</td>\n      <td>0</td>\n      <td>0</td>\n      <td>0</td>\n      <td>0</td>\n      <td>0</td>\n      <td>0</td>\n      <td>0</td>\n    </tr>\n    <tr>\n      <th>...</th>\n      <th>...</th>\n      <td>...</td>\n      <td>...</td>\n      <td>...</td>\n      <td>...</td>\n      <td>...</td>\n      <td>...</td>\n      <td>...</td>\n      <td>...</td>\n      <td>...</td>\n      <td>...</td>\n      <td>...</td>\n      <td>...</td>\n      <td>...</td>\n      <td>...</td>\n      <td>...</td>\n      <td>...</td>\n      <td>...</td>\n      <td>...</td>\n      <td>...</td>\n      <td>...</td>\n      <td>...</td>\n    </tr>\n    <tr>\n      <th rowspan=\"5\" valign=\"top\">2023-01-20</th>\n      <th>19:00:00</th>\n      <td>11.2</td>\n      <td>5.7</td>\n      <td>7.9</td>\n      <td>6.2</td>\n      <td>89.3</td>\n      <td>0.600</td>\n      <td>12.50</td>\n      <td>16.8</td>\n      <td>1.4</td>\n      <td>1.0</td>\n      <td>...</td>\n      <td>0</td>\n      <td>0</td>\n      <td>0.0</td>\n      <td>0</td>\n      <td>0</td>\n      <td>0</td>\n      <td>0</td>\n      <td>0</td>\n      <td>0</td>\n      <td>0</td>\n    </tr>\n    <tr>\n      <th>20:00:00</th>\n      <td>11.2</td>\n      <td>5.7</td>\n      <td>7.9</td>\n      <td>6.2</td>\n      <td>89.3</td>\n      <td>0.600</td>\n      <td>12.50</td>\n      <td>16.8</td>\n      <td>1.4</td>\n      <td>1.0</td>\n      <td>...</td>\n      <td>0</td>\n      <td>0</td>\n      <td>0.0</td>\n      <td>0</td>\n      <td>0</td>\n      <td>0</td>\n      <td>0</td>\n      <td>0</td>\n      <td>0</td>\n      <td>0</td>\n    </tr>\n    <tr>\n      <th>21:00:00</th>\n      <td>11.2</td>\n      <td>5.7</td>\n      <td>7.9</td>\n      <td>6.2</td>\n      <td>89.3</td>\n      <td>0.600</td>\n      <td>12.50</td>\n      <td>16.8</td>\n      <td>1.4</td>\n      <td>1.0</td>\n      <td>...</td>\n      <td>0</td>\n      <td>0</td>\n      <td>0.0</td>\n      <td>0</td>\n      <td>0</td>\n      <td>0</td>\n      <td>0</td>\n      <td>0</td>\n      <td>0</td>\n      <td>0</td>\n    </tr>\n    <tr>\n      <th>22:00:00</th>\n      <td>11.2</td>\n      <td>5.7</td>\n      <td>7.9</td>\n      <td>6.2</td>\n      <td>89.3</td>\n      <td>0.600</td>\n      <td>12.50</td>\n      <td>16.8</td>\n      <td>1.4</td>\n      <td>1.0</td>\n      <td>...</td>\n      <td>0</td>\n      <td>0</td>\n      <td>0.0</td>\n      <td>0</td>\n      <td>0</td>\n      <td>0</td>\n      <td>0</td>\n      <td>0</td>\n      <td>0</td>\n      <td>0</td>\n    </tr>\n    <tr>\n      <th>23:00:00</th>\n      <td>11.2</td>\n      <td>5.7</td>\n      <td>7.9</td>\n      <td>6.2</td>\n      <td>89.3</td>\n      <td>0.600</td>\n      <td>12.50</td>\n      <td>16.8</td>\n      <td>1.4</td>\n      <td>1.0</td>\n      <td>...</td>\n      <td>0</td>\n      <td>0</td>\n      <td>0.0</td>\n      <td>0</td>\n      <td>0</td>\n      <td>0</td>\n      <td>0</td>\n      <td>0</td>\n      <td>0</td>\n      <td>0</td>\n    </tr>\n  </tbody>\n</table>\n<p>195085 rows × 51 columns</p>\n</div>"
     },
     "execution_count": 232,
     "metadata": {},
     "output_type": "execute_result"
    }
   ],
   "source": [
    "df"
   ],
   "metadata": {
    "collapsed": false,
    "ExecuteTime": {
     "end_time": "2024-03-24T18:16:07.803185Z",
     "start_time": "2024-03-24T18:16:07.428116Z"
    }
   },
   "id": "a7e40210de9d7d51",
   "execution_count": 232
  },
  {
   "cell_type": "code",
   "outputs": [],
   "source": [
    "num_of_reg_alarms = df.groupby(level=['day_datetime', 'hour_datetime'])['is_alarm'].sum()"
   ],
   "metadata": {
    "collapsed": false,
    "ExecuteTime": {
     "end_time": "2024-03-24T18:16:10.449417Z",
     "start_time": "2024-03-24T18:16:10.393Z"
    }
   },
   "id": "9d655faf966a5e3f",
   "execution_count": 233
  },
  {
   "cell_type": "code",
   "outputs": [
    {
     "data": {
      "text/plain": "day_datetime  hour_datetime\n2022-02-24    00:00:00         0\n              01:00:00         0\n              02:00:00         0\n              03:00:00         0\n              04:00:00         0\n                              ..\n2023-01-20    19:00:00         0\n              20:00:00         0\n              21:00:00         0\n              22:00:00         6\n              23:00:00         6\nName: is_alarm, Length: 7943, dtype: int64"
     },
     "execution_count": 234,
     "metadata": {},
     "output_type": "execute_result"
    }
   ],
   "source": [
    "num_of_reg_alarms"
   ],
   "metadata": {
    "collapsed": false,
    "ExecuteTime": {
     "end_time": "2024-03-24T18:16:12.244755Z",
     "start_time": "2024-03-24T18:16:12.218885Z"
    }
   },
   "id": "3c0d97376d0a4299",
   "execution_count": 234
  },
  {
   "cell_type": "code",
   "outputs": [],
   "source": [
    "df[\"num_of_reg_alarms\"] = df.index.map(num_of_reg_alarms)"
   ],
   "metadata": {
    "collapsed": false,
    "ExecuteTime": {
     "end_time": "2024-03-24T18:16:16.875215Z",
     "start_time": "2024-03-24T18:16:16.195604Z"
    }
   },
   "id": "62281bb2f61dd0c7",
   "execution_count": 235
  },
  {
   "cell_type": "code",
   "outputs": [
    {
     "data": {
      "text/plain": "                            day_tempmax  day_tempmin  day_temp  day_dew  \\\nday_datetime hour_datetime                                                \n2022-02-24   00:00:00               4.9          0.7       2.6      0.0   \n             01:00:00               4.9          0.7       2.6      0.0   \n             02:00:00               4.9          0.7       2.6      0.0   \n             03:00:00               4.9          0.7       2.6      0.0   \n             04:00:00               4.9          0.7       2.6      0.0   \n...                                 ...          ...       ...      ...   \n2023-01-20   19:00:00              11.2          5.7       7.9      6.2   \n             20:00:00              11.2          5.7       7.9      6.2   \n             21:00:00              11.2          5.7       7.9      6.2   \n             22:00:00              11.2          5.7       7.9      6.2   \n             23:00:00              11.2          5.7       7.9      6.2   \n\n                            day_humidity  day_precip  day_precipcover  \\\nday_datetime hour_datetime                                              \n2022-02-24   00:00:00               83.7       0.118             4.17   \n             01:00:00               83.7       0.118             4.17   \n             02:00:00               83.7       0.118             4.17   \n             03:00:00               83.7       0.118             4.17   \n             04:00:00               83.7       0.118             4.17   \n...                                  ...         ...              ...   \n2023-01-20   19:00:00               89.3       0.600            12.50   \n             20:00:00               89.3       0.600            12.50   \n             21:00:00               89.3       0.600            12.50   \n             22:00:00               89.3       0.600            12.50   \n             23:00:00               89.3       0.600            12.50   \n\n                            day_solarradiation  day_solarenergy  day_uvindex  \\\nday_datetime hour_datetime                                                     \n2022-02-24   00:00:00                     36.9              2.8          1.0   \n             01:00:00                     36.9              2.8          1.0   \n             02:00:00                     36.9              2.8          1.0   \n             03:00:00                     36.9              2.8          1.0   \n             04:00:00                     36.9              2.8          1.0   \n...                                        ...              ...          ...   \n2023-01-20   19:00:00                     16.8              1.4          1.0   \n             20:00:00                     16.8              1.4          1.0   \n             21:00:00                     16.8              1.4          1.0   \n             22:00:00                     16.8              1.4          1.0   \n             23:00:00                     16.8              1.4          1.0   \n\n                            ... event_clean_end event_intersection_alarm_id  \\\nday_datetime hour_datetime  ...                                               \n2022-02-24   00:00:00       ...               0                         0.0   \n             01:00:00       ...               0                         0.0   \n             02:00:00       ...               0                         0.0   \n             03:00:00       ...               0                         0.0   \n             04:00:00       ...               0                         0.0   \n...                         ...             ...                         ...   \n2023-01-20   19:00:00       ...               0                         0.0   \n             20:00:00       ...               0                         0.0   \n             21:00:00       ...               0                         0.0   \n             22:00:00       ...               0                         0.0   \n             23:00:00       ...               0                         0.0   \n\n                            event_start_time  event_end_time  \\\nday_datetime hour_datetime                                     \n2022-02-24   00:00:00                      0               0   \n             01:00:00                      0               0   \n             02:00:00                      0               0   \n             03:00:00                      0               0   \n             04:00:00                      0               0   \n...                                      ...             ...   \n2023-01-20   19:00:00                      0               0   \n             20:00:00                      0               0   \n             21:00:00                      0               0   \n             22:00:00                      0               0   \n             23:00:00                      0               0   \n\n                            event_start_hour  event_end_hour  event_day_date  \\\nday_datetime hour_datetime                                                     \n2022-02-24   00:00:00                      0               0               0   \n             01:00:00                      0               0               0   \n             02:00:00                      0               0               0   \n             03:00:00                      0               0               0   \n             04:00:00                      0               0               0   \n...                                      ...             ...             ...   \n2023-01-20   19:00:00                      0               0               0   \n             20:00:00                      0               0               0   \n             21:00:00                      0               0               0   \n             22:00:00                      0               0               0   \n             23:00:00                      0               0               0   \n\n                            event_hour_level_event_time  is_alarm  \\\nday_datetime hour_datetime                                          \n2022-02-24   00:00:00                                 0         0   \n             01:00:00                                 0         0   \n             02:00:00                                 0         0   \n             03:00:00                                 0         0   \n             04:00:00                                 0         0   \n...                                                 ...       ...   \n2023-01-20   19:00:00                                 0         0   \n             20:00:00                                 0         0   \n             21:00:00                                 0         0   \n             22:00:00                                 0         0   \n             23:00:00                                 0         0   \n\n                           num_of_reg_alarms  \nday_datetime hour_datetime                    \n2022-02-24   00:00:00                      0  \n             01:00:00                      0  \n             02:00:00                      0  \n             03:00:00                      0  \n             04:00:00                      0  \n...                                      ...  \n2023-01-20   19:00:00                      0  \n             20:00:00                      0  \n             21:00:00                      0  \n             22:00:00                      6  \n             23:00:00                      6  \n\n[195085 rows x 52 columns]",
      "text/html": "<div>\n<style scoped>\n    .dataframe tbody tr th:only-of-type {\n        vertical-align: middle;\n    }\n\n    .dataframe tbody tr th {\n        vertical-align: top;\n    }\n\n    .dataframe thead th {\n        text-align: right;\n    }\n</style>\n<table border=\"1\" class=\"dataframe\">\n  <thead>\n    <tr style=\"text-align: right;\">\n      <th></th>\n      <th></th>\n      <th>day_tempmax</th>\n      <th>day_tempmin</th>\n      <th>day_temp</th>\n      <th>day_dew</th>\n      <th>day_humidity</th>\n      <th>day_precip</th>\n      <th>day_precipcover</th>\n      <th>day_solarradiation</th>\n      <th>day_solarenergy</th>\n      <th>day_uvindex</th>\n      <th>...</th>\n      <th>event_clean_end</th>\n      <th>event_intersection_alarm_id</th>\n      <th>event_start_time</th>\n      <th>event_end_time</th>\n      <th>event_start_hour</th>\n      <th>event_end_hour</th>\n      <th>event_day_date</th>\n      <th>event_hour_level_event_time</th>\n      <th>is_alarm</th>\n      <th>num_of_reg_alarms</th>\n    </tr>\n    <tr>\n      <th>day_datetime</th>\n      <th>hour_datetime</th>\n      <th></th>\n      <th></th>\n      <th></th>\n      <th></th>\n      <th></th>\n      <th></th>\n      <th></th>\n      <th></th>\n      <th></th>\n      <th></th>\n      <th></th>\n      <th></th>\n      <th></th>\n      <th></th>\n      <th></th>\n      <th></th>\n      <th></th>\n      <th></th>\n      <th></th>\n      <th></th>\n      <th></th>\n    </tr>\n  </thead>\n  <tbody>\n    <tr>\n      <th rowspan=\"5\" valign=\"top\">2022-02-24</th>\n      <th>00:00:00</th>\n      <td>4.9</td>\n      <td>0.7</td>\n      <td>2.6</td>\n      <td>0.0</td>\n      <td>83.7</td>\n      <td>0.118</td>\n      <td>4.17</td>\n      <td>36.9</td>\n      <td>2.8</td>\n      <td>1.0</td>\n      <td>...</td>\n      <td>0</td>\n      <td>0.0</td>\n      <td>0</td>\n      <td>0</td>\n      <td>0</td>\n      <td>0</td>\n      <td>0</td>\n      <td>0</td>\n      <td>0</td>\n      <td>0</td>\n    </tr>\n    <tr>\n      <th>01:00:00</th>\n      <td>4.9</td>\n      <td>0.7</td>\n      <td>2.6</td>\n      <td>0.0</td>\n      <td>83.7</td>\n      <td>0.118</td>\n      <td>4.17</td>\n      <td>36.9</td>\n      <td>2.8</td>\n      <td>1.0</td>\n      <td>...</td>\n      <td>0</td>\n      <td>0.0</td>\n      <td>0</td>\n      <td>0</td>\n      <td>0</td>\n      <td>0</td>\n      <td>0</td>\n      <td>0</td>\n      <td>0</td>\n      <td>0</td>\n    </tr>\n    <tr>\n      <th>02:00:00</th>\n      <td>4.9</td>\n      <td>0.7</td>\n      <td>2.6</td>\n      <td>0.0</td>\n      <td>83.7</td>\n      <td>0.118</td>\n      <td>4.17</td>\n      <td>36.9</td>\n      <td>2.8</td>\n      <td>1.0</td>\n      <td>...</td>\n      <td>0</td>\n      <td>0.0</td>\n      <td>0</td>\n      <td>0</td>\n      <td>0</td>\n      <td>0</td>\n      <td>0</td>\n      <td>0</td>\n      <td>0</td>\n      <td>0</td>\n    </tr>\n    <tr>\n      <th>03:00:00</th>\n      <td>4.9</td>\n      <td>0.7</td>\n      <td>2.6</td>\n      <td>0.0</td>\n      <td>83.7</td>\n      <td>0.118</td>\n      <td>4.17</td>\n      <td>36.9</td>\n      <td>2.8</td>\n      <td>1.0</td>\n      <td>...</td>\n      <td>0</td>\n      <td>0.0</td>\n      <td>0</td>\n      <td>0</td>\n      <td>0</td>\n      <td>0</td>\n      <td>0</td>\n      <td>0</td>\n      <td>0</td>\n      <td>0</td>\n    </tr>\n    <tr>\n      <th>04:00:00</th>\n      <td>4.9</td>\n      <td>0.7</td>\n      <td>2.6</td>\n      <td>0.0</td>\n      <td>83.7</td>\n      <td>0.118</td>\n      <td>4.17</td>\n      <td>36.9</td>\n      <td>2.8</td>\n      <td>1.0</td>\n      <td>...</td>\n      <td>0</td>\n      <td>0.0</td>\n      <td>0</td>\n      <td>0</td>\n      <td>0</td>\n      <td>0</td>\n      <td>0</td>\n      <td>0</td>\n      <td>0</td>\n      <td>0</td>\n    </tr>\n    <tr>\n      <th>...</th>\n      <th>...</th>\n      <td>...</td>\n      <td>...</td>\n      <td>...</td>\n      <td>...</td>\n      <td>...</td>\n      <td>...</td>\n      <td>...</td>\n      <td>...</td>\n      <td>...</td>\n      <td>...</td>\n      <td>...</td>\n      <td>...</td>\n      <td>...</td>\n      <td>...</td>\n      <td>...</td>\n      <td>...</td>\n      <td>...</td>\n      <td>...</td>\n      <td>...</td>\n      <td>...</td>\n      <td>...</td>\n    </tr>\n    <tr>\n      <th rowspan=\"5\" valign=\"top\">2023-01-20</th>\n      <th>19:00:00</th>\n      <td>11.2</td>\n      <td>5.7</td>\n      <td>7.9</td>\n      <td>6.2</td>\n      <td>89.3</td>\n      <td>0.600</td>\n      <td>12.50</td>\n      <td>16.8</td>\n      <td>1.4</td>\n      <td>1.0</td>\n      <td>...</td>\n      <td>0</td>\n      <td>0.0</td>\n      <td>0</td>\n      <td>0</td>\n      <td>0</td>\n      <td>0</td>\n      <td>0</td>\n      <td>0</td>\n      <td>0</td>\n      <td>0</td>\n    </tr>\n    <tr>\n      <th>20:00:00</th>\n      <td>11.2</td>\n      <td>5.7</td>\n      <td>7.9</td>\n      <td>6.2</td>\n      <td>89.3</td>\n      <td>0.600</td>\n      <td>12.50</td>\n      <td>16.8</td>\n      <td>1.4</td>\n      <td>1.0</td>\n      <td>...</td>\n      <td>0</td>\n      <td>0.0</td>\n      <td>0</td>\n      <td>0</td>\n      <td>0</td>\n      <td>0</td>\n      <td>0</td>\n      <td>0</td>\n      <td>0</td>\n      <td>0</td>\n    </tr>\n    <tr>\n      <th>21:00:00</th>\n      <td>11.2</td>\n      <td>5.7</td>\n      <td>7.9</td>\n      <td>6.2</td>\n      <td>89.3</td>\n      <td>0.600</td>\n      <td>12.50</td>\n      <td>16.8</td>\n      <td>1.4</td>\n      <td>1.0</td>\n      <td>...</td>\n      <td>0</td>\n      <td>0.0</td>\n      <td>0</td>\n      <td>0</td>\n      <td>0</td>\n      <td>0</td>\n      <td>0</td>\n      <td>0</td>\n      <td>0</td>\n      <td>0</td>\n    </tr>\n    <tr>\n      <th>22:00:00</th>\n      <td>11.2</td>\n      <td>5.7</td>\n      <td>7.9</td>\n      <td>6.2</td>\n      <td>89.3</td>\n      <td>0.600</td>\n      <td>12.50</td>\n      <td>16.8</td>\n      <td>1.4</td>\n      <td>1.0</td>\n      <td>...</td>\n      <td>0</td>\n      <td>0.0</td>\n      <td>0</td>\n      <td>0</td>\n      <td>0</td>\n      <td>0</td>\n      <td>0</td>\n      <td>0</td>\n      <td>0</td>\n      <td>6</td>\n    </tr>\n    <tr>\n      <th>23:00:00</th>\n      <td>11.2</td>\n      <td>5.7</td>\n      <td>7.9</td>\n      <td>6.2</td>\n      <td>89.3</td>\n      <td>0.600</td>\n      <td>12.50</td>\n      <td>16.8</td>\n      <td>1.4</td>\n      <td>1.0</td>\n      <td>...</td>\n      <td>0</td>\n      <td>0.0</td>\n      <td>0</td>\n      <td>0</td>\n      <td>0</td>\n      <td>0</td>\n      <td>0</td>\n      <td>0</td>\n      <td>0</td>\n      <td>6</td>\n    </tr>\n  </tbody>\n</table>\n<p>195085 rows × 52 columns</p>\n</div>"
     },
     "execution_count": 236,
     "metadata": {},
     "output_type": "execute_result"
    }
   ],
   "source": [
    "df"
   ],
   "metadata": {
    "collapsed": false,
    "ExecuteTime": {
     "end_time": "2024-03-24T18:16:18.159790Z",
     "start_time": "2024-03-24T18:16:17.867244Z"
    }
   },
   "id": "c3189b4d2048887e",
   "execution_count": 236
  },
  {
   "cell_type": "code",
   "outputs": [],
   "source": [
    "num_of_alarms24 = df.groupby([\"day_datetime\", \"region_id\"])[\"is_alarm\"].sum()"
   ],
   "metadata": {
    "collapsed": false,
    "ExecuteTime": {
     "end_time": "2024-03-24T18:16:21.001815Z",
     "start_time": "2024-03-24T18:16:20.965098Z"
    }
   },
   "id": "3f57486ec8886325",
   "execution_count": 237
  },
  {
   "cell_type": "code",
   "outputs": [
    {
     "data": {
      "text/plain": "day_datetime  region_id\n2022-02-24    2            0\n              3            0\n              4            0\n              5            0\n              6            0\n                          ..\n2023-01-20    21           4\n              22           4\n              23           4\n              24           4\n              25           6\nName: is_alarm, Length: 7613, dtype: int64"
     },
     "execution_count": 238,
     "metadata": {},
     "output_type": "execute_result"
    }
   ],
   "source": [
    "num_of_alarms24"
   ],
   "metadata": {
    "collapsed": false,
    "ExecuteTime": {
     "end_time": "2024-03-24T18:16:21.013377Z",
     "start_time": "2024-03-24T18:16:21.002817Z"
    }
   },
   "id": "25dc1aa0313b5466",
   "execution_count": 238
  },
  {
   "cell_type": "code",
   "outputs": [],
   "source": [
    "df_reset = df.reset_index()\n",
    "\n",
    "df_reset[\"num_of_alarms24\"] = df_reset.apply(lambda row: num_of_alarms24.get((row[\"day_datetime\"], row[\"region_id\"]), 0), axis=1)\n",
    "\n",
    "df_reset.set_index([\"day_datetime\", \"hour_datetime\"], inplace=True)\n",
    "\n",
    "df[\"num_of_alarms24\"] = df_reset[\"num_of_alarms24\"]\n",
    "df_reset = df.reset_index()\n",
    "\n",
    "df_reset[\"num_of_alarms24\"] = df_reset.apply(lambda row: num_of_alarms24.get((row[\"day_datetime\"], row[\"region_id\"]), 0), axis=1)\n",
    "\n",
    "df_reset.set_index([\"day_datetime\", \"hour_datetime\"], inplace=True)\n",
    "\n",
    "df[\"num_of_alarms24\"] = df_reset[\"num_of_alarms24\"]"
   ],
   "metadata": {
    "collapsed": false,
    "ExecuteTime": {
     "end_time": "2024-03-24T18:16:43.247599Z",
     "start_time": "2024-03-24T18:16:21.766831Z"
    }
   },
   "id": "cae9e744ecde0b54",
   "execution_count": 239
  },
  {
   "cell_type": "code",
   "outputs": [
    {
     "data": {
      "text/plain": "                            day_tempmax  day_tempmin  day_temp  day_dew  \\\nday_datetime hour_datetime                                                \n2022-02-24   00:00:00               4.9          0.7       2.6      0.0   \n             01:00:00               4.9          0.7       2.6      0.0   \n             02:00:00               4.9          0.7       2.6      0.0   \n             03:00:00               4.9          0.7       2.6      0.0   \n             04:00:00               4.9          0.7       2.6      0.0   \n...                                 ...          ...       ...      ...   \n2023-01-20   19:00:00              11.2          5.7       7.9      6.2   \n             20:00:00              11.2          5.7       7.9      6.2   \n             21:00:00              11.2          5.7       7.9      6.2   \n             22:00:00              11.2          5.7       7.9      6.2   \n             23:00:00              11.2          5.7       7.9      6.2   \n\n                            day_humidity  day_precip  day_precipcover  \\\nday_datetime hour_datetime                                              \n2022-02-24   00:00:00               83.7       0.118             4.17   \n             01:00:00               83.7       0.118             4.17   \n             02:00:00               83.7       0.118             4.17   \n             03:00:00               83.7       0.118             4.17   \n             04:00:00               83.7       0.118             4.17   \n...                                  ...         ...              ...   \n2023-01-20   19:00:00               89.3       0.600            12.50   \n             20:00:00               89.3       0.600            12.50   \n             21:00:00               89.3       0.600            12.50   \n             22:00:00               89.3       0.600            12.50   \n             23:00:00               89.3       0.600            12.50   \n\n                            day_solarradiation  day_solarenergy  day_uvindex  \\\nday_datetime hour_datetime                                                     \n2022-02-24   00:00:00                     36.9              2.8          1.0   \n             01:00:00                     36.9              2.8          1.0   \n             02:00:00                     36.9              2.8          1.0   \n             03:00:00                     36.9              2.8          1.0   \n             04:00:00                     36.9              2.8          1.0   \n...                                        ...              ...          ...   \n2023-01-20   19:00:00                     16.8              1.4          1.0   \n             20:00:00                     16.8              1.4          1.0   \n             21:00:00                     16.8              1.4          1.0   \n             22:00:00                     16.8              1.4          1.0   \n             23:00:00                     16.8              1.4          1.0   \n\n                            ... event_intersection_alarm_id event_start_time  \\\nday_datetime hour_datetime  ...                                                \n2022-02-24   00:00:00       ...                         0.0                0   \n             01:00:00       ...                         0.0                0   \n             02:00:00       ...                         0.0                0   \n             03:00:00       ...                         0.0                0   \n             04:00:00       ...                         0.0                0   \n...                         ...                         ...              ...   \n2023-01-20   19:00:00       ...                         0.0                0   \n             20:00:00       ...                         0.0                0   \n             21:00:00       ...                         0.0                0   \n             22:00:00       ...                         0.0                0   \n             23:00:00       ...                         0.0                0   \n\n                            event_end_time  event_start_hour  event_end_hour  \\\nday_datetime hour_datetime                                                     \n2022-02-24   00:00:00                    0                 0               0   \n             01:00:00                    0                 0               0   \n             02:00:00                    0                 0               0   \n             03:00:00                    0                 0               0   \n             04:00:00                    0                 0               0   \n...                                    ...               ...             ...   \n2023-01-20   19:00:00                    0                 0               0   \n             20:00:00                    0                 0               0   \n             21:00:00                    0                 0               0   \n             22:00:00                    0                 0               0   \n             23:00:00                    0                 0               0   \n\n                            event_day_date  event_hour_level_event_time  \\\nday_datetime hour_datetime                                                \n2022-02-24   00:00:00                    0                            0   \n             01:00:00                    0                            0   \n             02:00:00                    0                            0   \n             03:00:00                    0                            0   \n             04:00:00                    0                            0   \n...                                    ...                          ...   \n2023-01-20   19:00:00                    0                            0   \n             20:00:00                    0                            0   \n             21:00:00                    0                            0   \n             22:00:00                    0                            0   \n             23:00:00                    0                            0   \n\n                            is_alarm  num_of_reg_alarms num_of_alarms24  \nday_datetime hour_datetime                                               \n2022-02-24   00:00:00              0                  0               0  \n             01:00:00              0                  0               0  \n             02:00:00              0                  0               0  \n             03:00:00              0                  0               0  \n             04:00:00              0                  0               0  \n...                              ...                ...             ...  \n2023-01-20   19:00:00              0                  0               4  \n             20:00:00              0                  0               4  \n             21:00:00              0                  0               4  \n             22:00:00              0                  6               4  \n             23:00:00              0                  6               4  \n\n[195085 rows x 53 columns]",
      "text/html": "<div>\n<style scoped>\n    .dataframe tbody tr th:only-of-type {\n        vertical-align: middle;\n    }\n\n    .dataframe tbody tr th {\n        vertical-align: top;\n    }\n\n    .dataframe thead th {\n        text-align: right;\n    }\n</style>\n<table border=\"1\" class=\"dataframe\">\n  <thead>\n    <tr style=\"text-align: right;\">\n      <th></th>\n      <th></th>\n      <th>day_tempmax</th>\n      <th>day_tempmin</th>\n      <th>day_temp</th>\n      <th>day_dew</th>\n      <th>day_humidity</th>\n      <th>day_precip</th>\n      <th>day_precipcover</th>\n      <th>day_solarradiation</th>\n      <th>day_solarenergy</th>\n      <th>day_uvindex</th>\n      <th>...</th>\n      <th>event_intersection_alarm_id</th>\n      <th>event_start_time</th>\n      <th>event_end_time</th>\n      <th>event_start_hour</th>\n      <th>event_end_hour</th>\n      <th>event_day_date</th>\n      <th>event_hour_level_event_time</th>\n      <th>is_alarm</th>\n      <th>num_of_reg_alarms</th>\n      <th>num_of_alarms24</th>\n    </tr>\n    <tr>\n      <th>day_datetime</th>\n      <th>hour_datetime</th>\n      <th></th>\n      <th></th>\n      <th></th>\n      <th></th>\n      <th></th>\n      <th></th>\n      <th></th>\n      <th></th>\n      <th></th>\n      <th></th>\n      <th></th>\n      <th></th>\n      <th></th>\n      <th></th>\n      <th></th>\n      <th></th>\n      <th></th>\n      <th></th>\n      <th></th>\n      <th></th>\n      <th></th>\n    </tr>\n  </thead>\n  <tbody>\n    <tr>\n      <th rowspan=\"5\" valign=\"top\">2022-02-24</th>\n      <th>00:00:00</th>\n      <td>4.9</td>\n      <td>0.7</td>\n      <td>2.6</td>\n      <td>0.0</td>\n      <td>83.7</td>\n      <td>0.118</td>\n      <td>4.17</td>\n      <td>36.9</td>\n      <td>2.8</td>\n      <td>1.0</td>\n      <td>...</td>\n      <td>0.0</td>\n      <td>0</td>\n      <td>0</td>\n      <td>0</td>\n      <td>0</td>\n      <td>0</td>\n      <td>0</td>\n      <td>0</td>\n      <td>0</td>\n      <td>0</td>\n    </tr>\n    <tr>\n      <th>01:00:00</th>\n      <td>4.9</td>\n      <td>0.7</td>\n      <td>2.6</td>\n      <td>0.0</td>\n      <td>83.7</td>\n      <td>0.118</td>\n      <td>4.17</td>\n      <td>36.9</td>\n      <td>2.8</td>\n      <td>1.0</td>\n      <td>...</td>\n      <td>0.0</td>\n      <td>0</td>\n      <td>0</td>\n      <td>0</td>\n      <td>0</td>\n      <td>0</td>\n      <td>0</td>\n      <td>0</td>\n      <td>0</td>\n      <td>0</td>\n    </tr>\n    <tr>\n      <th>02:00:00</th>\n      <td>4.9</td>\n      <td>0.7</td>\n      <td>2.6</td>\n      <td>0.0</td>\n      <td>83.7</td>\n      <td>0.118</td>\n      <td>4.17</td>\n      <td>36.9</td>\n      <td>2.8</td>\n      <td>1.0</td>\n      <td>...</td>\n      <td>0.0</td>\n      <td>0</td>\n      <td>0</td>\n      <td>0</td>\n      <td>0</td>\n      <td>0</td>\n      <td>0</td>\n      <td>0</td>\n      <td>0</td>\n      <td>0</td>\n    </tr>\n    <tr>\n      <th>03:00:00</th>\n      <td>4.9</td>\n      <td>0.7</td>\n      <td>2.6</td>\n      <td>0.0</td>\n      <td>83.7</td>\n      <td>0.118</td>\n      <td>4.17</td>\n      <td>36.9</td>\n      <td>2.8</td>\n      <td>1.0</td>\n      <td>...</td>\n      <td>0.0</td>\n      <td>0</td>\n      <td>0</td>\n      <td>0</td>\n      <td>0</td>\n      <td>0</td>\n      <td>0</td>\n      <td>0</td>\n      <td>0</td>\n      <td>0</td>\n    </tr>\n    <tr>\n      <th>04:00:00</th>\n      <td>4.9</td>\n      <td>0.7</td>\n      <td>2.6</td>\n      <td>0.0</td>\n      <td>83.7</td>\n      <td>0.118</td>\n      <td>4.17</td>\n      <td>36.9</td>\n      <td>2.8</td>\n      <td>1.0</td>\n      <td>...</td>\n      <td>0.0</td>\n      <td>0</td>\n      <td>0</td>\n      <td>0</td>\n      <td>0</td>\n      <td>0</td>\n      <td>0</td>\n      <td>0</td>\n      <td>0</td>\n      <td>0</td>\n    </tr>\n    <tr>\n      <th>...</th>\n      <th>...</th>\n      <td>...</td>\n      <td>...</td>\n      <td>...</td>\n      <td>...</td>\n      <td>...</td>\n      <td>...</td>\n      <td>...</td>\n      <td>...</td>\n      <td>...</td>\n      <td>...</td>\n      <td>...</td>\n      <td>...</td>\n      <td>...</td>\n      <td>...</td>\n      <td>...</td>\n      <td>...</td>\n      <td>...</td>\n      <td>...</td>\n      <td>...</td>\n      <td>...</td>\n      <td>...</td>\n    </tr>\n    <tr>\n      <th rowspan=\"5\" valign=\"top\">2023-01-20</th>\n      <th>19:00:00</th>\n      <td>11.2</td>\n      <td>5.7</td>\n      <td>7.9</td>\n      <td>6.2</td>\n      <td>89.3</td>\n      <td>0.600</td>\n      <td>12.50</td>\n      <td>16.8</td>\n      <td>1.4</td>\n      <td>1.0</td>\n      <td>...</td>\n      <td>0.0</td>\n      <td>0</td>\n      <td>0</td>\n      <td>0</td>\n      <td>0</td>\n      <td>0</td>\n      <td>0</td>\n      <td>0</td>\n      <td>0</td>\n      <td>4</td>\n    </tr>\n    <tr>\n      <th>20:00:00</th>\n      <td>11.2</td>\n      <td>5.7</td>\n      <td>7.9</td>\n      <td>6.2</td>\n      <td>89.3</td>\n      <td>0.600</td>\n      <td>12.50</td>\n      <td>16.8</td>\n      <td>1.4</td>\n      <td>1.0</td>\n      <td>...</td>\n      <td>0.0</td>\n      <td>0</td>\n      <td>0</td>\n      <td>0</td>\n      <td>0</td>\n      <td>0</td>\n      <td>0</td>\n      <td>0</td>\n      <td>0</td>\n      <td>4</td>\n    </tr>\n    <tr>\n      <th>21:00:00</th>\n      <td>11.2</td>\n      <td>5.7</td>\n      <td>7.9</td>\n      <td>6.2</td>\n      <td>89.3</td>\n      <td>0.600</td>\n      <td>12.50</td>\n      <td>16.8</td>\n      <td>1.4</td>\n      <td>1.0</td>\n      <td>...</td>\n      <td>0.0</td>\n      <td>0</td>\n      <td>0</td>\n      <td>0</td>\n      <td>0</td>\n      <td>0</td>\n      <td>0</td>\n      <td>0</td>\n      <td>0</td>\n      <td>4</td>\n    </tr>\n    <tr>\n      <th>22:00:00</th>\n      <td>11.2</td>\n      <td>5.7</td>\n      <td>7.9</td>\n      <td>6.2</td>\n      <td>89.3</td>\n      <td>0.600</td>\n      <td>12.50</td>\n      <td>16.8</td>\n      <td>1.4</td>\n      <td>1.0</td>\n      <td>...</td>\n      <td>0.0</td>\n      <td>0</td>\n      <td>0</td>\n      <td>0</td>\n      <td>0</td>\n      <td>0</td>\n      <td>0</td>\n      <td>0</td>\n      <td>6</td>\n      <td>4</td>\n    </tr>\n    <tr>\n      <th>23:00:00</th>\n      <td>11.2</td>\n      <td>5.7</td>\n      <td>7.9</td>\n      <td>6.2</td>\n      <td>89.3</td>\n      <td>0.600</td>\n      <td>12.50</td>\n      <td>16.8</td>\n      <td>1.4</td>\n      <td>1.0</td>\n      <td>...</td>\n      <td>0.0</td>\n      <td>0</td>\n      <td>0</td>\n      <td>0</td>\n      <td>0</td>\n      <td>0</td>\n      <td>0</td>\n      <td>0</td>\n      <td>6</td>\n      <td>4</td>\n    </tr>\n  </tbody>\n</table>\n<p>195085 rows × 53 columns</p>\n</div>"
     },
     "execution_count": 240,
     "metadata": {},
     "output_type": "execute_result"
    }
   ],
   "source": [
    "df"
   ],
   "metadata": {
    "collapsed": false,
    "ExecuteTime": {
     "end_time": "2024-03-24T18:16:43.436721Z",
     "start_time": "2024-03-24T18:16:43.249601Z"
    }
   },
   "id": "ccad6eb1cc774143",
   "execution_count": 240
  },
  {
   "cell_type": "code",
   "outputs": [],
   "source": [
    "df[\"day_sunset\"] = df[\"day_sunset\"].astype(\"datetime64[ns]\")\n",
    "df[\"day_sunrise\"] = df[\"day_sunrise\"].astype(\"datetime64[ns]\")"
   ],
   "metadata": {
    "collapsed": false,
    "ExecuteTime": {
     "end_time": "2024-03-24T18:16:58.953896Z",
     "start_time": "2024-03-24T18:16:43.438720Z"
    }
   },
   "id": "762f23b9a81e534",
   "execution_count": 241
  },
  {
   "cell_type": "code",
   "outputs": [],
   "source": [
    "light_day_duration = (df.day_sunset - df.day_sunrise).dt.seconds\n",
    "light_day_duration = light_day_duration / 3600"
   ],
   "metadata": {
    "collapsed": false,
    "ExecuteTime": {
     "end_time": "2024-03-24T18:16:58.976394Z",
     "start_time": "2024-03-24T18:16:58.954901Z"
    }
   },
   "id": "f4711ce852a79e22",
   "execution_count": 242
  },
  {
   "cell_type": "code",
   "outputs": [
    {
     "data": {
      "text/plain": "day_datetime  hour_datetime\n2022-02-24    00:00:00         10.625000\n              01:00:00         10.625000\n              02:00:00         10.625000\n              03:00:00         10.625000\n              04:00:00         10.625000\n                                 ...    \n2023-01-20    19:00:00          8.844167\n              20:00:00          8.844167\n              21:00:00          8.844167\n              22:00:00          8.844167\n              23:00:00          8.844167\nLength: 195085, dtype: float64"
     },
     "execution_count": 243,
     "metadata": {},
     "output_type": "execute_result"
    }
   ],
   "source": [
    "light_day_duration"
   ],
   "metadata": {
    "collapsed": false,
    "ExecuteTime": {
     "end_time": "2024-03-24T18:16:58.991512Z",
     "start_time": "2024-03-24T18:16:58.978393Z"
    }
   },
   "id": "a869d4655320fffa",
   "execution_count": 243
  },
  {
   "cell_type": "code",
   "outputs": [
    {
     "data": {
      "text/plain": "                            day_tempmax  day_tempmin  day_temp  day_dew  \\\nday_datetime hour_datetime                                                \n2022-02-24   00:00:00               4.9          0.7       2.6      0.0   \n             01:00:00               4.9          0.7       2.6      0.0   \n             02:00:00               4.9          0.7       2.6      0.0   \n             03:00:00               4.9          0.7       2.6      0.0   \n             04:00:00               4.9          0.7       2.6      0.0   \n...                                 ...          ...       ...      ...   \n2023-01-20   19:00:00              11.2          5.7       7.9      6.2   \n             20:00:00              11.2          5.7       7.9      6.2   \n             21:00:00              11.2          5.7       7.9      6.2   \n             22:00:00              11.2          5.7       7.9      6.2   \n             23:00:00              11.2          5.7       7.9      6.2   \n\n                            day_humidity  day_precip  day_precipcover  \\\nday_datetime hour_datetime                                              \n2022-02-24   00:00:00               83.7       0.118             4.17   \n             01:00:00               83.7       0.118             4.17   \n             02:00:00               83.7       0.118             4.17   \n             03:00:00               83.7       0.118             4.17   \n             04:00:00               83.7       0.118             4.17   \n...                                  ...         ...              ...   \n2023-01-20   19:00:00               89.3       0.600            12.50   \n             20:00:00               89.3       0.600            12.50   \n             21:00:00               89.3       0.600            12.50   \n             22:00:00               89.3       0.600            12.50   \n             23:00:00               89.3       0.600            12.50   \n\n                            day_solarradiation  day_solarenergy  day_uvindex  \\\nday_datetime hour_datetime                                                     \n2022-02-24   00:00:00                     36.9              2.8          1.0   \n             01:00:00                     36.9              2.8          1.0   \n             02:00:00                     36.9              2.8          1.0   \n             03:00:00                     36.9              2.8          1.0   \n             04:00:00                     36.9              2.8          1.0   \n...                                        ...              ...          ...   \n2023-01-20   19:00:00                     16.8              1.4          1.0   \n             20:00:00                     16.8              1.4          1.0   \n             21:00:00                     16.8              1.4          1.0   \n             22:00:00                     16.8              1.4          1.0   \n             23:00:00                     16.8              1.4          1.0   \n\n                            ... event_start_time event_end_time  \\\nday_datetime hour_datetime  ...                                   \n2022-02-24   00:00:00       ...                0              0   \n             01:00:00       ...                0              0   \n             02:00:00       ...                0              0   \n             03:00:00       ...                0              0   \n             04:00:00       ...                0              0   \n...                         ...              ...            ...   \n2023-01-20   19:00:00       ...                0              0   \n             20:00:00       ...                0              0   \n             21:00:00       ...                0              0   \n             22:00:00       ...                0              0   \n             23:00:00       ...                0              0   \n\n                            event_start_hour  event_end_hour  event_day_date  \\\nday_datetime hour_datetime                                                     \n2022-02-24   00:00:00                      0               0               0   \n             01:00:00                      0               0               0   \n             02:00:00                      0               0               0   \n             03:00:00                      0               0               0   \n             04:00:00                      0               0               0   \n...                                      ...             ...             ...   \n2023-01-20   19:00:00                      0               0               0   \n             20:00:00                      0               0               0   \n             21:00:00                      0               0               0   \n             22:00:00                      0               0               0   \n             23:00:00                      0               0               0   \n\n                            event_hour_level_event_time  is_alarm  \\\nday_datetime hour_datetime                                          \n2022-02-24   00:00:00                                 0         0   \n             01:00:00                                 0         0   \n             02:00:00                                 0         0   \n             03:00:00                                 0         0   \n             04:00:00                                 0         0   \n...                                                 ...       ...   \n2023-01-20   19:00:00                                 0         0   \n             20:00:00                                 0         0   \n             21:00:00                                 0         0   \n             22:00:00                                 0         0   \n             23:00:00                                 0         0   \n\n                            num_of_reg_alarms  num_of_alarms24  \\\nday_datetime hour_datetime                                       \n2022-02-24   00:00:00                       0                0   \n             01:00:00                       0                0   \n             02:00:00                       0                0   \n             03:00:00                       0                0   \n             04:00:00                       0                0   \n...                                       ...              ...   \n2023-01-20   19:00:00                       0                4   \n             20:00:00                       0                4   \n             21:00:00                       0                4   \n             22:00:00                       6                4   \n             23:00:00                       6                4   \n\n                           light_day_duration  \nday_datetime hour_datetime                     \n2022-02-24   00:00:00               10.625000  \n             01:00:00               10.625000  \n             02:00:00               10.625000  \n             03:00:00               10.625000  \n             04:00:00               10.625000  \n...                                       ...  \n2023-01-20   19:00:00                8.844167  \n             20:00:00                8.844167  \n             21:00:00                8.844167  \n             22:00:00                8.844167  \n             23:00:00                8.844167  \n\n[195085 rows x 54 columns]",
      "text/html": "<div>\n<style scoped>\n    .dataframe tbody tr th:only-of-type {\n        vertical-align: middle;\n    }\n\n    .dataframe tbody tr th {\n        vertical-align: top;\n    }\n\n    .dataframe thead th {\n        text-align: right;\n    }\n</style>\n<table border=\"1\" class=\"dataframe\">\n  <thead>\n    <tr style=\"text-align: right;\">\n      <th></th>\n      <th></th>\n      <th>day_tempmax</th>\n      <th>day_tempmin</th>\n      <th>day_temp</th>\n      <th>day_dew</th>\n      <th>day_humidity</th>\n      <th>day_precip</th>\n      <th>day_precipcover</th>\n      <th>day_solarradiation</th>\n      <th>day_solarenergy</th>\n      <th>day_uvindex</th>\n      <th>...</th>\n      <th>event_start_time</th>\n      <th>event_end_time</th>\n      <th>event_start_hour</th>\n      <th>event_end_hour</th>\n      <th>event_day_date</th>\n      <th>event_hour_level_event_time</th>\n      <th>is_alarm</th>\n      <th>num_of_reg_alarms</th>\n      <th>num_of_alarms24</th>\n      <th>light_day_duration</th>\n    </tr>\n    <tr>\n      <th>day_datetime</th>\n      <th>hour_datetime</th>\n      <th></th>\n      <th></th>\n      <th></th>\n      <th></th>\n      <th></th>\n      <th></th>\n      <th></th>\n      <th></th>\n      <th></th>\n      <th></th>\n      <th></th>\n      <th></th>\n      <th></th>\n      <th></th>\n      <th></th>\n      <th></th>\n      <th></th>\n      <th></th>\n      <th></th>\n      <th></th>\n      <th></th>\n    </tr>\n  </thead>\n  <tbody>\n    <tr>\n      <th rowspan=\"5\" valign=\"top\">2022-02-24</th>\n      <th>00:00:00</th>\n      <td>4.9</td>\n      <td>0.7</td>\n      <td>2.6</td>\n      <td>0.0</td>\n      <td>83.7</td>\n      <td>0.118</td>\n      <td>4.17</td>\n      <td>36.9</td>\n      <td>2.8</td>\n      <td>1.0</td>\n      <td>...</td>\n      <td>0</td>\n      <td>0</td>\n      <td>0</td>\n      <td>0</td>\n      <td>0</td>\n      <td>0</td>\n      <td>0</td>\n      <td>0</td>\n      <td>0</td>\n      <td>10.625000</td>\n    </tr>\n    <tr>\n      <th>01:00:00</th>\n      <td>4.9</td>\n      <td>0.7</td>\n      <td>2.6</td>\n      <td>0.0</td>\n      <td>83.7</td>\n      <td>0.118</td>\n      <td>4.17</td>\n      <td>36.9</td>\n      <td>2.8</td>\n      <td>1.0</td>\n      <td>...</td>\n      <td>0</td>\n      <td>0</td>\n      <td>0</td>\n      <td>0</td>\n      <td>0</td>\n      <td>0</td>\n      <td>0</td>\n      <td>0</td>\n      <td>0</td>\n      <td>10.625000</td>\n    </tr>\n    <tr>\n      <th>02:00:00</th>\n      <td>4.9</td>\n      <td>0.7</td>\n      <td>2.6</td>\n      <td>0.0</td>\n      <td>83.7</td>\n      <td>0.118</td>\n      <td>4.17</td>\n      <td>36.9</td>\n      <td>2.8</td>\n      <td>1.0</td>\n      <td>...</td>\n      <td>0</td>\n      <td>0</td>\n      <td>0</td>\n      <td>0</td>\n      <td>0</td>\n      <td>0</td>\n      <td>0</td>\n      <td>0</td>\n      <td>0</td>\n      <td>10.625000</td>\n    </tr>\n    <tr>\n      <th>03:00:00</th>\n      <td>4.9</td>\n      <td>0.7</td>\n      <td>2.6</td>\n      <td>0.0</td>\n      <td>83.7</td>\n      <td>0.118</td>\n      <td>4.17</td>\n      <td>36.9</td>\n      <td>2.8</td>\n      <td>1.0</td>\n      <td>...</td>\n      <td>0</td>\n      <td>0</td>\n      <td>0</td>\n      <td>0</td>\n      <td>0</td>\n      <td>0</td>\n      <td>0</td>\n      <td>0</td>\n      <td>0</td>\n      <td>10.625000</td>\n    </tr>\n    <tr>\n      <th>04:00:00</th>\n      <td>4.9</td>\n      <td>0.7</td>\n      <td>2.6</td>\n      <td>0.0</td>\n      <td>83.7</td>\n      <td>0.118</td>\n      <td>4.17</td>\n      <td>36.9</td>\n      <td>2.8</td>\n      <td>1.0</td>\n      <td>...</td>\n      <td>0</td>\n      <td>0</td>\n      <td>0</td>\n      <td>0</td>\n      <td>0</td>\n      <td>0</td>\n      <td>0</td>\n      <td>0</td>\n      <td>0</td>\n      <td>10.625000</td>\n    </tr>\n    <tr>\n      <th>...</th>\n      <th>...</th>\n      <td>...</td>\n      <td>...</td>\n      <td>...</td>\n      <td>...</td>\n      <td>...</td>\n      <td>...</td>\n      <td>...</td>\n      <td>...</td>\n      <td>...</td>\n      <td>...</td>\n      <td>...</td>\n      <td>...</td>\n      <td>...</td>\n      <td>...</td>\n      <td>...</td>\n      <td>...</td>\n      <td>...</td>\n      <td>...</td>\n      <td>...</td>\n      <td>...</td>\n      <td>...</td>\n    </tr>\n    <tr>\n      <th rowspan=\"5\" valign=\"top\">2023-01-20</th>\n      <th>19:00:00</th>\n      <td>11.2</td>\n      <td>5.7</td>\n      <td>7.9</td>\n      <td>6.2</td>\n      <td>89.3</td>\n      <td>0.600</td>\n      <td>12.50</td>\n      <td>16.8</td>\n      <td>1.4</td>\n      <td>1.0</td>\n      <td>...</td>\n      <td>0</td>\n      <td>0</td>\n      <td>0</td>\n      <td>0</td>\n      <td>0</td>\n      <td>0</td>\n      <td>0</td>\n      <td>0</td>\n      <td>4</td>\n      <td>8.844167</td>\n    </tr>\n    <tr>\n      <th>20:00:00</th>\n      <td>11.2</td>\n      <td>5.7</td>\n      <td>7.9</td>\n      <td>6.2</td>\n      <td>89.3</td>\n      <td>0.600</td>\n      <td>12.50</td>\n      <td>16.8</td>\n      <td>1.4</td>\n      <td>1.0</td>\n      <td>...</td>\n      <td>0</td>\n      <td>0</td>\n      <td>0</td>\n      <td>0</td>\n      <td>0</td>\n      <td>0</td>\n      <td>0</td>\n      <td>0</td>\n      <td>4</td>\n      <td>8.844167</td>\n    </tr>\n    <tr>\n      <th>21:00:00</th>\n      <td>11.2</td>\n      <td>5.7</td>\n      <td>7.9</td>\n      <td>6.2</td>\n      <td>89.3</td>\n      <td>0.600</td>\n      <td>12.50</td>\n      <td>16.8</td>\n      <td>1.4</td>\n      <td>1.0</td>\n      <td>...</td>\n      <td>0</td>\n      <td>0</td>\n      <td>0</td>\n      <td>0</td>\n      <td>0</td>\n      <td>0</td>\n      <td>0</td>\n      <td>0</td>\n      <td>4</td>\n      <td>8.844167</td>\n    </tr>\n    <tr>\n      <th>22:00:00</th>\n      <td>11.2</td>\n      <td>5.7</td>\n      <td>7.9</td>\n      <td>6.2</td>\n      <td>89.3</td>\n      <td>0.600</td>\n      <td>12.50</td>\n      <td>16.8</td>\n      <td>1.4</td>\n      <td>1.0</td>\n      <td>...</td>\n      <td>0</td>\n      <td>0</td>\n      <td>0</td>\n      <td>0</td>\n      <td>0</td>\n      <td>0</td>\n      <td>0</td>\n      <td>6</td>\n      <td>4</td>\n      <td>8.844167</td>\n    </tr>\n    <tr>\n      <th>23:00:00</th>\n      <td>11.2</td>\n      <td>5.7</td>\n      <td>7.9</td>\n      <td>6.2</td>\n      <td>89.3</td>\n      <td>0.600</td>\n      <td>12.50</td>\n      <td>16.8</td>\n      <td>1.4</td>\n      <td>1.0</td>\n      <td>...</td>\n      <td>0</td>\n      <td>0</td>\n      <td>0</td>\n      <td>0</td>\n      <td>0</td>\n      <td>0</td>\n      <td>0</td>\n      <td>6</td>\n      <td>4</td>\n      <td>8.844167</td>\n    </tr>\n  </tbody>\n</table>\n<p>195085 rows × 54 columns</p>\n</div>"
     },
     "execution_count": 244,
     "metadata": {},
     "output_type": "execute_result"
    }
   ],
   "source": [
    "df[\"light_day_duration\"] = light_day_duration\n",
    "df"
   ],
   "metadata": {
    "collapsed": false,
    "ExecuteTime": {
     "end_time": "2024-03-24T18:16:59.182955Z",
     "start_time": "2024-03-24T18:16:58.995507Z"
    }
   },
   "id": "6eb684f70bd04fb1",
   "execution_count": 244
  },
  {
   "cell_type": "code",
   "outputs": [],
   "source": [
    "df[\"event_end\"] = df[\"event_end\"].astype(\"datetime64[ns]\")\n",
    "df[\"event_start\"] = df[\"event_start\"].astype(\"datetime64[ns]\")"
   ],
   "metadata": {
    "collapsed": false,
    "ExecuteTime": {
     "end_time": "2024-03-24T18:16:59.474695Z",
     "start_time": "2024-03-24T18:16:59.184954Z"
    }
   },
   "id": "ee37324665fdea0a",
   "execution_count": 245
  },
  {
   "cell_type": "code",
   "outputs": [
    {
     "data": {
      "text/plain": "                            day_tempmax  day_tempmin  day_temp  day_dew  \\\nday_datetime hour_datetime                                                \n2022-02-24   00:00:00               4.9          0.7       2.6      0.0   \n             01:00:00               4.9          0.7       2.6      0.0   \n             02:00:00               4.9          0.7       2.6      0.0   \n             03:00:00               4.9          0.7       2.6      0.0   \n             04:00:00               4.9          0.7       2.6      0.0   \n...                                 ...          ...       ...      ...   \n2023-01-20   19:00:00              11.2          5.7       7.9      6.2   \n             20:00:00              11.2          5.7       7.9      6.2   \n             21:00:00              11.2          5.7       7.9      6.2   \n             22:00:00              11.2          5.7       7.9      6.2   \n             23:00:00              11.2          5.7       7.9      6.2   \n\n                            day_humidity  day_precip  day_precipcover  \\\nday_datetime hour_datetime                                              \n2022-02-24   00:00:00               83.7       0.118             4.17   \n             01:00:00               83.7       0.118             4.17   \n             02:00:00               83.7       0.118             4.17   \n             03:00:00               83.7       0.118             4.17   \n             04:00:00               83.7       0.118             4.17   \n...                                  ...         ...              ...   \n2023-01-20   19:00:00               89.3       0.600            12.50   \n             20:00:00               89.3       0.600            12.50   \n             21:00:00               89.3       0.600            12.50   \n             22:00:00               89.3       0.600            12.50   \n             23:00:00               89.3       0.600            12.50   \n\n                            day_solarradiation  day_solarenergy  day_uvindex  \\\nday_datetime hour_datetime                                                     \n2022-02-24   00:00:00                     36.9              2.8          1.0   \n             01:00:00                     36.9              2.8          1.0   \n             02:00:00                     36.9              2.8          1.0   \n             03:00:00                     36.9              2.8          1.0   \n             04:00:00                     36.9              2.8          1.0   \n...                                        ...              ...          ...   \n2023-01-20   19:00:00                     16.8              1.4          1.0   \n             20:00:00                     16.8              1.4          1.0   \n             21:00:00                     16.8              1.4          1.0   \n             22:00:00                     16.8              1.4          1.0   \n             23:00:00                     16.8              1.4          1.0   \n\n                            ... event_end_time event_start_hour  \\\nday_datetime hour_datetime  ...                                   \n2022-02-24   00:00:00       ...              0                0   \n             01:00:00       ...              0                0   \n             02:00:00       ...              0                0   \n             03:00:00       ...              0                0   \n             04:00:00       ...              0                0   \n...                         ...            ...              ...   \n2023-01-20   19:00:00       ...              0                0   \n             20:00:00       ...              0                0   \n             21:00:00       ...              0                0   \n             22:00:00       ...              0                0   \n             23:00:00       ...              0                0   \n\n                            event_end_hour  event_day_date  \\\nday_datetime hour_datetime                                   \n2022-02-24   00:00:00                    0               0   \n             01:00:00                    0               0   \n             02:00:00                    0               0   \n             03:00:00                    0               0   \n             04:00:00                    0               0   \n...                                    ...             ...   \n2023-01-20   19:00:00                    0               0   \n             20:00:00                    0               0   \n             21:00:00                    0               0   \n             22:00:00                    0               0   \n             23:00:00                    0               0   \n\n                            event_hour_level_event_time  is_alarm  \\\nday_datetime hour_datetime                                          \n2022-02-24   00:00:00                                 0         0   \n             01:00:00                                 0         0   \n             02:00:00                                 0         0   \n             03:00:00                                 0         0   \n             04:00:00                                 0         0   \n...                                                 ...       ...   \n2023-01-20   19:00:00                                 0         0   \n             20:00:00                                 0         0   \n             21:00:00                                 0         0   \n             22:00:00                                 0         0   \n             23:00:00                                 0         0   \n\n                            num_of_reg_alarms  num_of_alarms24  \\\nday_datetime hour_datetime                                       \n2022-02-24   00:00:00                       0                0   \n             01:00:00                       0                0   \n             02:00:00                       0                0   \n             03:00:00                       0                0   \n             04:00:00                       0                0   \n...                                       ...              ...   \n2023-01-20   19:00:00                       0                4   \n             20:00:00                       0                4   \n             21:00:00                       0                4   \n             22:00:00                       6                4   \n             23:00:00                       6                4   \n\n                            light_day_duration event_duration  \nday_datetime hour_datetime                                     \n2022-02-24   00:00:00                10.625000            0.0  \n             01:00:00                10.625000            0.0  \n             02:00:00                10.625000            0.0  \n             03:00:00                10.625000            0.0  \n             04:00:00                10.625000            0.0  \n...                                        ...            ...  \n2023-01-20   19:00:00                 8.844167            0.0  \n             20:00:00                 8.844167            0.0  \n             21:00:00                 8.844167            0.0  \n             22:00:00                 8.844167            0.0  \n             23:00:00                 8.844167            0.0  \n\n[195085 rows x 55 columns]",
      "text/html": "<div>\n<style scoped>\n    .dataframe tbody tr th:only-of-type {\n        vertical-align: middle;\n    }\n\n    .dataframe tbody tr th {\n        vertical-align: top;\n    }\n\n    .dataframe thead th {\n        text-align: right;\n    }\n</style>\n<table border=\"1\" class=\"dataframe\">\n  <thead>\n    <tr style=\"text-align: right;\">\n      <th></th>\n      <th></th>\n      <th>day_tempmax</th>\n      <th>day_tempmin</th>\n      <th>day_temp</th>\n      <th>day_dew</th>\n      <th>day_humidity</th>\n      <th>day_precip</th>\n      <th>day_precipcover</th>\n      <th>day_solarradiation</th>\n      <th>day_solarenergy</th>\n      <th>day_uvindex</th>\n      <th>...</th>\n      <th>event_end_time</th>\n      <th>event_start_hour</th>\n      <th>event_end_hour</th>\n      <th>event_day_date</th>\n      <th>event_hour_level_event_time</th>\n      <th>is_alarm</th>\n      <th>num_of_reg_alarms</th>\n      <th>num_of_alarms24</th>\n      <th>light_day_duration</th>\n      <th>event_duration</th>\n    </tr>\n    <tr>\n      <th>day_datetime</th>\n      <th>hour_datetime</th>\n      <th></th>\n      <th></th>\n      <th></th>\n      <th></th>\n      <th></th>\n      <th></th>\n      <th></th>\n      <th></th>\n      <th></th>\n      <th></th>\n      <th></th>\n      <th></th>\n      <th></th>\n      <th></th>\n      <th></th>\n      <th></th>\n      <th></th>\n      <th></th>\n      <th></th>\n      <th></th>\n      <th></th>\n    </tr>\n  </thead>\n  <tbody>\n    <tr>\n      <th rowspan=\"5\" valign=\"top\">2022-02-24</th>\n      <th>00:00:00</th>\n      <td>4.9</td>\n      <td>0.7</td>\n      <td>2.6</td>\n      <td>0.0</td>\n      <td>83.7</td>\n      <td>0.118</td>\n      <td>4.17</td>\n      <td>36.9</td>\n      <td>2.8</td>\n      <td>1.0</td>\n      <td>...</td>\n      <td>0</td>\n      <td>0</td>\n      <td>0</td>\n      <td>0</td>\n      <td>0</td>\n      <td>0</td>\n      <td>0</td>\n      <td>0</td>\n      <td>10.625000</td>\n      <td>0.0</td>\n    </tr>\n    <tr>\n      <th>01:00:00</th>\n      <td>4.9</td>\n      <td>0.7</td>\n      <td>2.6</td>\n      <td>0.0</td>\n      <td>83.7</td>\n      <td>0.118</td>\n      <td>4.17</td>\n      <td>36.9</td>\n      <td>2.8</td>\n      <td>1.0</td>\n      <td>...</td>\n      <td>0</td>\n      <td>0</td>\n      <td>0</td>\n      <td>0</td>\n      <td>0</td>\n      <td>0</td>\n      <td>0</td>\n      <td>0</td>\n      <td>10.625000</td>\n      <td>0.0</td>\n    </tr>\n    <tr>\n      <th>02:00:00</th>\n      <td>4.9</td>\n      <td>0.7</td>\n      <td>2.6</td>\n      <td>0.0</td>\n      <td>83.7</td>\n      <td>0.118</td>\n      <td>4.17</td>\n      <td>36.9</td>\n      <td>2.8</td>\n      <td>1.0</td>\n      <td>...</td>\n      <td>0</td>\n      <td>0</td>\n      <td>0</td>\n      <td>0</td>\n      <td>0</td>\n      <td>0</td>\n      <td>0</td>\n      <td>0</td>\n      <td>10.625000</td>\n      <td>0.0</td>\n    </tr>\n    <tr>\n      <th>03:00:00</th>\n      <td>4.9</td>\n      <td>0.7</td>\n      <td>2.6</td>\n      <td>0.0</td>\n      <td>83.7</td>\n      <td>0.118</td>\n      <td>4.17</td>\n      <td>36.9</td>\n      <td>2.8</td>\n      <td>1.0</td>\n      <td>...</td>\n      <td>0</td>\n      <td>0</td>\n      <td>0</td>\n      <td>0</td>\n      <td>0</td>\n      <td>0</td>\n      <td>0</td>\n      <td>0</td>\n      <td>10.625000</td>\n      <td>0.0</td>\n    </tr>\n    <tr>\n      <th>04:00:00</th>\n      <td>4.9</td>\n      <td>0.7</td>\n      <td>2.6</td>\n      <td>0.0</td>\n      <td>83.7</td>\n      <td>0.118</td>\n      <td>4.17</td>\n      <td>36.9</td>\n      <td>2.8</td>\n      <td>1.0</td>\n      <td>...</td>\n      <td>0</td>\n      <td>0</td>\n      <td>0</td>\n      <td>0</td>\n      <td>0</td>\n      <td>0</td>\n      <td>0</td>\n      <td>0</td>\n      <td>10.625000</td>\n      <td>0.0</td>\n    </tr>\n    <tr>\n      <th>...</th>\n      <th>...</th>\n      <td>...</td>\n      <td>...</td>\n      <td>...</td>\n      <td>...</td>\n      <td>...</td>\n      <td>...</td>\n      <td>...</td>\n      <td>...</td>\n      <td>...</td>\n      <td>...</td>\n      <td>...</td>\n      <td>...</td>\n      <td>...</td>\n      <td>...</td>\n      <td>...</td>\n      <td>...</td>\n      <td>...</td>\n      <td>...</td>\n      <td>...</td>\n      <td>...</td>\n      <td>...</td>\n    </tr>\n    <tr>\n      <th rowspan=\"5\" valign=\"top\">2023-01-20</th>\n      <th>19:00:00</th>\n      <td>11.2</td>\n      <td>5.7</td>\n      <td>7.9</td>\n      <td>6.2</td>\n      <td>89.3</td>\n      <td>0.600</td>\n      <td>12.50</td>\n      <td>16.8</td>\n      <td>1.4</td>\n      <td>1.0</td>\n      <td>...</td>\n      <td>0</td>\n      <td>0</td>\n      <td>0</td>\n      <td>0</td>\n      <td>0</td>\n      <td>0</td>\n      <td>0</td>\n      <td>4</td>\n      <td>8.844167</td>\n      <td>0.0</td>\n    </tr>\n    <tr>\n      <th>20:00:00</th>\n      <td>11.2</td>\n      <td>5.7</td>\n      <td>7.9</td>\n      <td>6.2</td>\n      <td>89.3</td>\n      <td>0.600</td>\n      <td>12.50</td>\n      <td>16.8</td>\n      <td>1.4</td>\n      <td>1.0</td>\n      <td>...</td>\n      <td>0</td>\n      <td>0</td>\n      <td>0</td>\n      <td>0</td>\n      <td>0</td>\n      <td>0</td>\n      <td>0</td>\n      <td>4</td>\n      <td>8.844167</td>\n      <td>0.0</td>\n    </tr>\n    <tr>\n      <th>21:00:00</th>\n      <td>11.2</td>\n      <td>5.7</td>\n      <td>7.9</td>\n      <td>6.2</td>\n      <td>89.3</td>\n      <td>0.600</td>\n      <td>12.50</td>\n      <td>16.8</td>\n      <td>1.4</td>\n      <td>1.0</td>\n      <td>...</td>\n      <td>0</td>\n      <td>0</td>\n      <td>0</td>\n      <td>0</td>\n      <td>0</td>\n      <td>0</td>\n      <td>0</td>\n      <td>4</td>\n      <td>8.844167</td>\n      <td>0.0</td>\n    </tr>\n    <tr>\n      <th>22:00:00</th>\n      <td>11.2</td>\n      <td>5.7</td>\n      <td>7.9</td>\n      <td>6.2</td>\n      <td>89.3</td>\n      <td>0.600</td>\n      <td>12.50</td>\n      <td>16.8</td>\n      <td>1.4</td>\n      <td>1.0</td>\n      <td>...</td>\n      <td>0</td>\n      <td>0</td>\n      <td>0</td>\n      <td>0</td>\n      <td>0</td>\n      <td>0</td>\n      <td>6</td>\n      <td>4</td>\n      <td>8.844167</td>\n      <td>0.0</td>\n    </tr>\n    <tr>\n      <th>23:00:00</th>\n      <td>11.2</td>\n      <td>5.7</td>\n      <td>7.9</td>\n      <td>6.2</td>\n      <td>89.3</td>\n      <td>0.600</td>\n      <td>12.50</td>\n      <td>16.8</td>\n      <td>1.4</td>\n      <td>1.0</td>\n      <td>...</td>\n      <td>0</td>\n      <td>0</td>\n      <td>0</td>\n      <td>0</td>\n      <td>0</td>\n      <td>0</td>\n      <td>6</td>\n      <td>4</td>\n      <td>8.844167</td>\n      <td>0.0</td>\n    </tr>\n  </tbody>\n</table>\n<p>195085 rows × 55 columns</p>\n</div>"
     },
     "execution_count": 246,
     "metadata": {},
     "output_type": "execute_result"
    }
   ],
   "source": [
    "event_duration = (df.event_end - df.event_start).dt.seconds\n",
    "event_duration = event_duration / 3600\n",
    "df[\"event_duration\"] = event_duration\n",
    "df"
   ],
   "metadata": {
    "collapsed": false,
    "ExecuteTime": {
     "end_time": "2024-03-24T18:16:59.691955Z",
     "start_time": "2024-03-24T18:16:59.475696Z"
    }
   },
   "id": "5d21eacd088d9ef3",
   "execution_count": 246
  },
  {
   "cell_type": "code",
   "outputs": [
    {
     "data": {
      "text/plain": "array([\"['snow']\", 0, \"['rain']\", \"['rain', 'snow']\", \"['freezingrain']\",\n       \"['ice']\"], dtype=object)"
     },
     "execution_count": 247,
     "metadata": {},
     "output_type": "execute_result"
    }
   ],
   "source": [
    "df[\"hour_preciptype\"].unique()"
   ],
   "metadata": {
    "collapsed": false,
    "ExecuteTime": {
     "end_time": "2024-03-24T18:16:59.716321Z",
     "start_time": "2024-03-24T18:16:59.695025Z"
    }
   },
   "id": "30497028d1678812",
   "execution_count": 247
  },
  {
   "cell_type": "code",
   "outputs": [],
   "source": [
    "precip_type = {\n",
    "    0: 0,\n",
    "    \"['rain']\": 1,\n",
    "    \"['snow']\": 2,\n",
    "    \"['rain', 'snow']\": 3,\n",
    "    \"['freezingrain']\": 4,\n",
    "    \"['ice']\": 5\n",
    "}"
   ],
   "metadata": {
    "collapsed": false,
    "ExecuteTime": {
     "end_time": "2024-03-24T18:16:59.758733Z",
     "start_time": "2024-03-24T18:16:59.718448Z"
    }
   },
   "id": "61a345c956d688ef",
   "execution_count": 248
  },
  {
   "cell_type": "code",
   "outputs": [
    {
     "data": {
      "text/plain": "day_datetime  hour_datetime\n2022-02-24    00:00:00         2\n              01:00:00         2\n              02:00:00         2\n              03:00:00         2\n              04:00:00         2\n                              ..\n2023-01-20    19:00:00         0\n              20:00:00         0\n              21:00:00         0\n              22:00:00         0\n              23:00:00         0\nName: hour_preciptype, Length: 195085, dtype: int64"
     },
     "execution_count": 249,
     "metadata": {},
     "output_type": "execute_result"
    }
   ],
   "source": [
    "df[\"hour_preciptype\"] = df[\"hour_preciptype\"].map(precip_type)\n",
    "df[\"hour_preciptype\"]"
   ],
   "metadata": {
    "collapsed": false,
    "ExecuteTime": {
     "end_time": "2024-03-24T18:16:59.793223Z",
     "start_time": "2024-03-24T18:16:59.761239Z"
    }
   },
   "id": "4e270d7efead1866",
   "execution_count": 249
  },
  {
   "cell_type": "code",
   "outputs": [],
   "source": [
    "df.drop(columns=[\"day_sunrise\", \"day_sunset\", \"hour_conditions\", \"city\", \"region\", \"center_city_ua\", \"center_city_en\", \"region_alt\", \"event_region_title\", \"event_region_city\", \"event_start\", \"event_end\", \"event_clean_end\", \"event_start_time\", \"event_end_time\", \"event_start_hour\", \"event_end_hour\", \"event_day_date\", \"event_hour_level_event_time\"], inplace=True)"
   ],
   "metadata": {
    "collapsed": false,
    "ExecuteTime": {
     "end_time": "2024-03-24T18:41:13.830243Z",
     "start_time": "2024-03-24T18:41:13.766084Z"
    }
   },
   "id": "5546adf2975d7e2c",
   "execution_count": 251
  },
  {
   "cell_type": "code",
   "outputs": [
    {
     "data": {
      "text/plain": "                            day_tempmax  day_tempmin  day_temp  day_dew  \\\nday_datetime hour_datetime                                                \n2022-02-24   00:00:00               4.9          0.7       2.6      0.0   \n             01:00:00               4.9          0.7       2.6      0.0   \n             02:00:00               4.9          0.7       2.6      0.0   \n             03:00:00               4.9          0.7       2.6      0.0   \n             04:00:00               4.9          0.7       2.6      0.0   \n...                                 ...          ...       ...      ...   \n2023-01-20   19:00:00              11.2          5.7       7.9      6.2   \n             20:00:00              11.2          5.7       7.9      6.2   \n             21:00:00              11.2          5.7       7.9      6.2   \n             22:00:00              11.2          5.7       7.9      6.2   \n             23:00:00              11.2          5.7       7.9      6.2   \n\n                            day_humidity  day_precip  day_precipcover  \\\nday_datetime hour_datetime                                              \n2022-02-24   00:00:00               83.7       0.118             4.17   \n             01:00:00               83.7       0.118             4.17   \n             02:00:00               83.7       0.118             4.17   \n             03:00:00               83.7       0.118             4.17   \n             04:00:00               83.7       0.118             4.17   \n...                                  ...         ...              ...   \n2023-01-20   19:00:00               89.3       0.600            12.50   \n             20:00:00               89.3       0.600            12.50   \n             21:00:00               89.3       0.600            12.50   \n             22:00:00               89.3       0.600            12.50   \n             23:00:00               89.3       0.600            12.50   \n\n                            day_solarradiation  day_solarenergy  day_uvindex  \\\nday_datetime hour_datetime                                                     \n2022-02-24   00:00:00                     36.9              2.8          1.0   \n             01:00:00                     36.9              2.8          1.0   \n             02:00:00                     36.9              2.8          1.0   \n             03:00:00                     36.9              2.8          1.0   \n             04:00:00                     36.9              2.8          1.0   \n...                                        ...              ...          ...   \n2023-01-20   19:00:00                     16.8              1.4          1.0   \n             20:00:00                     16.8              1.4          1.0   \n             21:00:00                     16.8              1.4          1.0   \n             22:00:00                     16.8              1.4          1.0   \n             23:00:00                     16.8              1.4          1.0   \n\n                            ...  hour_uvindex  hour_severerisk  region_id  \\\nday_datetime hour_datetime  ...                                             \n2022-02-24   00:00:00       ...           0.0             10.0          3   \n             01:00:00       ...           0.0             10.0          3   \n             02:00:00       ...           0.0             10.0          3   \n             03:00:00       ...           0.0             10.0          3   \n             04:00:00       ...           0.0             10.0          3   \n...                         ...           ...              ...        ...   \n2023-01-20   19:00:00       ...           0.0             10.0          2   \n             20:00:00       ...           0.0             10.0          2   \n             21:00:00       ...           0.0             10.0          2   \n             22:00:00       ...           0.0             10.0          2   \n             23:00:00       ...           0.0             10.0          2   \n\n                            event_all_region  event_intersection_alarm_id  \\\nday_datetime hour_datetime                                                  \n2022-02-24   00:00:00                    0.0                          0.0   \n             01:00:00                    0.0                          0.0   \n             02:00:00                    0.0                          0.0   \n             03:00:00                    0.0                          0.0   \n             04:00:00                    0.0                          0.0   \n...                                      ...                          ...   \n2023-01-20   19:00:00                    0.0                          0.0   \n             20:00:00                    0.0                          0.0   \n             21:00:00                    0.0                          0.0   \n             22:00:00                    0.0                          0.0   \n             23:00:00                    0.0                          0.0   \n\n                            is_alarm  num_of_reg_alarms  num_of_alarms24  \\\nday_datetime hour_datetime                                                 \n2022-02-24   00:00:00              0                  0                0   \n             01:00:00              0                  0                0   \n             02:00:00              0                  0                0   \n             03:00:00              0                  0                0   \n             04:00:00              0                  0                0   \n...                              ...                ...              ...   \n2023-01-20   19:00:00              0                  0                4   \n             20:00:00              0                  0                4   \n             21:00:00              0                  0                4   \n             22:00:00              0                  6                4   \n             23:00:00              0                  6                4   \n\n                            light_day_duration  event_duration  \nday_datetime hour_datetime                                      \n2022-02-24   00:00:00                10.625000             0.0  \n             01:00:00                10.625000             0.0  \n             02:00:00                10.625000             0.0  \n             03:00:00                10.625000             0.0  \n             04:00:00                10.625000             0.0  \n...                                        ...             ...  \n2023-01-20   19:00:00                 8.844167             0.0  \n             20:00:00                 8.844167             0.0  \n             21:00:00                 8.844167             0.0  \n             22:00:00                 8.844167             0.0  \n             23:00:00                 8.844167             0.0  \n\n[195085 rows x 36 columns]",
      "text/html": "<div>\n<style scoped>\n    .dataframe tbody tr th:only-of-type {\n        vertical-align: middle;\n    }\n\n    .dataframe tbody tr th {\n        vertical-align: top;\n    }\n\n    .dataframe thead th {\n        text-align: right;\n    }\n</style>\n<table border=\"1\" class=\"dataframe\">\n  <thead>\n    <tr style=\"text-align: right;\">\n      <th></th>\n      <th></th>\n      <th>day_tempmax</th>\n      <th>day_tempmin</th>\n      <th>day_temp</th>\n      <th>day_dew</th>\n      <th>day_humidity</th>\n      <th>day_precip</th>\n      <th>day_precipcover</th>\n      <th>day_solarradiation</th>\n      <th>day_solarenergy</th>\n      <th>day_uvindex</th>\n      <th>...</th>\n      <th>hour_uvindex</th>\n      <th>hour_severerisk</th>\n      <th>region_id</th>\n      <th>event_all_region</th>\n      <th>event_intersection_alarm_id</th>\n      <th>is_alarm</th>\n      <th>num_of_reg_alarms</th>\n      <th>num_of_alarms24</th>\n      <th>light_day_duration</th>\n      <th>event_duration</th>\n    </tr>\n    <tr>\n      <th>day_datetime</th>\n      <th>hour_datetime</th>\n      <th></th>\n      <th></th>\n      <th></th>\n      <th></th>\n      <th></th>\n      <th></th>\n      <th></th>\n      <th></th>\n      <th></th>\n      <th></th>\n      <th></th>\n      <th></th>\n      <th></th>\n      <th></th>\n      <th></th>\n      <th></th>\n      <th></th>\n      <th></th>\n      <th></th>\n      <th></th>\n      <th></th>\n    </tr>\n  </thead>\n  <tbody>\n    <tr>\n      <th rowspan=\"5\" valign=\"top\">2022-02-24</th>\n      <th>00:00:00</th>\n      <td>4.9</td>\n      <td>0.7</td>\n      <td>2.6</td>\n      <td>0.0</td>\n      <td>83.7</td>\n      <td>0.118</td>\n      <td>4.17</td>\n      <td>36.9</td>\n      <td>2.8</td>\n      <td>1.0</td>\n      <td>...</td>\n      <td>0.0</td>\n      <td>10.0</td>\n      <td>3</td>\n      <td>0.0</td>\n      <td>0.0</td>\n      <td>0</td>\n      <td>0</td>\n      <td>0</td>\n      <td>10.625000</td>\n      <td>0.0</td>\n    </tr>\n    <tr>\n      <th>01:00:00</th>\n      <td>4.9</td>\n      <td>0.7</td>\n      <td>2.6</td>\n      <td>0.0</td>\n      <td>83.7</td>\n      <td>0.118</td>\n      <td>4.17</td>\n      <td>36.9</td>\n      <td>2.8</td>\n      <td>1.0</td>\n      <td>...</td>\n      <td>0.0</td>\n      <td>10.0</td>\n      <td>3</td>\n      <td>0.0</td>\n      <td>0.0</td>\n      <td>0</td>\n      <td>0</td>\n      <td>0</td>\n      <td>10.625000</td>\n      <td>0.0</td>\n    </tr>\n    <tr>\n      <th>02:00:00</th>\n      <td>4.9</td>\n      <td>0.7</td>\n      <td>2.6</td>\n      <td>0.0</td>\n      <td>83.7</td>\n      <td>0.118</td>\n      <td>4.17</td>\n      <td>36.9</td>\n      <td>2.8</td>\n      <td>1.0</td>\n      <td>...</td>\n      <td>0.0</td>\n      <td>10.0</td>\n      <td>3</td>\n      <td>0.0</td>\n      <td>0.0</td>\n      <td>0</td>\n      <td>0</td>\n      <td>0</td>\n      <td>10.625000</td>\n      <td>0.0</td>\n    </tr>\n    <tr>\n      <th>03:00:00</th>\n      <td>4.9</td>\n      <td>0.7</td>\n      <td>2.6</td>\n      <td>0.0</td>\n      <td>83.7</td>\n      <td>0.118</td>\n      <td>4.17</td>\n      <td>36.9</td>\n      <td>2.8</td>\n      <td>1.0</td>\n      <td>...</td>\n      <td>0.0</td>\n      <td>10.0</td>\n      <td>3</td>\n      <td>0.0</td>\n      <td>0.0</td>\n      <td>0</td>\n      <td>0</td>\n      <td>0</td>\n      <td>10.625000</td>\n      <td>0.0</td>\n    </tr>\n    <tr>\n      <th>04:00:00</th>\n      <td>4.9</td>\n      <td>0.7</td>\n      <td>2.6</td>\n      <td>0.0</td>\n      <td>83.7</td>\n      <td>0.118</td>\n      <td>4.17</td>\n      <td>36.9</td>\n      <td>2.8</td>\n      <td>1.0</td>\n      <td>...</td>\n      <td>0.0</td>\n      <td>10.0</td>\n      <td>3</td>\n      <td>0.0</td>\n      <td>0.0</td>\n      <td>0</td>\n      <td>0</td>\n      <td>0</td>\n      <td>10.625000</td>\n      <td>0.0</td>\n    </tr>\n    <tr>\n      <th>...</th>\n      <th>...</th>\n      <td>...</td>\n      <td>...</td>\n      <td>...</td>\n      <td>...</td>\n      <td>...</td>\n      <td>...</td>\n      <td>...</td>\n      <td>...</td>\n      <td>...</td>\n      <td>...</td>\n      <td>...</td>\n      <td>...</td>\n      <td>...</td>\n      <td>...</td>\n      <td>...</td>\n      <td>...</td>\n      <td>...</td>\n      <td>...</td>\n      <td>...</td>\n      <td>...</td>\n      <td>...</td>\n    </tr>\n    <tr>\n      <th rowspan=\"5\" valign=\"top\">2023-01-20</th>\n      <th>19:00:00</th>\n      <td>11.2</td>\n      <td>5.7</td>\n      <td>7.9</td>\n      <td>6.2</td>\n      <td>89.3</td>\n      <td>0.600</td>\n      <td>12.50</td>\n      <td>16.8</td>\n      <td>1.4</td>\n      <td>1.0</td>\n      <td>...</td>\n      <td>0.0</td>\n      <td>10.0</td>\n      <td>2</td>\n      <td>0.0</td>\n      <td>0.0</td>\n      <td>0</td>\n      <td>0</td>\n      <td>4</td>\n      <td>8.844167</td>\n      <td>0.0</td>\n    </tr>\n    <tr>\n      <th>20:00:00</th>\n      <td>11.2</td>\n      <td>5.7</td>\n      <td>7.9</td>\n      <td>6.2</td>\n      <td>89.3</td>\n      <td>0.600</td>\n      <td>12.50</td>\n      <td>16.8</td>\n      <td>1.4</td>\n      <td>1.0</td>\n      <td>...</td>\n      <td>0.0</td>\n      <td>10.0</td>\n      <td>2</td>\n      <td>0.0</td>\n      <td>0.0</td>\n      <td>0</td>\n      <td>0</td>\n      <td>4</td>\n      <td>8.844167</td>\n      <td>0.0</td>\n    </tr>\n    <tr>\n      <th>21:00:00</th>\n      <td>11.2</td>\n      <td>5.7</td>\n      <td>7.9</td>\n      <td>6.2</td>\n      <td>89.3</td>\n      <td>0.600</td>\n      <td>12.50</td>\n      <td>16.8</td>\n      <td>1.4</td>\n      <td>1.0</td>\n      <td>...</td>\n      <td>0.0</td>\n      <td>10.0</td>\n      <td>2</td>\n      <td>0.0</td>\n      <td>0.0</td>\n      <td>0</td>\n      <td>0</td>\n      <td>4</td>\n      <td>8.844167</td>\n      <td>0.0</td>\n    </tr>\n    <tr>\n      <th>22:00:00</th>\n      <td>11.2</td>\n      <td>5.7</td>\n      <td>7.9</td>\n      <td>6.2</td>\n      <td>89.3</td>\n      <td>0.600</td>\n      <td>12.50</td>\n      <td>16.8</td>\n      <td>1.4</td>\n      <td>1.0</td>\n      <td>...</td>\n      <td>0.0</td>\n      <td>10.0</td>\n      <td>2</td>\n      <td>0.0</td>\n      <td>0.0</td>\n      <td>0</td>\n      <td>6</td>\n      <td>4</td>\n      <td>8.844167</td>\n      <td>0.0</td>\n    </tr>\n    <tr>\n      <th>23:00:00</th>\n      <td>11.2</td>\n      <td>5.7</td>\n      <td>7.9</td>\n      <td>6.2</td>\n      <td>89.3</td>\n      <td>0.600</td>\n      <td>12.50</td>\n      <td>16.8</td>\n      <td>1.4</td>\n      <td>1.0</td>\n      <td>...</td>\n      <td>0.0</td>\n      <td>10.0</td>\n      <td>2</td>\n      <td>0.0</td>\n      <td>0.0</td>\n      <td>0</td>\n      <td>6</td>\n      <td>4</td>\n      <td>8.844167</td>\n      <td>0.0</td>\n    </tr>\n  </tbody>\n</table>\n<p>195085 rows × 36 columns</p>\n</div>"
     },
     "execution_count": 252,
     "metadata": {},
     "output_type": "execute_result"
    }
   ],
   "source": [
    "df"
   ],
   "metadata": {
    "collapsed": false,
    "ExecuteTime": {
     "end_time": "2024-03-24T18:41:18.662913Z",
     "start_time": "2024-03-24T18:41:18.497069Z"
    }
   },
   "id": "99dbc17af5c66805",
   "execution_count": 252
  },
  {
   "cell_type": "code",
   "outputs": [],
   "source": [
    "df.to_csv(\"final_weather_alarms\")"
   ],
   "metadata": {
    "collapsed": false,
    "ExecuteTime": {
     "end_time": "2024-03-24T18:50:42.148147Z",
     "start_time": "2024-03-24T18:49:24.275765Z"
    }
   },
   "id": "3c252149c1e06df7",
   "execution_count": 253
  },
  {
   "cell_type": "code",
   "outputs": [],
   "source": [],
   "metadata": {
    "collapsed": false
   },
   "id": "e68b3bad04f7ad5f"
  }
 ],
 "metadata": {
  "kernelspec": {
   "display_name": "Python 3",
   "language": "python",
   "name": "python3"
  },
  "language_info": {
   "codemirror_mode": {
    "name": "ipython",
    "version": 2
   },
   "file_extension": ".py",
   "mimetype": "text/x-python",
   "name": "python",
   "nbconvert_exporter": "python",
   "pygments_lexer": "ipython2",
   "version": "2.7.6"
  }
 },
 "nbformat": 4,
 "nbformat_minor": 5
}
