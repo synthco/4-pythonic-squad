{
 "cells": [
  {
   "cell_type": "code",
   "outputs": [],
   "source": [],
   "metadata": {
    "collapsed": false
   },
   "id": "ae10da5b6090d1c4"
  },
  {
   "cell_type": "code",
   "outputs": [
    {
     "data": {
      "text/plain": "           date                                              title  \\\n0    2022-02-25  Russia-Ukraine Warning Update: Russian Offensi...   \n1    2022-02-26  Russia-Ukraine Warning Update: Russian Offensi...   \n2    2022-02-27  Russia-Ukraine Warning Update: Russian Offensi...   \n3    2022-02-28  Russian Offensive Campaign Assessment, Februar...   \n4    2022-03-01     Russian Offensive Campaign Assessment, March 1   \n..          ...                                                ...   \n324  2023-01-21  Russian Offensive Campaign Assessment, January...   \n325  2023-01-22  Russian Offensive Campaign Assessment, January...   \n326  2023-01-23  Russian Offensive Campaign Assessment, January...   \n327  2023-01-24  Russian Offensive Campaign Assessment, January...   \n328  2023-01-25  Russian Offensive Campaign Assessment, January...   \n\n                                              full_url  \\\n0    https://www.understandingwar.org/backgrounder/...   \n1    https://www.understandingwar.org/backgrounder/...   \n2    https://www.understandingwar.org/backgrounder/...   \n3    https://www.understandingwar.org/backgrounder/...   \n4    https://www.understandingwar.org/backgrounder/...   \n..                                                 ...   \n324  https://www.understandingwar.org/backgrounder/...   \n325  https://www.understandingwar.org/backgrounder/...   \n326  https://www.understandingwar.org/backgrounder/...   \n327  https://www.understandingwar.org/backgrounder/...   \n328  https://www.understandingwar.org/backgrounder/...   \n\n                                             main_html  \\\n0    <!DOCTYPE html>\\n\\n<html dir=\"ltr\" lang=\"en\" x...   \n1    <!DOCTYPE html>\\n\\n<html dir=\"ltr\" lang=\"en\" x...   \n2    <!DOCTYPE html>\\n\\n<html dir=\"ltr\" lang=\"en\" x...   \n3    <!DOCTYPE html>\\n\\n<html dir=\"ltr\" lang=\"en\" x...   \n4    <!DOCTYPE html>\\n\\n<html dir=\"ltr\" lang=\"en\" x...   \n..                                                 ...   \n324  <!DOCTYPE html>\\n\\n<html dir=\"ltr\" lang=\"en\" x...   \n325  <!DOCTYPE html>\\n\\n<html dir=\"ltr\" lang=\"en\" x...   \n326  <!DOCTYPE html>\\n\\n<html dir=\"ltr\" lang=\"en\" x...   \n327  <!DOCTYPE html>\\n\\n<html dir=\"ltr\" lang=\"en\" x...   \n328  <!DOCTYPE html>\\n\\n<html dir=\"ltr\" lang=\"en\" x...   \n\n                                          main_html_v2  \\\n0    [<p align=\"center\" style=\"text-align: left;\"><...   \n1    [<p align=\"center\" style=\"text-align: left;\"><...   \n2    [<p style=\"text-align: left;\"><strong><span st...   \n3    [<p align=\"center\" style=\"text-align: left;\"> ...   \n4    [<p align=\"center\" style=\"text-align: left;\"> ...   \n..                                                 ...   \n324  [<p align=\"center\" style=\"text-align: left;\"> ...   \n325  [<p align=\"center\" style=\"text-align: left;\"><...   \n326  [<p align=\"center\" style=\"text-align: left;\"><...   \n327  [<p align=\"center\" style=\"text-align: left;\"> ...   \n328  [<p align=\"center\" style=\"text-align: left;\"> ...   \n\n                                             main_text  \n0    ['Mason Clark, George Barros, and Kateryna Ste...  \n1    ['Mason Clark, George Barros, and Katya Stepan...  \n2    ['Mason Clark, George Barros, and Kateryna Ste...  \n3    ['Mason Clark, George Barros, and Kateryna Ste...  \n4    ['Frederick W. Kagan, George Barros, and Kater...  \n..                                                 ...  \n324  ['Karolina Hird, Grace Mappes, Angela Howard, ...  \n325  ['Russian Offensive Campaign Assessment, Janua...  \n326  ['Russian Offensive Campaign Assessment, Janua...  \n327  ['Karolina Hird, Riley Bailey, Grace Mappes, G...  \n328  ['Karolina Hird, Riley Bailey, Kateryna Stepan...  \n\n[329 rows x 6 columns]",
      "text/html": "<div>\n<style scoped>\n    .dataframe tbody tr th:only-of-type {\n        vertical-align: middle;\n    }\n\n    .dataframe tbody tr th {\n        vertical-align: top;\n    }\n\n    .dataframe thead th {\n        text-align: right;\n    }\n</style>\n<table border=\"1\" class=\"dataframe\">\n  <thead>\n    <tr style=\"text-align: right;\">\n      <th></th>\n      <th>date</th>\n      <th>title</th>\n      <th>full_url</th>\n      <th>main_html</th>\n      <th>main_html_v2</th>\n      <th>main_text</th>\n    </tr>\n  </thead>\n  <tbody>\n    <tr>\n      <th>0</th>\n      <td>2022-02-25</td>\n      <td>Russia-Ukraine Warning Update: Russian Offensi...</td>\n      <td>https://www.understandingwar.org/backgrounder/...</td>\n      <td>&lt;!DOCTYPE html&gt;\\n\\n&lt;html dir=\"ltr\" lang=\"en\" x...</td>\n      <td>[&lt;p align=\"center\" style=\"text-align: left;\"&gt;&lt;...</td>\n      <td>['Mason Clark, George Barros, and Kateryna Ste...</td>\n    </tr>\n    <tr>\n      <th>1</th>\n      <td>2022-02-26</td>\n      <td>Russia-Ukraine Warning Update: Russian Offensi...</td>\n      <td>https://www.understandingwar.org/backgrounder/...</td>\n      <td>&lt;!DOCTYPE html&gt;\\n\\n&lt;html dir=\"ltr\" lang=\"en\" x...</td>\n      <td>[&lt;p align=\"center\" style=\"text-align: left;\"&gt;&lt;...</td>\n      <td>['Mason Clark, George Barros, and Katya Stepan...</td>\n    </tr>\n    <tr>\n      <th>2</th>\n      <td>2022-02-27</td>\n      <td>Russia-Ukraine Warning Update: Russian Offensi...</td>\n      <td>https://www.understandingwar.org/backgrounder/...</td>\n      <td>&lt;!DOCTYPE html&gt;\\n\\n&lt;html dir=\"ltr\" lang=\"en\" x...</td>\n      <td>[&lt;p style=\"text-align: left;\"&gt;&lt;strong&gt;&lt;span st...</td>\n      <td>['Mason Clark, George Barros, and Kateryna Ste...</td>\n    </tr>\n    <tr>\n      <th>3</th>\n      <td>2022-02-28</td>\n      <td>Russian Offensive Campaign Assessment, Februar...</td>\n      <td>https://www.understandingwar.org/backgrounder/...</td>\n      <td>&lt;!DOCTYPE html&gt;\\n\\n&lt;html dir=\"ltr\" lang=\"en\" x...</td>\n      <td>[&lt;p align=\"center\" style=\"text-align: left;\"&gt; ...</td>\n      <td>['Mason Clark, George Barros, and Kateryna Ste...</td>\n    </tr>\n    <tr>\n      <th>4</th>\n      <td>2022-03-01</td>\n      <td>Russian Offensive Campaign Assessment, March 1</td>\n      <td>https://www.understandingwar.org/backgrounder/...</td>\n      <td>&lt;!DOCTYPE html&gt;\\n\\n&lt;html dir=\"ltr\" lang=\"en\" x...</td>\n      <td>[&lt;p align=\"center\" style=\"text-align: left;\"&gt; ...</td>\n      <td>['Frederick W. Kagan, George Barros, and Kater...</td>\n    </tr>\n    <tr>\n      <th>...</th>\n      <td>...</td>\n      <td>...</td>\n      <td>...</td>\n      <td>...</td>\n      <td>...</td>\n      <td>...</td>\n    </tr>\n    <tr>\n      <th>324</th>\n      <td>2023-01-21</td>\n      <td>Russian Offensive Campaign Assessment, January...</td>\n      <td>https://www.understandingwar.org/backgrounder/...</td>\n      <td>&lt;!DOCTYPE html&gt;\\n\\n&lt;html dir=\"ltr\" lang=\"en\" x...</td>\n      <td>[&lt;p align=\"center\" style=\"text-align: left;\"&gt; ...</td>\n      <td>['Karolina Hird, Grace Mappes, Angela Howard, ...</td>\n    </tr>\n    <tr>\n      <th>325</th>\n      <td>2023-01-22</td>\n      <td>Russian Offensive Campaign Assessment, January...</td>\n      <td>https://www.understandingwar.org/backgrounder/...</td>\n      <td>&lt;!DOCTYPE html&gt;\\n\\n&lt;html dir=\"ltr\" lang=\"en\" x...</td>\n      <td>[&lt;p align=\"center\" style=\"text-align: left;\"&gt;&lt;...</td>\n      <td>['Russian Offensive Campaign Assessment, Janua...</td>\n    </tr>\n    <tr>\n      <th>326</th>\n      <td>2023-01-23</td>\n      <td>Russian Offensive Campaign Assessment, January...</td>\n      <td>https://www.understandingwar.org/backgrounder/...</td>\n      <td>&lt;!DOCTYPE html&gt;\\n\\n&lt;html dir=\"ltr\" lang=\"en\" x...</td>\n      <td>[&lt;p align=\"center\" style=\"text-align: left;\"&gt;&lt;...</td>\n      <td>['Russian Offensive Campaign Assessment, Janua...</td>\n    </tr>\n    <tr>\n      <th>327</th>\n      <td>2023-01-24</td>\n      <td>Russian Offensive Campaign Assessment, January...</td>\n      <td>https://www.understandingwar.org/backgrounder/...</td>\n      <td>&lt;!DOCTYPE html&gt;\\n\\n&lt;html dir=\"ltr\" lang=\"en\" x...</td>\n      <td>[&lt;p align=\"center\" style=\"text-align: left;\"&gt; ...</td>\n      <td>['Karolina Hird, Riley Bailey, Grace Mappes, G...</td>\n    </tr>\n    <tr>\n      <th>328</th>\n      <td>2023-01-25</td>\n      <td>Russian Offensive Campaign Assessment, January...</td>\n      <td>https://www.understandingwar.org/backgrounder/...</td>\n      <td>&lt;!DOCTYPE html&gt;\\n\\n&lt;html dir=\"ltr\" lang=\"en\" x...</td>\n      <td>[&lt;p align=\"center\" style=\"text-align: left;\"&gt; ...</td>\n      <td>['Karolina Hird, Riley Bailey, Kateryna Stepan...</td>\n    </tr>\n  </tbody>\n</table>\n<p>329 rows × 6 columns</p>\n</div>"
     },
     "execution_count": 1,
     "metadata": {},
     "output_type": "execute_result"
    }
   ],
   "source": [
    "import pandas as pd\n",
    "        \n",
    "ISW = pd.read_csv('ISW.csv')\n",
    "ISW"
   ],
   "metadata": {
    "collapsed": false,
    "ExecuteTime": {
     "end_time": "2024-03-12T19:47:21.687711Z",
     "start_time": "2024-03-12T19:47:21.075859Z"
    }
   },
   "id": "4d4017c8fc749b66",
   "execution_count": 1
  }
 ],
 "metadata": {
  "kernelspec": {
   "display_name": "Python 3",
   "language": "python",
   "name": "python3"
  },
  "language_info": {
   "codemirror_mode": {
    "name": "ipython",
    "version": 2
   },
   "file_extension": ".py",
   "mimetype": "text/x-python",
   "name": "python",
   "nbconvert_exporter": "python",
   "pygments_lexer": "ipython2",
   "version": "2.7.6"
  }
 },
 "nbformat": 4,
 "nbformat_minor": 5
}
