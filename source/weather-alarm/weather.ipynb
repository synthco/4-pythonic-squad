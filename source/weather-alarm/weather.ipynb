{
 "cells": [
  {
   "cell_type": "code",
   "outputs": [],
   "source": [],
   "metadata": {
    "collapsed": false
   },
   "id": "668940140a60c368"
  },
  {
   "cell_type": "code",
   "outputs": [
    {
     "data": {
      "text/plain": "Index(['Unnamed: 0', 'city_resolvedAddress', 'day_datetime',\n       'day_datetimeEpoch', 'day_tempmax', 'day_tempmin', 'day_temp',\n       'day_dew', 'day_humidity', 'day_precip', 'day_precipcover',\n       'day_solarradiation', 'day_solarenergy', 'day_uvindex', 'day_sunrise',\n       'day_sunset', 'day_moonphase', 'hour_datetime', 'hour_datetimeEpoch',\n       'hour_temp', 'hour_humidity', 'hour_dew', 'hour_precip',\n       'hour_precipprob', 'hour_snow', 'hour_snowdepth', 'hour_preciptype',\n       'hour_windgust', 'hour_windspeed', 'hour_winddir', 'hour_pressure',\n       'hour_visibility', 'hour_cloudcover', 'hour_solarradiation',\n       'hour_solarenergy', 'hour_uvindex', 'hour_severerisk',\n       'hour_conditions', 'city', 'region', 'center_city_ua', 'center_city_en',\n       'region_alt', 'region_id', 'event_region_title', 'event_region_city',\n       'event_all_region', 'event_start', 'event_end', 'event_clean_end',\n       'event_intersection_alarm_id', 'event_start_time', 'event_end_time',\n       'event_start_hour', 'event_end_hour', 'event_day_date',\n       'event_start_hour_datetimeEpoch', 'event_end_hour_datetimeEpoch',\n       'event_hour_level_event_time', 'event_hour_level_event_datetimeEpoch',\n       'is_alarm'],\n      dtype='object')"
     },
     "execution_count": 17,
     "metadata": {},
     "output_type": "execute_result"
    }
   ],
   "source": [
    "import pandas as pd\n",
    "        \n",
    "df = pd.read_csv('weather_v5.csv', sep=\";\")\n",
    "df.columns"
   ],
   "metadata": {
    "collapsed": false,
    "ExecuteTime": {
     "end_time": "2024-03-24T11:35:01.363169Z",
     "start_time": "2024-03-24T11:35:00.173673Z"
    }
   },
   "id": "4753f3c353d04aaa",
   "execution_count": 17
  },
  {
   "cell_type": "code",
   "outputs": [
    {
     "data": {
      "text/plain": "        Unnamed: 0           city_resolvedAddress day_datetime  \\\n0                0  Луцьк, Луцький район, Україна   2022-02-24   \n1                1  Луцьк, Луцький район, Україна   2022-02-24   \n2                2  Луцьк, Луцький район, Україна   2022-02-24   \n3                3  Луцьк, Луцький район, Україна   2022-02-24   \n4                4  Луцьк, Луцький район, Україна   2022-02-24   \n...            ...                            ...          ...   \n195080      195080               Вінниця, Україна   2023-01-20   \n195081      195081               Вінниця, Україна   2023-01-20   \n195082      195082               Вінниця, Україна   2023-01-20   \n195083      195083               Вінниця, Україна   2023-01-20   \n195084      195084               Вінниця, Україна   2023-01-20   \n\n        day_datetimeEpoch  day_tempmax  day_tempmin  day_temp  day_dew  \\\n0              1645653600          4.9          0.7       2.6      0.0   \n1              1645653600          4.9          0.7       2.6      0.0   \n2              1645653600          4.9          0.7       2.6      0.0   \n3              1645653600          4.9          0.7       2.6      0.0   \n4              1645653600          4.9          0.7       2.6      0.0   \n...                   ...          ...          ...       ...      ...   \n195080         1674165600         11.2          5.7       7.9      6.2   \n195081         1674165600         11.2          5.7       7.9      6.2   \n195082         1674165600         11.2          5.7       7.9      6.2   \n195083         1674165600         11.2          5.7       7.9      6.2   \n195084         1674165600         11.2          5.7       7.9      6.2   \n\n        day_humidity  day_precip  ...  event_start_time  event_end_time  \\\n0               83.7       0.118  ...               NaN             NaN   \n1               83.7       0.118  ...               NaN             NaN   \n2               83.7       0.118  ...               NaN             NaN   \n3               83.7       0.118  ...               NaN             NaN   \n4               83.7       0.118  ...               NaN             NaN   \n...              ...         ...  ...               ...             ...   \n195080          89.3       0.600  ...               NaN             NaN   \n195081          89.3       0.600  ...               NaN             NaN   \n195082          89.3       0.600  ...               NaN             NaN   \n195083          89.3       0.600  ...               NaN             NaN   \n195084          89.3       0.600  ...               NaN             NaN   \n\n        event_start_hour  event_end_hour event_day_date  \\\n0                    NaN             NaN            NaN   \n1                    NaN             NaN            NaN   \n2                    NaN             NaN            NaN   \n3                    NaN             NaN            NaN   \n4                    NaN             NaN            NaN   \n...                  ...             ...            ...   \n195080               NaN             NaN            NaN   \n195081               NaN             NaN            NaN   \n195082               NaN             NaN            NaN   \n195083               NaN             NaN            NaN   \n195084               NaN             NaN            NaN   \n\n       event_start_hour_datetimeEpoch  event_end_hour_datetimeEpoch  \\\n0                                 NaN                           NaN   \n1                                 NaN                           NaN   \n2                                 NaN                           NaN   \n3                                 NaN                           NaN   \n4                                 NaN                           NaN   \n...                               ...                           ...   \n195080                            NaN                           NaN   \n195081                            NaN                           NaN   \n195082                            NaN                           NaN   \n195083                            NaN                           NaN   \n195084                            NaN                           NaN   \n\n       event_hour_level_event_time  event_hour_level_event_datetimeEpoch  \\\n0                              NaN                                   NaN   \n1                              NaN                                   NaN   \n2                              NaN                                   NaN   \n3                              NaN                                   NaN   \n4                              NaN                                   NaN   \n...                            ...                                   ...   \n195080                         NaN                                   NaN   \n195081                         NaN                                   NaN   \n195082                         NaN                                   NaN   \n195083                         NaN                                   NaN   \n195084                         NaN                                   NaN   \n\n        is_alarm  \n0              0  \n1              0  \n2              0  \n3              0  \n4              0  \n...          ...  \n195080         0  \n195081         0  \n195082         0  \n195083         0  \n195084         0  \n\n[195085 rows x 61 columns]",
      "text/html": "<div>\n<style scoped>\n    .dataframe tbody tr th:only-of-type {\n        vertical-align: middle;\n    }\n\n    .dataframe tbody tr th {\n        vertical-align: top;\n    }\n\n    .dataframe thead th {\n        text-align: right;\n    }\n</style>\n<table border=\"1\" class=\"dataframe\">\n  <thead>\n    <tr style=\"text-align: right;\">\n      <th></th>\n      <th>Unnamed: 0</th>\n      <th>city_resolvedAddress</th>\n      <th>day_datetime</th>\n      <th>day_datetimeEpoch</th>\n      <th>day_tempmax</th>\n      <th>day_tempmin</th>\n      <th>day_temp</th>\n      <th>day_dew</th>\n      <th>day_humidity</th>\n      <th>day_precip</th>\n      <th>...</th>\n      <th>event_start_time</th>\n      <th>event_end_time</th>\n      <th>event_start_hour</th>\n      <th>event_end_hour</th>\n      <th>event_day_date</th>\n      <th>event_start_hour_datetimeEpoch</th>\n      <th>event_end_hour_datetimeEpoch</th>\n      <th>event_hour_level_event_time</th>\n      <th>event_hour_level_event_datetimeEpoch</th>\n      <th>is_alarm</th>\n    </tr>\n  </thead>\n  <tbody>\n    <tr>\n      <th>0</th>\n      <td>0</td>\n      <td>Луцьк, Луцький район, Україна</td>\n      <td>2022-02-24</td>\n      <td>1645653600</td>\n      <td>4.9</td>\n      <td>0.7</td>\n      <td>2.6</td>\n      <td>0.0</td>\n      <td>83.7</td>\n      <td>0.118</td>\n      <td>...</td>\n      <td>NaN</td>\n      <td>NaN</td>\n      <td>NaN</td>\n      <td>NaN</td>\n      <td>NaN</td>\n      <td>NaN</td>\n      <td>NaN</td>\n      <td>NaN</td>\n      <td>NaN</td>\n      <td>0</td>\n    </tr>\n    <tr>\n      <th>1</th>\n      <td>1</td>\n      <td>Луцьк, Луцький район, Україна</td>\n      <td>2022-02-24</td>\n      <td>1645653600</td>\n      <td>4.9</td>\n      <td>0.7</td>\n      <td>2.6</td>\n      <td>0.0</td>\n      <td>83.7</td>\n      <td>0.118</td>\n      <td>...</td>\n      <td>NaN</td>\n      <td>NaN</td>\n      <td>NaN</td>\n      <td>NaN</td>\n      <td>NaN</td>\n      <td>NaN</td>\n      <td>NaN</td>\n      <td>NaN</td>\n      <td>NaN</td>\n      <td>0</td>\n    </tr>\n    <tr>\n      <th>2</th>\n      <td>2</td>\n      <td>Луцьк, Луцький район, Україна</td>\n      <td>2022-02-24</td>\n      <td>1645653600</td>\n      <td>4.9</td>\n      <td>0.7</td>\n      <td>2.6</td>\n      <td>0.0</td>\n      <td>83.7</td>\n      <td>0.118</td>\n      <td>...</td>\n      <td>NaN</td>\n      <td>NaN</td>\n      <td>NaN</td>\n      <td>NaN</td>\n      <td>NaN</td>\n      <td>NaN</td>\n      <td>NaN</td>\n      <td>NaN</td>\n      <td>NaN</td>\n      <td>0</td>\n    </tr>\n    <tr>\n      <th>3</th>\n      <td>3</td>\n      <td>Луцьк, Луцький район, Україна</td>\n      <td>2022-02-24</td>\n      <td>1645653600</td>\n      <td>4.9</td>\n      <td>0.7</td>\n      <td>2.6</td>\n      <td>0.0</td>\n      <td>83.7</td>\n      <td>0.118</td>\n      <td>...</td>\n      <td>NaN</td>\n      <td>NaN</td>\n      <td>NaN</td>\n      <td>NaN</td>\n      <td>NaN</td>\n      <td>NaN</td>\n      <td>NaN</td>\n      <td>NaN</td>\n      <td>NaN</td>\n      <td>0</td>\n    </tr>\n    <tr>\n      <th>4</th>\n      <td>4</td>\n      <td>Луцьк, Луцький район, Україна</td>\n      <td>2022-02-24</td>\n      <td>1645653600</td>\n      <td>4.9</td>\n      <td>0.7</td>\n      <td>2.6</td>\n      <td>0.0</td>\n      <td>83.7</td>\n      <td>0.118</td>\n      <td>...</td>\n      <td>NaN</td>\n      <td>NaN</td>\n      <td>NaN</td>\n      <td>NaN</td>\n      <td>NaN</td>\n      <td>NaN</td>\n      <td>NaN</td>\n      <td>NaN</td>\n      <td>NaN</td>\n      <td>0</td>\n    </tr>\n    <tr>\n      <th>...</th>\n      <td>...</td>\n      <td>...</td>\n      <td>...</td>\n      <td>...</td>\n      <td>...</td>\n      <td>...</td>\n      <td>...</td>\n      <td>...</td>\n      <td>...</td>\n      <td>...</td>\n      <td>...</td>\n      <td>...</td>\n      <td>...</td>\n      <td>...</td>\n      <td>...</td>\n      <td>...</td>\n      <td>...</td>\n      <td>...</td>\n      <td>...</td>\n      <td>...</td>\n      <td>...</td>\n    </tr>\n    <tr>\n      <th>195080</th>\n      <td>195080</td>\n      <td>Вінниця, Україна</td>\n      <td>2023-01-20</td>\n      <td>1674165600</td>\n      <td>11.2</td>\n      <td>5.7</td>\n      <td>7.9</td>\n      <td>6.2</td>\n      <td>89.3</td>\n      <td>0.600</td>\n      <td>...</td>\n      <td>NaN</td>\n      <td>NaN</td>\n      <td>NaN</td>\n      <td>NaN</td>\n      <td>NaN</td>\n      <td>NaN</td>\n      <td>NaN</td>\n      <td>NaN</td>\n      <td>NaN</td>\n      <td>0</td>\n    </tr>\n    <tr>\n      <th>195081</th>\n      <td>195081</td>\n      <td>Вінниця, Україна</td>\n      <td>2023-01-20</td>\n      <td>1674165600</td>\n      <td>11.2</td>\n      <td>5.7</td>\n      <td>7.9</td>\n      <td>6.2</td>\n      <td>89.3</td>\n      <td>0.600</td>\n      <td>...</td>\n      <td>NaN</td>\n      <td>NaN</td>\n      <td>NaN</td>\n      <td>NaN</td>\n      <td>NaN</td>\n      <td>NaN</td>\n      <td>NaN</td>\n      <td>NaN</td>\n      <td>NaN</td>\n      <td>0</td>\n    </tr>\n    <tr>\n      <th>195082</th>\n      <td>195082</td>\n      <td>Вінниця, Україна</td>\n      <td>2023-01-20</td>\n      <td>1674165600</td>\n      <td>11.2</td>\n      <td>5.7</td>\n      <td>7.9</td>\n      <td>6.2</td>\n      <td>89.3</td>\n      <td>0.600</td>\n      <td>...</td>\n      <td>NaN</td>\n      <td>NaN</td>\n      <td>NaN</td>\n      <td>NaN</td>\n      <td>NaN</td>\n      <td>NaN</td>\n      <td>NaN</td>\n      <td>NaN</td>\n      <td>NaN</td>\n      <td>0</td>\n    </tr>\n    <tr>\n      <th>195083</th>\n      <td>195083</td>\n      <td>Вінниця, Україна</td>\n      <td>2023-01-20</td>\n      <td>1674165600</td>\n      <td>11.2</td>\n      <td>5.7</td>\n      <td>7.9</td>\n      <td>6.2</td>\n      <td>89.3</td>\n      <td>0.600</td>\n      <td>...</td>\n      <td>NaN</td>\n      <td>NaN</td>\n      <td>NaN</td>\n      <td>NaN</td>\n      <td>NaN</td>\n      <td>NaN</td>\n      <td>NaN</td>\n      <td>NaN</td>\n      <td>NaN</td>\n      <td>0</td>\n    </tr>\n    <tr>\n      <th>195084</th>\n      <td>195084</td>\n      <td>Вінниця, Україна</td>\n      <td>2023-01-20</td>\n      <td>1674165600</td>\n      <td>11.2</td>\n      <td>5.7</td>\n      <td>7.9</td>\n      <td>6.2</td>\n      <td>89.3</td>\n      <td>0.600</td>\n      <td>...</td>\n      <td>NaN</td>\n      <td>NaN</td>\n      <td>NaN</td>\n      <td>NaN</td>\n      <td>NaN</td>\n      <td>NaN</td>\n      <td>NaN</td>\n      <td>NaN</td>\n      <td>NaN</td>\n      <td>0</td>\n    </tr>\n  </tbody>\n</table>\n<p>195085 rows × 61 columns</p>\n</div>"
     },
     "execution_count": 18,
     "metadata": {},
     "output_type": "execute_result"
    }
   ],
   "source": [
    "df.drop(labels=['Unnamed: 0', \"day_datetimeEpoch\",], axis=1, inplace=True)"
   ],
   "metadata": {
    "collapsed": false,
    "ExecuteTime": {
     "end_time": "2024-03-24T11:45:47.234562Z",
     "start_time": "2024-03-24T11:45:47.150703Z"
    }
   },
   "id": "44e5f102a7144dda",
   "execution_count": 18
  },
  {
   "cell_type": "code",
   "outputs": [],
   "source": [],
   "metadata": {
    "collapsed": false,
    "ExecuteTime": {
     "end_time": "2024-03-24T11:10:40.376676Z",
     "start_time": "2024-03-24T11:10:40.371792Z"
    }
   },
   "id": "34bbdeaf98c7414f",
   "execution_count": 14
  },
  {
   "cell_type": "code",
   "outputs": [],
   "source": [],
   "metadata": {
    "collapsed": false
   },
   "id": "ebe03da661e362cf"
  }
 ],
 "metadata": {
  "kernelspec": {
   "display_name": "Python 3",
   "language": "python",
   "name": "python3"
  },
  "language_info": {
   "codemirror_mode": {
    "name": "ipython",
    "version": 2
   },
   "file_extension": ".py",
   "mimetype": "text/x-python",
   "name": "python",
   "nbconvert_exporter": "python",
   "pygments_lexer": "ipython2",
   "version": "2.7.6"
  }
 },
 "nbformat": 4,
 "nbformat_minor": 5
}
