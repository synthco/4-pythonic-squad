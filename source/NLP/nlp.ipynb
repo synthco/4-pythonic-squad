{
 "cells": [
  {
   "cell_type": "code",
   "execution_count": 1,
   "id": "initial_id",
   "metadata": {
    "collapsed": true,
    "ExecuteTime": {
     "end_time": "2024-03-25T09:48:14.775325Z",
     "start_time": "2024-03-25T09:48:14.767342Z"
    }
   },
   "outputs": [],
   "source": []
  },
  {
   "cell_type": "code",
   "outputs": [
    {
     "data": {
      "text/plain": "           date                                              title  \\\n0    2022-02-25  Russia-Ukraine Warning Update: Russian Offensi...   \n1    2022-02-26  Russia-Ukraine Warning Update: Russian Offensi...   \n2    2022-02-27  Russia-Ukraine Warning Update: Russian Offensi...   \n3    2022-02-28  Russian Offensive Campaign Assessment, Februar...   \n4    2022-03-01     Russian Offensive Campaign Assessment, March 1   \n..          ...                                                ...   \n324  2023-01-21  Russian Offensive Campaign Assessment, January...   \n325  2023-01-22  Russian Offensive Campaign Assessment, January...   \n326  2023-01-23  Russian Offensive Campaign Assessment, January...   \n327  2023-01-24  Russian Offensive Campaign Assessment, January...   \n328  2023-01-25  Russian Offensive Campaign Assessment, January...   \n\n                                              full_url  \\\n0    https://www.understandingwar.org/backgrounder/...   \n1    https://www.understandingwar.org/backgrounder/...   \n2    https://www.understandingwar.org/backgrounder/...   \n3    https://www.understandingwar.org/backgrounder/...   \n4    https://www.understandingwar.org/backgrounder/...   \n..                                                 ...   \n324  https://www.understandingwar.org/backgrounder/...   \n325  https://www.understandingwar.org/backgrounder/...   \n326  https://www.understandingwar.org/backgrounder/...   \n327  https://www.understandingwar.org/backgrounder/...   \n328  https://www.understandingwar.org/backgrounder/...   \n\n                                             main_html  \\\n0    <!DOCTYPE html>\\n\\n<html dir=\"ltr\" lang=\"en\" x...   \n1    <!DOCTYPE html>\\n\\n<html dir=\"ltr\" lang=\"en\" x...   \n2    <!DOCTYPE html>\\n\\n<html dir=\"ltr\" lang=\"en\" x...   \n3    <!DOCTYPE html>\\n\\n<html dir=\"ltr\" lang=\"en\" x...   \n4    <!DOCTYPE html>\\n\\n<html dir=\"ltr\" lang=\"en\" x...   \n..                                                 ...   \n324  <!DOCTYPE html>\\n\\n<html dir=\"ltr\" lang=\"en\" x...   \n325  <!DOCTYPE html>\\n\\n<html dir=\"ltr\" lang=\"en\" x...   \n326  <!DOCTYPE html>\\n\\n<html dir=\"ltr\" lang=\"en\" x...   \n327  <!DOCTYPE html>\\n\\n<html dir=\"ltr\" lang=\"en\" x...   \n328  <!DOCTYPE html>\\n\\n<html dir=\"ltr\" lang=\"en\" x...   \n\n                                          main_html_v2  \\\n0    [<p align=\"center\" style=\"text-align: left;\"><...   \n1    [<p align=\"center\" style=\"text-align: left;\"><...   \n2    [<p style=\"text-align: left;\"><strong><span st...   \n3    [<p align=\"center\" style=\"text-align: left;\"> ...   \n4    [<p align=\"center\" style=\"text-align: left;\"> ...   \n..                                                 ...   \n324  [<p align=\"center\" style=\"text-align: left;\"> ...   \n325  [<p align=\"center\" style=\"text-align: left;\"><...   \n326  [<p align=\"center\" style=\"text-align: left;\"><...   \n327  [<p align=\"center\" style=\"text-align: left;\"> ...   \n328  [<p align=\"center\" style=\"text-align: left;\"> ...   \n\n                                             main_text  \\\n0    ['Mason Clark, George Barros, and Kateryna Ste...   \n1    ['Mason Clark, George Barros, and Katya Stepan...   \n2    ['Mason Clark, George Barros, and Kateryna Ste...   \n3    ['Mason Clark, George Barros, and Kateryna Ste...   \n4    ['Frederick W. Kagan, George Barros, and Kater...   \n..                                                 ...   \n324  ['Karolina Hird, Grace Mappes, Angela Howard, ...   \n325  ['Russian Offensive Campaign Assessment, Janua...   \n326  ['Russian Offensive Campaign Assessment, Janua...   \n327  ['Karolina Hird, Riley Bailey, Grace Mappes, G...   \n328  ['Karolina Hird, Riley Bailey, Kateryna Stepan...   \n\n                                        text_for_vect2  \n0    ['mason', 'clark', 'george', 'barros', 'katery...  \n1    ['mason', 'clark', 'george', 'barros', 'katya'...  \n2    ['mason', 'clark', 'george', 'barros', 'katery...  \n3    ['mason', 'clark', 'george', 'barros', 'katery...  \n4    ['frederick', 'kagan', 'george', 'barros', 'ka...  \n..                                                 ...  \n324  ['karolina', 'hird', 'grace', 'mappes', 'angel...  \n325  ['russian', 'offensive', 'campaign', 'assessme...  \n326  ['russian', 'offensive', 'campaign', 'assessme...  \n327  ['karolina', 'hird', 'riley', 'bailey', 'grace...  \n328  ['karolina', 'hird', 'riley', 'bailey', 'kater...  \n\n[329 rows x 7 columns]",
      "text/html": "<div>\n<style scoped>\n    .dataframe tbody tr th:only-of-type {\n        vertical-align: middle;\n    }\n\n    .dataframe tbody tr th {\n        vertical-align: top;\n    }\n\n    .dataframe thead th {\n        text-align: right;\n    }\n</style>\n<table border=\"1\" class=\"dataframe\">\n  <thead>\n    <tr style=\"text-align: right;\">\n      <th></th>\n      <th>date</th>\n      <th>title</th>\n      <th>full_url</th>\n      <th>main_html</th>\n      <th>main_html_v2</th>\n      <th>main_text</th>\n      <th>text_for_vect2</th>\n    </tr>\n  </thead>\n  <tbody>\n    <tr>\n      <th>0</th>\n      <td>2022-02-25</td>\n      <td>Russia-Ukraine Warning Update: Russian Offensi...</td>\n      <td>https://www.understandingwar.org/backgrounder/...</td>\n      <td>&lt;!DOCTYPE html&gt;\\n\\n&lt;html dir=\"ltr\" lang=\"en\" x...</td>\n      <td>[&lt;p align=\"center\" style=\"text-align: left;\"&gt;&lt;...</td>\n      <td>['Mason Clark, George Barros, and Kateryna Ste...</td>\n      <td>['mason', 'clark', 'george', 'barros', 'katery...</td>\n    </tr>\n    <tr>\n      <th>1</th>\n      <td>2022-02-26</td>\n      <td>Russia-Ukraine Warning Update: Russian Offensi...</td>\n      <td>https://www.understandingwar.org/backgrounder/...</td>\n      <td>&lt;!DOCTYPE html&gt;\\n\\n&lt;html dir=\"ltr\" lang=\"en\" x...</td>\n      <td>[&lt;p align=\"center\" style=\"text-align: left;\"&gt;&lt;...</td>\n      <td>['Mason Clark, George Barros, and Katya Stepan...</td>\n      <td>['mason', 'clark', 'george', 'barros', 'katya'...</td>\n    </tr>\n    <tr>\n      <th>2</th>\n      <td>2022-02-27</td>\n      <td>Russia-Ukraine Warning Update: Russian Offensi...</td>\n      <td>https://www.understandingwar.org/backgrounder/...</td>\n      <td>&lt;!DOCTYPE html&gt;\\n\\n&lt;html dir=\"ltr\" lang=\"en\" x...</td>\n      <td>[&lt;p style=\"text-align: left;\"&gt;&lt;strong&gt;&lt;span st...</td>\n      <td>['Mason Clark, George Barros, and Kateryna Ste...</td>\n      <td>['mason', 'clark', 'george', 'barros', 'katery...</td>\n    </tr>\n    <tr>\n      <th>3</th>\n      <td>2022-02-28</td>\n      <td>Russian Offensive Campaign Assessment, Februar...</td>\n      <td>https://www.understandingwar.org/backgrounder/...</td>\n      <td>&lt;!DOCTYPE html&gt;\\n\\n&lt;html dir=\"ltr\" lang=\"en\" x...</td>\n      <td>[&lt;p align=\"center\" style=\"text-align: left;\"&gt; ...</td>\n      <td>['Mason Clark, George Barros, and Kateryna Ste...</td>\n      <td>['mason', 'clark', 'george', 'barros', 'katery...</td>\n    </tr>\n    <tr>\n      <th>4</th>\n      <td>2022-03-01</td>\n      <td>Russian Offensive Campaign Assessment, March 1</td>\n      <td>https://www.understandingwar.org/backgrounder/...</td>\n      <td>&lt;!DOCTYPE html&gt;\\n\\n&lt;html dir=\"ltr\" lang=\"en\" x...</td>\n      <td>[&lt;p align=\"center\" style=\"text-align: left;\"&gt; ...</td>\n      <td>['Frederick W. Kagan, George Barros, and Kater...</td>\n      <td>['frederick', 'kagan', 'george', 'barros', 'ka...</td>\n    </tr>\n    <tr>\n      <th>...</th>\n      <td>...</td>\n      <td>...</td>\n      <td>...</td>\n      <td>...</td>\n      <td>...</td>\n      <td>...</td>\n      <td>...</td>\n    </tr>\n    <tr>\n      <th>324</th>\n      <td>2023-01-21</td>\n      <td>Russian Offensive Campaign Assessment, January...</td>\n      <td>https://www.understandingwar.org/backgrounder/...</td>\n      <td>&lt;!DOCTYPE html&gt;\\n\\n&lt;html dir=\"ltr\" lang=\"en\" x...</td>\n      <td>[&lt;p align=\"center\" style=\"text-align: left;\"&gt; ...</td>\n      <td>['Karolina Hird, Grace Mappes, Angela Howard, ...</td>\n      <td>['karolina', 'hird', 'grace', 'mappes', 'angel...</td>\n    </tr>\n    <tr>\n      <th>325</th>\n      <td>2023-01-22</td>\n      <td>Russian Offensive Campaign Assessment, January...</td>\n      <td>https://www.understandingwar.org/backgrounder/...</td>\n      <td>&lt;!DOCTYPE html&gt;\\n\\n&lt;html dir=\"ltr\" lang=\"en\" x...</td>\n      <td>[&lt;p align=\"center\" style=\"text-align: left;\"&gt;&lt;...</td>\n      <td>['Russian Offensive Campaign Assessment, Janua...</td>\n      <td>['russian', 'offensive', 'campaign', 'assessme...</td>\n    </tr>\n    <tr>\n      <th>326</th>\n      <td>2023-01-23</td>\n      <td>Russian Offensive Campaign Assessment, January...</td>\n      <td>https://www.understandingwar.org/backgrounder/...</td>\n      <td>&lt;!DOCTYPE html&gt;\\n\\n&lt;html dir=\"ltr\" lang=\"en\" x...</td>\n      <td>[&lt;p align=\"center\" style=\"text-align: left;\"&gt;&lt;...</td>\n      <td>['Russian Offensive Campaign Assessment, Janua...</td>\n      <td>['russian', 'offensive', 'campaign', 'assessme...</td>\n    </tr>\n    <tr>\n      <th>327</th>\n      <td>2023-01-24</td>\n      <td>Russian Offensive Campaign Assessment, January...</td>\n      <td>https://www.understandingwar.org/backgrounder/...</td>\n      <td>&lt;!DOCTYPE html&gt;\\n\\n&lt;html dir=\"ltr\" lang=\"en\" x...</td>\n      <td>[&lt;p align=\"center\" style=\"text-align: left;\"&gt; ...</td>\n      <td>['Karolina Hird, Riley Bailey, Grace Mappes, G...</td>\n      <td>['karolina', 'hird', 'riley', 'bailey', 'grace...</td>\n    </tr>\n    <tr>\n      <th>328</th>\n      <td>2023-01-25</td>\n      <td>Russian Offensive Campaign Assessment, January...</td>\n      <td>https://www.understandingwar.org/backgrounder/...</td>\n      <td>&lt;!DOCTYPE html&gt;\\n\\n&lt;html dir=\"ltr\" lang=\"en\" x...</td>\n      <td>[&lt;p align=\"center\" style=\"text-align: left;\"&gt; ...</td>\n      <td>['Karolina Hird, Riley Bailey, Kateryna Stepan...</td>\n      <td>['karolina', 'hird', 'riley', 'bailey', 'kater...</td>\n    </tr>\n  </tbody>\n</table>\n<p>329 rows × 7 columns</p>\n</div>"
     },
     "execution_count": 2,
     "metadata": {},
     "output_type": "execute_result"
    }
   ],
   "source": [
    "import pandas as pd\n",
    "        \n",
    "isw_vect_upd = pd.read_csv('isw_vect_upd.csv')\n",
    "isw_vect_upd\n"
   ],
   "metadata": {
    "collapsed": false,
    "ExecuteTime": {
     "end_time": "2024-03-25T09:48:15.763358Z",
     "start_time": "2024-03-25T09:48:14.771012Z"
    }
   },
   "id": "480fdf73e8318173",
   "execution_count": 2
  },
  {
   "cell_type": "code",
   "outputs": [
    {
     "data": {
      "text/plain": "                                        text_for_vect2        date\n0    ['mason', 'clark', 'george', 'barros', 'katery...  2022-02-25\n1    ['mason', 'clark', 'george', 'barros', 'katya'...  2022-02-26\n2    ['mason', 'clark', 'george', 'barros', 'katery...  2022-02-27\n3    ['mason', 'clark', 'george', 'barros', 'katery...  2022-02-28\n4    ['frederick', 'kagan', 'george', 'barros', 'ka...  2022-03-01\n..                                                 ...         ...\n324  ['karolina', 'hird', 'grace', 'mappes', 'angel...  2023-01-21\n325  ['russian', 'offensive', 'campaign', 'assessme...  2023-01-22\n326  ['russian', 'offensive', 'campaign', 'assessme...  2023-01-23\n327  ['karolina', 'hird', 'riley', 'bailey', 'grace...  2023-01-24\n328  ['karolina', 'hird', 'riley', 'bailey', 'kater...  2023-01-25\n\n[329 rows x 2 columns]",
      "text/html": "<div>\n<style scoped>\n    .dataframe tbody tr th:only-of-type {\n        vertical-align: middle;\n    }\n\n    .dataframe tbody tr th {\n        vertical-align: top;\n    }\n\n    .dataframe thead th {\n        text-align: right;\n    }\n</style>\n<table border=\"1\" class=\"dataframe\">\n  <thead>\n    <tr style=\"text-align: right;\">\n      <th></th>\n      <th>text_for_vect2</th>\n      <th>date</th>\n    </tr>\n  </thead>\n  <tbody>\n    <tr>\n      <th>0</th>\n      <td>['mason', 'clark', 'george', 'barros', 'katery...</td>\n      <td>2022-02-25</td>\n    </tr>\n    <tr>\n      <th>1</th>\n      <td>['mason', 'clark', 'george', 'barros', 'katya'...</td>\n      <td>2022-02-26</td>\n    </tr>\n    <tr>\n      <th>2</th>\n      <td>['mason', 'clark', 'george', 'barros', 'katery...</td>\n      <td>2022-02-27</td>\n    </tr>\n    <tr>\n      <th>3</th>\n      <td>['mason', 'clark', 'george', 'barros', 'katery...</td>\n      <td>2022-02-28</td>\n    </tr>\n    <tr>\n      <th>4</th>\n      <td>['frederick', 'kagan', 'george', 'barros', 'ka...</td>\n      <td>2022-03-01</td>\n    </tr>\n    <tr>\n      <th>...</th>\n      <td>...</td>\n      <td>...</td>\n    </tr>\n    <tr>\n      <th>324</th>\n      <td>['karolina', 'hird', 'grace', 'mappes', 'angel...</td>\n      <td>2023-01-21</td>\n    </tr>\n    <tr>\n      <th>325</th>\n      <td>['russian', 'offensive', 'campaign', 'assessme...</td>\n      <td>2023-01-22</td>\n    </tr>\n    <tr>\n      <th>326</th>\n      <td>['russian', 'offensive', 'campaign', 'assessme...</td>\n      <td>2023-01-23</td>\n    </tr>\n    <tr>\n      <th>327</th>\n      <td>['karolina', 'hird', 'riley', 'bailey', 'grace...</td>\n      <td>2023-01-24</td>\n    </tr>\n    <tr>\n      <th>328</th>\n      <td>['karolina', 'hird', 'riley', 'bailey', 'kater...</td>\n      <td>2023-01-25</td>\n    </tr>\n  </tbody>\n</table>\n<p>329 rows × 2 columns</p>\n</div>"
     },
     "execution_count": 3,
     "metadata": {},
     "output_type": "execute_result"
    }
   ],
   "source": [
    "pure = isw_vect_upd[[\"text_for_vect2\", \"date\"]]\n",
    "pure"
   ],
   "metadata": {
    "collapsed": false,
    "ExecuteTime": {
     "end_time": "2024-03-25T09:48:15.764890Z",
     "start_time": "2024-03-25T09:48:15.761679Z"
    }
   },
   "id": "d2eafa1c3c5c4c45",
   "execution_count": 3
  },
  {
   "cell_type": "code",
   "outputs": [
    {
     "name": "stdout",
     "output_type": "stream",
     "text": [
      "Collecting en-core-web-lg==3.7.1\r\n",
      "  Downloading https://github.com/explosion/spacy-models/releases/download/en_core_web_lg-3.7.1/en_core_web_lg-3.7.1-py3-none-any.whl (587.7 MB)\r\n",
      "\u001B[2K     \u001B[91m━━━━\u001B[0m\u001B[91m╸\u001B[0m\u001B[90m━━━━━━━━━━━━━━━━━━━━━━━━━━━━━━━━━━\u001B[0m \u001B[32m70.2/587.7 MB\u001B[0m \u001B[31m10.6 MB/s\u001B[0m eta \u001B[36m0:00:49\u001B[0m^C\r\n",
      "\u001B[2K     \u001B[91m━━━━\u001B[0m\u001B[91m╸\u001B[0m\u001B[90m━━━━━━━━━━━━━━━━━━━━━━━━━━━━━━━━━━\u001B[0m \u001B[32m71.1/587.7 MB\u001B[0m \u001B[31m10.6 MB/s\u001B[0m eta \u001B[36m0:00:49\u001B[0m\r\n",
      "\u001B[?25h\u001B[31mERROR: Operation cancelled by user\u001B[0m\u001B[31m\r\n",
      "\u001B[0m\r\n",
      "Aborted!\r\n",
      "Collecting en-core-web-sm==3.7.1\r\n",
      "  Downloading https://github.com/explosion/spacy-models/releases/download/en_core_web_sm-3.7.1/en_core_web_sm-3.7.1-py3-none-any.whl (12.8 MB)\r\n",
      "\u001B[2K     \u001B[90m━━━━━━━━━━━━━━━━━━━━━━━━━━━━━━━━━━━━━━━━\u001B[0m \u001B[32m12.8/12.8 MB\u001B[0m \u001B[31m11.9 MB/s\u001B[0m eta \u001B[36m0:00:00\u001B[0m00:01\u001B[0m00:01\u001B[0m\r\n",
      "\u001B[?25hRequirement already satisfied: spacy<3.8.0,>=3.7.2 in /Users/ivantyshchenko/Projects/Python/4-pythonic-squad/.venv/lib/python3.12/site-packages (from en-core-web-sm==3.7.1) (3.7.4)\r\n",
      "Requirement already satisfied: spacy-legacy<3.1.0,>=3.0.11 in /Users/ivantyshchenko/Projects/Python/4-pythonic-squad/.venv/lib/python3.12/site-packages (from spacy<3.8.0,>=3.7.2->en-core-web-sm==3.7.1) (3.0.12)\r\n",
      "Requirement already satisfied: spacy-loggers<2.0.0,>=1.0.0 in /Users/ivantyshchenko/Projects/Python/4-pythonic-squad/.venv/lib/python3.12/site-packages (from spacy<3.8.0,>=3.7.2->en-core-web-sm==3.7.1) (1.0.5)\r\n",
      "Requirement already satisfied: murmurhash<1.1.0,>=0.28.0 in /Users/ivantyshchenko/Projects/Python/4-pythonic-squad/.venv/lib/python3.12/site-packages (from spacy<3.8.0,>=3.7.2->en-core-web-sm==3.7.1) (1.0.10)\r\n",
      "Requirement already satisfied: cymem<2.1.0,>=2.0.2 in /Users/ivantyshchenko/Projects/Python/4-pythonic-squad/.venv/lib/python3.12/site-packages (from spacy<3.8.0,>=3.7.2->en-core-web-sm==3.7.1) (2.0.8)\r\n",
      "Requirement already satisfied: preshed<3.1.0,>=3.0.2 in /Users/ivantyshchenko/Projects/Python/4-pythonic-squad/.venv/lib/python3.12/site-packages (from spacy<3.8.0,>=3.7.2->en-core-web-sm==3.7.1) (3.0.9)\r\n",
      "Requirement already satisfied: thinc<8.3.0,>=8.2.2 in /Users/ivantyshchenko/Projects/Python/4-pythonic-squad/.venv/lib/python3.12/site-packages (from spacy<3.8.0,>=3.7.2->en-core-web-sm==3.7.1) (8.2.3)\r\n",
      "Requirement already satisfied: wasabi<1.2.0,>=0.9.1 in /Users/ivantyshchenko/Projects/Python/4-pythonic-squad/.venv/lib/python3.12/site-packages (from spacy<3.8.0,>=3.7.2->en-core-web-sm==3.7.1) (1.1.2)\r\n",
      "Requirement already satisfied: srsly<3.0.0,>=2.4.3 in /Users/ivantyshchenko/Projects/Python/4-pythonic-squad/.venv/lib/python3.12/site-packages (from spacy<3.8.0,>=3.7.2->en-core-web-sm==3.7.1) (2.4.8)\r\n",
      "Requirement already satisfied: catalogue<2.1.0,>=2.0.6 in /Users/ivantyshchenko/Projects/Python/4-pythonic-squad/.venv/lib/python3.12/site-packages (from spacy<3.8.0,>=3.7.2->en-core-web-sm==3.7.1) (2.0.10)\r\n",
      "Requirement already satisfied: weasel<0.4.0,>=0.1.0 in /Users/ivantyshchenko/Projects/Python/4-pythonic-squad/.venv/lib/python3.12/site-packages (from spacy<3.8.0,>=3.7.2->en-core-web-sm==3.7.1) (0.3.4)\r\n",
      "Requirement already satisfied: typer<0.10.0,>=0.3.0 in /Users/ivantyshchenko/Projects/Python/4-pythonic-squad/.venv/lib/python3.12/site-packages (from spacy<3.8.0,>=3.7.2->en-core-web-sm==3.7.1) (0.9.4)\r\n",
      "Requirement already satisfied: smart-open<7.0.0,>=5.2.1 in /Users/ivantyshchenko/Projects/Python/4-pythonic-squad/.venv/lib/python3.12/site-packages (from spacy<3.8.0,>=3.7.2->en-core-web-sm==3.7.1) (6.4.0)\r\n",
      "Requirement already satisfied: tqdm<5.0.0,>=4.38.0 in /Users/ivantyshchenko/Projects/Python/4-pythonic-squad/.venv/lib/python3.12/site-packages (from spacy<3.8.0,>=3.7.2->en-core-web-sm==3.7.1) (4.66.2)\r\n",
      "Requirement already satisfied: requests<3.0.0,>=2.13.0 in /Users/ivantyshchenko/Projects/Python/4-pythonic-squad/.venv/lib/python3.12/site-packages (from spacy<3.8.0,>=3.7.2->en-core-web-sm==3.7.1) (2.31.0)\r\n",
      "Requirement already satisfied: pydantic!=1.8,!=1.8.1,<3.0.0,>=1.7.4 in /Users/ivantyshchenko/Projects/Python/4-pythonic-squad/.venv/lib/python3.12/site-packages (from spacy<3.8.0,>=3.7.2->en-core-web-sm==3.7.1) (2.6.4)\r\n",
      "Requirement already satisfied: jinja2 in /Users/ivantyshchenko/Projects/Python/4-pythonic-squad/.venv/lib/python3.12/site-packages (from spacy<3.8.0,>=3.7.2->en-core-web-sm==3.7.1) (3.1.3)\r\n",
      "Requirement already satisfied: setuptools in /Users/ivantyshchenko/Projects/Python/4-pythonic-squad/.venv/lib/python3.12/site-packages (from spacy<3.8.0,>=3.7.2->en-core-web-sm==3.7.1) (69.2.0)\r\n",
      "Requirement already satisfied: packaging>=20.0 in /Users/ivantyshchenko/Projects/Python/4-pythonic-squad/.venv/lib/python3.12/site-packages (from spacy<3.8.0,>=3.7.2->en-core-web-sm==3.7.1) (24.0)\r\n",
      "Requirement already satisfied: langcodes<4.0.0,>=3.2.0 in /Users/ivantyshchenko/Projects/Python/4-pythonic-squad/.venv/lib/python3.12/site-packages (from spacy<3.8.0,>=3.7.2->en-core-web-sm==3.7.1) (3.3.0)\r\n",
      "Requirement already satisfied: numpy>=1.19.0 in /Users/ivantyshchenko/Projects/Python/4-pythonic-squad/.venv/lib/python3.12/site-packages (from spacy<3.8.0,>=3.7.2->en-core-web-sm==3.7.1) (1.26.4)\r\n",
      "Requirement already satisfied: annotated-types>=0.4.0 in /Users/ivantyshchenko/Projects/Python/4-pythonic-squad/.venv/lib/python3.12/site-packages (from pydantic!=1.8,!=1.8.1,<3.0.0,>=1.7.4->spacy<3.8.0,>=3.7.2->en-core-web-sm==3.7.1) (0.6.0)\r\n",
      "Requirement already satisfied: pydantic-core==2.16.3 in /Users/ivantyshchenko/Projects/Python/4-pythonic-squad/.venv/lib/python3.12/site-packages (from pydantic!=1.8,!=1.8.1,<3.0.0,>=1.7.4->spacy<3.8.0,>=3.7.2->en-core-web-sm==3.7.1) (2.16.3)\r\n",
      "Requirement already satisfied: typing-extensions>=4.6.1 in /Users/ivantyshchenko/Projects/Python/4-pythonic-squad/.venv/lib/python3.12/site-packages (from pydantic!=1.8,!=1.8.1,<3.0.0,>=1.7.4->spacy<3.8.0,>=3.7.2->en-core-web-sm==3.7.1) (4.10.0)\r\n",
      "Requirement already satisfied: charset-normalizer<4,>=2 in /Users/ivantyshchenko/Projects/Python/4-pythonic-squad/.venv/lib/python3.12/site-packages (from requests<3.0.0,>=2.13.0->spacy<3.8.0,>=3.7.2->en-core-web-sm==3.7.1) (3.3.2)\r\n",
      "Requirement already satisfied: idna<4,>=2.5 in /Users/ivantyshchenko/Projects/Python/4-pythonic-squad/.venv/lib/python3.12/site-packages (from requests<3.0.0,>=2.13.0->spacy<3.8.0,>=3.7.2->en-core-web-sm==3.7.1) (3.6)\r\n",
      "Requirement already satisfied: urllib3<3,>=1.21.1 in /Users/ivantyshchenko/Projects/Python/4-pythonic-squad/.venv/lib/python3.12/site-packages (from requests<3.0.0,>=2.13.0->spacy<3.8.0,>=3.7.2->en-core-web-sm==3.7.1) (2.2.1)\r\n",
      "Requirement already satisfied: certifi>=2017.4.17 in /Users/ivantyshchenko/Projects/Python/4-pythonic-squad/.venv/lib/python3.12/site-packages (from requests<3.0.0,>=2.13.0->spacy<3.8.0,>=3.7.2->en-core-web-sm==3.7.1) (2024.2.2)\r\n",
      "Requirement already satisfied: blis<0.8.0,>=0.7.8 in /Users/ivantyshchenko/Projects/Python/4-pythonic-squad/.venv/lib/python3.12/site-packages (from thinc<8.3.0,>=8.2.2->spacy<3.8.0,>=3.7.2->en-core-web-sm==3.7.1) (0.7.11)\r\n",
      "Requirement already satisfied: confection<1.0.0,>=0.0.1 in /Users/ivantyshchenko/Projects/Python/4-pythonic-squad/.venv/lib/python3.12/site-packages (from thinc<8.3.0,>=8.2.2->spacy<3.8.0,>=3.7.2->en-core-web-sm==3.7.1) (0.1.4)\r\n",
      "Requirement already satisfied: click<9.0.0,>=7.1.1 in /Users/ivantyshchenko/Projects/Python/4-pythonic-squad/.venv/lib/python3.12/site-packages (from typer<0.10.0,>=0.3.0->spacy<3.8.0,>=3.7.2->en-core-web-sm==3.7.1) (8.1.7)\r\n",
      "Requirement already satisfied: cloudpathlib<0.17.0,>=0.7.0 in /Users/ivantyshchenko/Projects/Python/4-pythonic-squad/.venv/lib/python3.12/site-packages (from weasel<0.4.0,>=0.1.0->spacy<3.8.0,>=3.7.2->en-core-web-sm==3.7.1) (0.16.0)\r\n",
      "Requirement already satisfied: MarkupSafe>=2.0 in /Users/ivantyshchenko/Projects/Python/4-pythonic-squad/.venv/lib/python3.12/site-packages (from jinja2->spacy<3.8.0,>=3.7.2->en-core-web-sm==3.7.1) (2.1.5)\r\n",
      "\u001B[38;5;2m✔ Download and installation successful\u001B[0m\r\n",
      "You can now load the package via spacy.load('en_core_web_sm')\r\n"
     ]
    }
   ],
   "source": [
    "!python -m spacy download en_core_web_lg\n",
    "!python -m spacy download en_core_web_sm"
   ],
   "metadata": {
    "collapsed": false,
    "ExecuteTime": {
     "end_time": "2024-03-25T09:48:27.764092Z",
     "start_time": "2024-03-25T09:48:15.764755Z"
    }
   },
   "id": "429b522e31b7e012",
   "execution_count": 4
  },
  {
   "cell_type": "code",
   "outputs": [
    {
     "name": "stderr",
     "output_type": "stream",
     "text": [
      "/var/folders/ks/d6pwjtjd5y7_9mmxkttk6rd00000gn/T/ipykernel_74319/3712140073.py:12: SettingWithCopyWarning: \n",
      "A value is trying to be set on a copy of a slice from a DataFrame.\n",
      "Try using .loc[row_indexer,col_indexer] = value instead\n",
      "\n",
      "See the caveats in the documentation: https://pandas.pydata.org/pandas-docs/stable/user_guide/indexing.html#returning-a-view-versus-a-copy\n",
      "  pure['text_for_vect2'] = pure['text_for_vect2'].apply(lemmatize_text)\n"
     ]
    },
    {
     "data": {
      "text/plain": "                                        text_for_vect2        date\n0    [ ' mason ' , ' clark ' , ' george ' , ' barro...  2022-02-25\n1    [ ' mason ' , ' clark ' , ' george ' , ' barro...  2022-02-26\n2    [ ' mason ' , ' clark ' , ' george ' , ' barro...  2022-02-27\n3    [ ' mason ' , ' clark ' , ' george ' , ' barro...  2022-02-28\n4    [ ' frederick ' , ' kagan ' , ' george ' , ' b...  2022-03-01\n..                                                 ...         ...\n324  [ ' karolina ' , ' hird ' , ' grace ' , ' mapp...  2023-01-21\n325  [ ' russian ' , ' offensive ' , ' campaign ' ,...  2023-01-22\n326  [ ' russian ' , ' offensive ' , ' campaign ' ,...  2023-01-23\n327  [ ' karolina ' , ' hird ' , ' riley ' , ' bail...  2023-01-24\n328  [ ' karolina ' , ' hird ' , ' riley ' , ' bail...  2023-01-25\n\n[329 rows x 2 columns]",
      "text/html": "<div>\n<style scoped>\n    .dataframe tbody tr th:only-of-type {\n        vertical-align: middle;\n    }\n\n    .dataframe tbody tr th {\n        vertical-align: top;\n    }\n\n    .dataframe thead th {\n        text-align: right;\n    }\n</style>\n<table border=\"1\" class=\"dataframe\">\n  <thead>\n    <tr style=\"text-align: right;\">\n      <th></th>\n      <th>text_for_vect2</th>\n      <th>date</th>\n    </tr>\n  </thead>\n  <tbody>\n    <tr>\n      <th>0</th>\n      <td>[ ' mason ' , ' clark ' , ' george ' , ' barro...</td>\n      <td>2022-02-25</td>\n    </tr>\n    <tr>\n      <th>1</th>\n      <td>[ ' mason ' , ' clark ' , ' george ' , ' barro...</td>\n      <td>2022-02-26</td>\n    </tr>\n    <tr>\n      <th>2</th>\n      <td>[ ' mason ' , ' clark ' , ' george ' , ' barro...</td>\n      <td>2022-02-27</td>\n    </tr>\n    <tr>\n      <th>3</th>\n      <td>[ ' mason ' , ' clark ' , ' george ' , ' barro...</td>\n      <td>2022-02-28</td>\n    </tr>\n    <tr>\n      <th>4</th>\n      <td>[ ' frederick ' , ' kagan ' , ' george ' , ' b...</td>\n      <td>2022-03-01</td>\n    </tr>\n    <tr>\n      <th>...</th>\n      <td>...</td>\n      <td>...</td>\n    </tr>\n    <tr>\n      <th>324</th>\n      <td>[ ' karolina ' , ' hird ' , ' grace ' , ' mapp...</td>\n      <td>2023-01-21</td>\n    </tr>\n    <tr>\n      <th>325</th>\n      <td>[ ' russian ' , ' offensive ' , ' campaign ' ,...</td>\n      <td>2023-01-22</td>\n    </tr>\n    <tr>\n      <th>326</th>\n      <td>[ ' russian ' , ' offensive ' , ' campaign ' ,...</td>\n      <td>2023-01-23</td>\n    </tr>\n    <tr>\n      <th>327</th>\n      <td>[ ' karolina ' , ' hird ' , ' riley ' , ' bail...</td>\n      <td>2023-01-24</td>\n    </tr>\n    <tr>\n      <th>328</th>\n      <td>[ ' karolina ' , ' hird ' , ' riley ' , ' bail...</td>\n      <td>2023-01-25</td>\n    </tr>\n  </tbody>\n</table>\n<p>329 rows × 2 columns</p>\n</div>"
     },
     "execution_count": 5,
     "metadata": {},
     "output_type": "execute_result"
    }
   ],
   "source": [
    "import spacy\n",
    "# import en_core_web_sm\n",
    "\n",
    "nlp = spacy.load('en_core_web_sm')\n",
    "\n",
    "def lemmatize_text(text):\n",
    "\n",
    "    doc = nlp(text)\n",
    "    lemmatized_text = ' '.join([token.lemma_ for token in doc])\n",
    "    return lemmatized_text\n",
    "\n",
    "pure['text_for_vect2'] = pure['text_for_vect2'].apply(lemmatize_text)\n",
    "pure\n"
   ],
   "metadata": {
    "collapsed": false,
    "ExecuteTime": {
     "end_time": "2024-03-25T09:54:22.401123Z",
     "start_time": "2024-03-25T09:48:27.765041Z"
    }
   },
   "id": "409f36698655f6d0",
   "execution_count": 5
  },
  {
   "cell_type": "code",
   "outputs": [],
   "source": [
    "pure.to_csv('pure_isw.csv', index=False)"
   ],
   "metadata": {
    "collapsed": false,
    "ExecuteTime": {
     "end_time": "2024-03-25T09:54:22.533917Z",
     "start_time": "2024-03-25T09:54:22.397970Z"
    }
   },
   "id": "e653e0f8e537d712",
   "execution_count": 6
  },
  {
   "cell_type": "code",
   "outputs": [],
   "source": [
    "from sklearn.feature_extraction.text import TfidfVectorizer\n",
    "tfidf_vect = TfidfVectorizer(max_features=5000)\n",
    "tfidf_matrix = tfidf_vect.fit_transform(pure['text_for_vect2'])\n",
    "tfidf_df = pd.DataFrame(tfidf_matrix.toarray(), columns=tfidf_vect.get_feature_names_out())\n",
    "vect_df = pd.concat([pure[\"date\"], tfidf_df], axis=1)\n"
   ],
   "metadata": {
    "collapsed": false,
    "ExecuteTime": {
     "end_time": "2024-03-25T09:54:23.745768Z",
     "start_time": "2024-03-25T09:54:22.502594Z"
    }
   },
   "id": "43f481c59f32bed",
   "execution_count": 7
  },
  {
   "cell_type": "code",
   "outputs": [],
   "source": [
    "vect_df.to_csv('isw_tfidf.csv', index=False)"
   ],
   "metadata": {
    "collapsed": false,
    "ExecuteTime": {
     "end_time": "2024-03-25T09:54:24.327437Z",
     "start_time": "2024-03-25T09:54:23.746568Z"
    }
   },
   "id": "6e0f9091cef0c84",
   "execution_count": 8
  },
  {
   "cell_type": "code",
   "outputs": [],
   "source": [],
   "metadata": {
    "collapsed": false,
    "ExecuteTime": {
     "end_time": "2024-03-25T09:54:24.333950Z",
     "start_time": "2024-03-25T09:54:24.326853Z"
    }
   },
   "id": "5348e4b4200a73a5",
   "execution_count": 8
  },
  {
   "cell_type": "code",
   "outputs": [
    {
     "data": {
      "text/plain": "['date',\n 'abandon',\n 'abandonment',\n 'abbreviate',\n 'abduct',\n 'abduction',\n 'abide',\n 'ability',\n 'abkhazia',\n 'able',\n 'abroad',\n 'absence',\n 'absent',\n 'absolve',\n 'absurd',\n 'absurdly',\n 'abuse',\n 'ac',\n 'academy',\n 'accelerate',\n 'accept',\n 'acceptable',\n 'access',\n 'accessible',\n 'accession',\n 'accident',\n 'accidentally',\n 'accommodate',\n 'accommodation',\n 'accompany',\n 'accomplish',\n 'accord',\n 'accordance',\n 'accordingly',\n 'account',\n 'accrue',\n 'accumulate',\n 'accumulation',\n 'accurate',\n 'accurately',\n 'accusation',\n 'accuse',\n 'achieve',\n 'achievement',\n 'acknowledge',\n 'acknowledgment',\n 'acquire',\n 'acquisition',\n 'across',\n 'act',\n 'action',\n 'activate',\n 'activation',\n 'active',\n 'actively',\n 'activist',\n 'activity',\n 'actor',\n 'actual',\n 'actually',\n 'acute',\n 'ad',\n 'adamivka',\n 'adapt',\n 'adaptation',\n 'add',\n 'addition',\n 'additional',\n 'additionally',\n 'address',\n 'adequate',\n 'adequately',\n 'adhere',\n 'adhoc',\n 'adjacent',\n 'adjust',\n 'administer',\n 'administration',\n 'administrative',\n 'administrator',\n 'admiral',\n 'admission',\n 'admit',\n 'adopt',\n 'adoption',\n 'advance',\n 'advantage',\n 'advantageous',\n 'adversary',\n 'advertise',\n 'advertisement',\n 'adviser',\n 'advisor',\n 'advocate',\n 'aerial',\n 'aerospace',\n 'affair',\n 'affect',\n 'affiliate',\n 'affiliation',\n 'affirm',\n 'afford',\n 'afghanistan',\n 'aforementione',\n 'afraid',\n 'africa',\n 'aftermath',\n 'age',\n 'agency',\n 'agenda',\n 'agent',\n 'aggregator',\n 'aggression',\n 'aggressive',\n 'ago',\n 'agree',\n 'agreement',\n 'agricultural',\n 'ahead',\n 'aid',\n 'aim',\n 'air',\n 'airbase',\n 'airborne',\n 'aircraft',\n 'airdefense',\n 'airfield',\n 'airport',\n 'airspace',\n 'airstrike',\n 'akhmat',\n 'aksyonov',\n 'alarm',\n 'alchevsk',\n 'alcohol',\n 'aleksandr',\n 'aleppo',\n 'alert',\n 'alexander',\n 'alexei',\n 'alexey',\n 'algorithm',\n 'alias',\n 'alienate',\n 'align',\n 'alive',\n 'allegation',\n 'allege',\n 'allegedly',\n 'alleviate',\n 'alliance',\n 'allocate',\n 'allocation',\n 'allow',\n 'allowance',\n 'allrussian',\n 'ally',\n 'almost',\n 'alone',\n 'along',\n 'alongside',\n 'already',\n 'alreadylow',\n 'also',\n 'altai',\n 'alter',\n 'altercation',\n 'alternate',\n 'alternative',\n 'alternatively',\n 'although',\n 'always',\n 'amass',\n 'ambassador',\n 'ambiguous',\n 'ambition',\n 'ambitious',\n 'amend',\n 'amendment',\n 'america',\n 'american',\n 'amid',\n 'amidst',\n 'ammunition',\n 'amnesty',\n 'among',\n 'amongst',\n 'amount',\n 'amphibious',\n 'amplify',\n 'analysis',\n 'analyst',\n 'analyze',\n 'andrei',\n 'andrey',\n 'andriivka',\n 'andriy',\n 'andryushchenko',\n 'andryushenko',\n 'anecdotal',\n 'angela',\n 'anger',\n 'angry',\n 'annex',\n 'annexation',\n 'anniversary',\n 'announce',\n 'announcement',\n 'annual',\n 'anomaly',\n 'anonymous',\n 'another',\n 'answer',\n 'antiair',\n 'antiaircraft',\n 'anticipate',\n 'anticipation',\n 'antimobilization',\n 'antirussian',\n 'antiship',\n 'antitank',\n 'antiukrainian',\n 'antiwar',\n 'anton',\n 'antonivka',\n 'antonivsky',\n 'antonivskyi',\n 'antonov',\n 'anyone',\n 'anything',\n 'anywhere',\n 'apart',\n 'apartment',\n 'apologize',\n 'apparatus',\n 'apparent',\n 'apparently',\n 'appeal',\n 'appear',\n 'appearance',\n 'appease',\n 'applicant',\n 'application',\n 'apply',\n 'appoint',\n 'appointment',\n 'approach',\n 'appropriate',\n 'approval',\n 'approve',\n 'approximately',\n 'april',\n 'arab',\n 'arabat',\n 'arbitrary',\n 'arc',\n 'area',\n 'arestovych',\n 'argue',\n 'argument',\n 'arhanhelske',\n 'arise',\n 'arkhangelsk',\n 'arkhanhelske',\n 'arm',\n 'armament',\n 'armenia',\n 'armenian',\n 'armor',\n 'army',\n 'armyansk',\n 'around',\n 'arrange',\n 'arrangement',\n 'array',\n 'arrest',\n 'arrival',\n 'arrive',\n 'arsenal',\n 'arson',\n 'art',\n 'artakove',\n 'artem',\n 'article',\n 'artificially',\n 'artillery',\n 'artilleryman',\n 'ash',\n 'asia',\n 'asian',\n 'ask',\n 'aspect',\n 'aspiration',\n 'assailant',\n 'assassinate',\n 'assassination',\n 'assault',\n 'assemble',\n 'assembly',\n 'assert',\n 'assertion',\n 'assess',\n 'assessment',\n 'asset',\n 'assign',\n 'assignment',\n 'assimilation',\n 'assist',\n 'assistance',\n 'assistant',\n 'associate',\n 'association',\n 'assuage',\n 'assume',\n 'assumption',\n 'assurance',\n 'assure',\n 'astra',\n 'asymmetric',\n 'atms',\n 'atomic',\n 'atrocity',\n 'attack',\n 'attacker',\n 'attempt',\n 'attend',\n 'attendance',\n 'attention',\n 'attitude',\n 'attract',\n 'attribute',\n 'attrit',\n 'attrition',\n 'attritional',\n 'audible',\n 'audience',\n 'audio',\n 'augment',\n 'august',\n 'austin',\n 'authenticity',\n 'author',\n 'authority',\n 'authorize',\n 'automatically',\n 'autonomous',\n 'autumn',\n 'availability',\n 'available',\n 'avdiivka',\n 'avdiivkadonetsk',\n 'avenue',\n 'average',\n 'aviation',\n 'avoid',\n 'await',\n 'award',\n 'aware',\n 'awareness',\n 'away',\n 'ax',\n 'axis',\n 'azerbaijan',\n 'azot',\n 'azov',\n 'azovstal',\n 'back',\n 'backdrop',\n 'backer',\n 'background',\n 'backlash',\n 'backup',\n 'bad',\n 'badly',\n 'bag',\n 'bahmut',\n 'bailey',\n 'bairak',\n 'bakhmut',\n 'bakhmutlysychansk',\n 'bakhmutsiversk',\n 'bakhmutske',\n 'balaklia',\n 'balakliya',\n 'balance',\n 'balitsky',\n 'balitskyi',\n 'balka',\n 'ballistic',\n 'ballot',\n 'baltic',\n 'ban',\n 'bank',\n 'banner',\n 'bar',\n 'baranovichi',\n 'bare',\n 'bargain',\n 'barge',\n 'barrack',\n 'barrage',\n 'barrier',\n 'barros',\n 'barvinkove',\n 'barvinok',\n 'basan',\n 'base',\n 'basement',\n 'bashkortostan',\n 'bashtanka',\n 'basic',\n 'basis',\n 'bastion',\n 'basurin',\n 'batch',\n 'battalion',\n 'battalionlevel',\n 'battery',\n 'battle',\n 'battlefield',\n 'battlespace',\n 'bay',\n 'bayrak',\n 'bayraktar',\n 'baza',\n 'bbc',\n 'beach',\n 'bear',\n 'beat',\n 'become',\n 'bed',\n 'begin',\n 'beglov',\n 'behalf',\n 'behave',\n 'behavior',\n 'behind',\n 'belaru',\n 'belarus',\n 'belarusian',\n 'belarusianukrainian',\n 'belbek',\n 'belgorod',\n 'belie',\n 'belief',\n 'believe',\n 'bellingcat',\n 'belong',\n 'belt',\n 'benefit',\n 'berdnikov',\n 'berdyansk',\n 'berestove',\n 'bereznehuvate',\n 'berislav',\n 'beryslav',\n 'beryslavnova',\n 'besiege',\n 'betray',\n 'beyond',\n 'bezimenne',\n 'bezsonov',\n 'bid',\n 'biden',\n 'big',\n 'bila',\n 'bilateral',\n 'bill',\n 'billion',\n 'bilohirka',\n 'bilohirya',\n 'bilohorivka',\n 'bilovodsk',\n 'bilozerka',\n 'bilyaivka',\n 'bind',\n 'biological',\n 'birth',\n 'bisect',\n 'bishkek',\n 'bizarre',\n 'bizne',\n 'black',\n 'blackmail',\n 'blackout',\n 'blahodativka',\n 'blahodatne',\n 'blame',\n 'block',\n 'blockade',\n 'blockbyblock',\n 'blogger',\n 'blood',\n 'bloody',\n 'blow',\n 'board',\n 'boast',\n 'boat',\n 'body',\n 'boguchar',\n 'bohorodychne',\n 'bolster',\n 'bomb',\n 'bombard',\n 'bombardment',\n 'bomber',\n 'bonus',\n 'boost',\n 'border',\n 'boris',\n 'borivske',\n 'borodyanka',\n 'borova',\n 'borshchova',\n 'boundary',\n 'box',\n 'boytsovyi',\n 'br',\n 'brainwash',\n 'branch',\n 'brand',\n 'bratchuk',\n 'brazhivka',\n 'brazhkivka',\n 'breach',\n 'break',\n 'breakdown',\n 'breakout',\n 'breakthrough',\n 'bribe',\n 'brid',\n 'bridge',\n 'bridgehead',\n 'brief',\n 'briefly',\n 'brigade',\n 'brigadelevel',\n 'brigadier',\n 'bring',\n 'british',\n 'broad',\n 'broadcast',\n 'broaden',\n 'broadly',\n 'brovary',\n 'brunt',\n 'bruskinske',\n 'bruskynske',\n 'brutal',\n 'brutality',\n 'bryansk',\n 'brylivka',\n 'bsf',\n 'btg',\n 'btgs',\n 'bucha',\n 'budanov',\n 'budget',\n 'buffer',\n 'bug',\n 'build',\n 'buildup',\n 'builtup',\n 'buk',\n 'bulletproof',\n 'burden',\n 'bureaucracy',\n 'bureaucrat',\n 'bureaucratic',\n 'burial',\n 'burkov',\n 'burluk',\n 'burn',\n 'bury',\n 'buryatia',\n 'bus',\n 'business',\n 'businessman',\n 'butivka',\n 'butrii',\n 'buy',\n 'bypass',\n 'byshiv',\n 'caa',\n 'cabinet',\n 'cache',\n 'cadet',\n 'cadre',\n 'calculate',\n 'calendar',\n 'call',\n 'callup',\n 'camouflage',\n 'camp',\n 'campaign',\n 'can',\n 'canal',\n 'cancel',\n 'candidate',\n 'cannon',\n 'capabilitie',\n 'capability',\n 'capable',\n 'capacity',\n 'capital',\n 'capitalize',\n 'capitulate',\n 'capitulation',\n 'capture',\n 'car',\n 'card',\n 'care',\n 'career',\n 'cargo',\n 'carl',\n 'carrier',\n 'carry',\n 'case',\n 'cash',\n 'caspian',\n 'cast',\n 'casualty',\n 'catalyst',\n 'catastrophe',\n 'catch',\n 'categorically',\n 'category',\n 'cater',\n 'caucasus',\n 'cauldron',\n 'cause',\n 'caution',\n 'cease',\n 'ceasefire',\n 'cede',\n 'celebrate',\n 'celebration',\n 'cell',\n 'cement',\n 'cemetery',\n 'censor',\n 'censorship',\n 'center',\n 'central',\n 'centralize',\n 'century',\n 'ceremony',\n 'certain',\n 'certainly',\n 'certificate',\n 'cessation',\n 'chaiko',\n 'chain',\n 'chairman',\n 'chairperson',\n 'challenge',\n 'chamber',\n 'chance',\n 'chancellor',\n 'change',\n 'channel',\n 'chaotic',\n 'chaplynka',\n 'characterize',\n 'charge',\n 'charivne',\n 'chase',\n 'chasiv',\n 'chayko',\n 'cheap',\n 'chechen',\n 'chechens',\n 'chechnya',\n 'check',\n 'checkpoint',\n 'chelyabinsk',\n 'chemical',\n 'chepil',\n 'cherevaty',\n 'cherevatyi',\n 'cherkasy',\n 'chernihiv',\n 'chernihivka',\n 'chernobyl',\n 'chernyak',\n 'chervone',\n 'chervonohryhorivka',\n 'chervonopopivka',\n 'chief',\n 'child',\n 'china',\n 'chinese',\n 'chkalove',\n 'choice',\n 'choose',\n 'chornobaivka',\n 'christian',\n 'christians',\n 'christmas',\n 'chuhuiv',\n 'church',\n 'chuvash',\n 'chuvashia',\n 'circle',\n 'circulate',\n 'circulation',\n 'circumstance',\n 'circumvent',\n 'cis',\n 'cit',\n 'cite',\n 'citizen',\n 'citizenship',\n 'city',\n 'cityavdiivka',\n 'cityizyum',\n 'civil',\n 'civilian',\n 'civilmilitary',\n 'claim',\n 'clarify',\n 'clark',\n 'clash',\n 'class',\n 'classify',\n 'clean',\n 'cleanse',\n 'clear',\n 'clearly',\n 'clergy',\n 'click',\n 'close',\n 'closely',\n 'closure',\n 'clothe',\n 'cloud',\n 'cmd',\n 'cnn',\n 'coa',\n 'coal',\n 'coalition',\n 'coast',\n 'coastal',\n 'coastline',\n 'cobble',\n 'cocktail',\n 'code',\n 'codify',\n 'coerce',\n 'coercion',\n 'coercive',\n 'coffin',\n 'cohere',\n 'coherent',\n 'cohesion',\n 'cohesive',\n 'coincide',\n 'cold',\n 'collaborate',\n 'collaboration',\n 'collaborationist',\n 'collaborator',\n 'collapse',\n 'colleague',\n 'collect',\n 'collection',\n 'collective',\n 'college',\n 'collegium',\n 'colonel',\n 'colonelgeneral',\n 'colony',\n 'column',\n 'combat',\n 'combatcapable',\n 'combatready',\n 'combination',\n 'combine',\n 'come',\n 'command',\n 'commandandcontrol',\n 'commandant',\n 'commandeer',\n 'commander',\n 'commanderinchief',\n 'commemorate',\n 'comment',\n 'commentary',\n 'commentator',\n 'commercial',\n 'commissar',\n 'commissariat',\n 'commission',\n 'commissioner',\n 'commit',\n 'commitment',\n 'committee',\n 'common',\n 'commonwealth',\n 'communal',\n 'communicate',\n 'communication',\n 'communist',\n 'community',\n 'company',\n 'compare',\n 'comparison',\n 'compel',\n 'compensate',\n 'compensation',\n 'compete',\n 'competence',\n 'competent',\n 'competition',\n 'compile',\n 'complain',\n 'complaint',\n 'complement',\n 'complete',\n 'completely',\n 'completion',\n 'complex',\n 'complicate',\n 'complication',\n 'comply',\n 'component',\n 'compose',\n 'composite',\n 'composition',\n 'compound',\n 'comprehensive',\n 'comprise',\n 'compromise',\n 'compulsory',\n 'conceal',\n 'concede',\n 'concentrate',\n 'concentration',\n 'concept',\n 'concern',\n 'concert',\n 'concession',\n 'conclude',\n 'conclusion',\n 'concrete',\n 'condemn',\n 'condition',\n 'conducive',\n 'conduct',\n 'cone',\n 'conference',\n 'confession',\n 'confidence',\n 'confident',\n 'confine',\n 'confirm',\n 'confirmation',\n 'confiscate',\n 'confiscation',\n 'conflict',\n 'confront',\n 'confuse',\n 'confusion',\n 'conjunction',\n 'connect',\n 'connection',\n 'conquer',\n 'conquest',\n 'conscript',\n 'conscription',\n 'consecutive',\n 'consent',\n 'consequence',\n 'conserve',\n 'consider',\n 'considerable',\n 'consideration',\n 'consist',\n 'consistent',\n 'consistently',\n 'consolidate',\n 'consolidation',\n 'constant',\n 'constantly',\n 'constituency',\n 'constituent',\n 'constitute',\n 'constitution',\n 'constitutional',\n 'constrain',\n 'constraint',\n 'construct',\n 'construction',\n 'consult',\n 'consultation',\n 'consume',\n 'contact',\n 'contain',\n 'containment',\n 'contemplate',\n 'contemporary',\n 'content',\n 'contest',\n 'context',\n 'contingent',\n 'continual',\n 'continually',\n 'continuation',\n 'continue',\n 'continuous',\n 'continuously',\n 'contract',\n 'contractor',\n 'contradict',\n 'contradictory',\n 'contrary',\n 'contrast',\n 'contribute',\n 'contribution',\n 'control',\n 'controversy',\n 'convention',\n 'conventional',\n 'converge',\n 'conversation',\n 'convert',\n 'convict',\n 'conviction',\n 'convince',\n 'convoy',\n 'cool',\n 'cooperate',\n 'cooperation',\n 'coopt',\n 'coordinate',\n 'coordination',\n 'cope',\n 'core',\n 'corner',\n 'corp',\n 'corporation',\n 'corps',\n 'correct',\n 'correction',\n 'correctional',\n 'correctly',\n 'correspond',\n 'correspondent',\n 'corridor',\n 'corroborate',\n 'corrupt',\n 'corruption',\n 'cossack',\n 'cost',\n 'costly',\n 'could',\n 'council',\n 'count',\n 'counter',\n 'counteract',\n 'counterattack',\n 'counterbalance',\n 'counterbattery',\n 'counterindicator',\n 'counterintelligence',\n 'counteroffensive',\n 'counterpart',\n 'countersabotage',\n 'counterterrorism',\n 'counterterrorist',\n 'country',\n 'couple',\n 'course',\n 'court',\n 'cover',\n 'coverage',\n 'covert',\n 'covertly',\n 'crack',\n 'crackdown',\n 'crash',\n 'crater',\n 'create',\n 'creation',\n 'credential',\n 'credibility',\n 'credible',\n 'credit',\n 'crew',\n 'crime',\n 'crimea',\n 'crimean',\n 'criminal',\n 'criminalize',\n 'criminally',\n 'crisis',\n 'criterion',\n 'critic',\n 'critical',\n 'criticism',\n ...]"
     },
     "execution_count": 9,
     "metadata": {},
     "output_type": "execute_result"
    }
   ],
   "source": [
    "import pandas as pd\n",
    "        \n",
    "isw_tfidf = pd.read_csv('isw_tfidf.csv')\n",
    "isw_tfidf.columns.tolist()"
   ],
   "metadata": {
    "collapsed": false,
    "ExecuteTime": {
     "end_time": "2024-03-25T09:54:24.476182Z",
     "start_time": "2024-03-25T09:54:24.328674Z"
    }
   },
   "id": "91e69539ca62e1ba",
   "execution_count": 9
  },
  {
   "cell_type": "code",
   "outputs": [],
   "source": [],
   "metadata": {
    "collapsed": false,
    "ExecuteTime": {
     "end_time": "2024-03-25T09:54:24.476635Z",
     "start_time": "2024-03-25T09:54:24.471514Z"
    }
   },
   "id": "f17d900f39b5f53f",
   "execution_count": 9
  }
 ],
 "metadata": {
  "kernelspec": {
   "display_name": "Python 3",
   "language": "python",
   "name": "python3"
  },
  "language_info": {
   "codemirror_mode": {
    "name": "ipython",
    "version": 2
   },
   "file_extension": ".py",
   "mimetype": "text/x-python",
   "name": "python",
   "nbconvert_exporter": "python",
   "pygments_lexer": "ipython2",
   "version": "2.7.6"
  }
 },
 "nbformat": 4,
 "nbformat_minor": 5
}
