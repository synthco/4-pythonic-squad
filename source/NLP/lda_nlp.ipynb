{
 "cells": [
  {
   "cell_type": "code",
   "execution_count": null,
   "id": "initial_id",
   "metadata": {
    "collapsed": true
   },
   "outputs": [],
   "source": []
  },
  {
   "cell_type": "code",
   "outputs": [
    {
     "data": {
      "text/plain": "                                        text_for_vect2        date\n0    [ ' mason ' , ' clark ' , ' george ' , ' barro...  2022-02-25\n1    [ ' mason ' , ' clark ' , ' george ' , ' barro...  2022-02-26\n2    [ ' mason ' , ' clark ' , ' george ' , ' barro...  2022-02-27\n3    [ ' mason ' , ' clark ' , ' george ' , ' barro...  2022-02-28\n4    [ ' frederick ' , ' kagan ' , ' george ' , ' b...  2022-03-01\n..                                                 ...         ...\n324  [ ' karolina ' , ' hird ' , ' grace ' , ' mapp...  2023-01-21\n325  [ ' russian ' , ' offensive ' , ' campaign ' ,...  2023-01-22\n326  [ ' russian ' , ' offensive ' , ' campaign ' ,...  2023-01-23\n327  [ ' karolina ' , ' hird ' , ' riley ' , ' bail...  2023-01-24\n328  [ ' karolina ' , ' hird ' , ' riley ' , ' bail...  2023-01-25\n\n[329 rows x 2 columns]",
      "text/html": "<div>\n<style scoped>\n    .dataframe tbody tr th:only-of-type {\n        vertical-align: middle;\n    }\n\n    .dataframe tbody tr th {\n        vertical-align: top;\n    }\n\n    .dataframe thead th {\n        text-align: right;\n    }\n</style>\n<table border=\"1\" class=\"dataframe\">\n  <thead>\n    <tr style=\"text-align: right;\">\n      <th></th>\n      <th>text_for_vect2</th>\n      <th>date</th>\n    </tr>\n  </thead>\n  <tbody>\n    <tr>\n      <th>0</th>\n      <td>[ ' mason ' , ' clark ' , ' george ' , ' barro...</td>\n      <td>2022-02-25</td>\n    </tr>\n    <tr>\n      <th>1</th>\n      <td>[ ' mason ' , ' clark ' , ' george ' , ' barro...</td>\n      <td>2022-02-26</td>\n    </tr>\n    <tr>\n      <th>2</th>\n      <td>[ ' mason ' , ' clark ' , ' george ' , ' barro...</td>\n      <td>2022-02-27</td>\n    </tr>\n    <tr>\n      <th>3</th>\n      <td>[ ' mason ' , ' clark ' , ' george ' , ' barro...</td>\n      <td>2022-02-28</td>\n    </tr>\n    <tr>\n      <th>4</th>\n      <td>[ ' frederick ' , ' kagan ' , ' george ' , ' b...</td>\n      <td>2022-03-01</td>\n    </tr>\n    <tr>\n      <th>...</th>\n      <td>...</td>\n      <td>...</td>\n    </tr>\n    <tr>\n      <th>324</th>\n      <td>[ ' karolina ' , ' hird ' , ' grace ' , ' mapp...</td>\n      <td>2023-01-21</td>\n    </tr>\n    <tr>\n      <th>325</th>\n      <td>[ ' russian ' , ' offensive ' , ' campaign ' ,...</td>\n      <td>2023-01-22</td>\n    </tr>\n    <tr>\n      <th>326</th>\n      <td>[ ' russian ' , ' offensive ' , ' campaign ' ,...</td>\n      <td>2023-01-23</td>\n    </tr>\n    <tr>\n      <th>327</th>\n      <td>[ ' karolina ' , ' hird ' , ' riley ' , ' bail...</td>\n      <td>2023-01-24</td>\n    </tr>\n    <tr>\n      <th>328</th>\n      <td>[ ' karolina ' , ' hird ' , ' riley ' , ' bail...</td>\n      <td>2023-01-25</td>\n    </tr>\n  </tbody>\n</table>\n<p>329 rows × 2 columns</p>\n</div>"
     },
     "execution_count": 1,
     "metadata": {},
     "output_type": "execute_result"
    }
   ],
   "source": [
    "import pandas as pd\n",
    "        \n",
    "pure_isw = pd.read_csv('pure_isw.csv')\n",
    "pure_isw"
   ],
   "metadata": {
    "collapsed": false,
    "ExecuteTime": {
     "end_time": "2024-03-25T09:56:52.409094Z",
     "start_time": "2024-03-25T09:56:52.044118Z"
    }
   },
   "id": "1d3ab3bb4b1b7b1c",
   "execution_count": 1
  }
 ],
 "metadata": {
  "kernelspec": {
   "display_name": "Python 3",
   "language": "python",
   "name": "python3"
  },
  "language_info": {
   "codemirror_mode": {
    "name": "ipython",
    "version": 2
   },
   "file_extension": ".py",
   "mimetype": "text/x-python",
   "name": "python",
   "nbconvert_exporter": "python",
   "pygments_lexer": "ipython2",
   "version": "2.7.6"
  }
 },
 "nbformat": 4,
 "nbformat_minor": 5
}
