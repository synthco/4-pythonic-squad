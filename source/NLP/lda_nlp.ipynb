{
 "cells": [
  {
   "cell_type": "code",
   "outputs": [
    {
     "data": {
      "text/plain": "                                        text_for_vect2        date\n0    [ ' mason ' , ' clark ' , ' george ' , ' barro...  2022-02-25\n1    [ ' mason ' , ' clark ' , ' george ' , ' barro...  2022-02-26\n2    [ ' mason ' , ' clark ' , ' george ' , ' barro...  2022-02-27\n3    [ ' mason ' , ' clark ' , ' george ' , ' barro...  2022-02-28\n4    [ ' frederick ' , ' kagan ' , ' george ' , ' b...  2022-03-01\n..                                                 ...         ...\n324  [ ' karolina ' , ' hird ' , ' grace ' , ' mapp...  2023-01-21\n325  [ ' russian ' , ' offensive ' , ' campaign ' ,...  2023-01-22\n326  [ ' russian ' , ' offensive ' , ' campaign ' ,...  2023-01-23\n327  [ ' karolina ' , ' hird ' , ' riley ' , ' bail...  2023-01-24\n328  [ ' karolina ' , ' hird ' , ' riley ' , ' bail...  2023-01-25\n\n[329 rows x 2 columns]",
      "text/html": "<div>\n<style scoped>\n    .dataframe tbody tr th:only-of-type {\n        vertical-align: middle;\n    }\n\n    .dataframe tbody tr th {\n        vertical-align: top;\n    }\n\n    .dataframe thead th {\n        text-align: right;\n    }\n</style>\n<table border=\"1\" class=\"dataframe\">\n  <thead>\n    <tr style=\"text-align: right;\">\n      <th></th>\n      <th>text_for_vect2</th>\n      <th>date</th>\n    </tr>\n  </thead>\n  <tbody>\n    <tr>\n      <th>0</th>\n      <td>[ ' mason ' , ' clark ' , ' george ' , ' barro...</td>\n      <td>2022-02-25</td>\n    </tr>\n    <tr>\n      <th>1</th>\n      <td>[ ' mason ' , ' clark ' , ' george ' , ' barro...</td>\n      <td>2022-02-26</td>\n    </tr>\n    <tr>\n      <th>2</th>\n      <td>[ ' mason ' , ' clark ' , ' george ' , ' barro...</td>\n      <td>2022-02-27</td>\n    </tr>\n    <tr>\n      <th>3</th>\n      <td>[ ' mason ' , ' clark ' , ' george ' , ' barro...</td>\n      <td>2022-02-28</td>\n    </tr>\n    <tr>\n      <th>4</th>\n      <td>[ ' frederick ' , ' kagan ' , ' george ' , ' b...</td>\n      <td>2022-03-01</td>\n    </tr>\n    <tr>\n      <th>...</th>\n      <td>...</td>\n      <td>...</td>\n    </tr>\n    <tr>\n      <th>324</th>\n      <td>[ ' karolina ' , ' hird ' , ' grace ' , ' mapp...</td>\n      <td>2023-01-21</td>\n    </tr>\n    <tr>\n      <th>325</th>\n      <td>[ ' russian ' , ' offensive ' , ' campaign ' ,...</td>\n      <td>2023-01-22</td>\n    </tr>\n    <tr>\n      <th>326</th>\n      <td>[ ' russian ' , ' offensive ' , ' campaign ' ,...</td>\n      <td>2023-01-23</td>\n    </tr>\n    <tr>\n      <th>327</th>\n      <td>[ ' karolina ' , ' hird ' , ' riley ' , ' bail...</td>\n      <td>2023-01-24</td>\n    </tr>\n    <tr>\n      <th>328</th>\n      <td>[ ' karolina ' , ' hird ' , ' riley ' , ' bail...</td>\n      <td>2023-01-25</td>\n    </tr>\n  </tbody>\n</table>\n<p>329 rows × 2 columns</p>\n</div>"
     },
     "execution_count": 3,
     "metadata": {},
     "output_type": "execute_result"
    }
   ],
   "source": [
    "import pandas as pd\n",
    "        \n",
    "pure_isw = pd.read_csv('pure_isw.csv')\n",
    "pure_isw"
   ],
   "metadata": {
    "collapsed": false,
    "ExecuteTime": {
     "end_time": "2024-03-27T19:09:54.343853Z",
     "start_time": "2024-03-27T19:09:53.978618Z"
    }
   },
   "id": "1d3ab3bb4b1b7b1c",
   "execution_count": 3
  },
  {
   "cell_type": "code",
   "outputs": [
    {
     "data": {
      "text/plain": "((324, 2), (5, 2))"
     },
     "execution_count": 3,
     "metadata": {},
     "output_type": "execute_result"
    }
   ],
   "source": [
    "from sklearn.model_selection import train_test_split\n",
    "train_docs, test_docs = train_test_split(pure_isw, test_size=5, random_state=40)\n",
    "\n",
    "train_docs.shape, test_docs.shape"
   ],
   "metadata": {
    "collapsed": false,
    "ExecuteTime": {
     "end_time": "2024-03-26T15:07:17.670389Z",
     "start_time": "2024-03-26T15:07:16.467037Z"
    }
   },
   "id": "3843f16fc31f1274",
   "execution_count": 3
  },
  {
   "cell_type": "code",
   "outputs": [
    {
     "data": {
      "text/plain": "<5x1000 sparse matrix of type '<class 'numpy.float64'>'\n\twith 1771 stored elements in Compressed Sparse Row format>"
     },
     "execution_count": 10,
     "metadata": {},
     "output_type": "execute_result"
    }
   ],
   "source": [
    "from sklearn.feature_extraction.text import TfidfVectorizer \n",
    "vectorizer = TfidfVectorizer(max_features=1000)\n",
    "doc_train_matrix = vectorizer.fit_transform(train_docs[\"text_for_vect2\"])\n",
    "words = vectorizer.get_feature_names_out()\n",
    "\n",
    "doc_test_matrix = vectorizer.transform(test_docs[\"text_for_vect2\"])\n",
    "doc_test_matrix\n",
    "\n"
   ],
   "metadata": {
    "collapsed": false,
    "ExecuteTime": {
     "end_time": "2024-03-26T15:29:38.179078Z",
     "start_time": "2024-03-26T15:29:37.961729Z"
    }
   },
   "id": "12f9102869b85d48",
   "execution_count": 10
  },
  {
   "cell_type": "code",
   "outputs": [
    {
     "data": {
      "text/plain": "LatentDirichletAllocation(evaluate_every=3, max_iter=10000, n_components=50,\n                          random_state=42)",
      "text/html": "<style>#sk-container-id-2 {\n  /* Definition of color scheme common for light and dark mode */\n  --sklearn-color-text: black;\n  --sklearn-color-line: gray;\n  /* Definition of color scheme for unfitted estimators */\n  --sklearn-color-unfitted-level-0: #fff5e6;\n  --sklearn-color-unfitted-level-1: #f6e4d2;\n  --sklearn-color-unfitted-level-2: #ffe0b3;\n  --sklearn-color-unfitted-level-3: chocolate;\n  /* Definition of color scheme for fitted estimators */\n  --sklearn-color-fitted-level-0: #f0f8ff;\n  --sklearn-color-fitted-level-1: #d4ebff;\n  --sklearn-color-fitted-level-2: #b3dbfd;\n  --sklearn-color-fitted-level-3: cornflowerblue;\n\n  /* Specific color for light theme */\n  --sklearn-color-text-on-default-background: var(--sg-text-color, var(--theme-code-foreground, var(--jp-content-font-color1, black)));\n  --sklearn-color-background: var(--sg-background-color, var(--theme-background, var(--jp-layout-color0, white)));\n  --sklearn-color-border-box: var(--sg-text-color, var(--theme-code-foreground, var(--jp-content-font-color1, black)));\n  --sklearn-color-icon: #696969;\n\n  @media (prefers-color-scheme: dark) {\n    /* Redefinition of color scheme for dark theme */\n    --sklearn-color-text-on-default-background: var(--sg-text-color, var(--theme-code-foreground, var(--jp-content-font-color1, white)));\n    --sklearn-color-background: var(--sg-background-color, var(--theme-background, var(--jp-layout-color0, #111)));\n    --sklearn-color-border-box: var(--sg-text-color, var(--theme-code-foreground, var(--jp-content-font-color1, white)));\n    --sklearn-color-icon: #878787;\n  }\n}\n\n#sk-container-id-2 {\n  color: var(--sklearn-color-text);\n}\n\n#sk-container-id-2 pre {\n  padding: 0;\n}\n\n#sk-container-id-2 input.sk-hidden--visually {\n  border: 0;\n  clip: rect(1px 1px 1px 1px);\n  clip: rect(1px, 1px, 1px, 1px);\n  height: 1px;\n  margin: -1px;\n  overflow: hidden;\n  padding: 0;\n  position: absolute;\n  width: 1px;\n}\n\n#sk-container-id-2 div.sk-dashed-wrapped {\n  border: 1px dashed var(--sklearn-color-line);\n  margin: 0 0.4em 0.5em 0.4em;\n  box-sizing: border-box;\n  padding-bottom: 0.4em;\n  background-color: var(--sklearn-color-background);\n}\n\n#sk-container-id-2 div.sk-container {\n  /* jupyter's `normalize.less` sets `[hidden] { display: none; }`\n     but bootstrap.min.css set `[hidden] { display: none !important; }`\n     so we also need the `!important` here to be able to override the\n     default hidden behavior on the sphinx rendered scikit-learn.org.\n     See: https://github.com/scikit-learn/scikit-learn/issues/21755 */\n  display: inline-block !important;\n  position: relative;\n}\n\n#sk-container-id-2 div.sk-text-repr-fallback {\n  display: none;\n}\n\ndiv.sk-parallel-item,\ndiv.sk-serial,\ndiv.sk-item {\n  /* draw centered vertical line to link estimators */\n  background-image: linear-gradient(var(--sklearn-color-text-on-default-background), var(--sklearn-color-text-on-default-background));\n  background-size: 2px 100%;\n  background-repeat: no-repeat;\n  background-position: center center;\n}\n\n/* Parallel-specific style estimator block */\n\n#sk-container-id-2 div.sk-parallel-item::after {\n  content: \"\";\n  width: 100%;\n  border-bottom: 2px solid var(--sklearn-color-text-on-default-background);\n  flex-grow: 1;\n}\n\n#sk-container-id-2 div.sk-parallel {\n  display: flex;\n  align-items: stretch;\n  justify-content: center;\n  background-color: var(--sklearn-color-background);\n  position: relative;\n}\n\n#sk-container-id-2 div.sk-parallel-item {\n  display: flex;\n  flex-direction: column;\n}\n\n#sk-container-id-2 div.sk-parallel-item:first-child::after {\n  align-self: flex-end;\n  width: 50%;\n}\n\n#sk-container-id-2 div.sk-parallel-item:last-child::after {\n  align-self: flex-start;\n  width: 50%;\n}\n\n#sk-container-id-2 div.sk-parallel-item:only-child::after {\n  width: 0;\n}\n\n/* Serial-specific style estimator block */\n\n#sk-container-id-2 div.sk-serial {\n  display: flex;\n  flex-direction: column;\n  align-items: center;\n  background-color: var(--sklearn-color-background);\n  padding-right: 1em;\n  padding-left: 1em;\n}\n\n\n/* Toggleable style: style used for estimator/Pipeline/ColumnTransformer box that is\nclickable and can be expanded/collapsed.\n- Pipeline and ColumnTransformer use this feature and define the default style\n- Estimators will overwrite some part of the style using the `sk-estimator` class\n*/\n\n/* Pipeline and ColumnTransformer style (default) */\n\n#sk-container-id-2 div.sk-toggleable {\n  /* Default theme specific background. It is overwritten whether we have a\n  specific estimator or a Pipeline/ColumnTransformer */\n  background-color: var(--sklearn-color-background);\n}\n\n/* Toggleable label */\n#sk-container-id-2 label.sk-toggleable__label {\n  cursor: pointer;\n  display: block;\n  width: 100%;\n  margin-bottom: 0;\n  padding: 0.5em;\n  box-sizing: border-box;\n  text-align: center;\n}\n\n#sk-container-id-2 label.sk-toggleable__label-arrow:before {\n  /* Arrow on the left of the label */\n  content: \"▸\";\n  float: left;\n  margin-right: 0.25em;\n  color: var(--sklearn-color-icon);\n}\n\n#sk-container-id-2 label.sk-toggleable__label-arrow:hover:before {\n  color: var(--sklearn-color-text);\n}\n\n/* Toggleable content - dropdown */\n\n#sk-container-id-2 div.sk-toggleable__content {\n  max-height: 0;\n  max-width: 0;\n  overflow: hidden;\n  text-align: left;\n  /* unfitted */\n  background-color: var(--sklearn-color-unfitted-level-0);\n}\n\n#sk-container-id-2 div.sk-toggleable__content.fitted {\n  /* fitted */\n  background-color: var(--sklearn-color-fitted-level-0);\n}\n\n#sk-container-id-2 div.sk-toggleable__content pre {\n  margin: 0.2em;\n  border-radius: 0.25em;\n  color: var(--sklearn-color-text);\n  /* unfitted */\n  background-color: var(--sklearn-color-unfitted-level-0);\n}\n\n#sk-container-id-2 div.sk-toggleable__content.fitted pre {\n  /* unfitted */\n  background-color: var(--sklearn-color-fitted-level-0);\n}\n\n#sk-container-id-2 input.sk-toggleable__control:checked~div.sk-toggleable__content {\n  /* Expand drop-down */\n  max-height: 200px;\n  max-width: 100%;\n  overflow: auto;\n}\n\n#sk-container-id-2 input.sk-toggleable__control:checked~label.sk-toggleable__label-arrow:before {\n  content: \"▾\";\n}\n\n/* Pipeline/ColumnTransformer-specific style */\n\n#sk-container-id-2 div.sk-label input.sk-toggleable__control:checked~label.sk-toggleable__label {\n  color: var(--sklearn-color-text);\n  background-color: var(--sklearn-color-unfitted-level-2);\n}\n\n#sk-container-id-2 div.sk-label.fitted input.sk-toggleable__control:checked~label.sk-toggleable__label {\n  background-color: var(--sklearn-color-fitted-level-2);\n}\n\n/* Estimator-specific style */\n\n/* Colorize estimator box */\n#sk-container-id-2 div.sk-estimator input.sk-toggleable__control:checked~label.sk-toggleable__label {\n  /* unfitted */\n  background-color: var(--sklearn-color-unfitted-level-2);\n}\n\n#sk-container-id-2 div.sk-estimator.fitted input.sk-toggleable__control:checked~label.sk-toggleable__label {\n  /* fitted */\n  background-color: var(--sklearn-color-fitted-level-2);\n}\n\n#sk-container-id-2 div.sk-label label.sk-toggleable__label,\n#sk-container-id-2 div.sk-label label {\n  /* The background is the default theme color */\n  color: var(--sklearn-color-text-on-default-background);\n}\n\n/* On hover, darken the color of the background */\n#sk-container-id-2 div.sk-label:hover label.sk-toggleable__label {\n  color: var(--sklearn-color-text);\n  background-color: var(--sklearn-color-unfitted-level-2);\n}\n\n/* Label box, darken color on hover, fitted */\n#sk-container-id-2 div.sk-label.fitted:hover label.sk-toggleable__label.fitted {\n  color: var(--sklearn-color-text);\n  background-color: var(--sklearn-color-fitted-level-2);\n}\n\n/* Estimator label */\n\n#sk-container-id-2 div.sk-label label {\n  font-family: monospace;\n  font-weight: bold;\n  display: inline-block;\n  line-height: 1.2em;\n}\n\n#sk-container-id-2 div.sk-label-container {\n  text-align: center;\n}\n\n/* Estimator-specific */\n#sk-container-id-2 div.sk-estimator {\n  font-family: monospace;\n  border: 1px dotted var(--sklearn-color-border-box);\n  border-radius: 0.25em;\n  box-sizing: border-box;\n  margin-bottom: 0.5em;\n  /* unfitted */\n  background-color: var(--sklearn-color-unfitted-level-0);\n}\n\n#sk-container-id-2 div.sk-estimator.fitted {\n  /* fitted */\n  background-color: var(--sklearn-color-fitted-level-0);\n}\n\n/* on hover */\n#sk-container-id-2 div.sk-estimator:hover {\n  /* unfitted */\n  background-color: var(--sklearn-color-unfitted-level-2);\n}\n\n#sk-container-id-2 div.sk-estimator.fitted:hover {\n  /* fitted */\n  background-color: var(--sklearn-color-fitted-level-2);\n}\n\n/* Specification for estimator info (e.g. \"i\" and \"?\") */\n\n/* Common style for \"i\" and \"?\" */\n\n.sk-estimator-doc-link,\na:link.sk-estimator-doc-link,\na:visited.sk-estimator-doc-link {\n  float: right;\n  font-size: smaller;\n  line-height: 1em;\n  font-family: monospace;\n  background-color: var(--sklearn-color-background);\n  border-radius: 1em;\n  height: 1em;\n  width: 1em;\n  text-decoration: none !important;\n  margin-left: 1ex;\n  /* unfitted */\n  border: var(--sklearn-color-unfitted-level-1) 1pt solid;\n  color: var(--sklearn-color-unfitted-level-1);\n}\n\n.sk-estimator-doc-link.fitted,\na:link.sk-estimator-doc-link.fitted,\na:visited.sk-estimator-doc-link.fitted {\n  /* fitted */\n  border: var(--sklearn-color-fitted-level-1) 1pt solid;\n  color: var(--sklearn-color-fitted-level-1);\n}\n\n/* On hover */\ndiv.sk-estimator:hover .sk-estimator-doc-link:hover,\n.sk-estimator-doc-link:hover,\ndiv.sk-label-container:hover .sk-estimator-doc-link:hover,\n.sk-estimator-doc-link:hover {\n  /* unfitted */\n  background-color: var(--sklearn-color-unfitted-level-3);\n  color: var(--sklearn-color-background);\n  text-decoration: none;\n}\n\ndiv.sk-estimator.fitted:hover .sk-estimator-doc-link.fitted:hover,\n.sk-estimator-doc-link.fitted:hover,\ndiv.sk-label-container:hover .sk-estimator-doc-link.fitted:hover,\n.sk-estimator-doc-link.fitted:hover {\n  /* fitted */\n  background-color: var(--sklearn-color-fitted-level-3);\n  color: var(--sklearn-color-background);\n  text-decoration: none;\n}\n\n/* Span, style for the box shown on hovering the info icon */\n.sk-estimator-doc-link span {\n  display: none;\n  z-index: 9999;\n  position: relative;\n  font-weight: normal;\n  right: .2ex;\n  padding: .5ex;\n  margin: .5ex;\n  width: min-content;\n  min-width: 20ex;\n  max-width: 50ex;\n  color: var(--sklearn-color-text);\n  box-shadow: 2pt 2pt 4pt #999;\n  /* unfitted */\n  background: var(--sklearn-color-unfitted-level-0);\n  border: .5pt solid var(--sklearn-color-unfitted-level-3);\n}\n\n.sk-estimator-doc-link.fitted span {\n  /* fitted */\n  background: var(--sklearn-color-fitted-level-0);\n  border: var(--sklearn-color-fitted-level-3);\n}\n\n.sk-estimator-doc-link:hover span {\n  display: block;\n}\n\n/* \"?\"-specific style due to the `<a>` HTML tag */\n\n#sk-container-id-2 a.estimator_doc_link {\n  float: right;\n  font-size: 1rem;\n  line-height: 1em;\n  font-family: monospace;\n  background-color: var(--sklearn-color-background);\n  border-radius: 1rem;\n  height: 1rem;\n  width: 1rem;\n  text-decoration: none;\n  /* unfitted */\n  color: var(--sklearn-color-unfitted-level-1);\n  border: var(--sklearn-color-unfitted-level-1) 1pt solid;\n}\n\n#sk-container-id-2 a.estimator_doc_link.fitted {\n  /* fitted */\n  border: var(--sklearn-color-fitted-level-1) 1pt solid;\n  color: var(--sklearn-color-fitted-level-1);\n}\n\n/* On hover */\n#sk-container-id-2 a.estimator_doc_link:hover {\n  /* unfitted */\n  background-color: var(--sklearn-color-unfitted-level-3);\n  color: var(--sklearn-color-background);\n  text-decoration: none;\n}\n\n#sk-container-id-2 a.estimator_doc_link.fitted:hover {\n  /* fitted */\n  background-color: var(--sklearn-color-fitted-level-3);\n}\n</style><div id=\"sk-container-id-2\" class=\"sk-top-container\"><div class=\"sk-text-repr-fallback\"><pre>LatentDirichletAllocation(evaluate_every=3, max_iter=10000, n_components=50,\n                          random_state=42)</pre><b>In a Jupyter environment, please rerun this cell to show the HTML representation or trust the notebook. <br />On GitHub, the HTML representation is unable to render, please try loading this page with nbviewer.org.</b></div><div class=\"sk-container\" hidden><div class=\"sk-item\"><div class=\"sk-estimator fitted sk-toggleable\"><input class=\"sk-toggleable__control sk-hidden--visually\" id=\"sk-estimator-id-2\" type=\"checkbox\" checked><label for=\"sk-estimator-id-2\" class=\"sk-toggleable__label fitted sk-toggleable__label-arrow fitted\">&nbsp;&nbsp;LatentDirichletAllocation<a class=\"sk-estimator-doc-link fitted\" rel=\"noreferrer\" target=\"_blank\" href=\"https://scikit-learn.org/1.4/modules/generated/sklearn.decomposition.LatentDirichletAllocation.html\">?<span>Documentation for LatentDirichletAllocation</span></a><span class=\"sk-estimator-doc-link fitted\">i<span>Fitted</span></span></label><div class=\"sk-toggleable__content fitted\"><pre>LatentDirichletAllocation(evaluate_every=3, max_iter=10000, n_components=50,\n                          random_state=42)</pre></div> </div></div></div></div>"
     },
     "execution_count": 11,
     "metadata": {},
     "output_type": "execute_result"
    }
   ],
   "source": [
    "from sklearn.decomposition import LatentDirichletAllocation as LDA\n",
    "lda = LDA(n_components=50, learning_method='batch', evaluate_every=3, random_state=42, max_iter=10000)\n",
    "lda.fit(doc_train_matrix)"
   ],
   "metadata": {
    "collapsed": false,
    "ExecuteTime": {
     "end_time": "2024-03-26T15:29:46.959750Z",
     "start_time": "2024-03-26T15:29:39.199722Z"
    }
   },
   "id": "d15e5cb177602ab0",
   "execution_count": 11
  },
  {
   "cell_type": "code",
   "outputs": [],
   "source": [
    "topic_lables = [\"Theme{}\".format(i) for i in range (1, 50)]"
   ],
   "metadata": {
    "collapsed": false,
    "ExecuteTime": {
     "end_time": "2024-03-26T15:29:50.708250Z",
     "start_time": "2024-03-26T15:29:50.700858Z"
    }
   },
   "id": "df5cec9bbd4a2d70",
   "execution_count": 12
  },
  {
   "cell_type": "code",
   "outputs": [],
   "source": [
    "import joblib\n",
    "joblib.dump(lda, \"lda_10000_iter.pkl\")\n",
    "lda = joblib.load(\"lda_10000_iter.pkl\")\n"
   ],
   "metadata": {
    "collapsed": false,
    "ExecuteTime": {
     "end_time": "2024-03-26T15:29:51.381069Z",
     "start_time": "2024-03-26T15:29:51.376707Z"
    }
   },
   "id": "b9abfc87f6dc5e2e",
   "execution_count": 13
  },
  {
   "cell_type": "code",
   "outputs": [
    {
     "data": {
      "text/plain": "array([[0.02, 0.02, 0.02, ..., 0.02, 0.02, 0.02],\n       [0.02, 0.02, 0.02, ..., 0.02, 0.02, 0.02],\n       [0.02, 0.02, 0.02, ..., 0.02, 0.02, 0.02],\n       ...,\n       [0.02, 0.02, 0.02, ..., 0.02, 0.02, 0.02],\n       [0.02, 0.02, 0.02, ..., 0.02, 0.02, 0.02],\n       [0.02, 0.02, 0.02, ..., 0.02, 0.02, 0.02]])"
     },
     "execution_count": 14,
     "metadata": {},
     "output_type": "execute_result"
    }
   ],
   "source": [
    "topics_count = lda.components_\n",
    "topics_count[:8]"
   ],
   "metadata": {
    "collapsed": false,
    "ExecuteTime": {
     "end_time": "2024-03-26T15:29:52.145867Z",
     "start_time": "2024-03-26T15:29:52.141458Z"
    }
   },
   "id": "8764c3ee114d81de",
   "execution_count": 14
  },
  {
   "cell_type": "markdown",
   "source": [
    "# FROM GENSIM "
   ],
   "metadata": {
    "collapsed": false
   },
   "id": "4d55fbf27b177486"
  },
  {
   "cell_type": "code",
   "outputs": [
    {
     "data": {
      "text/plain": "                                        text_for_vect2        date\n0    [ ' mason ' , ' clark ' , ' george ' , ' barro...  2022-02-25\n1    [ ' mason ' , ' clark ' , ' george ' , ' barro...  2022-02-26\n2    [ ' mason ' , ' clark ' , ' george ' , ' barro...  2022-02-27\n3    [ ' mason ' , ' clark ' , ' george ' , ' barro...  2022-02-28\n4    [ ' frederick ' , ' kagan ' , ' george ' , ' b...  2022-03-01\n..                                                 ...         ...\n324  [ ' karolina ' , ' hird ' , ' grace ' , ' mapp...  2023-01-21\n325  [ ' russian ' , ' offensive ' , ' campaign ' ,...  2023-01-22\n326  [ ' russian ' , ' offensive ' , ' campaign ' ,...  2023-01-23\n327  [ ' karolina ' , ' hird ' , ' riley ' , ' bail...  2023-01-24\n328  [ ' karolina ' , ' hird ' , ' riley ' , ' bail...  2023-01-25\n\n[329 rows x 2 columns]",
      "text/html": "<div>\n<style scoped>\n    .dataframe tbody tr th:only-of-type {\n        vertical-align: middle;\n    }\n\n    .dataframe tbody tr th {\n        vertical-align: top;\n    }\n\n    .dataframe thead th {\n        text-align: right;\n    }\n</style>\n<table border=\"1\" class=\"dataframe\">\n  <thead>\n    <tr style=\"text-align: right;\">\n      <th></th>\n      <th>text_for_vect2</th>\n      <th>date</th>\n    </tr>\n  </thead>\n  <tbody>\n    <tr>\n      <th>0</th>\n      <td>[ ' mason ' , ' clark ' , ' george ' , ' barro...</td>\n      <td>2022-02-25</td>\n    </tr>\n    <tr>\n      <th>1</th>\n      <td>[ ' mason ' , ' clark ' , ' george ' , ' barro...</td>\n      <td>2022-02-26</td>\n    </tr>\n    <tr>\n      <th>2</th>\n      <td>[ ' mason ' , ' clark ' , ' george ' , ' barro...</td>\n      <td>2022-02-27</td>\n    </tr>\n    <tr>\n      <th>3</th>\n      <td>[ ' mason ' , ' clark ' , ' george ' , ' barro...</td>\n      <td>2022-02-28</td>\n    </tr>\n    <tr>\n      <th>4</th>\n      <td>[ ' frederick ' , ' kagan ' , ' george ' , ' b...</td>\n      <td>2022-03-01</td>\n    </tr>\n    <tr>\n      <th>...</th>\n      <td>...</td>\n      <td>...</td>\n    </tr>\n    <tr>\n      <th>324</th>\n      <td>[ ' karolina ' , ' hird ' , ' grace ' , ' mapp...</td>\n      <td>2023-01-21</td>\n    </tr>\n    <tr>\n      <th>325</th>\n      <td>[ ' russian ' , ' offensive ' , ' campaign ' ,...</td>\n      <td>2023-01-22</td>\n    </tr>\n    <tr>\n      <th>326</th>\n      <td>[ ' russian ' , ' offensive ' , ' campaign ' ,...</td>\n      <td>2023-01-23</td>\n    </tr>\n    <tr>\n      <th>327</th>\n      <td>[ ' karolina ' , ' hird ' , ' riley ' , ' bail...</td>\n      <td>2023-01-24</td>\n    </tr>\n    <tr>\n      <th>328</th>\n      <td>[ ' karolina ' , ' hird ' , ' riley ' , ' bail...</td>\n      <td>2023-01-25</td>\n    </tr>\n  </tbody>\n</table>\n<p>329 rows × 2 columns</p>\n</div>"
     },
     "execution_count": 4,
     "metadata": {},
     "output_type": "execute_result"
    }
   ],
   "source": [
    "pure_isw"
   ],
   "metadata": {
    "collapsed": false,
    "ExecuteTime": {
     "end_time": "2024-03-27T19:09:57.825692Z",
     "start_time": "2024-03-27T19:09:57.822455Z"
    }
   },
   "id": "e73b61f0b28141a6",
   "execution_count": 4
  },
  {
   "cell_type": "code",
   "outputs": [],
   "source": [
    "import gensim\n",
    "from gensim.utils import simple_preprocess\n",
    "tokenized_text = [simple_preprocess(text) for text in pure_isw[\"text_for_vect2\"]]\n",
    "dic = gensim.corpora.Dictionary(tokenized_text)\n",
    "bow_corpus = [dic.doc2bow(doc) for doc in tokenized_text]\n",
    "lda = gensim.models.LdaMulticore(bow_corpus, id2word=dic, num_topics=100, passes=15, workers=4)"
   ],
   "metadata": {
    "collapsed": false,
    "ExecuteTime": {
     "end_time": "2024-03-27T20:25:12.410277Z",
     "start_time": "2024-03-27T20:24:19.202507Z"
    }
   },
   "id": "14381693c4b85f72",
   "execution_count": 18
  },
  {
   "cell_type": "code",
   "outputs": [],
   "source": [
    "# vectorized_text = [lda[doc] for doc in bow_corpus]\n",
    "# vectorized_data = pd.DataFrame({\n",
    "#     'vectorized_text': vectorized_text,\n",
    "#     'date': pure_isw['date']\n",
    "# })\n",
    "\n",
    "topic_probabilities = [lda.get_document_topics(doc, minimum_probability=0) for doc in bow_corpus]\n",
    "\n",
    "# Create DataFrame to store the results\n",
    "data = []\n",
    "\n",
    "# Iterate through each document's topic probabilities and add them to the DataFrame\n",
    "for i, probs in enumerate(topic_probabilities):\n",
    "    row = {'date': pure_isw['date'][i]}\n",
    "    for topic, prob in probs:\n",
    "        row[f'topic_{topic+1}'] = prob\n",
    "    data.append(row)\n",
    "\n",
    "# Convert list of dictionaries to DataFrame\n",
    "vectorized_data = pd.DataFrame(data)\n"
   ],
   "metadata": {
    "collapsed": false,
    "ExecuteTime": {
     "end_time": "2024-03-27T20:25:36.759443Z",
     "start_time": "2024-03-27T20:25:35.527798Z"
    }
   },
   "id": "96626acb9076a966",
   "execution_count": 19
  },
  {
   "cell_type": "code",
   "outputs": [],
   "source": [
    "vectorized_data.to_csv('isw_lda.csv', index=False)"
   ],
   "metadata": {
    "collapsed": false,
    "ExecuteTime": {
     "end_time": "2024-03-27T20:26:43.536048Z",
     "start_time": "2024-03-27T20:26:43.506818Z"
    }
   },
   "id": "f98c973245da10f2",
   "execution_count": 22
  },
  {
   "cell_type": "code",
   "outputs": [
    {
     "data": {
      "text/plain": "           date   topic_1   topic_2   topic_3   topic_4   topic_5   topic_6  \\\n0    2022-02-25  0.000009  0.000009  0.000009  0.000009  0.000009  0.000009   \n1    2022-02-26  0.000008  0.000008  0.000008  0.000008  0.000008  0.000008   \n2    2022-02-27  0.000007  0.000007  0.000007  0.000007  0.000007  0.000007   \n3    2022-02-28  0.000007  0.000007  0.000007  0.000007  0.000007  0.000007   \n4    2022-03-01  0.000010  0.000010  0.000010  0.000010  0.000010  0.000010   \n..          ...       ...       ...       ...       ...       ...       ...   \n324  2023-01-21  0.000004  0.000004  0.000004  0.000004  0.529134  0.000004   \n325  2023-01-22  0.000006  0.000006  0.000006  0.000006  0.706544  0.000006   \n326  2023-01-23  0.000004  0.000004  0.000004  0.000004  0.605457  0.003095   \n327  2023-01-24  0.000003  0.000003  0.000003  0.000003  0.269717  0.000003   \n328  2023-01-25  0.000003  0.000003  0.000003  0.000003  0.648265  0.033499   \n\n      topic_7   topic_8   topic_9  ...  topic_91  topic_92  topic_93  \\\n0    0.000009  0.000009  0.000009  ...  0.000009  0.000009  0.999076   \n1    0.000008  0.000008  0.000008  ...  0.000008  0.000008  0.991173   \n2    0.000007  0.000007  0.000007  ...  0.000007  0.000007  0.999330   \n3    0.000007  0.000007  0.000007  ...  0.000007  0.000007  0.914613   \n4    0.000010  0.000010  0.000010  ...  0.000010  0.000010  0.985385   \n..        ...       ...       ...  ...       ...       ...       ...   \n324  0.000004  0.000004  0.000004  ...  0.000004  0.000004  0.007795   \n325  0.000006  0.000006  0.000006  ...  0.000006  0.000006  0.067775   \n326  0.000004  0.000004  0.000004  ...  0.000004  0.000004  0.006186   \n327  0.000003  0.000003  0.000003  ...  0.000003  0.000003  0.000003   \n328  0.000003  0.000003  0.000003  ...  0.000003  0.000003  0.000556   \n\n     topic_94  topic_95  topic_96  topic_97  topic_98  topic_99  topic_100  \n0    0.000009  0.000009  0.000009  0.000009  0.000009  0.000009   0.000009  \n1    0.000008  0.000008  0.000008  0.000008  0.000008  0.000008   0.000008  \n2    0.000007  0.000007  0.000007  0.000007  0.000007  0.000007   0.000007  \n3    0.000007  0.000007  0.000007  0.000007  0.000007  0.000007   0.000007  \n4    0.000010  0.000010  0.000010  0.000010  0.000010  0.000010   0.000010  \n..        ...       ...       ...       ...       ...       ...        ...  \n324  0.000004  0.000004  0.000004  0.000004  0.000004  0.000004   0.000004  \n325  0.000006  0.000006  0.000006  0.000006  0.000006  0.000006   0.000006  \n326  0.000004  0.000004  0.000004  0.000004  0.000004  0.000004   0.000004  \n327  0.000003  0.000003  0.000003  0.000003  0.000003  0.000003   0.000003  \n328  0.000003  0.000003  0.000003  0.000003  0.000003  0.000003   0.000003  \n\n[329 rows x 101 columns]",
      "text/html": "<div>\n<style scoped>\n    .dataframe tbody tr th:only-of-type {\n        vertical-align: middle;\n    }\n\n    .dataframe tbody tr th {\n        vertical-align: top;\n    }\n\n    .dataframe thead th {\n        text-align: right;\n    }\n</style>\n<table border=\"1\" class=\"dataframe\">\n  <thead>\n    <tr style=\"text-align: right;\">\n      <th></th>\n      <th>date</th>\n      <th>topic_1</th>\n      <th>topic_2</th>\n      <th>topic_3</th>\n      <th>topic_4</th>\n      <th>topic_5</th>\n      <th>topic_6</th>\n      <th>topic_7</th>\n      <th>topic_8</th>\n      <th>topic_9</th>\n      <th>...</th>\n      <th>topic_91</th>\n      <th>topic_92</th>\n      <th>topic_93</th>\n      <th>topic_94</th>\n      <th>topic_95</th>\n      <th>topic_96</th>\n      <th>topic_97</th>\n      <th>topic_98</th>\n      <th>topic_99</th>\n      <th>topic_100</th>\n    </tr>\n  </thead>\n  <tbody>\n    <tr>\n      <th>0</th>\n      <td>2022-02-25</td>\n      <td>0.000009</td>\n      <td>0.000009</td>\n      <td>0.000009</td>\n      <td>0.000009</td>\n      <td>0.000009</td>\n      <td>0.000009</td>\n      <td>0.000009</td>\n      <td>0.000009</td>\n      <td>0.000009</td>\n      <td>...</td>\n      <td>0.000009</td>\n      <td>0.000009</td>\n      <td>0.999076</td>\n      <td>0.000009</td>\n      <td>0.000009</td>\n      <td>0.000009</td>\n      <td>0.000009</td>\n      <td>0.000009</td>\n      <td>0.000009</td>\n      <td>0.000009</td>\n    </tr>\n    <tr>\n      <th>1</th>\n      <td>2022-02-26</td>\n      <td>0.000008</td>\n      <td>0.000008</td>\n      <td>0.000008</td>\n      <td>0.000008</td>\n      <td>0.000008</td>\n      <td>0.000008</td>\n      <td>0.000008</td>\n      <td>0.000008</td>\n      <td>0.000008</td>\n      <td>...</td>\n      <td>0.000008</td>\n      <td>0.000008</td>\n      <td>0.991173</td>\n      <td>0.000008</td>\n      <td>0.000008</td>\n      <td>0.000008</td>\n      <td>0.000008</td>\n      <td>0.000008</td>\n      <td>0.000008</td>\n      <td>0.000008</td>\n    </tr>\n    <tr>\n      <th>2</th>\n      <td>2022-02-27</td>\n      <td>0.000007</td>\n      <td>0.000007</td>\n      <td>0.000007</td>\n      <td>0.000007</td>\n      <td>0.000007</td>\n      <td>0.000007</td>\n      <td>0.000007</td>\n      <td>0.000007</td>\n      <td>0.000007</td>\n      <td>...</td>\n      <td>0.000007</td>\n      <td>0.000007</td>\n      <td>0.999330</td>\n      <td>0.000007</td>\n      <td>0.000007</td>\n      <td>0.000007</td>\n      <td>0.000007</td>\n      <td>0.000007</td>\n      <td>0.000007</td>\n      <td>0.000007</td>\n    </tr>\n    <tr>\n      <th>3</th>\n      <td>2022-02-28</td>\n      <td>0.000007</td>\n      <td>0.000007</td>\n      <td>0.000007</td>\n      <td>0.000007</td>\n      <td>0.000007</td>\n      <td>0.000007</td>\n      <td>0.000007</td>\n      <td>0.000007</td>\n      <td>0.000007</td>\n      <td>...</td>\n      <td>0.000007</td>\n      <td>0.000007</td>\n      <td>0.914613</td>\n      <td>0.000007</td>\n      <td>0.000007</td>\n      <td>0.000007</td>\n      <td>0.000007</td>\n      <td>0.000007</td>\n      <td>0.000007</td>\n      <td>0.000007</td>\n    </tr>\n    <tr>\n      <th>4</th>\n      <td>2022-03-01</td>\n      <td>0.000010</td>\n      <td>0.000010</td>\n      <td>0.000010</td>\n      <td>0.000010</td>\n      <td>0.000010</td>\n      <td>0.000010</td>\n      <td>0.000010</td>\n      <td>0.000010</td>\n      <td>0.000010</td>\n      <td>...</td>\n      <td>0.000010</td>\n      <td>0.000010</td>\n      <td>0.985385</td>\n      <td>0.000010</td>\n      <td>0.000010</td>\n      <td>0.000010</td>\n      <td>0.000010</td>\n      <td>0.000010</td>\n      <td>0.000010</td>\n      <td>0.000010</td>\n    </tr>\n    <tr>\n      <th>...</th>\n      <td>...</td>\n      <td>...</td>\n      <td>...</td>\n      <td>...</td>\n      <td>...</td>\n      <td>...</td>\n      <td>...</td>\n      <td>...</td>\n      <td>...</td>\n      <td>...</td>\n      <td>...</td>\n      <td>...</td>\n      <td>...</td>\n      <td>...</td>\n      <td>...</td>\n      <td>...</td>\n      <td>...</td>\n      <td>...</td>\n      <td>...</td>\n      <td>...</td>\n      <td>...</td>\n    </tr>\n    <tr>\n      <th>324</th>\n      <td>2023-01-21</td>\n      <td>0.000004</td>\n      <td>0.000004</td>\n      <td>0.000004</td>\n      <td>0.000004</td>\n      <td>0.529134</td>\n      <td>0.000004</td>\n      <td>0.000004</td>\n      <td>0.000004</td>\n      <td>0.000004</td>\n      <td>...</td>\n      <td>0.000004</td>\n      <td>0.000004</td>\n      <td>0.007795</td>\n      <td>0.000004</td>\n      <td>0.000004</td>\n      <td>0.000004</td>\n      <td>0.000004</td>\n      <td>0.000004</td>\n      <td>0.000004</td>\n      <td>0.000004</td>\n    </tr>\n    <tr>\n      <th>325</th>\n      <td>2023-01-22</td>\n      <td>0.000006</td>\n      <td>0.000006</td>\n      <td>0.000006</td>\n      <td>0.000006</td>\n      <td>0.706544</td>\n      <td>0.000006</td>\n      <td>0.000006</td>\n      <td>0.000006</td>\n      <td>0.000006</td>\n      <td>...</td>\n      <td>0.000006</td>\n      <td>0.000006</td>\n      <td>0.067775</td>\n      <td>0.000006</td>\n      <td>0.000006</td>\n      <td>0.000006</td>\n      <td>0.000006</td>\n      <td>0.000006</td>\n      <td>0.000006</td>\n      <td>0.000006</td>\n    </tr>\n    <tr>\n      <th>326</th>\n      <td>2023-01-23</td>\n      <td>0.000004</td>\n      <td>0.000004</td>\n      <td>0.000004</td>\n      <td>0.000004</td>\n      <td>0.605457</td>\n      <td>0.003095</td>\n      <td>0.000004</td>\n      <td>0.000004</td>\n      <td>0.000004</td>\n      <td>...</td>\n      <td>0.000004</td>\n      <td>0.000004</td>\n      <td>0.006186</td>\n      <td>0.000004</td>\n      <td>0.000004</td>\n      <td>0.000004</td>\n      <td>0.000004</td>\n      <td>0.000004</td>\n      <td>0.000004</td>\n      <td>0.000004</td>\n    </tr>\n    <tr>\n      <th>327</th>\n      <td>2023-01-24</td>\n      <td>0.000003</td>\n      <td>0.000003</td>\n      <td>0.000003</td>\n      <td>0.000003</td>\n      <td>0.269717</td>\n      <td>0.000003</td>\n      <td>0.000003</td>\n      <td>0.000003</td>\n      <td>0.000003</td>\n      <td>...</td>\n      <td>0.000003</td>\n      <td>0.000003</td>\n      <td>0.000003</td>\n      <td>0.000003</td>\n      <td>0.000003</td>\n      <td>0.000003</td>\n      <td>0.000003</td>\n      <td>0.000003</td>\n      <td>0.000003</td>\n      <td>0.000003</td>\n    </tr>\n    <tr>\n      <th>328</th>\n      <td>2023-01-25</td>\n      <td>0.000003</td>\n      <td>0.000003</td>\n      <td>0.000003</td>\n      <td>0.000003</td>\n      <td>0.648265</td>\n      <td>0.033499</td>\n      <td>0.000003</td>\n      <td>0.000003</td>\n      <td>0.000003</td>\n      <td>...</td>\n      <td>0.000003</td>\n      <td>0.000003</td>\n      <td>0.000556</td>\n      <td>0.000003</td>\n      <td>0.000003</td>\n      <td>0.000003</td>\n      <td>0.000003</td>\n      <td>0.000003</td>\n      <td>0.000003</td>\n      <td>0.000003</td>\n    </tr>\n  </tbody>\n</table>\n<p>329 rows × 101 columns</p>\n</div>"
     },
     "execution_count": 21,
     "metadata": {},
     "output_type": "execute_result"
    }
   ],
   "source": [
    "vectorized_data"
   ],
   "metadata": {
    "collapsed": false,
    "ExecuteTime": {
     "end_time": "2024-03-27T20:25:41.537116Z",
     "start_time": "2024-03-27T20:25:41.531933Z"
    }
   },
   "id": "9033280544c02297",
   "execution_count": 21
  },
  {
   "cell_type": "code",
   "outputs": [],
   "source": [],
   "metadata": {
    "collapsed": false
   },
   "id": "f8f3ef3e6ee7ffbc"
  }
 ],
 "metadata": {
  "kernelspec": {
   "display_name": "Python 3",
   "language": "python",
   "name": "python3"
  },
  "language_info": {
   "codemirror_mode": {
    "name": "ipython",
    "version": 2
   },
   "file_extension": ".py",
   "mimetype": "text/x-python",
   "name": "python",
   "nbconvert_exporter": "python",
   "pygments_lexer": "ipython2",
   "version": "2.7.6"
  }
 },
 "nbformat": 4,
 "nbformat_minor": 5
}
