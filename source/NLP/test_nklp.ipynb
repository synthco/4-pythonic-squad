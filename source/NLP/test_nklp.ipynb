{
 "cells": [
  {
   "cell_type": "code",
   "execution_count": 1,
   "outputs": [
    {
     "name": "stderr",
     "output_type": "stream",
     "text": [
      "[nltk_data] Downloading package stopwords to\n",
      "[nltk_data]     /Users/ivantyshchenko/nltk_data...\n",
      "[nltk_data]   Package stopwords is already up-to-date!\n"
     ]
    }
   ],
   "source": [
    "X# ISW Naltural language processing unit\n",
    "# !pip install nltk\n",
    "# !pip install sklearn\n",
    "import pandas as pd\n",
    "import nltk\n",
    "import numpy as np\n",
    "from sklearn.feature_extraction.text import CountVectorizer\n",
    "import ast\n",
    "import string\n",
    "import  nltk.corpus\n",
    "nltk.download('stopwords')\n",
    "from collections import Counter\n",
    "from nltk.stem import SnowballStemmer\n",
    "import re\n",
    "from nltk.corpus import wordnet\n",
    "from nltk.stem import WordNetLemmatizer"
   ],
   "metadata": {
    "collapsed": false,
    "ExecuteTime": {
     "end_time": "2024-03-24T14:49:45.995757Z",
     "start_time": "2024-03-24T14:49:44.574558Z"
    }
   }
  },
  {
   "cell_type": "code",
   "execution_count": 2,
   "outputs": [],
   "source": [
    "ISW = pd.read_csv('ISW.csv', dtype={\"main_txt\": \"O\"})\n",
    "ISW\n",
    "pure = ISW[['main_text', 'date']]"
   ],
   "metadata": {
    "collapsed": false,
    "ExecuteTime": {
     "end_time": "2024-03-24T14:49:46.308203Z",
     "start_time": "2024-03-24T14:49:45.996769Z"
    }
   }
  },
  {
   "cell_type": "code",
   "execution_count": 3,
   "outputs": [
    {
     "data": {
      "text/plain": "           date                                              title  \\\n0    2022-02-25  Russia-Ukraine Warning Update: Russian Offensi...   \n1    2022-02-26  Russia-Ukraine Warning Update: Russian Offensi...   \n2    2022-02-27  Russia-Ukraine Warning Update: Russian Offensi...   \n3    2022-02-28  Russian Offensive Campaign Assessment, Februar...   \n4    2022-03-01     Russian Offensive Campaign Assessment, March 1   \n..          ...                                                ...   \n324  2023-01-21  Russian Offensive Campaign Assessment, January...   \n325  2023-01-22  Russian Offensive Campaign Assessment, January...   \n326  2023-01-23  Russian Offensive Campaign Assessment, January...   \n327  2023-01-24  Russian Offensive Campaign Assessment, January...   \n328  2023-01-25  Russian Offensive Campaign Assessment, January...   \n\n                                              full_url  \\\n0    https://www.understandingwar.org/backgrounder/...   \n1    https://www.understandingwar.org/backgrounder/...   \n2    https://www.understandingwar.org/backgrounder/...   \n3    https://www.understandingwar.org/backgrounder/...   \n4    https://www.understandingwar.org/backgrounder/...   \n..                                                 ...   \n324  https://www.understandingwar.org/backgrounder/...   \n325  https://www.understandingwar.org/backgrounder/...   \n326  https://www.understandingwar.org/backgrounder/...   \n327  https://www.understandingwar.org/backgrounder/...   \n328  https://www.understandingwar.org/backgrounder/...   \n\n                                             main_html  \\\n0    <!DOCTYPE html>\\n\\n<html dir=\"ltr\" lang=\"en\" x...   \n1    <!DOCTYPE html>\\n\\n<html dir=\"ltr\" lang=\"en\" x...   \n2    <!DOCTYPE html>\\n\\n<html dir=\"ltr\" lang=\"en\" x...   \n3    <!DOCTYPE html>\\n\\n<html dir=\"ltr\" lang=\"en\" x...   \n4    <!DOCTYPE html>\\n\\n<html dir=\"ltr\" lang=\"en\" x...   \n..                                                 ...   \n324  <!DOCTYPE html>\\n\\n<html dir=\"ltr\" lang=\"en\" x...   \n325  <!DOCTYPE html>\\n\\n<html dir=\"ltr\" lang=\"en\" x...   \n326  <!DOCTYPE html>\\n\\n<html dir=\"ltr\" lang=\"en\" x...   \n327  <!DOCTYPE html>\\n\\n<html dir=\"ltr\" lang=\"en\" x...   \n328  <!DOCTYPE html>\\n\\n<html dir=\"ltr\" lang=\"en\" x...   \n\n                                          main_html_v2  \\\n0    [<p align=\"center\" style=\"text-align: left;\"><...   \n1    [<p align=\"center\" style=\"text-align: left;\"><...   \n2    [<p style=\"text-align: left;\"><strong><span st...   \n3    [<p align=\"center\" style=\"text-align: left;\"> ...   \n4    [<p align=\"center\" style=\"text-align: left;\"> ...   \n..                                                 ...   \n324  [<p align=\"center\" style=\"text-align: left;\"> ...   \n325  [<p align=\"center\" style=\"text-align: left;\"><...   \n326  [<p align=\"center\" style=\"text-align: left;\"><...   \n327  [<p align=\"center\" style=\"text-align: left;\"> ...   \n328  [<p align=\"center\" style=\"text-align: left;\"> ...   \n\n                                             main_text  \n0    ['Russian forces entered major Ukrainian citie...  \n1    ['Russian forces’ main axes of advance in the ...  \n2    ['February 27, 4pm EST', 'The Russian military...  \n3    ['February 28, 3:30pm EST', 'The Russian milit...  \n4    ['March 1, 3:00 pm EST', 'Russian forces are c...  \n..                                                 ...  \n324  ['January 21, 7:45 pm ET', 'The Ukrainian defe...  \n325  ['Kateryna Stepanenko and Frederick W. Kagan',...  \n326  ['Karolina Hird, George Barros, Kateryna Stepa...  \n327  ['January 24, 9:30 pm ET', 'A coalition of NAT...  \n328  ['January 25, 9:45pm ET', 'Russian forces may ...  \n\n[329 rows x 6 columns]",
      "text/html": "<div>\n<style scoped>\n    .dataframe tbody tr th:only-of-type {\n        vertical-align: middle;\n    }\n\n    .dataframe tbody tr th {\n        vertical-align: top;\n    }\n\n    .dataframe thead th {\n        text-align: right;\n    }\n</style>\n<table border=\"1\" class=\"dataframe\">\n  <thead>\n    <tr style=\"text-align: right;\">\n      <th></th>\n      <th>date</th>\n      <th>title</th>\n      <th>full_url</th>\n      <th>main_html</th>\n      <th>main_html_v2</th>\n      <th>main_text</th>\n    </tr>\n  </thead>\n  <tbody>\n    <tr>\n      <th>0</th>\n      <td>2022-02-25</td>\n      <td>Russia-Ukraine Warning Update: Russian Offensi...</td>\n      <td>https://www.understandingwar.org/backgrounder/...</td>\n      <td>&lt;!DOCTYPE html&gt;\\n\\n&lt;html dir=\"ltr\" lang=\"en\" x...</td>\n      <td>[&lt;p align=\"center\" style=\"text-align: left;\"&gt;&lt;...</td>\n      <td>['Russian forces entered major Ukrainian citie...</td>\n    </tr>\n    <tr>\n      <th>1</th>\n      <td>2022-02-26</td>\n      <td>Russia-Ukraine Warning Update: Russian Offensi...</td>\n      <td>https://www.understandingwar.org/backgrounder/...</td>\n      <td>&lt;!DOCTYPE html&gt;\\n\\n&lt;html dir=\"ltr\" lang=\"en\" x...</td>\n      <td>[&lt;p align=\"center\" style=\"text-align: left;\"&gt;&lt;...</td>\n      <td>['Russian forces’ main axes of advance in the ...</td>\n    </tr>\n    <tr>\n      <th>2</th>\n      <td>2022-02-27</td>\n      <td>Russia-Ukraine Warning Update: Russian Offensi...</td>\n      <td>https://www.understandingwar.org/backgrounder/...</td>\n      <td>&lt;!DOCTYPE html&gt;\\n\\n&lt;html dir=\"ltr\" lang=\"en\" x...</td>\n      <td>[&lt;p style=\"text-align: left;\"&gt;&lt;strong&gt;&lt;span st...</td>\n      <td>['February 27, 4pm EST', 'The Russian military...</td>\n    </tr>\n    <tr>\n      <th>3</th>\n      <td>2022-02-28</td>\n      <td>Russian Offensive Campaign Assessment, Februar...</td>\n      <td>https://www.understandingwar.org/backgrounder/...</td>\n      <td>&lt;!DOCTYPE html&gt;\\n\\n&lt;html dir=\"ltr\" lang=\"en\" x...</td>\n      <td>[&lt;p align=\"center\" style=\"text-align: left;\"&gt; ...</td>\n      <td>['February 28, 3:30pm EST', 'The Russian milit...</td>\n    </tr>\n    <tr>\n      <th>4</th>\n      <td>2022-03-01</td>\n      <td>Russian Offensive Campaign Assessment, March 1</td>\n      <td>https://www.understandingwar.org/backgrounder/...</td>\n      <td>&lt;!DOCTYPE html&gt;\\n\\n&lt;html dir=\"ltr\" lang=\"en\" x...</td>\n      <td>[&lt;p align=\"center\" style=\"text-align: left;\"&gt; ...</td>\n      <td>['March 1, 3:00 pm EST', 'Russian forces are c...</td>\n    </tr>\n    <tr>\n      <th>...</th>\n      <td>...</td>\n      <td>...</td>\n      <td>...</td>\n      <td>...</td>\n      <td>...</td>\n      <td>...</td>\n    </tr>\n    <tr>\n      <th>324</th>\n      <td>2023-01-21</td>\n      <td>Russian Offensive Campaign Assessment, January...</td>\n      <td>https://www.understandingwar.org/backgrounder/...</td>\n      <td>&lt;!DOCTYPE html&gt;\\n\\n&lt;html dir=\"ltr\" lang=\"en\" x...</td>\n      <td>[&lt;p align=\"center\" style=\"text-align: left;\"&gt; ...</td>\n      <td>['January 21, 7:45 pm ET', 'The Ukrainian defe...</td>\n    </tr>\n    <tr>\n      <th>325</th>\n      <td>2023-01-22</td>\n      <td>Russian Offensive Campaign Assessment, January...</td>\n      <td>https://www.understandingwar.org/backgrounder/...</td>\n      <td>&lt;!DOCTYPE html&gt;\\n\\n&lt;html dir=\"ltr\" lang=\"en\" x...</td>\n      <td>[&lt;p align=\"center\" style=\"text-align: left;\"&gt;&lt;...</td>\n      <td>['Kateryna Stepanenko and Frederick W. Kagan',...</td>\n    </tr>\n    <tr>\n      <th>326</th>\n      <td>2023-01-23</td>\n      <td>Russian Offensive Campaign Assessment, January...</td>\n      <td>https://www.understandingwar.org/backgrounder/...</td>\n      <td>&lt;!DOCTYPE html&gt;\\n\\n&lt;html dir=\"ltr\" lang=\"en\" x...</td>\n      <td>[&lt;p align=\"center\" style=\"text-align: left;\"&gt;&lt;...</td>\n      <td>['Karolina Hird, George Barros, Kateryna Stepa...</td>\n    </tr>\n    <tr>\n      <th>327</th>\n      <td>2023-01-24</td>\n      <td>Russian Offensive Campaign Assessment, January...</td>\n      <td>https://www.understandingwar.org/backgrounder/...</td>\n      <td>&lt;!DOCTYPE html&gt;\\n\\n&lt;html dir=\"ltr\" lang=\"en\" x...</td>\n      <td>[&lt;p align=\"center\" style=\"text-align: left;\"&gt; ...</td>\n      <td>['January 24, 9:30 pm ET', 'A coalition of NAT...</td>\n    </tr>\n    <tr>\n      <th>328</th>\n      <td>2023-01-25</td>\n      <td>Russian Offensive Campaign Assessment, January...</td>\n      <td>https://www.understandingwar.org/backgrounder/...</td>\n      <td>&lt;!DOCTYPE html&gt;\\n\\n&lt;html dir=\"ltr\" lang=\"en\" x...</td>\n      <td>[&lt;p align=\"center\" style=\"text-align: left;\"&gt; ...</td>\n      <td>['January 25, 9:45pm ET', 'Russian forces may ...</td>\n    </tr>\n  </tbody>\n</table>\n<p>329 rows × 6 columns</p>\n</div>"
     },
     "execution_count": 3,
     "metadata": {},
     "output_type": "execute_result"
    }
   ],
   "source": [
    "ISW"
   ],
   "metadata": {
    "collapsed": false,
    "ExecuteTime": {
     "end_time": "2024-03-24T14:49:46.322125Z",
     "start_time": "2024-03-24T14:49:46.309593Z"
    }
   }
  },
  {
   "cell_type": "code",
   "execution_count": 4,
   "outputs": [],
   "source": [
    "pure.set_index('date', inplace=True)"
   ],
   "metadata": {
    "collapsed": false,
    "ExecuteTime": {
     "end_time": "2024-03-24T14:49:48.134343Z",
     "start_time": "2024-03-24T14:49:48.118612Z"
    }
   }
  },
  {
   "cell_type": "code",
   "execution_count": 5,
   "outputs": [
    {
     "name": "stderr",
     "output_type": "stream",
     "text": [
      "/var/folders/ks/d6pwjtjd5y7_9mmxkttk6rd00000gn/T/ipykernel_68803/1856688138.py:5: SettingWithCopyWarning: \n",
      "A value is trying to be set on a copy of a slice from a DataFrame.\n",
      "Try using .loc[row_indexer,col_indexer] = value instead\n",
      "\n",
      "See the caveats in the documentation: https://pandas.pydata.org/pandas-docs/stable/user_guide/indexing.html#returning-a-view-versus-a-copy\n",
      "  pure[\"main_text\"] = pure[\"main_text\"].apply(lowercase_text)\n"
     ]
    },
    {
     "data": {
      "text/plain": "                                                    main_text\ndate                                                         \n2022-02-25  [russian forces entered major ukrainian cities...\n2022-02-26  [russian forces’ main axes of advance in the l...\n2022-02-27  [february 27, 4pm est, the russian military ha...\n2022-02-28  [february 28, 3:30pm est, the russian military...\n2022-03-01  [march 1, 3:00 pm est, russian forces are comp...\n...                                                       ...\n2023-01-21  [january 21, 7:45 pm et, the ukrainian defense...\n2023-01-22  [kateryna stepanenko and frederick w. kagan, j...\n2023-01-23  [karolina hird, george barros, kateryna stepan...\n2023-01-24  [january 24, 9:30 pm et, a coalition of nato m...\n2023-01-25  [january 25, 9:45pm et, russian forces may be ...\n\n[329 rows x 1 columns]",
      "text/html": "<div>\n<style scoped>\n    .dataframe tbody tr th:only-of-type {\n        vertical-align: middle;\n    }\n\n    .dataframe tbody tr th {\n        vertical-align: top;\n    }\n\n    .dataframe thead th {\n        text-align: right;\n    }\n</style>\n<table border=\"1\" class=\"dataframe\">\n  <thead>\n    <tr style=\"text-align: right;\">\n      <th></th>\n      <th>main_text</th>\n    </tr>\n    <tr>\n      <th>date</th>\n      <th></th>\n    </tr>\n  </thead>\n  <tbody>\n    <tr>\n      <th>2022-02-25</th>\n      <td>[russian forces entered major ukrainian cities...</td>\n    </tr>\n    <tr>\n      <th>2022-02-26</th>\n      <td>[russian forces’ main axes of advance in the l...</td>\n    </tr>\n    <tr>\n      <th>2022-02-27</th>\n      <td>[february 27, 4pm est, the russian military ha...</td>\n    </tr>\n    <tr>\n      <th>2022-02-28</th>\n      <td>[february 28, 3:30pm est, the russian military...</td>\n    </tr>\n    <tr>\n      <th>2022-03-01</th>\n      <td>[march 1, 3:00 pm est, russian forces are comp...</td>\n    </tr>\n    <tr>\n      <th>...</th>\n      <td>...</td>\n    </tr>\n    <tr>\n      <th>2023-01-21</th>\n      <td>[january 21, 7:45 pm et, the ukrainian defense...</td>\n    </tr>\n    <tr>\n      <th>2023-01-22</th>\n      <td>[kateryna stepanenko and frederick w. kagan, j...</td>\n    </tr>\n    <tr>\n      <th>2023-01-23</th>\n      <td>[karolina hird, george barros, kateryna stepan...</td>\n    </tr>\n    <tr>\n      <th>2023-01-24</th>\n      <td>[january 24, 9:30 pm et, a coalition of nato m...</td>\n    </tr>\n    <tr>\n      <th>2023-01-25</th>\n      <td>[january 25, 9:45pm et, russian forces may be ...</td>\n    </tr>\n  </tbody>\n</table>\n<p>329 rows × 1 columns</p>\n</div>"
     },
     "execution_count": 5,
     "metadata": {},
     "output_type": "execute_result"
    }
   ],
   "source": [
    "def lowercase_text(text):\n",
    "    sample = ast.literal_eval(text)\n",
    "    return [i.lower() for i in sample]\n",
    "\n",
    "pure[\"main_text\"] = pure[\"main_text\"].apply(lowercase_text)\n",
    "pure2 = pure.copy()\n",
    "pure2"
   ],
   "metadata": {
    "collapsed": false,
    "ExecuteTime": {
     "end_time": "2024-03-24T14:49:49.245618Z",
     "start_time": "2024-03-24T14:49:49.236993Z"
    }
   }
  },
  {
   "cell_type": "code",
   "execution_count": null,
   "outputs": [],
   "source": [
    "PUNCT_TO_REMOVE = string.punctuation\n",
    "def remove_punctuation(text):\n",
    "    \"\"\"custom function to remove the punctuation\"\"\"\n",
    "    return [i.translate(str.maketrans('', '', PUNCT_TO_REMOVE)) for i in text]\n",
    "\n",
    "pure[\"main_text\"] = pure[\"main_text\"].apply(lambda text: remove_punctuation(text))\n",
    "\n",
    "import re\n",
    "\n",
    "def clean_text(text_list):\n",
    "    #list of strings to a single string\n",
    "    cleaned_text = ' '.join(text_list)\n",
    "\n",
    "    cleaned_text = re.sub(r'\\b(January|February|March|April|May|June|July|August|September|October|November|December)\\b', lambda match: match.group(0).lower(), cleaned_text, flags=re.IGNORECASE)\n",
    "\n",
    "    # remove symbols like '-', '/', '\\', '\\xa0' etc\n",
    "    cleaned_text = re.sub(r'[-/\\\\—\\xa0\"’“]', ' ', cleaned_text)\n",
    "    cleaned_text = re.sub(r'[’“]', ' ', cleaned_text)\n",
    "    cleaned_text = re.sub(r'(march)', ' ', cleaned_text)\n",
    "    cleaned_text = re.sub(r'\\n', ' ', cleaned_text)\n",
    "\n",
    "    cleaned_text = re.sub(r'\\b(?:pm|am)\\b', '', cleaned_text)\n",
    "\n",
    "    cleaned_text = re.sub(r'\\b(?:\\d+(?:st|nd|rd|th)?)\\b', '', cleaned_text)\n",
    "\n",
    "    cleaned_text = re.sub(r'\\b\\d+[a-zA-Z]+|(?<!\\d)[a-zA-Z]+\\d+\\b', '', cleaned_text)\n",
    "    cleaned_text = re.sub(r'\\b\\w\\b', '', cleaned_text)\n",
    "    cleaned_text = re.sub(r'\\s+', ' ', cleaned_text.strip())\n",
    "\n",
    "    return cleaned_text\n",
    "\n",
    "pure['new'] = pure['main_text'].apply(lambda x: clean_text(x))\n"
   ],
   "metadata": {
    "collapsed": false
   }
  },
  {
   "cell_type": "code",
   "execution_count": null,
   "outputs": [],
   "source": [
    "pure[\"new\"].iloc[13]"
   ],
   "metadata": {
    "collapsed": false
   }
  },
  {
   "cell_type": "code",
   "execution_count": null,
   "outputs": [],
   "source": [
    "pure[\"main_text\"] = pure[\"new\"]\n",
    "pure.drop([\"new\"], axis=1)"
   ],
   "metadata": {
    "collapsed": false
   }
  },
  {
   "cell_type": "code",
   "execution_count": null,
   "outputs": [],
   "source": [],
   "metadata": {
    "collapsed": false
   }
  },
  {
   "cell_type": "code",
   "execution_count": null,
   "outputs": [],
   "source": [
    "from nltk.corpus import stopwords\n",
    "\n",
    "\", \".join(stopwords.words('english'))\n",
    "STOPWORDS = set(stopwords.words('english'))\n",
    "def remove_stopwords(text):\n",
    "    \"\"\"custom function to remove the stopwords\"\"\"\n",
    "    return \" \".join([word for word in str(text).split() if word not in STOPWORDS])\n",
    "\n",
    "pure[\"text_wo_stop\"] = pure[\"main_text\"].apply(lambda text: remove_stopwords(text))\n",
    "pure.head()\n"
   ],
   "metadata": {
    "collapsed": false
   }
  },
  {
   "cell_type": "code",
   "execution_count": null,
   "outputs": [],
   "source": [
    "STOPWORDS"
   ],
   "metadata": {
    "collapsed": false
   }
  },
  {
   "cell_type": "code",
   "execution_count": null,
   "outputs": [],
   "source": [
    "pure[\"text_wo_stop\"].iloc[13]"
   ],
   "metadata": {
    "collapsed": false
   }
  },
  {
   "cell_type": "code",
   "execution_count": null,
   "outputs": [],
   "source": [],
   "metadata": {
    "collapsed": false
   }
  },
  {
   "cell_type": "code",
   "execution_count": null,
   "outputs": [],
   "source": [],
   "metadata": {
    "collapsed": false
   }
  },
  {
   "cell_type": "code",
   "execution_count": null,
   "outputs": [],
   "source": [],
   "metadata": {
    "collapsed": false
   }
  },
  {
   "cell_type": "code",
   "outputs": [],
   "source": [],
   "metadata": {
    "collapsed": false
   }
  },
  {
   "cell_type": "code",
   "execution_count": null,
   "outputs": [],
   "source": [],
   "metadata": {
    "collapsed": false
   }
  },
  {
   "cell_type": "code",
   "execution_count": null,
   "outputs": [],
   "source": [
    "# stemming for comparing with lemtz\n",
    "stemmer = SnowballStemmer(\"english\")\n",
    "\n",
    "def stem_words(word_list):\n",
    "    return [stemmer.stem(word_list)]\n",
    "\n",
    "pure[\"text_stemmed\"] = pure[\"text_wo_stop\"].apply(stem_words)\n",
    "pure.iloc[28][\"text_stemmed\"]"
   ],
   "metadata": {
    "collapsed": false
   }
  },
  {
   "cell_type": "code",
   "execution_count": null,
   "outputs": [],
   "source": [
    "from nltk.stem import WordNetLemmatizer\n",
    "# lemmatizing via nltk. another version of lemmatizing lower\n",
    "lemmatizer = WordNetLemmatizer()\n",
    "def lemmatize_word(text):\n",
    "    word_tokens = text.split()\n",
    "    lemmas = [lemmatizer.lemmatize(word, pos ='v') for word in word_tokens]\n",
    "    return lemmas\n",
    "\n",
    "pure['text_for_vect'] = pure['text_wo_stop'].apply(lemmatize_word)\n",
    "\n",
    "text = pure[\"text_for_vect\"].iloc[12]\n",
    "len(text)"
   ],
   "metadata": {
    "collapsed": false
   }
  },
  {
   "cell_type": "code",
   "execution_count": null,
   "outputs": [],
   "source": [
    "grouped_pure = pure.groupby('date')['text_for_vect'].first().reset_index()\n",
    "\n",
    "ISW = pd.merge(ISW, grouped_pure, on='date', how='left')\n",
    "ISW.to_csv('isw_for_vect.csv', index=False)\n"
   ],
   "metadata": {
    "collapsed": false
   }
  },
  {
   "cell_type": "code",
   "execution_count": null,
   "outputs": [],
   "source": [
    "# (pure.iloc[28][\"text_for_vect\"]\n",
    "# )"
   ],
   "metadata": {
    "collapsed": false
   }
  },
  {
   "cell_type": "code",
   "execution_count": null,
   "outputs": [],
   "source": [
    "# ISW.iloc[28][\"main_text\"]"
   ],
   "metadata": {
    "collapsed": false
   }
  },
  {
   "cell_type": "code",
   "execution_count": null,
   "outputs": [],
   "source": [
    "ISW[\"text_for_vect\"]"
   ],
   "metadata": {
    "collapsed": false
   }
  },
  {
   "cell_type": "code",
   "execution_count": null,
   "outputs": [],
   "source": [
    "\n",
    "ISW['text_for_vect_str'] = ISW['text_for_vect'].apply(lambda x: ' '.join(x))\n",
    "\n",
    "# find rows where 'text_for_vect' contains the word 'affiliated'\n",
    "rows_with_affiliated = ISW[ISW['text_for_vect_str'].str.contains('affiliated', case=False)]\n",
    "print(\"Rows containing the word 'affiliated':\")\n",
    "print(rows_with_affiliated\n",
    ")\n"
   ],
   "metadata": {
    "collapsed": false
   }
  },
  {
   "cell_type": "code",
   "execution_count": null,
   "outputs": [],
   "source": [
    "# print(ISW.iloc[28][\"text_for_vect_str\"])\n"
   ],
   "metadata": {
    "collapsed": false
   }
  },
  {
   "cell_type": "code",
   "execution_count": null,
   "outputs": [],
   "source": [
    "text = ISW.iloc[28][\"main_text\"]\n",
    "\n",
    "word = \"affiliated\"\n",
    "\n",
    "if word in text:\n",
    "    index = text.index(word)\n",
    "    print(f\"The word '{word}' is present at index {index}: {text[index:index+len(word)]}\")\n",
    "else:\n",
    "    print(f\"The word '{word}' is not present in the text.\")\n",
    "\n"
   ],
   "metadata": {
    "collapsed": false
   }
  },
  {
   "cell_type": "code",
   "execution_count": null,
   "outputs": [],
   "source": [
    "text = ISW.iloc[28][\"text_for_vect_str\"]\n",
    "word = \"affiliated\"\n",
    "\n",
    "if word in text:\n",
    "    index = text.index(word)\n",
    "    print(f\"The word '{word}' is present at index {index}: {text[index:index+len(word)]}\")\n",
    "else:\n",
    "    print(f\"The word '{word}' is not present in the text.\")\n",
    "\n",
    "\n",
    "# we see that previous lemmatizing doesn't work fully. i'll try another one:"
   ],
   "metadata": {
    "collapsed": false
   }
  },
  {
   "cell_type": "code",
   "execution_count": null,
   "outputs": [],
   "source": [
    "import spacy\n",
    "import pandas as pd\n",
    "\n",
    "# lemmatizing 2\n",
    "nlp = spacy.load(\"en_core_web_sm\")\n",
    "def lemmatize_text(word_list):\n",
    "    text = ' '.join(word_list)\n",
    "    doc = nlp(text)\n",
    "    lemmatized_words = [token.lemma_ for token in doc]\n",
    "\n",
    "    return lemmatized_words\n",
    "\n",
    "pure['text_for_vect2'] = pure['text_for_vect'].apply(lemmatize_text)"
   ],
   "metadata": {
    "collapsed": false
   }
  },
  {
   "cell_type": "code",
   "execution_count": null,
   "outputs": [],
   "source": [
    "# pure.iloc[13]['text_for_vect2']"
   ],
   "metadata": {
    "collapsed": false
   }
  },
  {
   "cell_type": "code",
   "execution_count": null,
   "outputs": [],
   "source": [
    "text = pure.iloc[28][\"text_for_vect2\"]\n",
    "word = \"affiliated\"\n",
    "\n",
    "if word in text:\n",
    "    index = text.index(word)\n",
    "    print(f\"The word '{word}' is present at index {index}: {text[index:index+len(word)]}\")\n",
    "else:\n",
    "    print(f\"The word '{word}' is not present in the text.\")\n",
    "# it has to say \"is not present\""
   ],
   "metadata": {
    "collapsed": false
   }
  },
  {
   "cell_type": "code",
   "execution_count": null,
   "outputs": [],
   "source": [
    "# pure['text_for_vect2']"
   ],
   "metadata": {
    "collapsed": false
   }
  },
  {
   "cell_type": "code",
   "execution_count": null,
   "outputs": [],
   "source": [
    "grouped_pure = pure.groupby('date')['text_for_vect2'].first().reset_index()\n",
    "\n",
    "ISW = pd.merge(ISW, grouped_pure, on='date', how='left')\n",
    "ISW.to_csv('isw_vect_upd.csv', index=False)"
   ],
   "metadata": {
    "collapsed": false
   }
  },
  {
   "cell_type": "code",
   "execution_count": null,
   "outputs": [],
   "source": [
    "new = pd.read_csv('isw_vect_upd.csv')\n",
    "new"
   ],
   "metadata": {
    "collapsed": false
   }
  },
  {
   "cell_type": "code",
   "execution_count": null,
   "outputs": [],
   "source": [
    "text = ISW.iloc[28][\"text_for_vect_str\"]\n",
    "word = \"affiliated\"\n",
    "\n",
    "if word in text:\n",
    "    index = text.index(word)\n",
    "    print(f\"The word '{word}' is present at index {index}: {text[index:index+len(word)]}\")\n",
    "else:\n",
    "    print(f\"The word '{word}' is not present in the text.\")"
   ],
   "metadata": {
    "collapsed": false
   }
  },
  {
   "cell_type": "markdown",
   "source": [],
   "metadata": {
    "collapsed": false
   }
  },
  {
   "cell_type": "code",
   "execution_count": null,
   "outputs": [],
   "source": [
    "ISW.drop(columns=[\"text_for_vect_str\", \"text_for_vect\", \"test\", \"text_for_vect2_str\"], inplace=True)"
   ],
   "metadata": {
    "collapsed": false
   }
  },
  {
   "cell_type": "code",
   "execution_count": null,
   "outputs": [],
   "source": [
    "new = pd.read_csv('isw_vect_upd.csv')\n",
    "new"
   ],
   "metadata": {
    "collapsed": false
   }
  },
  {
   "cell_type": "code",
   "execution_count": null,
   "outputs": [],
   "source": [
    "new.drop(columns=[\"text_for_vect_str\", \"text_for_vect\", \"test\"], inplace=True)"
   ],
   "metadata": {
    "collapsed": false
   }
  },
  {
   "cell_type": "code",
   "execution_count": null,
   "outputs": [],
   "source": [
    "new"
   ],
   "metadata": {
    "collapsed": false
   }
  },
  {
   "cell_type": "code",
   "execution_count": null,
   "outputs": [],
   "source": [
    "# comparing two lemmatizations in  text_for_vect2 and text_for_vect\n",
    "new['text_for_vect2_str'] = new['text_for_vect2'].apply(lambda x: ' '.join(x))\n",
    "text = new.iloc[28][\"text_for_vect2_str\"]\n",
    "word = \"affiliated\"\n",
    "\n",
    "if word in text:\n",
    "    index = text.index(word)\n",
    "    print(f\"The word '{word}' is present at index {index}: {text[index:index+len(word)]}\")\n",
    "else:\n",
    "    print(f\"The word '{word}' is not present in the text.\")"
   ],
   "metadata": {
    "collapsed": false
   }
  },
  {
   "cell_type": "code",
   "execution_count": null,
   "outputs": [],
   "source": [
    "ISW['text_for_vect2_str'] = ISW['text_for_vect'].apply(lambda x: ' '.join(x))\n",
    "text = ISW.iloc[28][\"text_for_vect2_str\"]\n",
    "word = \"affiliated\"\n",
    "\n",
    "if word in text:\n",
    "    index = text.index(word)\n",
    "    print(f\"The word '{word}' is present at index {index}: {text[index:index+len(word)]}\")\n",
    "else:\n",
    "    print(f\"The word '{word}' is not present in the text.\")"
   ],
   "metadata": {
    "collapsed": false
   }
  }
 ],
 "metadata": {
  "kernelspec": {
   "display_name": "Python 3",
   "language": "python",
   "name": "python3"
  },
  "language_info": {
   "codemirror_mode": {
    "name": "ipython",
    "version": 2
   },
   "file_extension": ".py",
   "mimetype": "text/x-python",
   "name": "python",
   "nbconvert_exporter": "python",
   "pygments_lexer": "ipython2",
   "version": "2.7.6"
  }
 },
 "nbformat": 4,
 "nbformat_minor": 0
}
