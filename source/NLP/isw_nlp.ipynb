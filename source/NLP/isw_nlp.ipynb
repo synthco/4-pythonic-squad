{
 "cells": [
  {
   "cell_type": "code",
   "execution_count": 1,
   "id": "initial_id",
   "metadata": {
    "collapsed": true,
    "ExecuteTime": {
     "end_time": "2024-03-13T15:24:30.549271Z",
     "start_time": "2024-03-13T15:24:30.541773Z"
    }
   },
   "outputs": [],
   "source": []
  },
  {
   "cell_type": "markdown",
   "source": [
    "# ISW Naltural language processing unit\n",
    "In these notebook we are vectorizing a ISW dataset\n"
   ],
   "metadata": {
    "collapsed": false
   },
   "id": "58ded9d8648eb8bf"
  },
  {
   "cell_type": "code",
   "outputs": [],
   "source": [
    "import pandas as pd \n",
    "import nltk\n"
   ],
   "metadata": {
    "collapsed": false,
    "ExecuteTime": {
     "end_time": "2024-03-13T15:24:31.058960Z",
     "start_time": "2024-03-13T15:24:30.545199Z"
    }
   },
   "id": "618872695b9cb09",
   "execution_count": 2
  },
  {
   "cell_type": "code",
   "outputs": [
    {
     "data": {
      "text/plain": "           date                                              title  \\\n0    2022-02-25  Russia-Ukraine Warning Update: Russian Offensi...   \n1    2022-02-26  Russia-Ukraine Warning Update: Russian Offensi...   \n2    2022-02-27  Russia-Ukraine Warning Update: Russian Offensi...   \n3    2022-02-28  Russian Offensive Campaign Assessment, Februar...   \n4    2022-03-01     Russian Offensive Campaign Assessment, March 1   \n..          ...                                                ...   \n324  2023-01-21  Russian Offensive Campaign Assessment, January...   \n325  2023-01-22  Russian Offensive Campaign Assessment, January...   \n326  2023-01-23  Russian Offensive Campaign Assessment, January...   \n327  2023-01-24  Russian Offensive Campaign Assessment, January...   \n328  2023-01-25  Russian Offensive Campaign Assessment, January...   \n\n                                              full_url  \\\n0    https://www.understandingwar.org/backgrounder/...   \n1    https://www.understandingwar.org/backgrounder/...   \n2    https://www.understandingwar.org/backgrounder/...   \n3    https://www.understandingwar.org/backgrounder/...   \n4    https://www.understandingwar.org/backgrounder/...   \n..                                                 ...   \n324  https://www.understandingwar.org/backgrounder/...   \n325  https://www.understandingwar.org/backgrounder/...   \n326  https://www.understandingwar.org/backgrounder/...   \n327  https://www.understandingwar.org/backgrounder/...   \n328  https://www.understandingwar.org/backgrounder/...   \n\n                                             main_html  \\\n0    <!DOCTYPE html>\\n\\n<html dir=\"ltr\" lang=\"en\" x...   \n1    <!DOCTYPE html>\\n\\n<html dir=\"ltr\" lang=\"en\" x...   \n2    <!DOCTYPE html>\\n\\n<html dir=\"ltr\" lang=\"en\" x...   \n3    <!DOCTYPE html>\\n\\n<html dir=\"ltr\" lang=\"en\" x...   \n4    <!DOCTYPE html>\\n\\n<html dir=\"ltr\" lang=\"en\" x...   \n..                                                 ...   \n324  <!DOCTYPE html>\\n\\n<html dir=\"ltr\" lang=\"en\" x...   \n325  <!DOCTYPE html>\\n\\n<html dir=\"ltr\" lang=\"en\" x...   \n326  <!DOCTYPE html>\\n\\n<html dir=\"ltr\" lang=\"en\" x...   \n327  <!DOCTYPE html>\\n\\n<html dir=\"ltr\" lang=\"en\" x...   \n328  <!DOCTYPE html>\\n\\n<html dir=\"ltr\" lang=\"en\" x...   \n\n                                          main_html_v2  \\\n0    [<p align=\"center\" style=\"text-align: left;\"><...   \n1    [<p align=\"center\" style=\"text-align: left;\"><...   \n2    [<p style=\"text-align: left;\"><strong><span st...   \n3    [<p align=\"center\" style=\"text-align: left;\"> ...   \n4    [<p align=\"center\" style=\"text-align: left;\"> ...   \n..                                                 ...   \n324  [<p align=\"center\" style=\"text-align: left;\"> ...   \n325  [<p align=\"center\" style=\"text-align: left;\"><...   \n326  [<p align=\"center\" style=\"text-align: left;\"><...   \n327  [<p align=\"center\" style=\"text-align: left;\"> ...   \n328  [<p align=\"center\" style=\"text-align: left;\"> ...   \n\n                                             main_text  \n0    ['Mason Clark, George Barros, and Kateryna Ste...  \n1    ['Mason Clark, George Barros, and Katya Stepan...  \n2    ['Mason Clark, George Barros, and Kateryna Ste...  \n3    ['Mason Clark, George Barros, and Kateryna Ste...  \n4    ['Frederick W. Kagan, George Barros, and Kater...  \n..                                                 ...  \n324  ['Karolina Hird, Grace Mappes, Angela Howard, ...  \n325  ['Russian Offensive Campaign Assessment, Janua...  \n326  ['Russian Offensive Campaign Assessment, Janua...  \n327  ['Karolina Hird, Riley Bailey, Grace Mappes, G...  \n328  ['Karolina Hird, Riley Bailey, Kateryna Stepan...  \n\n[329 rows x 6 columns]",
      "text/html": "<div>\n<style scoped>\n    .dataframe tbody tr th:only-of-type {\n        vertical-align: middle;\n    }\n\n    .dataframe tbody tr th {\n        vertical-align: top;\n    }\n\n    .dataframe thead th {\n        text-align: right;\n    }\n</style>\n<table border=\"1\" class=\"dataframe\">\n  <thead>\n    <tr style=\"text-align: right;\">\n      <th></th>\n      <th>date</th>\n      <th>title</th>\n      <th>full_url</th>\n      <th>main_html</th>\n      <th>main_html_v2</th>\n      <th>main_text</th>\n    </tr>\n  </thead>\n  <tbody>\n    <tr>\n      <th>0</th>\n      <td>2022-02-25</td>\n      <td>Russia-Ukraine Warning Update: Russian Offensi...</td>\n      <td>https://www.understandingwar.org/backgrounder/...</td>\n      <td>&lt;!DOCTYPE html&gt;\\n\\n&lt;html dir=\"ltr\" lang=\"en\" x...</td>\n      <td>[&lt;p align=\"center\" style=\"text-align: left;\"&gt;&lt;...</td>\n      <td>['Mason Clark, George Barros, and Kateryna Ste...</td>\n    </tr>\n    <tr>\n      <th>1</th>\n      <td>2022-02-26</td>\n      <td>Russia-Ukraine Warning Update: Russian Offensi...</td>\n      <td>https://www.understandingwar.org/backgrounder/...</td>\n      <td>&lt;!DOCTYPE html&gt;\\n\\n&lt;html dir=\"ltr\" lang=\"en\" x...</td>\n      <td>[&lt;p align=\"center\" style=\"text-align: left;\"&gt;&lt;...</td>\n      <td>['Mason Clark, George Barros, and Katya Stepan...</td>\n    </tr>\n    <tr>\n      <th>2</th>\n      <td>2022-02-27</td>\n      <td>Russia-Ukraine Warning Update: Russian Offensi...</td>\n      <td>https://www.understandingwar.org/backgrounder/...</td>\n      <td>&lt;!DOCTYPE html&gt;\\n\\n&lt;html dir=\"ltr\" lang=\"en\" x...</td>\n      <td>[&lt;p style=\"text-align: left;\"&gt;&lt;strong&gt;&lt;span st...</td>\n      <td>['Mason Clark, George Barros, and Kateryna Ste...</td>\n    </tr>\n    <tr>\n      <th>3</th>\n      <td>2022-02-28</td>\n      <td>Russian Offensive Campaign Assessment, Februar...</td>\n      <td>https://www.understandingwar.org/backgrounder/...</td>\n      <td>&lt;!DOCTYPE html&gt;\\n\\n&lt;html dir=\"ltr\" lang=\"en\" x...</td>\n      <td>[&lt;p align=\"center\" style=\"text-align: left;\"&gt; ...</td>\n      <td>['Mason Clark, George Barros, and Kateryna Ste...</td>\n    </tr>\n    <tr>\n      <th>4</th>\n      <td>2022-03-01</td>\n      <td>Russian Offensive Campaign Assessment, March 1</td>\n      <td>https://www.understandingwar.org/backgrounder/...</td>\n      <td>&lt;!DOCTYPE html&gt;\\n\\n&lt;html dir=\"ltr\" lang=\"en\" x...</td>\n      <td>[&lt;p align=\"center\" style=\"text-align: left;\"&gt; ...</td>\n      <td>['Frederick W. Kagan, George Barros, and Kater...</td>\n    </tr>\n    <tr>\n      <th>...</th>\n      <td>...</td>\n      <td>...</td>\n      <td>...</td>\n      <td>...</td>\n      <td>...</td>\n      <td>...</td>\n    </tr>\n    <tr>\n      <th>324</th>\n      <td>2023-01-21</td>\n      <td>Russian Offensive Campaign Assessment, January...</td>\n      <td>https://www.understandingwar.org/backgrounder/...</td>\n      <td>&lt;!DOCTYPE html&gt;\\n\\n&lt;html dir=\"ltr\" lang=\"en\" x...</td>\n      <td>[&lt;p align=\"center\" style=\"text-align: left;\"&gt; ...</td>\n      <td>['Karolina Hird, Grace Mappes, Angela Howard, ...</td>\n    </tr>\n    <tr>\n      <th>325</th>\n      <td>2023-01-22</td>\n      <td>Russian Offensive Campaign Assessment, January...</td>\n      <td>https://www.understandingwar.org/backgrounder/...</td>\n      <td>&lt;!DOCTYPE html&gt;\\n\\n&lt;html dir=\"ltr\" lang=\"en\" x...</td>\n      <td>[&lt;p align=\"center\" style=\"text-align: left;\"&gt;&lt;...</td>\n      <td>['Russian Offensive Campaign Assessment, Janua...</td>\n    </tr>\n    <tr>\n      <th>326</th>\n      <td>2023-01-23</td>\n      <td>Russian Offensive Campaign Assessment, January...</td>\n      <td>https://www.understandingwar.org/backgrounder/...</td>\n      <td>&lt;!DOCTYPE html&gt;\\n\\n&lt;html dir=\"ltr\" lang=\"en\" x...</td>\n      <td>[&lt;p align=\"center\" style=\"text-align: left;\"&gt;&lt;...</td>\n      <td>['Russian Offensive Campaign Assessment, Janua...</td>\n    </tr>\n    <tr>\n      <th>327</th>\n      <td>2023-01-24</td>\n      <td>Russian Offensive Campaign Assessment, January...</td>\n      <td>https://www.understandingwar.org/backgrounder/...</td>\n      <td>&lt;!DOCTYPE html&gt;\\n\\n&lt;html dir=\"ltr\" lang=\"en\" x...</td>\n      <td>[&lt;p align=\"center\" style=\"text-align: left;\"&gt; ...</td>\n      <td>['Karolina Hird, Riley Bailey, Grace Mappes, G...</td>\n    </tr>\n    <tr>\n      <th>328</th>\n      <td>2023-01-25</td>\n      <td>Russian Offensive Campaign Assessment, January...</td>\n      <td>https://www.understandingwar.org/backgrounder/...</td>\n      <td>&lt;!DOCTYPE html&gt;\\n\\n&lt;html dir=\"ltr\" lang=\"en\" x...</td>\n      <td>[&lt;p align=\"center\" style=\"text-align: left;\"&gt; ...</td>\n      <td>['Karolina Hird, Riley Bailey, Kateryna Stepan...</td>\n    </tr>\n  </tbody>\n</table>\n<p>329 rows × 6 columns</p>\n</div>"
     },
     "execution_count": 3,
     "metadata": {},
     "output_type": "execute_result"
    }
   ],
   "source": [
    "\n",
    "ISW = pd.read_csv('ISW.csv', dtype={\"main_txt\": \"O\"})\n",
    "ISW"
   ],
   "metadata": {
    "collapsed": false,
    "ExecuteTime": {
     "end_time": "2024-03-13T15:24:31.370782Z",
     "start_time": "2024-03-13T15:24:31.059723Z"
    }
   },
   "id": "74d3b3ddf9f958dc",
   "execution_count": 3
  },
  {
   "cell_type": "markdown",
   "source": [
    "## Cretating a new dataset with pure text and indexing by date"
   ],
   "metadata": {
    "collapsed": false
   },
   "id": "8955de1fb54bb7b6"
  },
  {
   "cell_type": "code",
   "outputs": [
    {
     "data": {
      "text/plain": "                                             main_text        date\n0    ['Mason Clark, George Barros, and Kateryna Ste...  2022-02-25\n1    ['Mason Clark, George Barros, and Katya Stepan...  2022-02-26\n2    ['Mason Clark, George Barros, and Kateryna Ste...  2022-02-27\n3    ['Mason Clark, George Barros, and Kateryna Ste...  2022-02-28\n4    ['Frederick W. Kagan, George Barros, and Kater...  2022-03-01\n..                                                 ...         ...\n324  ['Karolina Hird, Grace Mappes, Angela Howard, ...  2023-01-21\n325  ['Russian Offensive Campaign Assessment, Janua...  2023-01-22\n326  ['Russian Offensive Campaign Assessment, Janua...  2023-01-23\n327  ['Karolina Hird, Riley Bailey, Grace Mappes, G...  2023-01-24\n328  ['Karolina Hird, Riley Bailey, Kateryna Stepan...  2023-01-25\n\n[329 rows x 2 columns]",
      "text/html": "<div>\n<style scoped>\n    .dataframe tbody tr th:only-of-type {\n        vertical-align: middle;\n    }\n\n    .dataframe tbody tr th {\n        vertical-align: top;\n    }\n\n    .dataframe thead th {\n        text-align: right;\n    }\n</style>\n<table border=\"1\" class=\"dataframe\">\n  <thead>\n    <tr style=\"text-align: right;\">\n      <th></th>\n      <th>main_text</th>\n      <th>date</th>\n    </tr>\n  </thead>\n  <tbody>\n    <tr>\n      <th>0</th>\n      <td>['Mason Clark, George Barros, and Kateryna Ste...</td>\n      <td>2022-02-25</td>\n    </tr>\n    <tr>\n      <th>1</th>\n      <td>['Mason Clark, George Barros, and Katya Stepan...</td>\n      <td>2022-02-26</td>\n    </tr>\n    <tr>\n      <th>2</th>\n      <td>['Mason Clark, George Barros, and Kateryna Ste...</td>\n      <td>2022-02-27</td>\n    </tr>\n    <tr>\n      <th>3</th>\n      <td>['Mason Clark, George Barros, and Kateryna Ste...</td>\n      <td>2022-02-28</td>\n    </tr>\n    <tr>\n      <th>4</th>\n      <td>['Frederick W. Kagan, George Barros, and Kater...</td>\n      <td>2022-03-01</td>\n    </tr>\n    <tr>\n      <th>...</th>\n      <td>...</td>\n      <td>...</td>\n    </tr>\n    <tr>\n      <th>324</th>\n      <td>['Karolina Hird, Grace Mappes, Angela Howard, ...</td>\n      <td>2023-01-21</td>\n    </tr>\n    <tr>\n      <th>325</th>\n      <td>['Russian Offensive Campaign Assessment, Janua...</td>\n      <td>2023-01-22</td>\n    </tr>\n    <tr>\n      <th>326</th>\n      <td>['Russian Offensive Campaign Assessment, Janua...</td>\n      <td>2023-01-23</td>\n    </tr>\n    <tr>\n      <th>327</th>\n      <td>['Karolina Hird, Riley Bailey, Grace Mappes, G...</td>\n      <td>2023-01-24</td>\n    </tr>\n    <tr>\n      <th>328</th>\n      <td>['Karolina Hird, Riley Bailey, Kateryna Stepan...</td>\n      <td>2023-01-25</td>\n    </tr>\n  </tbody>\n</table>\n<p>329 rows × 2 columns</p>\n</div>"
     },
     "execution_count": 4,
     "metadata": {},
     "output_type": "execute_result"
    }
   ],
   "source": [
    "pure = ISW[['main_text', 'date']]\n",
    "# pure.set_index('date', inplace=True)\n",
    "pure"
   ],
   "metadata": {
    "collapsed": false,
    "ExecuteTime": {
     "end_time": "2024-03-13T15:24:31.371760Z",
     "start_time": "2024-03-13T15:24:31.369090Z"
    }
   },
   "id": "3a54245a41fd2f33",
   "execution_count": 4
  },
  {
   "cell_type": "markdown",
   "source": [
    "Lets create a summary for 1 text."
   ],
   "metadata": {
    "collapsed": false
   },
   "id": "815296f3c00e6fe6"
  },
  {
   "cell_type": "code",
   "outputs": [
    {
     "ename": "ValueError",
     "evalue": "list.remove(x): x not in list",
     "output_type": "error",
     "traceback": [
      "\u001B[0;31m---------------------------------------------------------------------------\u001B[0m",
      "\u001B[0;31mValueError\u001B[0m                                Traceback (most recent call last)",
      "Cell \u001B[0;32mIn[5], line 9\u001B[0m\n\u001B[1;32m      6\u001B[0m sample \u001B[38;5;241m=\u001B[39m pure[\u001B[38;5;124m\"\u001B[39m\u001B[38;5;124mmain_text\u001B[39m\u001B[38;5;124m\"\u001B[39m]\u001B[38;5;241m.\u001B[39miloc[\u001B[38;5;241m13\u001B[39m]\n\u001B[1;32m      7\u001B[0m sample \u001B[38;5;241m=\u001B[39m ast\u001B[38;5;241m.\u001B[39mliteral_eval(sample)\n\u001B[0;32m----> 9\u001B[0m sample \u001B[38;5;241m=\u001B[39m \u001B[43msample\u001B[49m\u001B[38;5;241;43m.\u001B[39;49m\u001B[43mremove\u001B[49m\u001B[43m(\u001B[49m\u001B[38;5;241;43m2\u001B[39;49m\u001B[43m)\u001B[49m\n\u001B[1;32m     10\u001B[0m sample\n",
      "\u001B[0;31mValueError\u001B[0m: list.remove(x): x not in list"
     ]
    }
   ],
   "source": [
    "import numpy as np\n",
    "from sklearn.feature_extraction.text import CountVectorizer\n",
    "import ast\n",
    "\n",
    "# creatng a list of paragraphs \n",
    "sample = pure[\"main_text\"].iloc[13]\n",
    "sample = ast.literal_eval(sample)\n",
    "\n",
    "sample = sample.pop(2)\n",
    "sample\n"
   ],
   "metadata": {
    "collapsed": false,
    "ExecuteTime": {
     "end_time": "2024-03-13T15:24:31.443245Z",
     "start_time": "2024-03-13T15:24:31.375036Z"
    }
   },
   "id": "bc8f08e2fa26c5d8",
   "execution_count": 5
  },
  {
   "cell_type": "code",
   "outputs": [],
   "source": [],
   "metadata": {
    "collapsed": false,
    "ExecuteTime": {
     "start_time": "2024-03-13T15:24:31.403816Z"
    }
   },
   "id": "22f0ed9ce6209c05",
   "execution_count": null
  },
  {
   "cell_type": "code",
   "outputs": [],
   "source": [],
   "metadata": {
    "collapsed": false,
    "ExecuteTime": {
     "start_time": "2024-03-13T15:24:31.405152Z"
    }
   },
   "id": "80df28b7bdee3f15"
  }
 ],
 "metadata": {
  "kernelspec": {
   "display_name": "Python 3",
   "language": "python",
   "name": "python3"
  },
  "language_info": {
   "codemirror_mode": {
    "name": "ipython",
    "version": 2
   },
   "file_extension": ".py",
   "mimetype": "text/x-python",
   "name": "python",
   "nbconvert_exporter": "python",
   "pygments_lexer": "ipython2",
   "version": "2.7.6"
  }
 },
 "nbformat": 4,
 "nbformat_minor": 5
}
